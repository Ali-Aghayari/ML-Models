{
 "cells": [
  {
   "cell_type": "markdown",
   "id": "dadabcf8",
   "metadata": {
    "id": "b07eb33c",
    "papermill": {
     "duration": 0.015894,
     "end_time": "2023-11-15T14:40:06.666926",
     "exception": false,
     "start_time": "2023-11-15T14:40:06.651032",
     "status": "completed"
    },
    "tags": []
   },
   "source": [
    "# Practical Homework 1 - Linear Regression"
   ]
  },
  {
   "cell_type": "markdown",
   "id": "34c4fd13",
   "metadata": {
    "papermill": {
     "duration": 0.015683,
     "end_time": "2023-11-15T14:40:06.697617",
     "exception": false,
     "start_time": "2023-11-15T14:40:06.681934",
     "status": "completed"
    },
    "tags": []
   },
   "source": [
    "Student Number: 400104715"
   ]
  },
  {
   "cell_type": "markdown",
   "id": "006387bc",
   "metadata": {
    "papermill": {
     "duration": 0.015182,
     "end_time": "2023-11-15T14:40:06.728063",
     "exception": false,
     "start_time": "2023-11-15T14:40:06.712881",
     "status": "completed"
    },
    "tags": []
   },
   "source": [
    "Student Name: Ali Aghayari"
   ]
  },
  {
   "cell_type": "markdown",
   "id": "15741aa3",
   "metadata": {
    "papermill": {
     "duration": 0.015376,
     "end_time": "2023-11-15T14:40:06.759183",
     "exception": false,
     "start_time": "2023-11-15T14:40:06.743807",
     "status": "completed"
    },
    "tags": []
   },
   "source": [
    "# Phase 0: Intro"
   ]
  },
  {
   "cell_type": "markdown",
   "id": "d641db17",
   "metadata": {
    "papermill": {
     "duration": 0.016043,
     "end_time": "2023-11-15T14:40:06.790807",
     "exception": false,
     "start_time": "2023-11-15T14:40:06.774764",
     "status": "completed"
    },
    "tags": []
   },
   "source": [
    "For this assignment, you'll be given a dataset containing some features of a group of people. Given those features, you will try to predict how much they tend to spend on the medical services they receive."
   ]
  },
  {
   "cell_type": "code",
   "execution_count": 1,
   "id": "5bfb23f7",
   "metadata": {
    "execution": {
     "iopub.execute_input": "2023-11-15T14:40:06.825278Z",
     "iopub.status.busy": "2023-11-15T14:40:06.824881Z",
     "iopub.status.idle": "2023-11-15T14:40:09.223773Z",
     "shell.execute_reply": "2023-11-15T14:40:09.222684Z"
    },
    "id": "_FZJrsgNDeBt",
    "papermill": {
     "duration": 2.419057,
     "end_time": "2023-11-15T14:40:09.226249",
     "exception": false,
     "start_time": "2023-11-15T14:40:06.807192",
     "status": "completed"
    },
    "tags": []
   },
   "outputs": [
    {
     "name": "stdout",
     "output_type": "stream",
     "text": [
      "--2023-11-15 14:40:07--  https://www.dropbox.com/scl/fi/sy3nij8fkha309jnfi7c4/dataset.csv?rlkey=cjy9gof3hyqx1wo9ali1pusbv&dl=1\r\n",
      "Resolving www.dropbox.com (www.dropbox.com)... 162.125.9.18, 2620:100:601f:18::a27d:912\r\n",
      "Connecting to www.dropbox.com (www.dropbox.com)|162.125.9.18|:443... connected.\r\n",
      "HTTP request sent, awaiting response... 302 Found\r\n",
      "Location: https://uc8e5e908b2506f61e065f0144fb.dl.dropboxusercontent.com/cd/0/inline/CHkEzLJ9bRKTZjgGYq9UcnrV-QHYMFISnYGrHsnwuMS9-5d4oq50tzdcfGOqoMrh_KcXv4vnIfLHNMzjNJKkf9GQZ_SrmI3ML0ZsEw2CqSXZi09G_7HULV49fYHyt00xsF5hWqNyKh8sZwGwBH_oFrxF/file?dl=1# [following]\r\n",
      "--2023-11-15 14:40:08--  https://uc8e5e908b2506f61e065f0144fb.dl.dropboxusercontent.com/cd/0/inline/CHkEzLJ9bRKTZjgGYq9UcnrV-QHYMFISnYGrHsnwuMS9-5d4oq50tzdcfGOqoMrh_KcXv4vnIfLHNMzjNJKkf9GQZ_SrmI3ML0ZsEw2CqSXZi09G_7HULV49fYHyt00xsF5hWqNyKh8sZwGwBH_oFrxF/file?dl=1\r\n",
      "Resolving uc8e5e908b2506f61e065f0144fb.dl.dropboxusercontent.com (uc8e5e908b2506f61e065f0144fb.dl.dropboxusercontent.com)... 162.125.9.15, 2620:100:601f:15::a27d:90f\r\n",
      "Connecting to uc8e5e908b2506f61e065f0144fb.dl.dropboxusercontent.com (uc8e5e908b2506f61e065f0144fb.dl.dropboxusercontent.com)|162.125.9.15|:443... connected.\r\n",
      "HTTP request sent, awaiting response... 200 OK\r\n",
      "Length: 43467 (42K) [application/binary]\r\n",
      "Saving to: ‘/kaggle/working/dataset.csv’\r\n",
      "\r\n",
      "/kaggle/working/dat 100%[===================>]  42.45K  --.-KB/s    in 0.03s   \r\n",
      "\r\n",
      "2023-11-15 14:40:09 (1.55 MB/s) - ‘/kaggle/working/dataset.csv’ saved [43467/43467]\r\n",
      "\r\n"
     ]
    }
   ],
   "source": [
    "# run this cell to download the dataset\n",
    "!wget -O /kaggle/working/dataset.csv \"https://www.dropbox.com/scl/fi/sy3nij8fkha309jnfi7c4/dataset.csv?rlkey=cjy9gof3hyqx1wo9ali1pusbv&dl=1\""
   ]
  },
  {
   "cell_type": "code",
   "execution_count": 2,
   "id": "6ecfd301",
   "metadata": {
    "execution": {
     "iopub.execute_input": "2023-11-15T14:40:09.267198Z",
     "iopub.status.busy": "2023-11-15T14:40:09.266617Z",
     "iopub.status.idle": "2023-11-15T14:40:11.483183Z",
     "shell.execute_reply": "2023-11-15T14:40:11.482069Z"
    },
    "id": "5a2067b0",
    "papermill": {
     "duration": 2.243185,
     "end_time": "2023-11-15T14:40:11.485730",
     "exception": false,
     "start_time": "2023-11-15T14:40:09.242545",
     "status": "completed"
    },
    "tags": []
   },
   "outputs": [
    {
     "name": "stderr",
     "output_type": "stream",
     "text": [
      "/opt/conda/lib/python3.10/site-packages/scipy/__init__.py:146: UserWarning: A NumPy version >=1.16.5 and <1.23.0 is required for this version of SciPy (detected version 1.23.5\n",
      "  warnings.warn(f\"A NumPy version >={np_minversion} and <{np_maxversion}\"\n"
     ]
    }
   ],
   "source": [
    "# libraries that you allowed to use\n",
    "import os\n",
    "import pandas\n",
    "import sklearn\n",
    "import numpy as np\n",
    "import pandas as pd\n",
    "import seaborn as sns\n",
    "from joblib import dump, load\n",
    "from matplotlib import pyplot as plt"
   ]
  },
  {
   "cell_type": "markdown",
   "id": "aa15f4e0",
   "metadata": {
    "id": "20fe7a06",
    "papermill": {
     "duration": 0.015616,
     "end_time": "2023-11-15T14:40:11.517440",
     "exception": false,
     "start_time": "2023-11-15T14:40:11.501824",
     "status": "completed"
    },
    "tags": []
   },
   "source": [
    "# Phase 1: Explore"
   ]
  },
  {
   "cell_type": "markdown",
   "id": "352f1b3d",
   "metadata": {
    "id": "IpZrSRbjiSut",
    "papermill": {
     "duration": 0.01501,
     "end_time": "2023-11-15T14:40:11.548470",
     "exception": false,
     "start_time": "2023-11-15T14:40:11.533460",
     "status": "completed"
    },
    "tags": []
   },
   "source": [
    "## Sec 1: Load and Explore **(P1-Sec1: 15 points)**"
   ]
  },
  {
   "cell_type": "markdown",
   "id": "a871ea31",
   "metadata": {
    "id": "c9a841e4",
    "papermill": {
     "duration": 0.015088,
     "end_time": "2023-11-15T14:40:11.578943",
     "exception": false,
     "start_time": "2023-11-15T14:40:11.563855",
     "status": "completed"
    },
    "tags": []
   },
   "source": [
    "Load the dataset (as a dataframe) using pandas and display the top 5 rows of the dataframe."
   ]
  },
  {
   "cell_type": "code",
   "execution_count": 3,
   "id": "f6bd2185",
   "metadata": {
    "execution": {
     "iopub.execute_input": "2023-11-15T14:40:11.612024Z",
     "iopub.status.busy": "2023-11-15T14:40:11.611544Z",
     "iopub.status.idle": "2023-11-15T14:40:11.643396Z",
     "shell.execute_reply": "2023-11-15T14:40:11.642346Z"
    },
    "papermill": {
     "duration": 0.051194,
     "end_time": "2023-11-15T14:40:11.645808",
     "exception": false,
     "start_time": "2023-11-15T14:40:11.594614",
     "status": "completed"
    },
    "tags": []
   },
   "outputs": [
    {
     "data": {
      "text/html": [
       "<div>\n",
       "<style scoped>\n",
       "    .dataframe tbody tr th:only-of-type {\n",
       "        vertical-align: middle;\n",
       "    }\n",
       "\n",
       "    .dataframe tbody tr th {\n",
       "        vertical-align: top;\n",
       "    }\n",
       "\n",
       "    .dataframe thead th {\n",
       "        text-align: right;\n",
       "    }\n",
       "</style>\n",
       "<table border=\"1\" class=\"dataframe\">\n",
       "  <thead>\n",
       "    <tr style=\"text-align: right;\">\n",
       "      <th></th>\n",
       "      <th>age</th>\n",
       "      <th>sex</th>\n",
       "      <th>bmi</th>\n",
       "      <th>children</th>\n",
       "      <th>smk</th>\n",
       "      <th>region</th>\n",
       "      <th>target</th>\n",
       "    </tr>\n",
       "  </thead>\n",
       "  <tbody>\n",
       "    <tr>\n",
       "      <th>0</th>\n",
       "      <td>46</td>\n",
       "      <td>female</td>\n",
       "      <td>19.95</td>\n",
       "      <td>2</td>\n",
       "      <td>no</td>\n",
       "      <td>northwest</td>\n",
       "      <td>9193.83850</td>\n",
       "    </tr>\n",
       "    <tr>\n",
       "      <th>1</th>\n",
       "      <td>47</td>\n",
       "      <td>female</td>\n",
       "      <td>24.32</td>\n",
       "      <td>0</td>\n",
       "      <td>no</td>\n",
       "      <td>northeast</td>\n",
       "      <td>8534.67180</td>\n",
       "    </tr>\n",
       "    <tr>\n",
       "      <th>2</th>\n",
       "      <td>52</td>\n",
       "      <td>female</td>\n",
       "      <td>24.86</td>\n",
       "      <td>0</td>\n",
       "      <td>no</td>\n",
       "      <td>southeast</td>\n",
       "      <td>27117.99378</td>\n",
       "    </tr>\n",
       "    <tr>\n",
       "      <th>3</th>\n",
       "      <td>39</td>\n",
       "      <td>female</td>\n",
       "      <td>34.32</td>\n",
       "      <td>5</td>\n",
       "      <td>no</td>\n",
       "      <td>southeast</td>\n",
       "      <td>8596.82780</td>\n",
       "    </tr>\n",
       "    <tr>\n",
       "      <th>4</th>\n",
       "      <td>54</td>\n",
       "      <td>female</td>\n",
       "      <td>21.47</td>\n",
       "      <td>3</td>\n",
       "      <td>no</td>\n",
       "      <td>northwest</td>\n",
       "      <td>12475.35130</td>\n",
       "    </tr>\n",
       "  </tbody>\n",
       "</table>\n",
       "</div>"
      ],
      "text/plain": [
       "   age     sex    bmi  children smk     region       target\n",
       "0   46  female  19.95         2  no  northwest   9193.83850\n",
       "1   47  female  24.32         0  no  northeast   8534.67180\n",
       "2   52  female  24.86         0  no  southeast  27117.99378\n",
       "3   39  female  34.32         5  no  southeast   8596.82780\n",
       "4   54  female  21.47         3  no  northwest  12475.35130"
      ]
     },
     "execution_count": 3,
     "metadata": {},
     "output_type": "execute_result"
    }
   ],
   "source": [
    "DF = pd.read_csv(\"../working/dataset.csv\")\n",
    "DF.head()"
   ]
  },
  {
   "cell_type": "markdown",
   "id": "c7934ca5",
   "metadata": {
    "id": "a55a134e",
    "papermill": {
     "duration": 0.01614,
     "end_time": "2023-11-15T14:40:11.727420",
     "exception": false,
     "start_time": "2023-11-15T14:40:11.711280",
     "status": "completed"
    },
    "tags": []
   },
   "source": [
    "Print the names of the columns and the number of rows of the dataset **(P1-1-1: 2 points)**"
   ]
  },
  {
   "cell_type": "code",
   "execution_count": 4,
   "id": "84e54cdc",
   "metadata": {
    "execution": {
     "iopub.execute_input": "2023-11-15T14:40:11.760792Z",
     "iopub.status.busy": "2023-11-15T14:40:11.759918Z",
     "iopub.status.idle": "2023-11-15T14:40:11.765995Z",
     "shell.execute_reply": "2023-11-15T14:40:11.765026Z"
    },
    "id": "f5db727b",
    "outputId": "40525dfc-1fc3-442d-b53f-c796128fec7a",
    "papermill": {
     "duration": 0.025051,
     "end_time": "2023-11-15T14:40:11.768166",
     "exception": false,
     "start_time": "2023-11-15T14:40:11.743115",
     "status": "completed"
    },
    "tags": []
   },
   "outputs": [
    {
     "name": "stdout",
     "output_type": "stream",
     "text": [
      "name of the columns : ['age' 'sex' 'bmi' 'children' 'smk' 'region' 'target']\n",
      "number of rows : 1070\n"
     ]
    }
   ],
   "source": [
    "print(\"name of the columns :\" ,DF.columns.values )\n",
    "print(\"number of rows :\" ,DF.shape[0])"
   ]
  },
  {
   "cell_type": "markdown",
   "id": "5f7e7d5c",
   "metadata": {
    "id": "cd6f5035",
    "papermill": {
     "duration": 0.01662,
     "end_time": "2023-11-15T14:40:11.800776",
     "exception": false,
     "start_time": "2023-11-15T14:40:11.784156",
     "status": "completed"
    },
    "tags": []
   },
   "source": [
    "Get a brief description of the dataset **(P1-1-2: 2 points)**"
   ]
  },
  {
   "cell_type": "code",
   "execution_count": 5,
   "id": "1e7740e7",
   "metadata": {
    "execution": {
     "iopub.execute_input": "2023-11-15T14:40:11.835840Z",
     "iopub.status.busy": "2023-11-15T14:40:11.835497Z",
     "iopub.status.idle": "2023-11-15T14:40:11.874624Z",
     "shell.execute_reply": "2023-11-15T14:40:11.873548Z"
    },
    "id": "9d137e73",
    "outputId": "f9bd5bbb-c2df-4f3c-bebd-faa405082b75",
    "papermill": {
     "duration": 0.059078,
     "end_time": "2023-11-15T14:40:11.876730",
     "exception": false,
     "start_time": "2023-11-15T14:40:11.817652",
     "status": "completed"
    },
    "tags": []
   },
   "outputs": [
    {
     "name": "stdout",
     "output_type": "stream",
     "text": [
      "description of the non numerical columns :\n",
      "         sex   smk     region\n",
      "count   1070  1070       1070\n",
      "unique     2     2          4\n",
      "top     male    no  southeast\n",
      "freq     548   850        283\n",
      "\n",
      "\n",
      "description of the numerical columns :\n"
     ]
    },
    {
     "data": {
      "text/html": [
       "<div>\n",
       "<style scoped>\n",
       "    .dataframe tbody tr th:only-of-type {\n",
       "        vertical-align: middle;\n",
       "    }\n",
       "\n",
       "    .dataframe tbody tr th {\n",
       "        vertical-align: top;\n",
       "    }\n",
       "\n",
       "    .dataframe thead th {\n",
       "        text-align: right;\n",
       "    }\n",
       "</style>\n",
       "<table border=\"1\" class=\"dataframe\">\n",
       "  <thead>\n",
       "    <tr style=\"text-align: right;\">\n",
       "      <th></th>\n",
       "      <th>age</th>\n",
       "      <th>bmi</th>\n",
       "      <th>children</th>\n",
       "      <th>target</th>\n",
       "    </tr>\n",
       "  </thead>\n",
       "  <tbody>\n",
       "    <tr>\n",
       "      <th>count</th>\n",
       "      <td>1070.000000</td>\n",
       "      <td>1070.000000</td>\n",
       "      <td>1070.000000</td>\n",
       "      <td>1070.000000</td>\n",
       "    </tr>\n",
       "    <tr>\n",
       "      <th>mean</th>\n",
       "      <td>39.357009</td>\n",
       "      <td>30.560397</td>\n",
       "      <td>1.107477</td>\n",
       "      <td>13346.089736</td>\n",
       "    </tr>\n",
       "    <tr>\n",
       "      <th>std</th>\n",
       "      <td>14.073960</td>\n",
       "      <td>6.043386</td>\n",
       "      <td>1.215983</td>\n",
       "      <td>12019.510778</td>\n",
       "    </tr>\n",
       "    <tr>\n",
       "      <th>min</th>\n",
       "      <td>18.000000</td>\n",
       "      <td>15.960000</td>\n",
       "      <td>0.000000</td>\n",
       "      <td>1121.873900</td>\n",
       "    </tr>\n",
       "    <tr>\n",
       "      <th>25%</th>\n",
       "      <td>27.000000</td>\n",
       "      <td>26.205000</td>\n",
       "      <td>0.000000</td>\n",
       "      <td>4897.667387</td>\n",
       "    </tr>\n",
       "    <tr>\n",
       "      <th>50%</th>\n",
       "      <td>39.500000</td>\n",
       "      <td>30.210000</td>\n",
       "      <td>1.000000</td>\n",
       "      <td>9575.442100</td>\n",
       "    </tr>\n",
       "    <tr>\n",
       "      <th>75%</th>\n",
       "      <td>51.000000</td>\n",
       "      <td>34.496250</td>\n",
       "      <td>2.000000</td>\n",
       "      <td>16746.657400</td>\n",
       "    </tr>\n",
       "    <tr>\n",
       "      <th>max</th>\n",
       "      <td>64.000000</td>\n",
       "      <td>53.130000</td>\n",
       "      <td>5.000000</td>\n",
       "      <td>62592.873090</td>\n",
       "    </tr>\n",
       "  </tbody>\n",
       "</table>\n",
       "</div>"
      ],
      "text/plain": [
       "               age          bmi     children        target\n",
       "count  1070.000000  1070.000000  1070.000000   1070.000000\n",
       "mean     39.357009    30.560397     1.107477  13346.089736\n",
       "std      14.073960     6.043386     1.215983  12019.510778\n",
       "min      18.000000    15.960000     0.000000   1121.873900\n",
       "25%      27.000000    26.205000     0.000000   4897.667387\n",
       "50%      39.500000    30.210000     1.000000   9575.442100\n",
       "75%      51.000000    34.496250     2.000000  16746.657400\n",
       "max      64.000000    53.130000     5.000000  62592.873090"
      ]
     },
     "execution_count": 5,
     "metadata": {},
     "output_type": "execute_result"
    }
   ],
   "source": [
    "print(\"description of the non numerical columns :\")\n",
    "print(DF.describe(include=['O']))\n",
    "print(\"\\n\\ndescription of the numerical columns :\")\n",
    "DF.describe()"
   ]
  },
  {
   "cell_type": "markdown",
   "id": "2e24723a",
   "metadata": {
    "id": "2pZIoa00XxJv",
    "papermill": {
     "duration": 0.016215,
     "end_time": "2023-11-15T14:40:11.909593",
     "exception": false,
     "start_time": "2023-11-15T14:40:11.893378",
     "status": "completed"
    },
    "tags": []
   },
   "source": [
    "Check for missing values in the dataset **(P1-1-3: 2 points)**"
   ]
  },
  {
   "cell_type": "code",
   "execution_count": 6,
   "id": "4f636015",
   "metadata": {
    "execution": {
     "iopub.execute_input": "2023-11-15T14:40:11.943837Z",
     "iopub.status.busy": "2023-11-15T14:40:11.943500Z",
     "iopub.status.idle": "2023-11-15T14:40:11.951966Z",
     "shell.execute_reply": "2023-11-15T14:40:11.950994Z"
    },
    "id": "DViuHWXTXsgx",
    "outputId": "ea19584e-6404-475e-8b04-1106e8ab1371",
    "papermill": {
     "duration": 0.028284,
     "end_time": "2023-11-15T14:40:11.954142",
     "exception": false,
     "start_time": "2023-11-15T14:40:11.925858",
     "status": "completed"
    },
    "tags": []
   },
   "outputs": [
    {
     "data": {
      "text/plain": [
       "age         0\n",
       "sex         0\n",
       "bmi         0\n",
       "children    0\n",
       "smk         0\n",
       "region      0\n",
       "target      0\n",
       "dtype: int64"
      ]
     },
     "execution_count": 6,
     "metadata": {},
     "output_type": "execute_result"
    }
   ],
   "source": [
    "DF.isnull().sum()"
   ]
  },
  {
   "cell_type": "markdown",
   "id": "695d6f65",
   "metadata": {
    "id": "V8V-MoInWnRw",
    "papermill": {
     "duration": 0.015901,
     "end_time": "2023-11-15T14:40:11.985994",
     "exception": false,
     "start_time": "2023-11-15T14:40:11.970093",
     "status": "completed"
    },
    "tags": []
   },
   "source": [
    "Use Histograms and Box-plots to visualize the distribution of numerical columns **(P1-1-4: 2 points)**"
   ]
  },
  {
   "cell_type": "code",
   "execution_count": 7,
   "id": "1759d132",
   "metadata": {
    "execution": {
     "iopub.execute_input": "2023-11-15T14:40:12.021384Z",
     "iopub.status.busy": "2023-11-15T14:40:12.020754Z",
     "iopub.status.idle": "2023-11-15T14:40:13.550734Z",
     "shell.execute_reply": "2023-11-15T14:40:13.549649Z"
    },
    "id": "F8DQzIq0Vv0p",
    "outputId": "dab0c07c-3cb3-4bca-d4f0-2cc0a0f2d09b",
    "papermill": {
     "duration": 1.55049,
     "end_time": "2023-11-15T14:40:13.552964",
     "exception": false,
     "start_time": "2023-11-15T14:40:12.002474",
     "status": "completed"
    },
    "tags": []
   },
   "outputs": [
    {
     "data": {
      "text/plain": [
       "array([[<Axes: title={'center': 'age'}>, <Axes: title={'center': 'bmi'}>],\n",
       "       [<Axes: title={'center': 'children'}>,\n",
       "        <Axes: title={'center': 'target'}>]], dtype=object)"
      ]
     },
     "execution_count": 7,
     "metadata": {},
     "output_type": "execute_result"
    },
    {
     "data": {
      "image/png": "[encoded data removed]",
      "text/plain": [
       "<Figure size 640x480 with 4 Axes>"
      ]
     },
     "metadata": {},
     "output_type": "display_data"
    },
    {
     "data": {
      "image/png": "[encoded data removed]",
      "text/plain": [
       "<Figure size 640x480 with 4 Axes>"
      ]
     },
     "metadata": {},
     "output_type": "display_data"
    }
   ],
   "source": [
    "DF.plot.box(subplots=True, layout=(2,2))\n",
    "DF.hist()"
   ]
  },
  {
   "cell_type": "markdown",
   "id": "a00ca5e6",
   "metadata": {
    "id": "b6_SBCyPXQ4G",
    "papermill": {
     "duration": 0.017075,
     "end_time": "2023-11-15T14:40:13.587560",
     "exception": false,
     "start_time": "2023-11-15T14:40:13.570485",
     "status": "completed"
    },
    "tags": []
   },
   "source": [
    "Count the number of unique values for each class in categorical columns and compare the distributions amongst them **(P1-1-5: 5 points)**"
   ]
  },
  {
   "cell_type": "code",
   "execution_count": 8,
   "id": "a714fb12",
   "metadata": {
    "execution": {
     "iopub.execute_input": "2023-11-15T14:40:13.622820Z",
     "iopub.status.busy": "2023-11-15T14:40:13.622481Z",
     "iopub.status.idle": "2023-11-15T14:40:13.634994Z",
     "shell.execute_reply": "2023-11-15T14:40:13.633929Z"
    },
    "id": "Mjmnl8B3XNPu",
    "outputId": "ecf5f87e-b777-480c-b821-489f84727c6e",
    "papermill": {
     "duration": 0.032777,
     "end_time": "2023-11-15T14:40:13.637144",
     "exception": false,
     "start_time": "2023-11-15T14:40:13.604367",
     "status": "completed"
    },
    "tags": []
   },
   "outputs": [
    {
     "name": "stdout",
     "output_type": "stream",
     "text": [
      "sex\n",
      "male      548\n",
      "female    522\n",
      "Name: count, dtype: int64\n",
      "number of unique values : 2\n",
      "\n",
      "smk\n",
      "no     850\n",
      "yes    220\n",
      "Name: count, dtype: int64\n",
      "number of unique values : 2\n",
      "\n",
      "region\n",
      "southeast    283\n",
      "northeast    267\n",
      "southwest    264\n",
      "northwest    256\n",
      "Name: count, dtype: int64\n",
      "number of unique values : 4\n",
      "\n"
     ]
    }
   ],
   "source": [
    "for col in DF.select_dtypes(exclude = ['int64', 'float64']).columns:\n",
    "    print(DF[col].value_counts())\n",
    "    print(\"number of unique values :\",DF[col].nunique(),end=\"\\n\\n\")"
   ]
  },
  {
   "cell_type": "markdown",
   "id": "bcb9a1dd",
   "metadata": {
    "id": "qF-npRtpYOEv",
    "papermill": {
     "duration": 0.017207,
     "end_time": "2023-11-15T14:40:13.671679",
     "exception": false,
     "start_time": "2023-11-15T14:40:13.654472",
     "status": "completed"
    },
    "tags": []
   },
   "source": [
    "Convert columns with string values (`sex`, `smk`, and `region`) into numerical values **(P1-1-6: 2 points)**"
   ]
  },
  {
   "cell_type": "code",
   "execution_count": 9,
   "id": "32e440c1",
   "metadata": {
    "execution": {
     "iopub.execute_input": "2023-11-15T14:40:13.709703Z",
     "iopub.status.busy": "2023-11-15T14:40:13.709312Z",
     "iopub.status.idle": "2023-11-15T14:40:13.725498Z",
     "shell.execute_reply": "2023-11-15T14:40:13.724301Z"
    },
    "id": "AU0hZTtEYGPu",
    "outputId": "dce73f21-c0c5-4d03-95d8-4bee8fcb6e31",
    "papermill": {
     "duration": 0.038073,
     "end_time": "2023-11-15T14:40:13.727698",
     "exception": false,
     "start_time": "2023-11-15T14:40:13.689625",
     "status": "completed"
    },
    "tags": []
   },
   "outputs": [
    {
     "name": "stdout",
     "output_type": "stream",
     "text": [
      "{'female': 0, 'male': 1}\n",
      "{'no': 0, 'yes': 1}\n",
      "{'northeast': 0, 'northwest': 1, 'southeast': 2, 'southwest': 3}\n"
     ]
    }
   ],
   "source": [
    "category_mapping = [] \n",
    "for col in [\"sex\" ,\"smk\" ,\"region\"]:\n",
    "    cats = {k:v for v,k in enumerate(np.unique(DF[col].values))}\n",
    "    category_mapping.append(cats)\n",
    "    print(cats)\n",
    "    DF[col] = DF[col].replace(cats)\n",
    "    #DF[col] = pd.Categorical(DF[col], categories=DF[col].unique()).codes"
   ]
  },
  {
   "cell_type": "markdown",
   "id": "3fbcda43",
   "metadata": {
    "id": "2c23d7f7",
    "papermill": {
     "duration": 0.018924,
     "end_time": "2023-11-15T14:40:13.765264",
     "exception": false,
     "start_time": "2023-11-15T14:40:13.746340",
     "status": "completed"
    },
    "tags": []
   },
   "source": [
    "## Sec 2: Check for linear relation **(P1-Sec2: 10 points)**"
   ]
  },
  {
   "cell_type": "markdown",
   "id": "93eb6c44",
   "metadata": {
    "id": "41e88af0",
    "papermill": {
     "duration": 0.019027,
     "end_time": "2023-11-15T14:40:13.803061",
     "exception": false,
     "start_time": "2023-11-15T14:40:13.784034",
     "status": "completed"
    },
    "tags": []
   },
   "source": [
    "Plot `age` and `smk` against `target` **(P1-2-1: 5 points)**"
   ]
  },
  {
   "cell_type": "code",
   "execution_count": 10,
   "id": "ac4ba4f4",
   "metadata": {
    "execution": {
     "iopub.execute_input": "2023-11-15T14:40:13.842179Z",
     "iopub.status.busy": "2023-11-15T14:40:13.841834Z",
     "iopub.status.idle": "2023-11-15T14:40:14.443066Z",
     "shell.execute_reply": "2023-11-15T14:40:14.442074Z"
    },
    "id": "f4512745",
    "outputId": "f3dc04ba-e567-427d-a644-7f19dbc5c85c",
    "papermill": {
     "duration": 0.623415,
     "end_time": "2023-11-15T14:40:14.445579",
     "exception": false,
     "start_time": "2023-11-15T14:40:13.822164",
     "status": "completed"
    },
    "tags": []
   },
   "outputs": [
    {
     "data": {
      "text/plain": [
       "<Axes: xlabel='smk'>"
      ]
     },
     "execution_count": 10,
     "metadata": {},
     "output_type": "execute_result"
    },
    {
     "data": {
      "image/png": "[encoded data removed]",
      "text/plain": [
       "<Figure size 640x480 with 1 Axes>"
      ]
     },
     "metadata": {},
     "output_type": "display_data"
    },
    {
     "data": {
      "image/png": "[encoded data removed]",
      "text/plain": [
       "<Figure size 640x480 with 1 Axes>"
      ]
     },
     "metadata": {},
     "output_type": "display_data"
    }
   ],
   "source": [
    "DF.plot(x='age', y='target', style='o')\n",
    "DF.plot(x='smk', y='target', style='o')"
   ]
  },
  {
   "cell_type": "markdown",
   "id": "d2f77d04",
   "metadata": {
    "id": "11fdbf07",
    "papermill": {
     "duration": 0.019278,
     "end_time": "2023-11-15T14:40:14.484696",
     "exception": false,
     "start_time": "2023-11-15T14:40:14.465418",
     "status": "completed"
    },
    "tags": []
   },
   "source": [
    "Plot the correlation matrix for numerical features **(P1-2-2: 5 points)**"
   ]
  },
  {
   "cell_type": "code",
   "execution_count": 11,
   "id": "7c045e51",
   "metadata": {
    "execution": {
     "iopub.execute_input": "2023-11-15T14:40:14.525181Z",
     "iopub.status.busy": "2023-11-15T14:40:14.524353Z",
     "iopub.status.idle": "2023-11-15T14:40:14.867341Z",
     "shell.execute_reply": "2023-11-15T14:40:14.866315Z"
    },
    "id": "072cd188",
    "outputId": "79b9166a-becd-456e-8122-442abb9262d8",
    "papermill": {
     "duration": 0.36584,
     "end_time": "2023-11-15T14:40:14.869795",
     "exception": false,
     "start_time": "2023-11-15T14:40:14.503955",
     "status": "completed"
    },
    "tags": []
   },
   "outputs": [
    {
     "name": "stdout",
     "output_type": "stream",
     "text": [
      "               age       bmi  children    target\n",
      "age       1.000000  0.118274  0.060999  0.281721\n",
      "bmi       0.118274  1.000000 -0.005040  0.197316\n",
      "children  0.060999 -0.005040  1.000000  0.071885\n",
      "target    0.281721  0.197316  0.071885  1.000000\n"
     ]
    },
    {
     "data": {
      "image/png": "[encoded data removed]",
      "text/plain": [
       "<Figure size 640x480 with 2 Axes>"
      ]
     },
     "metadata": {},
     "output_type": "display_data"
    }
   ],
   "source": [
    "# corr_matrix = DF.corr()\n",
    "corr_matrix = DF.loc[: ,[\"age\" ,\"bmi\" ,\"children\" ,\"target\"]].corr()  # since its said to plot it for the -numerical- values \n",
    "print(corr_matrix)\n",
    "sns.heatmap(corr_matrix, annot=True)\n",
    "plt.show()"
   ]
  },
  {
   "cell_type": "markdown",
   "id": "00738671",
   "metadata": {
    "id": "269f0189",
    "papermill": {
     "duration": 0.020459,
     "end_time": "2023-11-15T14:40:14.911181",
     "exception": false,
     "start_time": "2023-11-15T14:40:14.890722",
     "status": "completed"
    },
    "tags": []
   },
   "source": [
    "# Phase 2: Preprocessing"
   ]
  },
  {
   "cell_type": "markdown",
   "id": "d711f975",
   "metadata": {
    "id": "1176754c",
    "papermill": {
     "duration": 0.019989,
     "end_time": "2023-11-15T14:40:14.951682",
     "exception": false,
     "start_time": "2023-11-15T14:40:14.931693",
     "status": "completed"
    },
    "tags": []
   },
   "source": [
    "## Sec 1: Handling Categorical Variables **(P2-Sec1: 15 points)**"
   ]
  },
  {
   "cell_type": "markdown",
   "id": "86e93ef6",
   "metadata": {
    "id": "ed3ee8ee",
    "papermill": {
     "duration": 0.020061,
     "end_time": "2023-11-15T14:40:14.991455",
     "exception": false,
     "start_time": "2023-11-15T14:40:14.971394",
     "status": "completed"
    },
    "tags": []
   },
   "source": [
    "Using one-hot encoding, convert the `region` variable to some numerical variables (the result should be a dataframe)\n",
    "<br>\n",
    "One-hot encoding is a method for converting categorical data to numerical ones that can be fed into a model. This method works by creating a binary vector for each category. **(P2-1-1: 5 points)**"
   ]
  },
  {
   "cell_type": "code",
   "execution_count": 12,
   "id": "4705152c",
   "metadata": {
    "execution": {
     "iopub.execute_input": "2023-11-15T14:40:15.033781Z",
     "iopub.status.busy": "2023-11-15T14:40:15.033416Z",
     "iopub.status.idle": "2023-11-15T14:40:15.053576Z",
     "shell.execute_reply": "2023-11-15T14:40:15.052513Z"
    },
    "id": "10ff0e61",
    "outputId": "4e2e10a6-324b-4057-ad72-e5d0b9735019",
    "papermill": {
     "duration": 0.044317,
     "end_time": "2023-11-15T14:40:15.056085",
     "exception": false,
     "start_time": "2023-11-15T14:40:15.011768",
     "status": "completed"
    },
    "tags": []
   },
   "outputs": [
    {
     "name": "stdout",
     "output_type": "stream",
     "text": [
      "{'northeast': 0, 'northwest': 1, 'southeast': 2, 'southwest': 3}\n"
     ]
    },
    {
     "data": {
      "text/html": [
       "<div>\n",
       "<style scoped>\n",
       "    .dataframe tbody tr th:only-of-type {\n",
       "        vertical-align: middle;\n",
       "    }\n",
       "\n",
       "    .dataframe tbody tr th {\n",
       "        vertical-align: top;\n",
       "    }\n",
       "\n",
       "    .dataframe thead th {\n",
       "        text-align: right;\n",
       "    }\n",
       "</style>\n",
       "<table border=\"1\" class=\"dataframe\">\n",
       "  <thead>\n",
       "    <tr style=\"text-align: right;\">\n",
       "      <th></th>\n",
       "      <th>age</th>\n",
       "      <th>sex</th>\n",
       "      <th>bmi</th>\n",
       "      <th>children</th>\n",
       "      <th>smk</th>\n",
       "      <th>target</th>\n",
       "      <th>region_0</th>\n",
       "      <th>region_1</th>\n",
       "      <th>region_2</th>\n",
       "      <th>region_3</th>\n",
       "    </tr>\n",
       "  </thead>\n",
       "  <tbody>\n",
       "    <tr>\n",
       "      <th>0</th>\n",
       "      <td>46</td>\n",
       "      <td>0</td>\n",
       "      <td>19.95</td>\n",
       "      <td>2</td>\n",
       "      <td>0</td>\n",
       "      <td>9193.83850</td>\n",
       "      <td>0</td>\n",
       "      <td>1</td>\n",
       "      <td>0</td>\n",
       "      <td>0</td>\n",
       "    </tr>\n",
       "    <tr>\n",
       "      <th>1</th>\n",
       "      <td>47</td>\n",
       "      <td>0</td>\n",
       "      <td>24.32</td>\n",
       "      <td>0</td>\n",
       "      <td>0</td>\n",
       "      <td>8534.67180</td>\n",
       "      <td>1</td>\n",
       "      <td>0</td>\n",
       "      <td>0</td>\n",
       "      <td>0</td>\n",
       "    </tr>\n",
       "    <tr>\n",
       "      <th>2</th>\n",
       "      <td>52</td>\n",
       "      <td>0</td>\n",
       "      <td>24.86</td>\n",
       "      <td>0</td>\n",
       "      <td>0</td>\n",
       "      <td>27117.99378</td>\n",
       "      <td>0</td>\n",
       "      <td>0</td>\n",
       "      <td>1</td>\n",
       "      <td>0</td>\n",
       "    </tr>\n",
       "    <tr>\n",
       "      <th>3</th>\n",
       "      <td>39</td>\n",
       "      <td>0</td>\n",
       "      <td>34.32</td>\n",
       "      <td>5</td>\n",
       "      <td>0</td>\n",
       "      <td>8596.82780</td>\n",
       "      <td>0</td>\n",
       "      <td>0</td>\n",
       "      <td>1</td>\n",
       "      <td>0</td>\n",
       "    </tr>\n",
       "    <tr>\n",
       "      <th>4</th>\n",
       "      <td>54</td>\n",
       "      <td>0</td>\n",
       "      <td>21.47</td>\n",
       "      <td>3</td>\n",
       "      <td>0</td>\n",
       "      <td>12475.35130</td>\n",
       "      <td>0</td>\n",
       "      <td>1</td>\n",
       "      <td>0</td>\n",
       "      <td>0</td>\n",
       "    </tr>\n",
       "  </tbody>\n",
       "</table>\n",
       "</div>"
      ],
      "text/plain": [
       "   age  sex    bmi  children  smk       target  region_0  region_1  region_2  \\\n",
       "0   46    0  19.95         2    0   9193.83850         0         1         0   \n",
       "1   47    0  24.32         0    0   8534.67180         1         0         0   \n",
       "2   52    0  24.86         0    0  27117.99378         0         0         1   \n",
       "3   39    0  34.32         5    0   8596.82780         0         0         1   \n",
       "4   54    0  21.47         3    0  12475.35130         0         1         0   \n",
       "\n",
       "   region_3  \n",
       "0         0  \n",
       "1         0  \n",
       "2         0  \n",
       "3         0  \n",
       "4         0  "
      ]
     },
     "execution_count": 12,
     "metadata": {},
     "output_type": "execute_result"
    }
   ],
   "source": [
    "print(category_mapping[-1])\n",
    "DF = pd.get_dummies(DF, columns = [\"region\"] ,dtype='int')\n",
    "DF.head()"
   ]
  },
  {
   "cell_type": "markdown",
   "id": "d1c1e26f",
   "metadata": {
    "id": "150e1f5c",
    "papermill": {
     "duration": 0.020297,
     "end_time": "2023-11-15T14:40:15.097594",
     "exception": false,
     "start_time": "2023-11-15T14:40:15.077297",
     "status": "completed"
    },
    "tags": []
   },
   "source": [
    "Do the same thing for the `smoker` and `sex` variable (the result should be a dataframe) **(P2-1-1: 10 points)**"
   ]
  },
  {
   "cell_type": "code",
   "execution_count": 13,
   "id": "6d1fc5f0",
   "metadata": {
    "execution": {
     "iopub.execute_input": "2023-11-15T14:40:15.139028Z",
     "iopub.status.busy": "2023-11-15T14:40:15.138652Z",
     "iopub.status.idle": "2023-11-15T14:40:15.159745Z",
     "shell.execute_reply": "2023-11-15T14:40:15.158764Z"
    },
    "id": "17086e1b",
    "outputId": "aa248e59-cb96-44b7-9ff4-17e2a51b8119",
    "papermill": {
     "duration": 0.044393,
     "end_time": "2023-11-15T14:40:15.162129",
     "exception": false,
     "start_time": "2023-11-15T14:40:15.117736",
     "status": "completed"
    },
    "tags": []
   },
   "outputs": [
    {
     "name": "stdout",
     "output_type": "stream",
     "text": [
      "{'female': 0, 'male': 1}\n",
      "{'no': 0, 'yes': 1}\n"
     ]
    },
    {
     "data": {
      "text/html": [
       "<div>\n",
       "<style scoped>\n",
       "    .dataframe tbody tr th:only-of-type {\n",
       "        vertical-align: middle;\n",
       "    }\n",
       "\n",
       "    .dataframe tbody tr th {\n",
       "        vertical-align: top;\n",
       "    }\n",
       "\n",
       "    .dataframe thead th {\n",
       "        text-align: right;\n",
       "    }\n",
       "</style>\n",
       "<table border=\"1\" class=\"dataframe\">\n",
       "  <thead>\n",
       "    <tr style=\"text-align: right;\">\n",
       "      <th></th>\n",
       "      <th>age</th>\n",
       "      <th>bmi</th>\n",
       "      <th>children</th>\n",
       "      <th>target</th>\n",
       "      <th>region_0</th>\n",
       "      <th>region_1</th>\n",
       "      <th>region_2</th>\n",
       "      <th>region_3</th>\n",
       "      <th>sex_0</th>\n",
       "      <th>sex_1</th>\n",
       "      <th>smk_0</th>\n",
       "      <th>smk_1</th>\n",
       "    </tr>\n",
       "  </thead>\n",
       "  <tbody>\n",
       "    <tr>\n",
       "      <th>0</th>\n",
       "      <td>46</td>\n",
       "      <td>19.95</td>\n",
       "      <td>2</td>\n",
       "      <td>9193.83850</td>\n",
       "      <td>0</td>\n",
       "      <td>1</td>\n",
       "      <td>0</td>\n",
       "      <td>0</td>\n",
       "      <td>1</td>\n",
       "      <td>0</td>\n",
       "      <td>1</td>\n",
       "      <td>0</td>\n",
       "    </tr>\n",
       "    <tr>\n",
       "      <th>1</th>\n",
       "      <td>47</td>\n",
       "      <td>24.32</td>\n",
       "      <td>0</td>\n",
       "      <td>8534.67180</td>\n",
       "      <td>1</td>\n",
       "      <td>0</td>\n",
       "      <td>0</td>\n",
       "      <td>0</td>\n",
       "      <td>1</td>\n",
       "      <td>0</td>\n",
       "      <td>1</td>\n",
       "      <td>0</td>\n",
       "    </tr>\n",
       "    <tr>\n",
       "      <th>2</th>\n",
       "      <td>52</td>\n",
       "      <td>24.86</td>\n",
       "      <td>0</td>\n",
       "      <td>27117.99378</td>\n",
       "      <td>0</td>\n",
       "      <td>0</td>\n",
       "      <td>1</td>\n",
       "      <td>0</td>\n",
       "      <td>1</td>\n",
       "      <td>0</td>\n",
       "      <td>1</td>\n",
       "      <td>0</td>\n",
       "    </tr>\n",
       "    <tr>\n",
       "      <th>3</th>\n",
       "      <td>39</td>\n",
       "      <td>34.32</td>\n",
       "      <td>5</td>\n",
       "      <td>8596.82780</td>\n",
       "      <td>0</td>\n",
       "      <td>0</td>\n",
       "      <td>1</td>\n",
       "      <td>0</td>\n",
       "      <td>1</td>\n",
       "      <td>0</td>\n",
       "      <td>1</td>\n",
       "      <td>0</td>\n",
       "    </tr>\n",
       "    <tr>\n",
       "      <th>4</th>\n",
       "      <td>54</td>\n",
       "      <td>21.47</td>\n",
       "      <td>3</td>\n",
       "      <td>12475.35130</td>\n",
       "      <td>0</td>\n",
       "      <td>1</td>\n",
       "      <td>0</td>\n",
       "      <td>0</td>\n",
       "      <td>1</td>\n",
       "      <td>0</td>\n",
       "      <td>1</td>\n",
       "      <td>0</td>\n",
       "    </tr>\n",
       "  </tbody>\n",
       "</table>\n",
       "</div>"
      ],
      "text/plain": [
       "   age    bmi  children       target  region_0  region_1  region_2  region_3  \\\n",
       "0   46  19.95         2   9193.83850         0         1         0         0   \n",
       "1   47  24.32         0   8534.67180         1         0         0         0   \n",
       "2   52  24.86         0  27117.99378         0         0         1         0   \n",
       "3   39  34.32         5   8596.82780         0         0         1         0   \n",
       "4   54  21.47         3  12475.35130         0         1         0         0   \n",
       "\n",
       "   sex_0  sex_1  smk_0  smk_1  \n",
       "0      1      0      1      0  \n",
       "1      1      0      1      0  \n",
       "2      1      0      1      0  \n",
       "3      1      0      1      0  \n",
       "4      1      0      1      0  "
      ]
     },
     "execution_count": 13,
     "metadata": {},
     "output_type": "execute_result"
    }
   ],
   "source": [
    "print(category_mapping[0])\n",
    "print(category_mapping[1])\n",
    "DF = pd.get_dummies(DF, columns = [\"sex\" ,\"smk\"] ,dtype='int') \n",
    "DF.head()"
   ]
  },
  {
   "cell_type": "markdown",
   "id": "0138ce16",
   "metadata": {
    "id": "f84cc753",
    "papermill": {
     "duration": 0.020695,
     "end_time": "2023-11-15T14:40:15.204782",
     "exception": false,
     "start_time": "2023-11-15T14:40:15.184087",
     "status": "completed"
    },
    "tags": []
   },
   "source": [
    "## Sec 2: Normalization **(P2-Sec2: 10 points)**"
   ]
  },
  {
   "cell_type": "markdown",
   "id": "6401414f",
   "metadata": {
    "id": "ac7bf50f",
    "papermill": {
     "duration": 0.020536,
     "end_time": "2023-11-15T14:40:15.246822",
     "exception": false,
     "start_time": "2023-11-15T14:40:15.226286",
     "status": "completed"
    },
    "tags": []
   },
   "source": [
    "Normalize the columns `age`, `bmi`, and `children`. After this process, they should take values between 0 and 1. **(P2-2: 10 points)**"
   ]
  },
  {
   "cell_type": "code",
   "execution_count": 14,
   "id": "4519fc56",
   "metadata": {
    "execution": {
     "iopub.execute_input": "2023-11-15T14:40:15.290369Z",
     "iopub.status.busy": "2023-11-15T14:40:15.289968Z",
     "iopub.status.idle": "2023-11-15T14:40:15.314045Z",
     "shell.execute_reply": "2023-11-15T14:40:15.313029Z"
    },
    "id": "f88ba300",
    "outputId": "d696cc60-941d-43e5-9290-f83221fdcd49",
    "papermill": {
     "duration": 0.049143,
     "end_time": "2023-11-15T14:40:15.316423",
     "exception": false,
     "start_time": "2023-11-15T14:40:15.267280",
     "status": "completed"
    },
    "tags": []
   },
   "outputs": [
    {
     "data": {
      "text/html": [
       "<div>\n",
       "<style scoped>\n",
       "    .dataframe tbody tr th:only-of-type {\n",
       "        vertical-align: middle;\n",
       "    }\n",
       "\n",
       "    .dataframe tbody tr th {\n",
       "        vertical-align: top;\n",
       "    }\n",
       "\n",
       "    .dataframe thead th {\n",
       "        text-align: right;\n",
       "    }\n",
       "</style>\n",
       "<table border=\"1\" class=\"dataframe\">\n",
       "  <thead>\n",
       "    <tr style=\"text-align: right;\">\n",
       "      <th></th>\n",
       "      <th>age</th>\n",
       "      <th>bmi</th>\n",
       "      <th>children</th>\n",
       "      <th>target</th>\n",
       "      <th>region_0</th>\n",
       "      <th>region_1</th>\n",
       "      <th>region_2</th>\n",
       "      <th>region_3</th>\n",
       "      <th>sex_0</th>\n",
       "      <th>sex_1</th>\n",
       "      <th>smk_0</th>\n",
       "      <th>smk_1</th>\n",
       "    </tr>\n",
       "  </thead>\n",
       "  <tbody>\n",
       "    <tr>\n",
       "      <th>0</th>\n",
       "      <td>0.608696</td>\n",
       "      <td>0.107345</td>\n",
       "      <td>0.4</td>\n",
       "      <td>9193.83850</td>\n",
       "      <td>0</td>\n",
       "      <td>1</td>\n",
       "      <td>0</td>\n",
       "      <td>0</td>\n",
       "      <td>1</td>\n",
       "      <td>0</td>\n",
       "      <td>1</td>\n",
       "      <td>0</td>\n",
       "    </tr>\n",
       "    <tr>\n",
       "      <th>1</th>\n",
       "      <td>0.630435</td>\n",
       "      <td>0.224913</td>\n",
       "      <td>0.0</td>\n",
       "      <td>8534.67180</td>\n",
       "      <td>1</td>\n",
       "      <td>0</td>\n",
       "      <td>0</td>\n",
       "      <td>0</td>\n",
       "      <td>1</td>\n",
       "      <td>0</td>\n",
       "      <td>1</td>\n",
       "      <td>0</td>\n",
       "    </tr>\n",
       "    <tr>\n",
       "      <th>2</th>\n",
       "      <td>0.739130</td>\n",
       "      <td>0.239440</td>\n",
       "      <td>0.0</td>\n",
       "      <td>27117.99378</td>\n",
       "      <td>0</td>\n",
       "      <td>0</td>\n",
       "      <td>1</td>\n",
       "      <td>0</td>\n",
       "      <td>1</td>\n",
       "      <td>0</td>\n",
       "      <td>1</td>\n",
       "      <td>0</td>\n",
       "    </tr>\n",
       "    <tr>\n",
       "      <th>3</th>\n",
       "      <td>0.456522</td>\n",
       "      <td>0.493947</td>\n",
       "      <td>1.0</td>\n",
       "      <td>8596.82780</td>\n",
       "      <td>0</td>\n",
       "      <td>0</td>\n",
       "      <td>1</td>\n",
       "      <td>0</td>\n",
       "      <td>1</td>\n",
       "      <td>0</td>\n",
       "      <td>1</td>\n",
       "      <td>0</td>\n",
       "    </tr>\n",
       "    <tr>\n",
       "      <th>4</th>\n",
       "      <td>0.782609</td>\n",
       "      <td>0.148238</td>\n",
       "      <td>0.6</td>\n",
       "      <td>12475.35130</td>\n",
       "      <td>0</td>\n",
       "      <td>1</td>\n",
       "      <td>0</td>\n",
       "      <td>0</td>\n",
       "      <td>1</td>\n",
       "      <td>0</td>\n",
       "      <td>1</td>\n",
       "      <td>0</td>\n",
       "    </tr>\n",
       "  </tbody>\n",
       "</table>\n",
       "</div>"
      ],
      "text/plain": [
       "        age       bmi  children       target  region_0  region_1  region_2  \\\n",
       "0  0.608696  0.107345       0.4   9193.83850         0         1         0   \n",
       "1  0.630435  0.224913       0.0   8534.67180         1         0         0   \n",
       "2  0.739130  0.239440       0.0  27117.99378         0         0         1   \n",
       "3  0.456522  0.493947       1.0   8596.82780         0         0         1   \n",
       "4  0.782609  0.148238       0.6  12475.35130         0         1         0   \n",
       "\n",
       "   region_3  sex_0  sex_1  smk_0  smk_1  \n",
       "0         0      1      0      1      0  \n",
       "1         0      1      0      1      0  \n",
       "2         0      1      0      1      0  \n",
       "3         0      1      0      1      0  \n",
       "4         0      1      0      1      0  "
      ]
     },
     "execution_count": 14,
     "metadata": {},
     "output_type": "execute_result"
    }
   ],
   "source": [
    "# using min - max feature scaling\n",
    "for col in [\"age\" ,\"bmi\" ,\"children\"]:\n",
    "    DF[col] = (DF[col] - DF[col].min()) / (DF[col].max() - DF[col].min())     \n",
    "DF.head()"
   ]
  },
  {
   "cell_type": "markdown",
   "id": "1f50d461",
   "metadata": {
    "id": "ee1199e1",
    "papermill": {
     "duration": 0.022208,
     "end_time": "2023-11-15T14:40:15.361742",
     "exception": false,
     "start_time": "2023-11-15T14:40:15.339534",
     "status": "completed"
    },
    "tags": []
   },
   "source": [
    "# Phase 3: Training"
   ]
  },
  {
   "cell_type": "markdown",
   "id": "4ad48894",
   "metadata": {
    "id": "32252d37",
    "papermill": {
     "duration": 0.021742,
     "end_time": "2023-11-15T14:40:15.404836",
     "exception": false,
     "start_time": "2023-11-15T14:40:15.383094",
     "status": "completed"
    },
    "tags": []
   },
   "source": [
    "## Sec 1: Preparing features and Targets **(P3-Sec1: 5 points)**"
   ]
  },
  {
   "cell_type": "markdown",
   "id": "b99060f7",
   "metadata": {
    "id": "689637db",
    "papermill": {
     "duration": 0.020907,
     "end_time": "2023-11-15T14:40:15.446544",
     "exception": false,
     "start_time": "2023-11-15T14:40:15.425637",
     "status": "completed"
    },
    "tags": []
   },
   "source": [
    "Extract only the features from the dataframe by removing the `target` column. <br>\n",
    "Note: Do not remove the previous dataframe."
   ]
  },
  {
   "cell_type": "code",
   "execution_count": 15,
   "id": "aa1aca46",
   "metadata": {
    "execution": {
     "iopub.execute_input": "2023-11-15T14:40:15.490730Z",
     "iopub.status.busy": "2023-11-15T14:40:15.489937Z",
     "iopub.status.idle": "2023-11-15T14:40:15.505992Z",
     "shell.execute_reply": "2023-11-15T14:40:15.505007Z"
    },
    "id": "f9fc205a",
    "outputId": "3cda4be4-a67a-480e-adb6-22395b2771a6",
    "papermill": {
     "duration": 0.040429,
     "end_time": "2023-11-15T14:40:15.508284",
     "exception": false,
     "start_time": "2023-11-15T14:40:15.467855",
     "status": "completed"
    },
    "tags": []
   },
   "outputs": [
    {
     "data": {
      "text/html": [
       "<div>\n",
       "<style scoped>\n",
       "    .dataframe tbody tr th:only-of-type {\n",
       "        vertical-align: middle;\n",
       "    }\n",
       "\n",
       "    .dataframe tbody tr th {\n",
       "        vertical-align: top;\n",
       "    }\n",
       "\n",
       "    .dataframe thead th {\n",
       "        text-align: right;\n",
       "    }\n",
       "</style>\n",
       "<table border=\"1\" class=\"dataframe\">\n",
       "  <thead>\n",
       "    <tr style=\"text-align: right;\">\n",
       "      <th></th>\n",
       "      <th>age</th>\n",
       "      <th>bmi</th>\n",
       "      <th>children</th>\n",
       "      <th>region_0</th>\n",
       "      <th>region_1</th>\n",
       "      <th>region_2</th>\n",
       "      <th>region_3</th>\n",
       "      <th>sex_0</th>\n",
       "      <th>sex_1</th>\n",
       "      <th>smk_0</th>\n",
       "      <th>smk_1</th>\n",
       "    </tr>\n",
       "  </thead>\n",
       "  <tbody>\n",
       "    <tr>\n",
       "      <th>0</th>\n",
       "      <td>0.608696</td>\n",
       "      <td>0.107345</td>\n",
       "      <td>0.4</td>\n",
       "      <td>0</td>\n",
       "      <td>1</td>\n",
       "      <td>0</td>\n",
       "      <td>0</td>\n",
       "      <td>1</td>\n",
       "      <td>0</td>\n",
       "      <td>1</td>\n",
       "      <td>0</td>\n",
       "    </tr>\n",
       "    <tr>\n",
       "      <th>1</th>\n",
       "      <td>0.630435</td>\n",
       "      <td>0.224913</td>\n",
       "      <td>0.0</td>\n",
       "      <td>1</td>\n",
       "      <td>0</td>\n",
       "      <td>0</td>\n",
       "      <td>0</td>\n",
       "      <td>1</td>\n",
       "      <td>0</td>\n",
       "      <td>1</td>\n",
       "      <td>0</td>\n",
       "    </tr>\n",
       "    <tr>\n",
       "      <th>2</th>\n",
       "      <td>0.739130</td>\n",
       "      <td>0.239440</td>\n",
       "      <td>0.0</td>\n",
       "      <td>0</td>\n",
       "      <td>0</td>\n",
       "      <td>1</td>\n",
       "      <td>0</td>\n",
       "      <td>1</td>\n",
       "      <td>0</td>\n",
       "      <td>1</td>\n",
       "      <td>0</td>\n",
       "    </tr>\n",
       "    <tr>\n",
       "      <th>3</th>\n",
       "      <td>0.456522</td>\n",
       "      <td>0.493947</td>\n",
       "      <td>1.0</td>\n",
       "      <td>0</td>\n",
       "      <td>0</td>\n",
       "      <td>1</td>\n",
       "      <td>0</td>\n",
       "      <td>1</td>\n",
       "      <td>0</td>\n",
       "      <td>1</td>\n",
       "      <td>0</td>\n",
       "    </tr>\n",
       "    <tr>\n",
       "      <th>4</th>\n",
       "      <td>0.782609</td>\n",
       "      <td>0.148238</td>\n",
       "      <td>0.6</td>\n",
       "      <td>0</td>\n",
       "      <td>1</td>\n",
       "      <td>0</td>\n",
       "      <td>0</td>\n",
       "      <td>1</td>\n",
       "      <td>0</td>\n",
       "      <td>1</td>\n",
       "      <td>0</td>\n",
       "    </tr>\n",
       "  </tbody>\n",
       "</table>\n",
       "</div>"
      ],
      "text/plain": [
       "        age       bmi  children  region_0  region_1  region_2  region_3  \\\n",
       "0  0.608696  0.107345       0.4         0         1         0         0   \n",
       "1  0.630435  0.224913       0.0         1         0         0         0   \n",
       "2  0.739130  0.239440       0.0         0         0         1         0   \n",
       "3  0.456522  0.493947       1.0         0         0         1         0   \n",
       "4  0.782609  0.148238       0.6         0         1         0         0   \n",
       "\n",
       "   sex_0  sex_1  smk_0  smk_1  \n",
       "0      1      0      1      0  \n",
       "1      1      0      1      0  \n",
       "2      1      0      1      0  \n",
       "3      1      0      1      0  \n",
       "4      1      0      1      0  "
      ]
     },
     "execution_count": 15,
     "metadata": {},
     "output_type": "execute_result"
    }
   ],
   "source": [
    "DF_features = DF.drop(\"target\" ,axis=1) \n",
    "DF_features.head()"
   ]
  },
  {
   "cell_type": "markdown",
   "id": "696dfac6",
   "metadata": {
    "id": "ec4b1b9f",
    "papermill": {
     "duration": 0.02106,
     "end_time": "2023-11-15T14:40:15.552677",
     "exception": false,
     "start_time": "2023-11-15T14:40:15.531617",
     "status": "completed"
    },
    "tags": []
   },
   "source": [
    "Convert the new dataframe into a numpy array **(P3-1-1: 3 points)**"
   ]
  },
  {
   "cell_type": "code",
   "execution_count": 16,
   "id": "67df7dda",
   "metadata": {
    "execution": {
     "iopub.execute_input": "2023-11-15T14:40:15.597084Z",
     "iopub.status.busy": "2023-11-15T14:40:15.596755Z",
     "iopub.status.idle": "2023-11-15T14:40:15.604186Z",
     "shell.execute_reply": "2023-11-15T14:40:15.603052Z"
    },
    "id": "2108f459",
    "outputId": "5016edf7-0ffd-4aed-ca46-6a9e0c68adac",
    "papermill": {
     "duration": 0.033034,
     "end_time": "2023-11-15T14:40:15.606514",
     "exception": false,
     "start_time": "2023-11-15T14:40:15.573480",
     "status": "completed"
    },
    "tags": []
   },
   "outputs": [
    {
     "data": {
      "text/plain": [
       "array([0.60869565, 0.10734463, 0.4       , 0.        , 1.        ,\n",
       "       0.        , 0.        , 1.        , 0.        , 1.        ,\n",
       "       0.        ])"
      ]
     },
     "execution_count": 16,
     "metadata": {},
     "output_type": "execute_result"
    }
   ],
   "source": [
    "features = DF_features.to_numpy()\n",
    "features[0]"
   ]
  },
  {
   "cell_type": "markdown",
   "id": "25490f2e",
   "metadata": {
    "id": "50ce4231",
    "papermill": {
     "duration": 0.022346,
     "end_time": "2023-11-15T14:40:15.652807",
     "exception": false,
     "start_time": "2023-11-15T14:40:15.630461",
     "status": "completed"
    },
    "tags": []
   },
   "source": [
    "Get the `target` column from the previous dataframe and convert it to another numpy array named `y` **(P3-1-2: 2 points)**"
   ]
  },
  {
   "cell_type": "code",
   "execution_count": 17,
   "id": "8abf2947",
   "metadata": {
    "execution": {
     "iopub.execute_input": "2023-11-15T14:40:15.699931Z",
     "iopub.status.busy": "2023-11-15T14:40:15.699036Z",
     "iopub.status.idle": "2023-11-15T14:40:15.706364Z",
     "shell.execute_reply": "2023-11-15T14:40:15.705401Z"
    },
    "id": "398524f9",
    "outputId": "1a27b3cd-12cc-4800-a214-8b60fd4dff90",
    "papermill": {
     "duration": 0.033015,
     "end_time": "2023-11-15T14:40:15.708464",
     "exception": false,
     "start_time": "2023-11-15T14:40:15.675449",
     "status": "completed"
    },
    "tags": []
   },
   "outputs": [
    {
     "data": {
      "text/plain": [
       "array([ 9193.8385 ,  8534.6718 , 27117.99378, ..., 11931.12525,\n",
       "       46113.511  , 10214.636  ])"
      ]
     },
     "execution_count": 17,
     "metadata": {},
     "output_type": "execute_result"
    }
   ],
   "source": [
    "y = DF[\"target\"].to_numpy()\n",
    "y"
   ]
  },
  {
   "cell_type": "markdown",
   "id": "e240f2bc",
   "metadata": {
    "id": "01db8a8e",
    "papermill": {
     "duration": 0.021161,
     "end_time": "2023-11-15T14:40:15.751088",
     "exception": false,
     "start_time": "2023-11-15T14:40:15.729927",
     "status": "completed"
    },
    "tags": []
   },
   "source": [
    "## Sec 2: Splitting the Data **(P3-Sec2: 5 points)**"
   ]
  },
  {
   "cell_type": "markdown",
   "id": "2e1d337b",
   "metadata": {
    "id": "e52068ba",
    "papermill": {
     "duration": 0.020484,
     "end_time": "2023-11-15T14:40:15.792355",
     "exception": false,
     "start_time": "2023-11-15T14:40:15.771871",
     "status": "completed"
    },
    "tags": []
   },
   "source": [
    "Split the dataset into two parts such that the training set (denoted as `x_train` and ‍`y_train`), contains 80% of the samples. **(P3-2: 5 points)**"
   ]
  },
  {
   "cell_type": "code",
   "execution_count": 18,
   "id": "d91766d1",
   "metadata": {
    "execution": {
     "iopub.execute_input": "2023-11-15T14:40:15.835830Z",
     "iopub.status.busy": "2023-11-15T14:40:15.835471Z",
     "iopub.status.idle": "2023-11-15T14:40:15.846790Z",
     "shell.execute_reply": "2023-11-15T14:40:15.845975Z"
    },
    "id": "2f51edf6",
    "papermill": {
     "duration": 0.036111,
     "end_time": "2023-11-15T14:40:15.849097",
     "exception": false,
     "start_time": "2023-11-15T14:40:15.812986",
     "status": "completed"
    },
    "tags": []
   },
   "outputs": [],
   "source": [
    "# x_train, x_test, y_train, y_test = sklearn.model_selection.train_test_split(features, y, test_size=0.2, random_state=0)\n",
    "\n",
    "# train = DF.sample(frac=0.8)\n",
    "\n",
    "train = DF.sample(frac=0.8 ,random_state=200)\n",
    "test = DF.drop(train.index)\n",
    "save_test = test.copy()\n",
    "\n",
    "\n",
    "x_train = train.drop(\"target\" ,axis=1).to_numpy()\n",
    "y_train = train[\"target\"].to_numpy()\n",
    "\n",
    "x_test = test.drop(\"target\" ,axis=1).to_numpy()\n",
    "y_test = test[\"target\"].to_numpy()"
   ]
  },
  {
   "cell_type": "markdown",
   "id": "c46fe914",
   "metadata": {
    "id": "3b11b352",
    "papermill": {
     "duration": 0.021271,
     "end_time": "2023-11-15T14:40:15.892004",
     "exception": false,
     "start_time": "2023-11-15T14:40:15.870733",
     "status": "completed"
    },
    "tags": []
   },
   "source": [
    "## Sec 3: Linear Regression from Scratch **(P3-Sec3: 10 points)**\n",
    "\n",
    "Complete this section with your code. **(P3-3: 10 points)**"
   ]
  },
  {
   "cell_type": "code",
   "execution_count": 19,
   "id": "71f17236",
   "metadata": {
    "execution": {
     "iopub.execute_input": "2023-11-15T14:40:15.935400Z",
     "iopub.status.busy": "2023-11-15T14:40:15.935009Z",
     "iopub.status.idle": "2023-11-15T14:40:15.943433Z",
     "shell.execute_reply": "2023-11-15T14:40:15.942497Z"
    },
    "id": "d19c47ce",
    "papermill": {
     "duration": 0.032917,
     "end_time": "2023-11-15T14:40:15.945624",
     "exception": false,
     "start_time": "2023-11-15T14:40:15.912707",
     "status": "completed"
    },
    "tags": []
   },
   "outputs": [],
   "source": [
    "class MyLinearRegression:\n",
    "    coefficeints = None\n",
    "    intercept = None\n",
    "    myArray = None\n",
    "    def __init__(self):\n",
    "        pass\n",
    "\n",
    "    def fit(self, X, y):\n",
    "        \"\"\"Fit the training data\n",
    "        Parameters\n",
    "        ----------\n",
    "        x : array-like, shape = [n_samples, n_features]\n",
    "            Training samples\n",
    "        y : array-like, shape = [n_samples, n_target_values]\n",
    "            Target values\n",
    "\n",
    "        No Returns\n",
    "        \"\"\"\n",
    "        X_ = np.hstack((np.ones((X.shape[0] ,1)) , X))\n",
    "        self.myArray = np.linalg.lstsq(X_, y ,rcond=None)[0]\n",
    "        self.coefficeints = self.myArray[1:]\n",
    "        self.intercept = self.myArray[0]\n",
    "\n",
    "    def predict(self, X):\n",
    "        \"\"\" Predicts the values after the model has been trained.\n",
    "        Parameters\n",
    "        ----------\n",
    "        x : array-like, shape = [n_samples, n_features]\n",
    "            Test samples\n",
    "        Returns\n",
    "        -------\n",
    "        Predicted values\n",
    "        \"\"\"\n",
    "        X_ = np.hstack((np.ones((X.shape[0] ,1)) , X))\n",
    "        return X_.dot(self.myArray)"
   ]
  },
  {
   "cell_type": "markdown",
   "id": "39828272",
   "metadata": {
    "id": "8f4e311e",
    "papermill": {
     "duration": 0.021175,
     "end_time": "2023-11-15T14:40:15.988067",
     "exception": false,
     "start_time": "2023-11-15T14:40:15.966892",
     "status": "completed"
    },
    "tags": []
   },
   "source": [
    "## Sec 4: Fit the model to training data **(P3-Sec4: 10 points)**"
   ]
  },
  {
   "cell_type": "markdown",
   "id": "e072a8a1",
   "metadata": {
    "id": "a158924a",
    "papermill": {
     "duration": 0.021524,
     "end_time": "2023-11-15T14:40:16.030904",
     "exception": false,
     "start_time": "2023-11-15T14:40:16.009380",
     "status": "completed"
    },
    "tags": []
   },
   "source": [
    "Fit a linear regressor to the data. (Use both regressors - sklearn & from scratch) **(P3-4-1: 2 points)**"
   ]
  },
  {
   "cell_type": "code",
   "execution_count": 20,
   "id": "ccee1092",
   "metadata": {
    "execution": {
     "iopub.execute_input": "2023-11-15T14:40:16.075412Z",
     "iopub.status.busy": "2023-11-15T14:40:16.074978Z",
     "iopub.status.idle": "2023-11-15T14:40:16.326309Z",
     "shell.execute_reply": "2023-11-15T14:40:16.324654Z"
    },
    "id": "2bf0cb99",
    "papermill": {
     "duration": 0.278168,
     "end_time": "2023-11-15T14:40:16.330768",
     "exception": false,
     "start_time": "2023-11-15T14:40:16.052600",
     "status": "completed"
    },
    "tags": []
   },
   "outputs": [],
   "source": [
    "# its said that we can use regressors of sklearn\n",
    "from sklearn.linear_model import LinearRegression\n",
    "\n",
    "sklearnLR = LinearRegression()\n",
    "sklearnLR.fit(x_train ,y_train)\n",
    "\n",
    "myLR = MyLinearRegression()\n",
    "myLR.fit(x_train ,y_train)\n"
   ]
  },
  {
   "cell_type": "markdown",
   "id": "23454a67",
   "metadata": {
    "id": "0604ea17",
    "papermill": {
     "duration": 0.039985,
     "end_time": "2023-11-15T14:40:16.464985",
     "exception": false,
     "start_time": "2023-11-15T14:40:16.425000",
     "status": "completed"
    },
    "tags": []
   },
   "source": [
    "Get the coefficients of the variables (sklearn) **(P3-4-2: 3 points)**"
   ]
  },
  {
   "cell_type": "code",
   "execution_count": 21,
   "id": "971d8a46",
   "metadata": {
    "execution": {
     "iopub.execute_input": "2023-11-15T14:40:16.508717Z",
     "iopub.status.busy": "2023-11-15T14:40:16.508325Z",
     "iopub.status.idle": "2023-11-15T14:40:16.515389Z",
     "shell.execute_reply": "2023-11-15T14:40:16.514273Z"
    },
    "id": "4d6fb9a9",
    "outputId": "d48a567f-6ead-47a4-a00d-c0334cd5ed9f",
    "papermill": {
     "duration": 0.031412,
     "end_time": "2023-11-15T14:40:16.517582",
     "exception": false,
     "start_time": "2023-11-15T14:40:16.486170",
     "status": "completed"
    },
    "tags": []
   },
   "outputs": [
    {
     "name": "stdout",
     "output_type": "stream",
     "text": [
      "4125.211066330159 [11616.26813481 12784.45518247  2481.13508665  1647.7027511\n",
      "  1148.86357614   799.30088076   529.34385834  2039.56076368\n",
      "  2085.65030265 -9826.56678131 13951.77784765]\n",
      "9281.724899242907 [ 11616.26813481  12784.45518247   2481.13508665    616.39998452\n",
      "    117.56080955   -232.00188583   -501.95890825    -23.04476949\n",
      "     23.04476949 -11889.17231448  11889.17231448]\n"
     ]
    }
   ],
   "source": [
    "print(myLR.intercept ,myLR.coefficeints)\n",
    "print(sklearnLR.intercept_ ,sklearnLR.coef_)"
   ]
  },
  {
   "cell_type": "markdown",
   "id": "53b6d4ee",
   "metadata": {
    "id": "a015255e",
    "papermill": {
     "duration": 0.021431,
     "end_time": "2023-11-15T14:40:16.560396",
     "exception": false,
     "start_time": "2023-11-15T14:40:16.538965",
     "status": "completed"
    },
    "tags": []
   },
   "source": [
    "Get the score value of sklearn regressor on train dataset (sklearn) **(P3-4-3: 5 points)**"
   ]
  },
  {
   "cell_type": "code",
   "execution_count": 22,
   "id": "96ba81b8",
   "metadata": {
    "execution": {
     "iopub.execute_input": "2023-11-15T14:40:16.604735Z",
     "iopub.status.busy": "2023-11-15T14:40:16.604317Z",
     "iopub.status.idle": "2023-11-15T14:40:16.616963Z",
     "shell.execute_reply": "2023-11-15T14:40:16.615700Z"
    },
    "id": "7f75a009",
    "outputId": "327b0138-4632-4283-cb68-91be1f86a8b4",
    "papermill": {
     "duration": 0.038905,
     "end_time": "2023-11-15T14:40:16.620717",
     "exception": false,
     "start_time": "2023-11-15T14:40:16.581812",
     "status": "completed"
    },
    "tags": []
   },
   "outputs": [
    {
     "name": "stdout",
     "output_type": "stream",
     "text": [
      "0.7463601501555067\n"
     ]
    }
   ],
   "source": [
    "print(sklearnLR.score(x_train, y_train))\n",
    "\n",
    "# or we could : \n",
    "# from sklearn.metrics import r2_score\n",
    "# y_pred = sklearnLR.predict(x_train)\n",
    "# y_true = y_train\n",
    "# print(r2_score(y_true, y_pred))\n"
   ]
  },
  {
   "cell_type": "markdown",
   "id": "8abbf903",
   "metadata": {
    "id": "4fc41ff7",
    "papermill": {
     "duration": 0.045022,
     "end_time": "2023-11-15T14:40:16.711650",
     "exception": false,
     "start_time": "2023-11-15T14:40:16.666628",
     "status": "completed"
    },
    "tags": []
   },
   "source": [
    "# Phase 4: Evaluation"
   ]
  },
  {
   "cell_type": "markdown",
   "id": "d16ec135",
   "metadata": {
    "id": "pokhZKbfnxEu",
    "papermill": {
     "duration": 0.022055,
     "end_time": "2023-11-15T14:40:16.771517",
     "exception": false,
     "start_time": "2023-11-15T14:40:16.749462",
     "status": "completed"
    },
    "tags": []
   },
   "source": [
    "## Sec 1: Evaluate both models and compare the results **(P4-Sec1: 20 points)**"
   ]
  },
  {
   "cell_type": "markdown",
   "id": "8b8074b1",
   "metadata": {
    "id": "37c78322",
    "papermill": {
     "duration": 0.022577,
     "end_time": "2023-11-15T14:40:16.816851",
     "exception": false,
     "start_time": "2023-11-15T14:40:16.794274",
     "status": "completed"
    },
    "tags": []
   },
   "source": [
    "Predict the value of \"y\" for each \"x\" belonging to the \"testing\" set (use both regressors) **(P4-1-1: 10 points)**"
   ]
  },
  {
   "cell_type": "code",
   "execution_count": 23,
   "id": "aa7098bc",
   "metadata": {
    "execution": {
     "iopub.execute_input": "2023-11-15T14:40:16.864700Z",
     "iopub.status.busy": "2023-11-15T14:40:16.864332Z",
     "iopub.status.idle": "2023-11-15T14:40:16.869594Z",
     "shell.execute_reply": "2023-11-15T14:40:16.868664Z"
    },
    "id": "1ade9347",
    "papermill": {
     "duration": 0.03203,
     "end_time": "2023-11-15T14:40:16.871826",
     "exception": false,
     "start_time": "2023-11-15T14:40:16.839796",
     "status": "completed"
    },
    "tags": []
   },
   "outputs": [],
   "source": [
    "y_pred_sklearn = sklearnLR.predict(x_test)\n",
    "y_true_sklearn = y_test\n",
    "\n",
    "y_pred_custom = myLR.predict(x_test)\n",
    "y_true_custom = y_test"
   ]
  },
  {
   "cell_type": "markdown",
   "id": "7574c3b5",
   "metadata": {
    "id": "9bc059bf",
    "papermill": {
     "duration": 0.0216,
     "end_time": "2023-11-15T14:40:16.916524",
     "exception": false,
     "start_time": "2023-11-15T14:40:16.894924",
     "status": "completed"
    },
    "tags": []
   },
   "source": [
    "Compute the mean squared error **(P4-1-2: 5 points)**"
   ]
  },
  {
   "cell_type": "code",
   "execution_count": 24,
   "id": "bb268a50",
   "metadata": {
    "execution": {
     "iopub.execute_input": "2023-11-15T14:40:16.962231Z",
     "iopub.status.busy": "2023-11-15T14:40:16.961485Z",
     "iopub.status.idle": "2023-11-15T14:40:16.968154Z",
     "shell.execute_reply": "2023-11-15T14:40:16.967040Z"
    },
    "id": "c259c493",
    "outputId": "1395f093-4ad7-420a-dd24-612f0a926189",
    "papermill": {
     "duration": 0.032292,
     "end_time": "2023-11-15T14:40:16.970694",
     "exception": false,
     "start_time": "2023-11-15T14:40:16.938402",
     "status": "completed"
    },
    "tags": []
   },
   "outputs": [
    {
     "name": "stdout",
     "output_type": "stream",
     "text": [
      "sklearn\n",
      "42903058.85587242\n",
      "custom\n",
      "42903058.85587249\n"
     ]
    }
   ],
   "source": [
    "def MSE(y_true ,y_pred):\n",
    "    return (np.square(np.subtract(y_true,y_pred))).mean() \n",
    "\n",
    "print(\"sklearn\")\n",
    "print(MSE(y_true_sklearn, y_pred_sklearn))\n",
    "\n",
    "print(\"custom\")\n",
    "print(MSE(y_true_custom, y_pred_custom))"
   ]
  },
  {
   "cell_type": "markdown",
   "id": "55060590",
   "metadata": {
    "id": "04b0fe21",
    "papermill": {
     "duration": 0.022077,
     "end_time": "2023-11-15T14:40:17.014613",
     "exception": false,
     "start_time": "2023-11-15T14:40:16.992536",
     "status": "completed"
    },
    "tags": []
   },
   "source": [
    "Calculate the maximum error for each regressor **(P4-1-3: 5 points)**"
   ]
  },
  {
   "cell_type": "code",
   "execution_count": 25,
   "id": "441036e2",
   "metadata": {
    "execution": {
     "iopub.execute_input": "2023-11-15T14:40:17.059902Z",
     "iopub.status.busy": "2023-11-15T14:40:17.059101Z",
     "iopub.status.idle": "2023-11-15T14:40:17.065793Z",
     "shell.execute_reply": "2023-11-15T14:40:17.064892Z"
    },
    "id": "35dbdec9",
    "outputId": "f01dbc9e-a33d-42cf-ec67-bf2aca942108",
    "papermill": {
     "duration": 0.031302,
     "end_time": "2023-11-15T14:40:17.067789",
     "exception": false,
     "start_time": "2023-11-15T14:40:17.036487",
     "status": "completed"
    },
    "tags": []
   },
   "outputs": [
    {
     "name": "stdout",
     "output_type": "stream",
     "text": [
      "sklearn\n",
      "23935.491441857965\n",
      "custom\n",
      "23935.49144185803\n"
     ]
    }
   ],
   "source": [
    "def ME(y_true ,y_pred):\n",
    "    return np.max(np.abs(np.subtract(y_true,y_pred))) \n",
    "\n",
    "print(\"sklearn\")\n",
    "print(ME(y_true_sklearn, y_pred_sklearn))\n",
    "\n",
    "print(\"custom\")\n",
    "print(ME(y_true_custom, y_pred_custom))"
   ]
  },
  {
   "cell_type": "markdown",
   "id": "8006e046",
   "metadata": {
    "id": "416b6766",
    "papermill": {
     "duration": 0.021561,
     "end_time": "2023-11-15T14:40:17.111104",
     "exception": false,
     "start_time": "2023-11-15T14:40:17.089543",
     "status": "completed"
    },
    "tags": []
   },
   "source": [
    "# Phase 5 (Optional): Submit your predictions to our Kaggle competition"
   ]
  },
  {
   "cell_type": "markdown",
   "id": "fe2fe530",
   "metadata": {
    "id": "e162e26a",
    "papermill": {
     "duration": 0.021521,
     "end_time": "2023-11-15T14:40:17.153734",
     "exception": false,
     "start_time": "2023-11-15T14:40:17.132213",
     "status": "completed"
    },
    "tags": []
   },
   "source": [
    "Competition Link: WILL BE ADDED IN THE NEXT FEW DAYS<br>\n",
    "You'll have to make a csv file containing two columns: `ID` and `charges`, and submit the file.<br>"
   ]
  },
  {
   "cell_type": "code",
   "execution_count": null,
   "id": "16a23d65",
   "metadata": {
    "id": "55d8ac92",
    "papermill": {
     "duration": 0.01997,
     "end_time": "2023-11-15T14:40:17.194521",
     "exception": false,
     "start_time": "2023-11-15T14:40:17.174551",
     "status": "completed"
    },
    "tags": []
   },
   "outputs": [],
   "source": []
  }
 ],
 "metadata": {
  "kaggle": {
   "accelerator": "gpu",
   "dataSources": [],
   "dockerImageVersionId": 30558,
   "isGpuEnabled": true,
   "isInternetEnabled": true,
   "language": "python",
   "sourceType": "notebook"
  },
  "kernelspec": {
   "display_name": "Python 3",
   "language": "python",
   "name": "python3"
  },
  "language_info": {
   "codemirror_mode": {
    "name": "ipython",
    "version": 3
   },
   "file_extension": ".py",
   "mimetype": "text/x-python",
   "name": "python",
   "nbconvert_exporter": "python",
   "pygments_lexer": "ipython3",
   "version": "3.10.12"
  },
  "papermill": {
   "default_parameters": {},
   "duration": 14.824691,
   "end_time": "2023-11-15T14:40:17.733654",
   "environment_variables": {},
   "exception": null,
   "input_path": "__notebook__.ipynb",
   "output_path": "__notebook__.ipynb",
   "parameters": {},
   "start_time": "2023-11-15T14:40:02.908963",
   "version": "2.4.0"
  }
 },
 "nbformat": 4,
 "nbformat_minor": 5
}
