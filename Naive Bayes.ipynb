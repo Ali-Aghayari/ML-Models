{
 "cells": [
  {
   "cell_type": "markdown",
   "id": "c47ff3fa",
   "metadata": {
    "id": "UQJOGC-VaYRn",
    "papermill": {
     "duration": 0.019196,
     "end_time": "2023-12-02T20:48:33.045787",
     "exception": false,
     "start_time": "2023-12-02T20:48:33.026591",
     "status": "completed"
    },
    "tags": []
   },
   "source": [
    "# ML - Fall 2023 - Practical - 2\n",
    "## Practical Homework 2 - Naive Bayes\n",
    "\n",
    "Student Number: 400104715\n",
    "\n",
    "Student Name: Ali Aghayari\n",
    "\n",
    "\n"
   ]
  },
  {
   "cell_type": "markdown",
   "id": "4467010c",
   "metadata": {
    "id": "wyO9QVndoLPQ",
    "papermill": {
     "duration": 0.018551,
     "end_time": "2023-12-02T20:48:33.083893",
     "exception": false,
     "start_time": "2023-12-02T20:48:33.065342",
     "status": "completed"
    },
    "tags": []
   },
   "source": [
    "# Phase 0: Intro"
   ]
  },
  {
   "cell_type": "markdown",
   "id": "76e44a7a",
   "metadata": {
    "id": "zncm1JE1oSQl",
    "papermill": {
     "duration": 0.017918,
     "end_time": "2023-12-02T20:48:33.120286",
     "exception": false,
     "start_time": "2023-12-02T20:48:33.102368",
     "status": "completed"
    },
    "tags": []
   },
   "source": [
    "**In this assignment, you will develop Naive Bayes models to perform text classification. The dataset contains texts and the feelings correspond to each text. Your goal is to make a model to predict the emotion associated with each given text.**"
   ]
  },
  {
   "cell_type": "markdown",
   "id": "a697c5d9",
   "metadata": {
    "id": "0lWioVAHBYFS",
    "papermill": {
     "duration": 0.018232,
     "end_time": "2023-12-02T20:48:33.157031",
     "exception": false,
     "start_time": "2023-12-02T20:48:33.138799",
     "status": "completed"
    },
    "tags": []
   },
   "source": [
    "Importing necessary libraries"
   ]
  },
  {
   "cell_type": "code",
   "execution_count": 1,
   "id": "c534f072",
   "metadata": {
    "execution": {
     "iopub.execute_input": "2023-12-02T20:48:33.196389Z",
     "iopub.status.busy": "2023-12-02T20:48:33.195998Z",
     "iopub.status.idle": "2023-12-02T20:48:42.091589Z",
     "shell.execute_reply": "2023-12-02T20:48:42.090529Z"
    },
    "id": "bcBZwjpJBU30",
    "papermill": {
     "duration": 8.918954,
     "end_time": "2023-12-02T20:48:42.094489",
     "exception": false,
     "start_time": "2023-12-02T20:48:33.175535",
     "status": "completed"
    },
    "tags": []
   },
   "outputs": [],
   "source": [
    "import nltk\n",
    "import pandas\n",
    "import sklearn\n",
    "import string\n",
    "import spacy\n",
    "import re\n",
    "import numpy as np\n",
    "import pandas as pd\n",
    "from matplotlib import pyplot as plt\n",
    "from nltk.stem import WordNetLemmatizer\n",
    "from nltk.tokenize import word_tokenize\n",
    "from nltk.corpus import stopwords\n",
    "from sklearn.model_selection import train_test_split\n",
    "from sklearn.naive_bayes import MultinomialNB\n",
    "from sklearn.metrics import accuracy_score\n",
    "from sklearn.metrics import confusion_matrix\n",
    "from sklearn.metrics import classification_report\n",
    "from collections import defaultdict"
   ]
  },
  {
   "cell_type": "code",
   "execution_count": 2,
   "id": "dfa01b1b",
   "metadata": {
    "execution": {
     "iopub.execute_input": "2023-12-02T20:48:42.134243Z",
     "iopub.status.busy": "2023-12-02T20:48:42.132954Z",
     "iopub.status.idle": "2023-12-02T20:48:58.069813Z",
     "shell.execute_reply": "2023-12-02T20:48:58.068555Z"
    },
    "id": "USv0nt0Vsec_",
    "outputId": "f7f34f32-344b-49a0-e128-7b51444d3c36",
    "papermill": {
     "duration": 15.959347,
     "end_time": "2023-12-02T20:48:58.072438",
     "exception": false,
     "start_time": "2023-12-02T20:48:42.113091",
     "status": "completed"
    },
    "tags": []
   },
   "outputs": [
    {
     "name": "stdout",
     "output_type": "stream",
     "text": [
      "Requirement already satisfied: nltk in /opt/conda/lib/python3.10/site-packages (3.2.4)\r\n",
      "Requirement already satisfied: six in /opt/conda/lib/python3.10/site-packages (from nltk) (1.16.0)\r\n"
     ]
    }
   ],
   "source": [
    "!pip install nltk"
   ]
  },
  {
   "cell_type": "code",
   "execution_count": 3,
   "id": "e4676e4e",
   "metadata": {
    "execution": {
     "iopub.execute_input": "2023-12-02T20:48:58.112554Z",
     "iopub.status.busy": "2023-12-02T20:48:58.112065Z",
     "iopub.status.idle": "2023-12-02T20:48:59.676835Z",
     "shell.execute_reply": "2023-12-02T20:48:59.675515Z"
    },
    "id": "h0ullxNxsid5",
    "outputId": "af9ccb9a-e6cb-4f7f-94f5-bf217c900c05",
    "papermill": {
     "duration": 1.588687,
     "end_time": "2023-12-02T20:48:59.679811",
     "exception": false,
     "start_time": "2023-12-02T20:48:58.091124",
     "status": "completed"
    },
    "tags": []
   },
   "outputs": [
    {
     "name": "stdout",
     "output_type": "stream",
     "text": [
      "[nltk_data] Downloading package punkt to /usr/share/nltk_data...\n",
      "[nltk_data]   Package punkt is already up-to-date!\n",
      "[nltk_data] Downloading package stopwords to /usr/share/nltk_data...\n",
      "[nltk_data]   Package stopwords is already up-to-date!\n"
     ]
    }
   ],
   "source": [
    "import nltk\n",
    "nltk.download('punkt')\n",
    "nltk.download('stopwords')\n",
    "nlp = spacy.load(\"en_core_web_sm\")"
   ]
  },
  {
   "cell_type": "code",
   "execution_count": 4,
   "id": "7c2141b9",
   "metadata": {
    "execution": {
     "iopub.execute_input": "2023-12-02T20:48:59.720507Z",
     "iopub.status.busy": "2023-12-02T20:48:59.720058Z",
     "iopub.status.idle": "2023-12-02T20:49:02.600379Z",
     "shell.execute_reply": "2023-12-02T20:49:02.598959Z"
    },
    "id": "_syr-zPSirCE",
    "outputId": "a063c1b0-1f63-48e5-e060-a0513899be9e",
    "papermill": {
     "duration": 2.90419,
     "end_time": "2023-12-02T20:49:02.603302",
     "exception": false,
     "start_time": "2023-12-02T20:48:59.699112",
     "status": "completed"
    },
    "tags": []
   },
   "outputs": [
    {
     "name": "stdout",
     "output_type": "stream",
     "text": [
      "--2023-12-02 20:49:00--  https://www.dropbox.com/scl/fi/vezn3809mk6br6jb2xari/ML-P2-DataSet.csv?rlkey=yweu1fhtvisqhxm78s4ofpxed&dl=1\r\n",
      "Resolving www.dropbox.com (www.dropbox.com)... 162.125.65.18, 2620:100:6021:18::a27d:4112\r\n",
      "Connecting to www.dropbox.com (www.dropbox.com)|162.125.65.18|:443... connected.\r\n",
      "HTTP request sent, awaiting response... 302 Found\r\n",
      "Location: https://uce178e83c55e97677b780d82ab6.dl.dropboxusercontent.com/cd/0/inline/CIrOPvdW2XaQY0Hy00DDe2lCKgIOJygcMYO1oU_hdqLCBdsysprgdQK2zBjyJ5NimuuC0bBieevhJzHIQXyFUHpP0EdaPryoNo-HHbHt4m7TI4-8qUZqCGJ8sQUaFx_Seg3FtzQfr54r7SXfEAo_QLaK/file?dl=1# [following]\r\n",
      "--2023-12-02 20:49:01--  https://uce178e83c55e97677b780d82ab6.dl.dropboxusercontent.com/cd/0/inline/CIrOPvdW2XaQY0Hy00DDe2lCKgIOJygcMYO1oU_hdqLCBdsysprgdQK2zBjyJ5NimuuC0bBieevhJzHIQXyFUHpP0EdaPryoNo-HHbHt4m7TI4-8qUZqCGJ8sQUaFx_Seg3FtzQfr54r7SXfEAo_QLaK/file?dl=1\r\n",
      "Resolving uce178e83c55e97677b780d82ab6.dl.dropboxusercontent.com (uce178e83c55e97677b780d82ab6.dl.dropboxusercontent.com)... 162.125.65.15, 2620:100:6021:15::a27d:410f\r\n",
      "Connecting to uce178e83c55e97677b780d82ab6.dl.dropboxusercontent.com (uce178e83c55e97677b780d82ab6.dl.dropboxusercontent.com)|162.125.65.15|:443... connected.\r\n",
      "HTTP request sent, awaiting response... 200 OK\r\n",
      "Length: 619991 (605K) [application/binary]\r\n",
      "Saving to: ‘dataset.csv’\r\n",
      "\r\n",
      "dataset.csv         100%[===================>] 605.46K  --.-KB/s    in 0.02s   \r\n",
      "\r\n",
      "2023-12-02 20:49:02 (28.1 MB/s) - ‘dataset.csv’ saved [619991/619991]\r\n",
      "\r\n"
     ]
    }
   ],
   "source": [
    "!wget -O dataset.csv \"https://www.dropbox.com/scl/fi/vezn3809mk6br6jb2xari/ML-P2-DataSet.csv?rlkey=yweu1fhtvisqhxm78s4ofpxed&dl=1\""
   ]
  },
  {
   "cell_type": "markdown",
   "id": "14f6c266",
   "metadata": {
    "id": "RIIiFseLa3lF",
    "papermill": {
     "duration": 0.018674,
     "end_time": "2023-12-02T20:49:02.641095",
     "exception": false,
     "start_time": "2023-12-02T20:49:02.622421",
     "status": "completed"
    },
    "tags": []
   },
   "source": [
    "# Phase 1: Explore"
   ]
  },
  {
   "cell_type": "markdown",
   "id": "f573d2cf",
   "metadata": {
    "id": "ZhxTfOB5peCj",
    "papermill": {
     "duration": 0.018672,
     "end_time": "2023-12-02T20:49:02.678677",
     "exception": false,
     "start_time": "2023-12-02T20:49:02.660005",
     "status": "completed"
    },
    "tags": []
   },
   "source": [
    "## Sec 1: Load and Explore the given dataset **(P1-Sec1: 10 Points)**"
   ]
  },
  {
   "cell_type": "markdown",
   "id": "c4a91627",
   "metadata": {
    "id": "Usio0HXKof-5",
    "papermill": {
     "duration": 0.018666,
     "end_time": "2023-12-02T20:49:02.716460",
     "exception": false,
     "start_time": "2023-12-02T20:49:02.697794",
     "status": "completed"
    },
    "tags": []
   },
   "source": [
    "Load the dataset. Look at the head of dataset. How many rows are there in the dataset? **(P1-1-1: 2 points)**\n",
    "\n",
    "\n"
   ]
  },
  {
   "cell_type": "code",
   "execution_count": 5,
   "id": "b6ac15ae",
   "metadata": {
    "execution": {
     "iopub.execute_input": "2023-12-02T20:49:02.820826Z",
     "iopub.status.busy": "2023-12-02T20:49:02.820360Z",
     "iopub.status.idle": "2023-12-02T20:49:02.862663Z",
     "shell.execute_reply": "2023-12-02T20:49:02.861180Z"
    },
    "id": "V8RdrWrkkgQj",
    "papermill": {
     "duration": 0.066022,
     "end_time": "2023-12-02T20:49:02.865074",
     "exception": false,
     "start_time": "2023-12-02T20:49:02.799052",
     "status": "completed"
    },
    "tags": []
   },
   "outputs": [
    {
     "name": "stdout",
     "output_type": "stream",
     "text": [
      "                                                Text Feeling\n",
      "0  i seriously hate one subject to death but now ...    fear\n",
      "1                 im so full of life i feel appalled   anger\n",
      "2  i sit here to write i start to dig out my feel...    fear\n",
      "3  ive been really angry with r and i feel like a...     joy\n",
      "4  i feel suspicious if there is no one outside l...    fear\n",
      "\n",
      "\n",
      "count of rows :  5937\n"
     ]
    }
   ],
   "source": [
    "DF = pd.read_csv(\"dataset.csv\")\n",
    "print(DF.head())\n",
    "print(\"\\n\\ncount of rows : \", DF.shape[0])"
   ]
  },
  {
   "cell_type": "markdown",
   "id": "178d73c7",
   "metadata": {
    "id": "w0rYcT-wqFpt",
    "papermill": {
     "duration": 0.018869,
     "end_time": "2023-12-02T20:49:02.903169",
     "exception": false,
     "start_time": "2023-12-02T20:49:02.884300",
     "status": "completed"
    },
    "tags": []
   },
   "source": [
    "Handle missing values **(P1-1-2: 2 pints)**"
   ]
  },
  {
   "cell_type": "code",
   "execution_count": 6,
   "id": "41078055",
   "metadata": {
    "execution": {
     "iopub.execute_input": "2023-12-02T20:49:02.943234Z",
     "iopub.status.busy": "2023-12-02T20:49:02.942815Z",
     "iopub.status.idle": "2023-12-02T20:49:02.951876Z",
     "shell.execute_reply": "2023-12-02T20:49:02.950679Z"
    },
    "id": "qjfsDc35qMQn",
    "papermill": {
     "duration": 0.032475,
     "end_time": "2023-12-02T20:49:02.954757",
     "exception": false,
     "start_time": "2023-12-02T20:49:02.922282",
     "status": "completed"
    },
    "tags": []
   },
   "outputs": [
    {
     "name": "stdout",
     "output_type": "stream",
     "text": [
      "Text       0\n",
      "Feeling    0\n",
      "dtype: int64\n",
      "\n",
      "\n",
      "we have zero null value\n"
     ]
    }
   ],
   "source": [
    "print(DF.isnull().sum())\n",
    "print(\"\\n\\nwe have zero null value\")"
   ]
  },
  {
   "cell_type": "markdown",
   "id": "437a4dd1",
   "metadata": {
    "id": "Cbr-RfEypELP",
    "papermill": {
     "duration": 0.019232,
     "end_time": "2023-12-02T20:49:02.993327",
     "exception": false,
     "start_time": "2023-12-02T20:49:02.974095",
     "status": "completed"
    },
    "tags": []
   },
   "source": [
    "Identify the unique feeling values and for each of them, print their count in the dataset. **(P1-1-3: 2 points)**"
   ]
  },
  {
   "cell_type": "code",
   "execution_count": 7,
   "id": "541f70e3",
   "metadata": {
    "execution": {
     "iopub.execute_input": "2023-12-02T20:49:03.035269Z",
     "iopub.status.busy": "2023-12-02T20:49:03.034832Z",
     "iopub.status.idle": "2023-12-02T20:49:03.054350Z",
     "shell.execute_reply": "2023-12-02T20:49:03.053122Z"
    },
    "id": "1QTBJmjxqA8c",
    "papermill": {
     "duration": 0.043756,
     "end_time": "2023-12-02T20:49:03.057053",
     "exception": false,
     "start_time": "2023-12-02T20:49:03.013297",
     "status": "completed"
    },
    "tags": []
   },
   "outputs": [
    {
     "name": "stdout",
     "output_type": "stream",
     "text": [
      "Feeling\n",
      "anger    2000\n",
      "joy      2000\n",
      "fear     1937\n",
      "Name: count, dtype: int64\n",
      "number of unique values : 3\n"
     ]
    }
   ],
   "source": [
    "print(DF[\"Feeling\"].value_counts())\n",
    "a= DF[\"Feeling\"].value_counts()\n",
    "print(\"number of unique values :\",DF[\"Feeling\"].nunique())"
   ]
  },
  {
   "cell_type": "markdown",
   "id": "ca09a3b6",
   "metadata": {
    "id": "-Kq0AdFvrFIw",
    "papermill": {
     "duration": 0.019449,
     "end_time": "2023-12-02T20:49:03.096129",
     "exception": false,
     "start_time": "2023-12-02T20:49:03.076680",
     "status": "completed"
    },
    "tags": []
   },
   "source": [
    "Plot a pie chart to display the occurance frequency of each genre that you found in the prevoius part. **(P1-1-4: 2 points)**"
   ]
  },
  {
   "cell_type": "code",
   "execution_count": 8,
   "id": "6b17fb7a",
   "metadata": {
    "execution": {
     "iopub.execute_input": "2023-12-02T20:49:03.137172Z",
     "iopub.status.busy": "2023-12-02T20:49:03.136759Z",
     "iopub.status.idle": "2023-12-02T20:49:03.315670Z",
     "shell.execute_reply": "2023-12-02T20:49:03.313953Z"
    },
    "id": "eAWSp6sUrgjC",
    "papermill": {
     "duration": 0.204653,
     "end_time": "2023-12-02T20:49:03.320670",
     "exception": false,
     "start_time": "2023-12-02T20:49:03.116017",
     "status": "completed"
    },
    "tags": []
   },
   "outputs": [
    {
     "data": {
      "image/png": "[encoded data removed]",
      "text/plain": [
       "<Figure size 640x480 with 1 Axes>"
      ]
     },
     "metadata": {},
     "output_type": "display_data"
    }
   ],
   "source": [
    "plt.pie(DF[\"Feeling\"].value_counts(), labels = DF[\"Feeling\"].value_counts().index)\n",
    "plt.show()"
   ]
  },
  {
   "cell_type": "markdown",
   "id": "9519e195",
   "metadata": {
    "id": "HcR5_JeIrg6I",
    "papermill": {
     "duration": 0.022028,
     "end_time": "2023-12-02T20:49:03.386155",
     "exception": false,
     "start_time": "2023-12-02T20:49:03.364127",
     "status": "completed"
    },
    "tags": []
   },
   "source": [
    "Find the mean, max and min values of the length (in chars) of the Text Column. **(P1-1-5: 2 points)**\n"
   ]
  },
  {
   "cell_type": "code",
   "execution_count": 9,
   "id": "584457f8",
   "metadata": {
    "execution": {
     "iopub.execute_input": "2023-12-02T20:49:03.428097Z",
     "iopub.status.busy": "2023-12-02T20:49:03.427676Z",
     "iopub.status.idle": "2023-12-02T20:49:03.439560Z",
     "shell.execute_reply": "2023-12-02T20:49:03.438446Z"
    },
    "id": "ROoIdpPj8Y0H",
    "papermill": {
     "duration": 0.036177,
     "end_time": "2023-12-02T20:49:03.442192",
     "exception": false,
     "start_time": "2023-12-02T20:49:03.406015",
     "status": "completed"
    },
    "tags": []
   },
   "outputs": [
    {
     "name": "stdout",
     "output_type": "stream",
     "text": [
      "mean value of the length (in chars) of the Text Column :  97.42597271349166\n",
      "max value of the length (in chars) of the Text Column :  298\n",
      "min value of the length (in chars) of the Text Column :  9\n"
     ]
    }
   ],
   "source": [
    "DF_text_len = DF[\"Text\"].apply(len)\n",
    "print(\"mean value of the length (in chars) of the Text Column : \", DF_text_len.mean())\n",
    "print(\"max value of the length (in chars) of the Text Column : \", DF_text_len.max())\n",
    "print(\"min value of the length (in chars) of the Text Column : \", DF_text_len.min())"
   ]
  },
  {
   "cell_type": "markdown",
   "id": "5c709352",
   "metadata": {
    "id": "qwRicPs98nN9",
    "papermill": {
     "duration": 0.019676,
     "end_time": "2023-12-02T20:49:03.482558",
     "exception": false,
     "start_time": "2023-12-02T20:49:03.462882",
     "status": "completed"
    },
    "tags": []
   },
   "source": [
    "# Phase 2: Preprocessing"
   ]
  },
  {
   "cell_type": "markdown",
   "id": "9ddbdf2e",
   "metadata": {
    "id": "tzkvX5IewOco",
    "papermill": {
     "duration": 0.01983,
     "end_time": "2023-12-02T20:49:03.522584",
     "exception": false,
     "start_time": "2023-12-02T20:49:03.502754",
     "status": "completed"
    },
    "tags": []
   },
   "source": [
    "## Sec 1: Preprocess the data **(P2-Sec1: 20 Points)**"
   ]
  },
  {
   "cell_type": "code",
   "execution_count": 10,
   "id": "50f250f0",
   "metadata": {
    "execution": {
     "iopub.execute_input": "2023-12-02T20:49:03.564864Z",
     "iopub.status.busy": "2023-12-02T20:49:03.564461Z",
     "iopub.status.idle": "2023-12-02T20:49:03.577987Z",
     "shell.execute_reply": "2023-12-02T20:49:03.577052Z"
    },
    "id": "t3YP4gNwkL6r",
    "papermill": {
     "duration": 0.037924,
     "end_time": "2023-12-02T20:49:03.580372",
     "exception": false,
     "start_time": "2023-12-02T20:49:03.542448",
     "status": "completed"
    },
    "tags": []
   },
   "outputs": [],
   "source": [
    "#from nltk.stem import PorterStemmer\n",
    "\n",
    "class Preprocessor:\n",
    "    def preprocess(self, text):\n",
    "        removed_links_and_tags = self.remove_links_and_tags(text)\n",
    "        tokenized = self.word_tokenize(removed_links_and_tags)\n",
    "        normalized = self.normalize(tokenized)\n",
    "        return normalized\n",
    "\n",
    "    def remove_links_and_tags(self, text):\n",
    "        # we will remove html tags ,email addresses and urls\n",
    "        without_html = re.compile(r'<[^>]+>').sub('', text)\n",
    "        doc = nlp(without_html)\n",
    "        return ' '.join([x for x in doc if ((not x.like_email) and (not x.like_url))])\n",
    "\n",
    "    def word_tokenize(self, text):\n",
    "        return word_tokenize(text)\n",
    "\n",
    "    def remove_stopwords(self, words):\n",
    "        return [x for x in words if x not in stopwords.words('english')]\n",
    "\n",
    "    def remove_punctuations(self, words):\n",
    "        return [x for x in words if x.isalnum()]\n",
    "\n",
    "    def normalize(self, words):\n",
    "        # https://spotintelligence.com/2023/01/25/text-normalization-techniques-nlp/\n",
    "        lowered_words = list(map(lambda x: x.lower() ,words))\n",
    "        removed_punctuations = self.remove_punctuations(lowered_words)\n",
    "        removed_stopwords = self.remove_stopwords(removed_punctuations)\n",
    "        till_now = removed_stopwords\n",
    "        # this part is optional since its library wasnt imported\n",
    "        #stemmer = PorterStemmer()\n",
    "        #stemmed = [stemmer.stem(word) for word in removed_stopwords]\n",
    "        #till_now = stemmed\n",
    "        #\n",
    "        lemmatizer = WordNetLemmatizer()\n",
    "        lemmatized = [lemmatizer.lemmatize(x) for x in till_now]\n",
    "        # already did tokenize\n",
    "        # we wont do synonym replacemnet since we dont have the dictionary\n",
    "        res = lemmatized\n",
    "        \n",
    "        # we can remove extra things too \n",
    "        removed_symbol = re.sub(r\"[\\d#]\", \"\", ' '.join(lemmatized)).split()\n",
    "        removed_nonTextual = re.sub(r\"(<[^>]+>)|(http[s]?://(?:[a-zA-Z]|[0-9]|[$-_@.&+]|[!*\\(\\),]|(?:%[0-9a-fA-F][0-9a-fA-F]))+)\", \"\", ' '.join(removed_symbol)).split()\n",
    "        res = removed_nonTextual\n",
    "        \n",
    "        return res "
   ]
  },
  {
   "cell_type": "markdown",
   "id": "42e5ca03",
   "metadata": {
    "id": "nMOXi03Y8s_9",
    "papermill": {
     "duration": 0.019902,
     "end_time": "2023-12-02T20:49:03.620120",
     "exception": false,
     "start_time": "2023-12-02T20:49:03.600218",
     "status": "completed"
    },
    "tags": []
   },
   "source": [
    "Inspect the dataset for any empty cells or duplicate rows, and if they are present, remove the corresponding rows from the dataset. **(P2-1-1: 5 points)**"
   ]
  },
  {
   "cell_type": "code",
   "execution_count": 11,
   "id": "f6f80f71",
   "metadata": {
    "execution": {
     "iopub.execute_input": "2023-12-02T20:49:03.662366Z",
     "iopub.status.busy": "2023-12-02T20:49:03.661300Z",
     "iopub.status.idle": "2023-12-02T20:49:03.677951Z",
     "shell.execute_reply": "2023-12-02T20:49:03.676856Z"
    },
    "id": "co0umvGj2mpn",
    "papermill": {
     "duration": 0.040536,
     "end_time": "2023-12-02T20:49:03.680494",
     "exception": false,
     "start_time": "2023-12-02T20:49:03.639958",
     "status": "completed"
    },
    "tags": []
   },
   "outputs": [
    {
     "name": "stdout",
     "output_type": "stream",
     "text": [
      "is null count : Text       0\n",
      "Feeling    0\n",
      "dtype: int64\n",
      "count of duplicated rows :  0\n",
      "count of duplicated Texts :  3\n"
     ]
    }
   ],
   "source": [
    "# we checked None values earlier so we need to check duplicate rows and remove them\n",
    "print(\"is null count :\",DF.isnull().sum())\n",
    "print(\"count of duplicated rows : \" ,DF.duplicated().sum())\n",
    "print(\"count of duplicated Texts : \" ,DF.Text.duplicated().sum())\n",
    "# we wont remove these duplicated texts but i will comment the code for it \n",
    "# DF = DF.drop_duplicates(subset = \"Text\"))"
   ]
  },
  {
   "cell_type": "markdown",
   "id": "f3c8ad09",
   "metadata": {
    "id": "LHR4w6dB9dVt",
    "papermill": {
     "duration": 0.020385,
     "end_time": "2023-12-02T20:49:03.721845",
     "exception": false,
     "start_time": "2023-12-02T20:49:03.701460",
     "status": "completed"
    },
    "tags": []
   },
   "source": [
    "Clean the Texts by removing the special characters and punctations. **(P2-1-2: 5 points)**"
   ]
  },
  {
   "cell_type": "code",
   "execution_count": 12,
   "id": "721a1301",
   "metadata": {
    "execution": {
     "iopub.execute_input": "2023-12-02T20:49:03.765029Z",
     "iopub.status.busy": "2023-12-02T20:49:03.764588Z",
     "iopub.status.idle": "2023-12-02T20:49:05.292114Z",
     "shell.execute_reply": "2023-12-02T20:49:05.290992Z"
    },
    "id": "tK299IssK0_C",
    "papermill": {
     "duration": 1.552006,
     "end_time": "2023-12-02T20:49:05.294744",
     "exception": false,
     "start_time": "2023-12-02T20:49:03.742738",
     "status": "completed"
    },
    "tags": []
   },
   "outputs": [
    {
     "data": {
      "text/html": [
       "<div>\n",
       "<style scoped>\n",
       "    .dataframe tbody tr th:only-of-type {\n",
       "        vertical-align: middle;\n",
       "    }\n",
       "\n",
       "    .dataframe tbody tr th {\n",
       "        vertical-align: top;\n",
       "    }\n",
       "\n",
       "    .dataframe thead th {\n",
       "        text-align: right;\n",
       "    }\n",
       "</style>\n",
       "<table border=\"1\" class=\"dataframe\">\n",
       "  <thead>\n",
       "    <tr style=\"text-align: right;\">\n",
       "      <th></th>\n",
       "      <th>Text</th>\n",
       "      <th>Feeling</th>\n",
       "    </tr>\n",
       "  </thead>\n",
       "  <tbody>\n",
       "    <tr>\n",
       "      <th>0</th>\n",
       "      <td>i seriously hate one subject to death but now ...</td>\n",
       "      <td>fear</td>\n",
       "    </tr>\n",
       "    <tr>\n",
       "      <th>1</th>\n",
       "      <td>im so full of life i feel appalled</td>\n",
       "      <td>anger</td>\n",
       "    </tr>\n",
       "    <tr>\n",
       "      <th>2</th>\n",
       "      <td>i sit here to write i start to dig out my feel...</td>\n",
       "      <td>fear</td>\n",
       "    </tr>\n",
       "    <tr>\n",
       "      <th>3</th>\n",
       "      <td>ive been really angry with r and i feel like a...</td>\n",
       "      <td>joy</td>\n",
       "    </tr>\n",
       "    <tr>\n",
       "      <th>4</th>\n",
       "      <td>i feel suspicious if there is no one outside l...</td>\n",
       "      <td>fear</td>\n",
       "    </tr>\n",
       "  </tbody>\n",
       "</table>\n",
       "</div>"
      ],
      "text/plain": [
       "                                                Text Feeling\n",
       "0  i seriously hate one subject to death but now ...    fear\n",
       "1                 im so full of life i feel appalled   anger\n",
       "2  i sit here to write i start to dig out my feel...    fear\n",
       "3  ive been really angry with r and i feel like a...     joy\n",
       "4  i feel suspicious if there is no one outside l...    fear"
      ]
     },
     "execution_count": 12,
     "metadata": {},
     "output_type": "execute_result"
    }
   ],
   "source": [
    "PP = Preprocessor()\n",
    "DF.Text = DF.Text.apply(lambda x : ' '.join(PP.remove_punctuations(PP.word_tokenize(x))))\n",
    "DF.head()"
   ]
  },
  {
   "cell_type": "markdown",
   "id": "ad02b747",
   "metadata": {
    "id": "r0LHBi9zK1Ro",
    "papermill": {
     "duration": 0.019985,
     "end_time": "2023-12-02T20:49:05.335310",
     "exception": false,
     "start_time": "2023-12-02T20:49:05.315325",
     "status": "completed"
    },
    "tags": []
   },
   "source": [
    "Remove the stop-words from the synopsis texts. Stop-words are those that have a high frequency in the language but don't have much information like 'the', 'and', 'to', etc. **(P2-1-3: 5 points)**"
   ]
  },
  {
   "cell_type": "code",
   "execution_count": 13,
   "id": "9d2aab9f",
   "metadata": {
    "execution": {
     "iopub.execute_input": "2023-12-02T20:49:05.378782Z",
     "iopub.status.busy": "2023-12-02T20:49:05.378310Z",
     "iopub.status.idle": "2023-12-02T20:49:23.437859Z",
     "shell.execute_reply": "2023-12-02T20:49:23.436579Z"
    },
    "id": "rZV4H3vPNJhH",
    "papermill": {
     "duration": 18.084522,
     "end_time": "2023-12-02T20:49:23.440546",
     "exception": false,
     "start_time": "2023-12-02T20:49:05.356024",
     "status": "completed"
    },
    "tags": []
   },
   "outputs": [
    {
     "data": {
      "text/html": [
       "<div>\n",
       "<style scoped>\n",
       "    .dataframe tbody tr th:only-of-type {\n",
       "        vertical-align: middle;\n",
       "    }\n",
       "\n",
       "    .dataframe tbody tr th {\n",
       "        vertical-align: top;\n",
       "    }\n",
       "\n",
       "    .dataframe thead th {\n",
       "        text-align: right;\n",
       "    }\n",
       "</style>\n",
       "<table border=\"1\" class=\"dataframe\">\n",
       "  <thead>\n",
       "    <tr style=\"text-align: right;\">\n",
       "      <th></th>\n",
       "      <th>Text</th>\n",
       "      <th>Feeling</th>\n",
       "    </tr>\n",
       "  </thead>\n",
       "  <tbody>\n",
       "    <tr>\n",
       "      <th>0</th>\n",
       "      <td>seriously hate one subject death feel reluctan...</td>\n",
       "      <td>fear</td>\n",
       "    </tr>\n",
       "    <tr>\n",
       "      <th>1</th>\n",
       "      <td>im full life feel appalled</td>\n",
       "      <td>anger</td>\n",
       "    </tr>\n",
       "    <tr>\n",
       "      <th>2</th>\n",
       "      <td>sit write start dig feelings think afraid acce...</td>\n",
       "      <td>fear</td>\n",
       "    </tr>\n",
       "    <tr>\n",
       "      <th>3</th>\n",
       "      <td>ive really angry r feel like idiot trusting fi...</td>\n",
       "      <td>joy</td>\n",
       "    </tr>\n",
       "    <tr>\n",
       "      <th>4</th>\n",
       "      <td>feel suspicious one outside like rapture happe...</td>\n",
       "      <td>fear</td>\n",
       "    </tr>\n",
       "  </tbody>\n",
       "</table>\n",
       "</div>"
      ],
      "text/plain": [
       "                                                Text Feeling\n",
       "0  seriously hate one subject death feel reluctan...    fear\n",
       "1                         im full life feel appalled   anger\n",
       "2  sit write start dig feelings think afraid acce...    fear\n",
       "3  ive really angry r feel like idiot trusting fi...     joy\n",
       "4  feel suspicious one outside like rapture happe...    fear"
      ]
     },
     "execution_count": 13,
     "metadata": {},
     "output_type": "execute_result"
    }
   ],
   "source": [
    "DF.Text = DF.Text.apply(lambda x : ' '.join(PP.remove_stopwords(PP.word_tokenize(x))))\n",
    "DF.head()"
   ]
  },
  {
   "cell_type": "markdown",
   "id": "9650f310",
   "metadata": {
    "id": "uJICEKnjMWYY",
    "papermill": {
     "duration": 0.02025,
     "end_time": "2023-12-02T20:49:23.482298",
     "exception": false,
     "start_time": "2023-12-02T20:49:23.462048",
     "status": "completed"
    },
    "tags": []
   },
   "source": [
    "Tokenize the text and convert all characters to their lowercased version **(P2-1-4: 5 points)**"
   ]
  },
  {
   "cell_type": "code",
   "execution_count": 14,
   "id": "cdcf3bee",
   "metadata": {
    "execution": {
     "iopub.execute_input": "2023-12-02T20:49:23.527593Z",
     "iopub.status.busy": "2023-12-02T20:49:23.526555Z",
     "iopub.status.idle": "2023-12-02T20:49:24.686398Z",
     "shell.execute_reply": "2023-12-02T20:49:24.685322Z"
    },
    "id": "_9hvQsm2u_lZ",
    "papermill": {
     "duration": 1.184488,
     "end_time": "2023-12-02T20:49:24.688913",
     "exception": false,
     "start_time": "2023-12-02T20:49:23.504425",
     "status": "completed"
    },
    "tags": []
   },
   "outputs": [
    {
     "data": {
      "text/html": [
       "<div>\n",
       "<style scoped>\n",
       "    .dataframe tbody tr th:only-of-type {\n",
       "        vertical-align: middle;\n",
       "    }\n",
       "\n",
       "    .dataframe tbody tr th {\n",
       "        vertical-align: top;\n",
       "    }\n",
       "\n",
       "    .dataframe thead th {\n",
       "        text-align: right;\n",
       "    }\n",
       "</style>\n",
       "<table border=\"1\" class=\"dataframe\">\n",
       "  <thead>\n",
       "    <tr style=\"text-align: right;\">\n",
       "      <th></th>\n",
       "      <th>Text</th>\n",
       "      <th>Feeling</th>\n",
       "    </tr>\n",
       "  </thead>\n",
       "  <tbody>\n",
       "    <tr>\n",
       "      <th>0</th>\n",
       "      <td>[seriously, hate, one, subject, death, feel, r...</td>\n",
       "      <td>fear</td>\n",
       "    </tr>\n",
       "    <tr>\n",
       "      <th>1</th>\n",
       "      <td>[im, full, life, feel, appalled]</td>\n",
       "      <td>anger</td>\n",
       "    </tr>\n",
       "    <tr>\n",
       "      <th>2</th>\n",
       "      <td>[sit, write, start, dig, feelings, think, afra...</td>\n",
       "      <td>fear</td>\n",
       "    </tr>\n",
       "    <tr>\n",
       "      <th>3</th>\n",
       "      <td>[ive, really, angry, r, feel, like, idiot, tru...</td>\n",
       "      <td>joy</td>\n",
       "    </tr>\n",
       "    <tr>\n",
       "      <th>4</th>\n",
       "      <td>[feel, suspicious, one, outside, like, rapture...</td>\n",
       "      <td>fear</td>\n",
       "    </tr>\n",
       "  </tbody>\n",
       "</table>\n",
       "</div>"
      ],
      "text/plain": [
       "                                                Text Feeling\n",
       "0  [seriously, hate, one, subject, death, feel, r...    fear\n",
       "1                   [im, full, life, feel, appalled]   anger\n",
       "2  [sit, write, start, dig, feelings, think, afra...    fear\n",
       "3  [ive, really, angry, r, feel, like, idiot, tru...     joy\n",
       "4  [feel, suspicious, one, outside, like, rapture...    fear"
      ]
     },
     "execution_count": 14,
     "metadata": {},
     "output_type": "execute_result"
    }
   ],
   "source": [
    "DF.Text = DF.Text.apply(lambda x : (PP.word_tokenize(x.lower())))\n",
    "DF.head()"
   ]
  },
  {
   "cell_type": "markdown",
   "id": "10d6a4b0",
   "metadata": {
    "id": "MGSci8O5ueGy",
    "papermill": {
     "duration": 0.020893,
     "end_time": "2023-12-02T20:49:24.731078",
     "exception": false,
     "start_time": "2023-12-02T20:49:24.710185",
     "status": "completed"
    },
    "tags": []
   },
   "source": [
    "# Phase 3: Training"
   ]
  },
  {
   "cell_type": "markdown",
   "id": "c32be864",
   "metadata": {
    "id": "nW-PD4yKVcOZ",
    "papermill": {
     "duration": 0.020797,
     "end_time": "2023-12-02T20:49:24.773307",
     "exception": false,
     "start_time": "2023-12-02T20:49:24.752510",
     "status": "completed"
    },
    "tags": []
   },
   "source": [
    "## Sec 1: Preparing the training feed **(P3-Sec1: 20 Points)**"
   ]
  },
  {
   "cell_type": "markdown",
   "id": "f5911802",
   "metadata": {
    "id": "ExOLUFqkV6l3",
    "papermill": {
     "duration": 0.021843,
     "end_time": "2023-12-02T20:49:24.816821",
     "exception": false,
     "start_time": "2023-12-02T20:49:24.794978",
     "status": "completed"
    },
    "tags": []
   },
   "source": [
    "Extract the \"X\" and \"y\" numpy array from columns corresponding to text and feelings. **(P3-1-1: 5 Points)**"
   ]
  },
  {
   "cell_type": "code",
   "execution_count": 15,
   "id": "b3d2f5d4",
   "metadata": {
    "execution": {
     "iopub.execute_input": "2023-12-02T20:49:24.861343Z",
     "iopub.status.busy": "2023-12-02T20:49:24.860914Z",
     "iopub.status.idle": "2023-12-02T20:49:24.900374Z",
     "shell.execute_reply": "2023-12-02T20:49:24.899023Z"
    },
    "id": "QxZuaLXoXW3f",
    "papermill": {
     "duration": 0.064846,
     "end_time": "2023-12-02T20:49:24.903214",
     "exception": false,
     "start_time": "2023-12-02T20:49:24.838368",
     "status": "completed"
    },
    "tags": []
   },
   "outputs": [],
   "source": [
    "X = DF.Text.apply(lambda x : np.array(x)).to_numpy()\n",
    "y = DF.Feeling.to_numpy()\n",
    "\n",
    "# print(X[0])\n",
    "# print(X)\n",
    "# print(\"\\n\\n\")\n",
    "# print(y)\n",
    "# print(y[0])"
   ]
  },
  {
   "cell_type": "markdown",
   "id": "fc07e843",
   "metadata": {
    "id": "HTXGdu5pYqCQ",
    "papermill": {
     "duration": 0.020852,
     "end_time": "2023-12-02T20:49:24.945262",
     "exception": false,
     "start_time": "2023-12-02T20:49:24.924410",
     "status": "completed"
    },
    "tags": []
   },
   "source": [
    "Split the dataset into two parts such that the training set (denoted as `x_train` and ‍`y_train`) contains 80% of the samples. **(P3-1-2: 5 Points)**"
   ]
  },
  {
   "cell_type": "code",
   "execution_count": 16,
   "id": "c729ce4b",
   "metadata": {
    "execution": {
     "iopub.execute_input": "2023-12-02T20:49:24.988963Z",
     "iopub.status.busy": "2023-12-02T20:49:24.988523Z",
     "iopub.status.idle": "2023-12-02T20:49:24.995269Z",
     "shell.execute_reply": "2023-12-02T20:49:24.994086Z"
    },
    "id": "LXUtIDtFMnrv",
    "papermill": {
     "duration": 0.031807,
     "end_time": "2023-12-02T20:49:24.998002",
     "exception": false,
     "start_time": "2023-12-02T20:49:24.966195",
     "status": "completed"
    },
    "tags": []
   },
   "outputs": [],
   "source": [
    "x_train, x_test, y_train, y_test = train_test_split(X, y, test_size=0.2)\n",
    "\n",
    "# print(len(x_train))\n",
    "# print(len(y_train))\n",
    "# print(len(x_test))\n",
    "# print(len(y_test))"
   ]
  },
  {
   "cell_type": "markdown",
   "id": "6e4fd36e",
   "metadata": {
    "id": "4gmg4zF7XX-0",
    "papermill": {
     "duration": 0.020541,
     "end_time": "2023-12-02T20:49:25.039571",
     "exception": false,
     "start_time": "2023-12-02T20:49:25.019030",
     "status": "completed"
    },
    "tags": []
   },
   "source": [
    "Extract the text embeddings (feature vectors) for all the texts in the dataset. **(P3-1-3: 10 Points)**\n",
    "\n",
    "For this task you can use **tf-idf** or **count vectorizer**. Search about them!"
   ]
  },
  {
   "cell_type": "code",
   "execution_count": 17,
   "id": "cca3c688",
   "metadata": {
    "execution": {
     "iopub.execute_input": "2023-12-02T20:49:25.085080Z",
     "iopub.status.busy": "2023-12-02T20:49:25.084652Z",
     "iopub.status.idle": "2023-12-02T20:49:25.526490Z",
     "shell.execute_reply": "2023-12-02T20:49:25.525345Z"
    },
    "id": "tBIDgJQGZ5Q-",
    "papermill": {
     "duration": 0.468252,
     "end_time": "2023-12-02T20:49:25.529350",
     "exception": false,
     "start_time": "2023-12-02T20:49:25.061098",
     "status": "completed"
    },
    "tags": []
   },
   "outputs": [],
   "source": [
    "from sklearn.feature_extraction.text import CountVectorizer, TfidfVectorizer\n",
    "from sklearn import preprocessing # used this to solve the fit predict problem of the MultinomialNB  \n",
    "\n",
    "# https://stackoverflow.com/questions/74345093/how-to-get-predictions-for-new-data-from-multinomialnb\n",
    "\n",
    "X_train , X_test = [' '.join(x) for x in x_train] , [' '.join(x) for x in x_test]\n",
    "\n",
    "le = preprocessing.LabelEncoder()\n",
    "y_train_enc = le.fit_transform(y_train)\n",
    "\n",
    "count_vec = CountVectorizer()\n",
    "X_train_bow = count_vec.fit_transform(X_train)\n",
    "X_train_bow = np.array(X_train_bow.todense())"
   ]
  },
  {
   "cell_type": "markdown",
   "id": "30b2094a",
   "metadata": {
    "id": "P4Cb8trgcraO",
    "papermill": {
     "duration": 0.021507,
     "end_time": "2023-12-02T20:49:25.572338",
     "exception": false,
     "start_time": "2023-12-02T20:49:25.550831",
     "status": "completed"
    },
    "tags": []
   },
   "source": [
    "## Sec 2: Naive Bayes from Scratch **(P3-Sec2: 20 Points)**"
   ]
  },
  {
   "cell_type": "markdown",
   "id": "3b41ec6d",
   "metadata": {
    "id": "uQRW4hGffgTD",
    "papermill": {
     "duration": 0.020637,
     "end_time": "2023-12-02T20:49:25.614003",
     "exception": false,
     "start_time": "2023-12-02T20:49:25.593366",
     "status": "completed"
    },
    "tags": []
   },
   "source": [
    "Complete this section with your code. **(P3-2: 20 points)**"
   ]
  },
  {
   "cell_type": "code",
   "execution_count": 18,
   "id": "f882e09c",
   "metadata": {
    "execution": {
     "iopub.execute_input": "2023-12-02T20:49:25.658644Z",
     "iopub.status.busy": "2023-12-02T20:49:25.658213Z",
     "iopub.status.idle": "2023-12-02T20:49:25.670454Z",
     "shell.execute_reply": "2023-12-02T20:49:25.669354Z"
    },
    "id": "Ah98uzFwfXs1",
    "papermill": {
     "duration": 0.037602,
     "end_time": "2023-12-02T20:49:25.672887",
     "exception": false,
     "start_time": "2023-12-02T20:49:25.635285",
     "status": "completed"
    },
    "tags": []
   },
   "outputs": [],
   "source": [
    "class NaiveBayesClassifier:\n",
    "    def __init__(self, alpha=1):\n",
    "\n",
    "        '''\n",
    "        Initialize these:\n",
    "\n",
    "        Laplace smoothing parameter\n",
    "        P(Y)\n",
    "        P(X_i | Y)\n",
    "        '''\n",
    "        self.Y = None\n",
    "        self.X_Y = None\n",
    "        self.alpha = alpha\n",
    "\n",
    "    def fit(self, X, y):\n",
    "\n",
    "        '''\n",
    "        Calculate class probabilities P(Y)\n",
    "        Calculate word probabilities P(X_i | Y)\n",
    "        '''\n",
    "        n ,m = X.shape\n",
    "        self.classes = np.unique(y)\n",
    "        self.Y = np.zeros(len(self.classes))\n",
    "        for index ,c in enumerate(self.classes):self.Y[index] = np.sum(y == c)/ float(n)\n",
    "        self.X_Y = np.zeros((n,m))\n",
    "        for index ,c in enumerate(self.classes):\n",
    "            self.X_Y[index] = (np.sum(X[y == c] ,axis=0) + 1) / (np.sum(X[y == c]) + m)\n",
    "            \n",
    "    def predict(self, X):\n",
    "        '''\n",
    "        Calculate the log likelihood of the sample for each class\n",
    "\n",
    "        Predict the class with the highest score\n",
    "        '''\n",
    "        n ,m = X.shape\n",
    "        res = []\n",
    "        for i in range(n):\n",
    "            sample = []\n",
    "            for j in range(len(self.classes)):\n",
    "                c_prob = np.log(self.Y[j])\n",
    "                f_prob = np.log(self.X_Y[j])\n",
    "                sample.append(np.sum(X[i] @ f_prob) + c_prob)\n",
    "            res.append(self.classes[np.argmax(sample)])\n",
    "        return res"
   ]
  },
  {
   "cell_type": "markdown",
   "id": "6973288a",
   "metadata": {
    "id": "X1fAy_ElhOOw",
    "papermill": {
     "duration": 0.020469,
     "end_time": "2023-12-02T20:49:25.714319",
     "exception": false,
     "start_time": "2023-12-02T20:49:25.693850",
     "status": "completed"
    },
    "tags": []
   },
   "source": [
    "## Sec 3: Fit models to the training data **(P3-Sec3: 10 Points)**"
   ]
  },
  {
   "cell_type": "markdown",
   "id": "59680d53",
   "metadata": {
    "id": "veTOr_lxhrGe",
    "papermill": {
     "duration": 0.020537,
     "end_time": "2023-12-02T20:49:25.755730",
     "exception": false,
     "start_time": "2023-12-02T20:49:25.735193",
     "status": "completed"
    },
    "tags": []
   },
   "source": [
    "Fit a Naive Bayes classifier to the data. (Use both regressors - sklearn & from scratch) **(P3-3-1: 10 points)**"
   ]
  },
  {
   "cell_type": "code",
   "execution_count": 19,
   "id": "171289a5",
   "metadata": {
    "execution": {
     "iopub.execute_input": "2023-12-02T20:49:25.799611Z",
     "iopub.status.busy": "2023-12-02T20:49:25.798470Z",
     "iopub.status.idle": "2023-12-02T20:49:26.433283Z",
     "shell.execute_reply": "2023-12-02T20:49:26.432091Z"
    },
    "id": "2p7w47zsMdVA",
    "papermill": {
     "duration": 0.659721,
     "end_time": "2023-12-02T20:49:26.436153",
     "exception": false,
     "start_time": "2023-12-02T20:49:25.776432",
     "status": "completed"
    },
    "tags": []
   },
   "outputs": [],
   "source": [
    "model = MultinomialNB().fit(X_train_bow, y_train_enc)"
   ]
  },
  {
   "cell_type": "code",
   "execution_count": 20,
   "id": "0e3b999e",
   "metadata": {
    "execution": {
     "iopub.execute_input": "2023-12-02T20:49:26.480421Z",
     "iopub.status.busy": "2023-12-02T20:49:26.479621Z",
     "iopub.status.idle": "2023-12-02T20:49:26.728751Z",
     "shell.execute_reply": "2023-12-02T20:49:26.726979Z"
    },
    "id": "UzYnUkxTIlTe",
    "papermill": {
     "duration": 0.274692,
     "end_time": "2023-12-02T20:49:26.731730",
     "exception": false,
     "start_time": "2023-12-02T20:49:26.457038",
     "status": "completed"
    },
    "tags": []
   },
   "outputs": [],
   "source": [
    "my_nbc = NaiveBayesClassifier()\n",
    "my_nbc.fit(X_train_bow ,y_train_enc)"
   ]
  },
  {
   "cell_type": "markdown",
   "id": "7692f228",
   "metadata": {
    "id": "ZidDcRTCfI0K",
    "papermill": {
     "duration": 0.020339,
     "end_time": "2023-12-02T20:49:26.773297",
     "exception": false,
     "start_time": "2023-12-02T20:49:26.752958",
     "status": "completed"
    },
    "tags": []
   },
   "source": [
    "# Phase 4: Evaluation"
   ]
  },
  {
   "cell_type": "markdown",
   "id": "e6c4caec",
   "metadata": {
    "id": "U9b0k6u7kzio",
    "papermill": {
     "duration": 0.020606,
     "end_time": "2023-12-02T20:49:26.814656",
     "exception": false,
     "start_time": "2023-12-02T20:49:26.794050",
     "status": "completed"
    },
    "tags": []
   },
   "source": [
    "## Sec 1: Evaluate both models and compare the results (P4-Sec1: 20 points)"
   ]
  },
  {
   "cell_type": "markdown",
   "id": "8b9e8833",
   "metadata": {
    "id": "kPGUaf8olFiO",
    "papermill": {
     "duration": 0.020567,
     "end_time": "2023-12-02T20:49:26.856785",
     "exception": false,
     "start_time": "2023-12-02T20:49:26.836218",
     "status": "completed"
    },
    "tags": []
   },
   "source": [
    "Predict the value of \"y\" for each \"x\" belonging to the \"testing\" set (use both models) **(P4-1-1: 5 points)**"
   ]
  },
  {
   "cell_type": "code",
   "execution_count": 21,
   "id": "1e357f59",
   "metadata": {
    "execution": {
     "iopub.execute_input": "2023-12-02T20:49:26.901093Z",
     "iopub.status.busy": "2023-12-02T20:49:26.900650Z",
     "iopub.status.idle": "2023-12-02T20:49:27.030861Z",
     "shell.execute_reply": "2023-12-02T20:49:27.029104Z"
    },
    "id": "GlrvfgIClGNq",
    "papermill": {
     "duration": 0.158082,
     "end_time": "2023-12-02T20:49:27.035652",
     "exception": false,
     "start_time": "2023-12-02T20:49:26.877570",
     "status": "completed"
    },
    "tags": []
   },
   "outputs": [],
   "source": [
    "X_test_bow = count_vec.transform(X_test)\n",
    "X_test_bow = np.array(X_test_bow.todense())\n",
    "\n",
    "y_test_enc_mnb = model.predict(X_test_bow)"
   ]
  },
  {
   "cell_type": "code",
   "execution_count": 22,
   "id": "3303e427",
   "metadata": {
    "execution": {
     "iopub.execute_input": "2023-12-02T20:49:27.128291Z",
     "iopub.status.busy": "2023-12-02T20:49:27.127537Z",
     "iopub.status.idle": "2023-12-02T20:49:27.515150Z",
     "shell.execute_reply": "2023-12-02T20:49:27.513933Z"
    },
    "id": "TSckruksl45m",
    "papermill": {
     "duration": 0.436731,
     "end_time": "2023-12-02T20:49:27.518221",
     "exception": false,
     "start_time": "2023-12-02T20:49:27.081490",
     "status": "completed"
    },
    "tags": []
   },
   "outputs": [],
   "source": [
    "y_test_enc_nbc = my_nbc.predict(X_test_bow)"
   ]
  },
  {
   "cell_type": "markdown",
   "id": "4b6433cd",
   "metadata": {
    "id": "t9B1GJB4lFWE",
    "papermill": {
     "duration": 0.020434,
     "end_time": "2023-12-02T20:49:27.559822",
     "exception": false,
     "start_time": "2023-12-02T20:49:27.539388",
     "status": "completed"
    },
    "tags": []
   },
   "source": [
    "Compute Confusion matrix and classification report for each model **(P4-1-2: 10 points)**"
   ]
  },
  {
   "cell_type": "code",
   "execution_count": 23,
   "id": "f950d6e3",
   "metadata": {
    "execution": {
     "iopub.execute_input": "2023-12-02T20:49:27.603784Z",
     "iopub.status.busy": "2023-12-02T20:49:27.602933Z",
     "iopub.status.idle": "2023-12-02T20:49:27.680072Z",
     "shell.execute_reply": "2023-12-02T20:49:27.678183Z"
    },
    "id": "YT-F4Hsvmtv0",
    "papermill": {
     "duration": 0.102227,
     "end_time": "2023-12-02T20:49:27.682866",
     "exception": false,
     "start_time": "2023-12-02T20:49:27.580639",
     "status": "completed"
    },
    "tags": []
   },
   "outputs": [
    {
     "name": "stdout",
     "output_type": "stream",
     "text": [
      "accuracy score :  88.80471380471381 \n",
      "\n",
      "confusion matrix :\n",
      "[[363  22  15]\n",
      " [ 27 345   9]\n",
      " [ 30  30 347]] \n",
      "\n",
      "classification report :\n",
      "              precision    recall  f1-score   support\n",
      "\n",
      "       anger       0.86      0.91      0.89       400\n",
      "        fear       0.87      0.91      0.89       381\n",
      "         joy       0.94      0.85      0.89       407\n",
      "\n",
      "    accuracy                           0.89      1188\n",
      "   macro avg       0.89      0.89      0.89      1188\n",
      "weighted avg       0.89      0.89      0.89      1188\n",
      "\n"
     ]
    }
   ],
   "source": [
    "y_pred = le.inverse_transform(y_test_enc_mnb)\n",
    "print(\"accuracy score : \", accuracy_score(y_test, y_pred) * 100 , \"\\n\")\n",
    "print(\"confusion matrix :\")\n",
    "print(confusion_matrix(y_test, y_pred) , \"\\n\")\n",
    "print(\"classification report :\")\n",
    "print(classification_report(y_test, y_pred))"
   ]
  },
  {
   "cell_type": "code",
   "execution_count": 24,
   "id": "b1d27f42",
   "metadata": {
    "execution": {
     "iopub.execute_input": "2023-12-02T20:49:27.728065Z",
     "iopub.status.busy": "2023-12-02T20:49:27.726835Z",
     "iopub.status.idle": "2023-12-02T20:49:27.802631Z",
     "shell.execute_reply": "2023-12-02T20:49:27.800703Z"
    },
    "id": "9d1Ww_gWm9up",
    "papermill": {
     "duration": 0.101194,
     "end_time": "2023-12-02T20:49:27.805223",
     "exception": false,
     "start_time": "2023-12-02T20:49:27.704029",
     "status": "completed"
    },
    "tags": []
   },
   "outputs": [
    {
     "name": "stdout",
     "output_type": "stream",
     "text": [
      "accuracy score :  88.80471380471381 \n",
      "\n",
      "confusion matrix :\n",
      "[[363  22  15]\n",
      " [ 27 345   9]\n",
      " [ 30  30 347]] \n",
      "\n",
      "classification report :\n",
      "              precision    recall  f1-score   support\n",
      "\n",
      "       anger       0.86      0.91      0.89       400\n",
      "        fear       0.87      0.91      0.89       381\n",
      "         joy       0.94      0.85      0.89       407\n",
      "\n",
      "    accuracy                           0.89      1188\n",
      "   macro avg       0.89      0.89      0.89      1188\n",
      "weighted avg       0.89      0.89      0.89      1188\n",
      "\n"
     ]
    }
   ],
   "source": [
    "y_pred = le.inverse_transform(y_test_enc_nbc)\n",
    "print(\"accuracy score : \", accuracy_score(y_test, y_pred) * 100 , \"\\n\")\n",
    "print(\"confusion matrix :\")\n",
    "print(confusion_matrix(y_test, y_pred) , \"\\n\")\n",
    "print(\"classification report :\")\n",
    "print(classification_report(y_test, y_pred))"
   ]
  },
  {
   "cell_type": "markdown",
   "id": "c23a3f9c",
   "metadata": {
    "id": "cMIeloShnHaO",
    "papermill": {
     "duration": 0.021293,
     "end_time": "2023-12-02T20:49:27.848259",
     "exception": false,
     "start_time": "2023-12-02T20:49:27.826966",
     "status": "completed"
    },
    "tags": []
   },
   "source": [
    "Explain the results of the previous section (what is f1-score? - what is the recall? - what is precision?), also compare the model's performance **(P4-1-3: 5 points)**"
   ]
  },
  {
   "cell_type": "markdown",
   "id": "871906a5",
   "metadata": {
    "id": "sBhfjcnmnhrD",
    "papermill": {
     "duration": 0.020738,
     "end_time": "2023-12-02T20:49:27.889985",
     "exception": false,
     "start_time": "2023-12-02T20:49:27.869247",
     "status": "completed"
    },
    "tags": []
   },
   "source": [
    "***f1 - score*** <br/>\n",
    "harmonic mean of precision and recall<br/>\n",
    "we will discuss precision and recall later<br/>\n",
    "***recall*** <br/>\n",
    "it answers the question \" when it is actually the positive result ,how often does it predict correctly? \"<br/>\n",
    "in this case we are trying to limit the False negatives<br/>\n",
    "it is also known as \"sensivity\" or \"true positive rate\" <br/>\n",
    "***precision*** <br/>\n",
    "it answers the question \" when it predicts the positive result ,how often is it correct? \"<br/>\n",
    "in this case we are trying to limit the False positives<br/>\n",
    "\n",
    "our model performance are the same , probably because we are using the same algorithm! "
   ]
  },
  {
   "cell_type": "markdown",
   "id": "5b02c4b8",
   "metadata": {
    "id": "VxsQ2oA8lHhg",
    "papermill": {
     "duration": 0.020869,
     "end_time": "2023-12-02T20:49:27.932058",
     "exception": false,
     "start_time": "2023-12-02T20:49:27.911189",
     "status": "completed"
    },
    "tags": []
   },
   "source": [
    "Model Performance Intuition Part: Now, you can test whether your model has a good prediction for a random text."
   ]
  },
  {
   "cell_type": "code",
   "execution_count": 25,
   "id": "ed6bb138",
   "metadata": {
    "execution": {
     "iopub.execute_input": "2023-12-02T20:49:27.976327Z",
     "iopub.status.busy": "2023-12-02T20:49:27.975911Z",
     "iopub.status.idle": "2023-12-02T20:49:27.980451Z",
     "shell.execute_reply": "2023-12-02T20:49:27.979336Z"
    },
    "id": "MGZOyfU8aszg",
    "papermill": {
     "duration": 0.029304,
     "end_time": "2023-12-02T20:49:27.982761",
     "exception": false,
     "start_time": "2023-12-02T20:49:27.953457",
     "status": "completed"
    },
    "tags": []
   },
   "outputs": [],
   "source": [
    "# example = datatransform([\"Look! behind that tree there is a secret object, I am so scared\"])\n",
    "# model.predict(example)"
   ]
  },
  {
   "cell_type": "markdown",
   "id": "74dc3b15",
   "metadata": {
    "papermill": {
     "duration": 0.020866,
     "end_time": "2023-12-02T20:49:28.024803",
     "exception": false,
     "start_time": "2023-12-02T20:49:28.003937",
     "status": "completed"
    },
    "tags": []
   },
   "source": [
    "# Phase 5: Neural Net (Bonus)"
   ]
  },
  {
   "cell_type": "markdown",
   "id": "be1df6c3",
   "metadata": {
    "papermill": {
     "duration": 0.020656,
     "end_time": "2023-12-02T20:49:28.066665",
     "exception": false,
     "start_time": "2023-12-02T20:49:28.046009",
     "status": "completed"
    },
    "tags": []
   },
   "source": [
    "Make a list of words available in the dataset"
   ]
  },
  {
   "cell_type": "code",
   "execution_count": 26,
   "id": "df02d651",
   "metadata": {
    "execution": {
     "iopub.execute_input": "2023-12-02T20:49:28.110886Z",
     "iopub.status.busy": "2023-12-02T20:49:28.109974Z",
     "iopub.status.idle": "2023-12-02T20:49:28.164263Z",
     "shell.execute_reply": "2023-12-02T20:49:28.163059Z"
    },
    "papermill": {
     "duration": 0.079388,
     "end_time": "2023-12-02T20:49:28.166914",
     "exception": false,
     "start_time": "2023-12-02T20:49:28.087526",
     "status": "completed"
    },
    "tags": []
   },
   "outputs": [],
   "source": [
    "unique = set()\n",
    "for x in X : \n",
    "    unique.update(set(x))"
   ]
  },
  {
   "cell_type": "markdown",
   "id": "61cbcb0b",
   "metadata": {
    "papermill": {
     "duration": 0.020956,
     "end_time": "2023-12-02T20:49:28.209138",
     "exception": false,
     "start_time": "2023-12-02T20:49:28.188182",
     "status": "completed"
    },
    "tags": []
   },
   "source": [
    "Retrieve the Word2Vec embeddings for each word"
   ]
  },
  {
   "cell_type": "code",
   "execution_count": 27,
   "id": "9c1e1e6d",
   "metadata": {
    "execution": {
     "iopub.execute_input": "2023-12-02T20:49:28.254354Z",
     "iopub.status.busy": "2023-12-02T20:49:28.253301Z",
     "iopub.status.idle": "2023-12-02T20:50:07.272124Z",
     "shell.execute_reply": "2023-12-02T20:50:07.271107Z"
    },
    "papermill": {
     "duration": 39.044832,
     "end_time": "2023-12-02T20:50:07.275059",
     "exception": false,
     "start_time": "2023-12-02T20:49:28.230227",
     "status": "completed"
    },
    "tags": []
   },
   "outputs": [
    {
     "name": "stdout",
     "output_type": "stream",
     "text": [
      "Requirement already satisfied: gensim in /opt/conda/lib/python3.10/site-packages (4.3.2)\r\n",
      "Requirement already satisfied: numpy>=1.18.5 in /opt/conda/lib/python3.10/site-packages (from gensim) (1.24.3)\r\n",
      "Requirement already satisfied: scipy>=1.7.0 in /opt/conda/lib/python3.10/site-packages (from gensim) (1.11.3)\r\n",
      "Requirement already satisfied: smart-open>=1.8.1 in /opt/conda/lib/python3.10/site-packages (from gensim) (6.3.0)\r\n"
     ]
    }
   ],
   "source": [
    "!pip install gensim\n",
    "from gensim.models import Word2Vec\n",
    "\n",
    "X = [list(x) for x in X]\n",
    "\n",
    "word_model = Word2Vec(X, vector_size=100, window=5, min_count=1, workers=4)"
   ]
  },
  {
   "cell_type": "markdown",
   "id": "c87a48a6",
   "metadata": {
    "papermill": {
     "duration": 0.022535,
     "end_time": "2023-12-02T20:50:07.320335",
     "exception": false,
     "start_time": "2023-12-02T20:50:07.297800",
     "status": "completed"
    },
    "tags": []
   },
   "source": [
    "Train a neural network consisting of LSTM and Fully-Connected layers to perform text classification **(P5-1: 8 points)**"
   ]
  },
  {
   "cell_type": "markdown",
   "id": "9c38d32e",
   "metadata": {
    "papermill": {
     "duration": 0.021217,
     "end_time": "2023-12-02T20:50:07.363028",
     "exception": false,
     "start_time": "2023-12-02T20:50:07.341811",
     "status": "completed"
    },
    "tags": []
   },
   "source": [
    "Note: To get the points, Your neural net's performance should be at least as good as the Naive Bayes classifier. The exact architecture of the neural net is up to you. You can use Pytorch or Tensorflow to train it."
   ]
  },
  {
   "cell_type": "code",
   "execution_count": null,
   "id": "875080a8",
   "metadata": {
    "papermill": {
     "duration": 0.020904,
     "end_time": "2023-12-02T20:50:07.405395",
     "exception": false,
     "start_time": "2023-12-02T20:50:07.384491",
     "status": "completed"
    },
    "tags": []
   },
   "outputs": [],
   "source": []
  },
  {
   "cell_type": "markdown",
   "id": "8f4ff936",
   "metadata": {
    "papermill": {
     "duration": 0.020986,
     "end_time": "2023-12-02T20:50:07.447853",
     "exception": false,
     "start_time": "2023-12-02T20:50:07.426867",
     "status": "completed"
    },
    "tags": []
   },
   "source": [
    "Evaluate the neural net on the training and testing data from the section *3-1-2*. **(P5-2: 2 points)**"
   ]
  },
  {
   "cell_type": "code",
   "execution_count": null,
   "id": "93621f0a",
   "metadata": {
    "papermill": {
     "duration": 0.021134,
     "end_time": "2023-12-02T20:50:07.490777",
     "exception": false,
     "start_time": "2023-12-02T20:50:07.469643",
     "status": "completed"
    },
    "tags": []
   },
   "outputs": [],
   "source": []
  },
  {
   "cell_type": "markdown",
   "id": "38e2f852",
   "metadata": {
    "papermill": {
     "duration": 0.021785,
     "end_time": "2023-12-02T20:50:07.533916",
     "exception": false,
     "start_time": "2023-12-02T20:50:07.512131",
     "status": "completed"
    },
    "tags": []
   },
   "source": [
    "# Phase 6 (Optional): Submit your predictions to our Kaggle competition"
   ]
  },
  {
   "cell_type": "markdown",
   "id": "d35f3633",
   "metadata": {
    "papermill": {
     "duration": 0.020983,
     "end_time": "2023-12-02T20:50:07.576527",
     "exception": false,
     "start_time": "2023-12-02T20:50:07.555544",
     "status": "completed"
    },
    "tags": []
   },
   "source": [
    "Competition Link: https://www.kaggle.com/t/97bcc22bb3dc4a1dbdb78b736ebe3744"
   ]
  },
  {
   "cell_type": "code",
   "execution_count": 28,
   "id": "d9238481",
   "metadata": {
    "execution": {
     "iopub.execute_input": "2023-12-02T20:50:07.621554Z",
     "iopub.status.busy": "2023-12-02T20:50:07.620892Z",
     "iopub.status.idle": "2023-12-02T20:50:07.629859Z",
     "shell.execute_reply": "2023-12-02T20:50:07.628776Z"
    },
    "papermill": {
     "duration": 0.034579,
     "end_time": "2023-12-02T20:50:07.632319",
     "exception": false,
     "start_time": "2023-12-02T20:50:07.597740",
     "status": "completed"
    },
    "tags": []
   },
   "outputs": [
    {
     "data": {
      "text/plain": [
       "'\\nTRAIN = pd.read_csv(\"/kaggle/input/contest/train.csv\")\\nTEST = pd.read_csv(\"/kaggle/input/contest/test.csv\")\\n\\nPP = Preprocessor()\\nTRAIN.Text = TRAIN.Text.apply(lambda x : \\' \\'.join(PP.remove_punctuations(PP.word_tokenize(x))))\\nTRAIN.Text = TRAIN.Text.apply(lambda x : \\' \\'.join(PP.remove_stopwords(PP.word_tokenize(x))))\\nTRAIN.Text = TRAIN.Text.apply(lambda x : (PP.word_tokenize(x.lower())))\\n\\nTEST.Text = TEST.Text.apply(lambda x : \\' \\'.join(PP.remove_punctuations(PP.word_tokenize(x))))\\nTEST.Text = TEST.Text.apply(lambda x : \\' \\'.join(PP.remove_stopwords(PP.word_tokenize(x))))\\nTEST.Text = TEST.Text.apply(lambda x : (PP.word_tokenize(x.lower())))\\n\\nx_train = TRAIN.Text.apply(lambda x : np.array(x)).to_numpy()\\ny_train = TRAIN.target.to_numpy()\\n\\nx_test = TEST.Text.apply(lambda x : np.array(x)).to_numpy()\\n\\nX_train , X_test = [\\' \\'.join(x) for x in x_train] , [\\' \\'.join(x) for x in x_test]\\n\\nle = preprocessing.LabelEncoder()\\ny_train_enc = le.fit_transform(y_train)\\n\\ncount_vec = CountVectorizer()\\nX_train_bow = count_vec.fit_transform(X_train)\\nX_train_bow = np.array(X_train_bow.todense())\\n\\nmy_nbc = NaiveBayesClassifier()\\nmy_nbc.fit(X_train_bow ,y_train_enc)\\n\\nX_test_bow = count_vec.transform(X_test)\\nX_test_bow = np.array(X_test_bow.todense())\\ny_test_enc_nbc = my_nbc.predict(X_test_bow)\\n\\ny_pred = le.inverse_transform(y_test_enc_nbc)\\n\\nmy_submission = pd.DataFrame({\\'ID\\': TEST.ID, \\'target\\': y_pred})\\nmy_submission.to_csv(\\'practical2_400104715.csv\\', index=False)\\n'"
      ]
     },
     "execution_count": 28,
     "metadata": {},
     "output_type": "execute_result"
    }
   ],
   "source": [
    "'''\n",
    "TRAIN = pd.read_csv(\"/kaggle/input/contest/train.csv\")\n",
    "TEST = pd.read_csv(\"/kaggle/input/contest/test.csv\")\n",
    "\n",
    "PP = Preprocessor()\n",
    "TRAIN.Text = TRAIN.Text.apply(lambda x : ' '.join(PP.remove_punctuations(PP.word_tokenize(x))))\n",
    "TRAIN.Text = TRAIN.Text.apply(lambda x : ' '.join(PP.remove_stopwords(PP.word_tokenize(x))))\n",
    "TRAIN.Text = TRAIN.Text.apply(lambda x : (PP.word_tokenize(x.lower())))\n",
    "\n",
    "TEST.Text = TEST.Text.apply(lambda x : ' '.join(PP.remove_punctuations(PP.word_tokenize(x))))\n",
    "TEST.Text = TEST.Text.apply(lambda x : ' '.join(PP.remove_stopwords(PP.word_tokenize(x))))\n",
    "TEST.Text = TEST.Text.apply(lambda x : (PP.word_tokenize(x.lower())))\n",
    "\n",
    "x_train = TRAIN.Text.apply(lambda x : np.array(x)).to_numpy()\n",
    "y_train = TRAIN.target.to_numpy()\n",
    "\n",
    "x_test = TEST.Text.apply(lambda x : np.array(x)).to_numpy()\n",
    "\n",
    "X_train , X_test = [' '.join(x) for x in x_train] , [' '.join(x) for x in x_test]\n",
    "\n",
    "le = preprocessing.LabelEncoder()\n",
    "y_train_enc = le.fit_transform(y_train)\n",
    "\n",
    "count_vec = CountVectorizer()\n",
    "X_train_bow = count_vec.fit_transform(X_train)\n",
    "X_train_bow = np.array(X_train_bow.todense())\n",
    "\n",
    "my_nbc = NaiveBayesClassifier()\n",
    "my_nbc.fit(X_train_bow ,y_train_enc)\n",
    "\n",
    "X_test_bow = count_vec.transform(X_test)\n",
    "X_test_bow = np.array(X_test_bow.todense())\n",
    "y_test_enc_nbc = my_nbc.predict(X_test_bow)\n",
    "\n",
    "y_pred = le.inverse_transform(y_test_enc_nbc)\n",
    "\n",
    "my_submission = pd.DataFrame({'ID': TEST.ID, 'target': y_pred})\n",
    "my_submission.to_csv('practical2_400104715.csv', index=False)\n",
    "'''"
   ]
  }
 ],
 "metadata": {
  "colab": {
   "collapsed_sections": [
    "wyO9QVndoLPQ",
    "RIIiFseLa3lF",
    "qwRicPs98nN9",
    "nW-PD4yKVcOZ"
   ],
   "provenance": []
  },
  "kaggle": {
   "accelerator": "none",
   "dataSources": [
    {
     "datasetId": 4005827,
     "sourceId": 6971948,
     "sourceType": "datasetVersion"
    }
   ],
   "dockerImageVersionId": 30579,
   "isGpuEnabled": false,
   "isInternetEnabled": true,
   "language": "python",
   "sourceType": "notebook"
  },
  "kernelspec": {
   "display_name": "Python 3",
   "language": "python",
   "name": "python3"
  },
  "language_info": {
   "codemirror_mode": {
    "name": "ipython",
    "version": 3
   },
   "file_extension": ".py",
   "mimetype": "text/x-python",
   "name": "python",
   "nbconvert_exporter": "python",
   "pygments_lexer": "ipython3",
   "version": "3.10.12"
  },
  "papermill": {
   "default_parameters": {},
   "duration": 100.831867,
   "end_time": "2023-12-02T20:50:09.479414",
   "environment_variables": {},
   "exception": null,
   "input_path": "__notebook__.ipynb",
   "output_path": "__notebook__.ipynb",
   "parameters": {},
   "start_time": "2023-12-02T20:48:28.647547",
   "version": "2.4.0"
  }
 },
 "nbformat": 4,
 "nbformat_minor": 5
}
