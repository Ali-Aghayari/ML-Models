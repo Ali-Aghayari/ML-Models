{
 "cells": [
  {
   "cell_type": "markdown",
   "id": "76ae3938",
   "metadata": {
    "id": "9j2bUEZDZgo5",
    "papermill": {
     "duration": 0.032425,
     "end_time": "2024-01-07T10:12:19.439039",
     "exception": false,
     "start_time": "2024-01-07T10:12:19.406614",
     "status": "completed"
    },
    "tags": []
   },
   "source": [
    "# ML - Fall 2023 - Practical 5\n",
    "\n",
    "## Decision Trees"
   ]
  },
  {
   "cell_type": "markdown",
   "id": "1dfcf702",
   "metadata": {
    "papermill": {
     "duration": 0.029559,
     "end_time": "2024-01-07T10:12:19.500688",
     "exception": false,
     "start_time": "2024-01-07T10:12:19.471129",
     "status": "completed"
    },
    "tags": []
   },
   "source": [
    "Student Name: Ali Aghayari"
   ]
  },
  {
   "cell_type": "markdown",
   "id": "61758675",
   "metadata": {
    "papermill": {
     "duration": 0.029616,
     "end_time": "2024-01-07T10:12:19.562480",
     "exception": false,
     "start_time": "2024-01-07T10:12:19.532864",
     "status": "completed"
    },
    "tags": []
   },
   "source": [
    "Student Number: 400104715"
   ]
  },
  {
   "cell_type": "code",
   "execution_count": 1,
   "id": "e2e4504e",
   "metadata": {
    "execution": {
     "iopub.execute_input": "2024-01-07T10:12:19.626596Z",
     "iopub.status.busy": "2024-01-07T10:12:19.626097Z",
     "iopub.status.idle": "2024-01-07T10:13:06.217386Z",
     "shell.execute_reply": "2024-01-07T10:13:06.215855Z"
    },
    "id": "fNLKzQKTZQzE",
    "outputId": "9e81ec8f-7751-4f02-eb3f-85d790ae438d",
    "papermill": {
     "duration": 46.627877,
     "end_time": "2024-01-07T10:13:06.220447",
     "exception": false,
     "start_time": "2024-01-07T10:12:19.592570",
     "status": "completed"
    },
    "tags": []
   },
   "outputs": [
    {
     "name": "stdout",
     "output_type": "stream",
     "text": [
      "Requirement already satisfied: optuna in /opt/conda/lib/python3.10/site-packages (3.5.0)\r\n",
      "Requirement already satisfied: alembic>=1.5.0 in /opt/conda/lib/python3.10/site-packages (from optuna) (1.13.0)\r\n",
      "Requirement already satisfied: colorlog in /opt/conda/lib/python3.10/site-packages (from optuna) (6.8.0)\r\n",
      "Requirement already satisfied: numpy in /opt/conda/lib/python3.10/site-packages (from optuna) (1.24.3)\r\n",
      "Requirement already satisfied: packaging>=20.0 in /opt/conda/lib/python3.10/site-packages (from optuna) (21.3)\r\n",
      "Requirement already satisfied: sqlalchemy>=1.3.0 in /opt/conda/lib/python3.10/site-packages (from optuna) (2.0.20)\r\n",
      "Requirement already satisfied: tqdm in /opt/conda/lib/python3.10/site-packages (from optuna) (4.66.1)\r\n",
      "Requirement already satisfied: PyYAML in /opt/conda/lib/python3.10/site-packages (from optuna) (6.0.1)\r\n",
      "Requirement already satisfied: Mako in /opt/conda/lib/python3.10/site-packages (from alembic>=1.5.0->optuna) (1.3.0)\r\n",
      "Requirement already satisfied: typing-extensions>=4 in /opt/conda/lib/python3.10/site-packages (from alembic>=1.5.0->optuna) (4.5.0)\r\n",
      "Requirement already satisfied: pyparsing!=3.0.5,>=2.0.2 in /opt/conda/lib/python3.10/site-packages (from packaging>=20.0->optuna) (3.0.9)\r\n",
      "Requirement already satisfied: greenlet!=0.4.17 in /opt/conda/lib/python3.10/site-packages (from sqlalchemy>=1.3.0->optuna) (2.0.2)\r\n",
      "Requirement already satisfied: MarkupSafe>=0.9.2 in /opt/conda/lib/python3.10/site-packages (from Mako->alembic>=1.5.0->optuna) (2.1.3)\r\n",
      "Requirement already satisfied: catboost in /opt/conda/lib/python3.10/site-packages (1.2.2)\r\n",
      "Requirement already satisfied: graphviz in /opt/conda/lib/python3.10/site-packages (from catboost) (0.20.1)\r\n",
      "Requirement already satisfied: matplotlib in /opt/conda/lib/python3.10/site-packages (from catboost) (3.7.4)\r\n",
      "Requirement already satisfied: numpy>=1.16.0 in /opt/conda/lib/python3.10/site-packages (from catboost) (1.24.3)\r\n",
      "Requirement already satisfied: pandas>=0.24 in /opt/conda/lib/python3.10/site-packages (from catboost) (2.0.3)\r\n",
      "Requirement already satisfied: scipy in /opt/conda/lib/python3.10/site-packages (from catboost) (1.11.4)\r\n",
      "Requirement already satisfied: plotly in /opt/conda/lib/python3.10/site-packages (from catboost) (5.16.1)\r\n",
      "Requirement already satisfied: six in /opt/conda/lib/python3.10/site-packages (from catboost) (1.16.0)\r\n",
      "Requirement already satisfied: python-dateutil>=2.8.2 in /opt/conda/lib/python3.10/site-packages (from pandas>=0.24->catboost) (2.8.2)\r\n",
      "Requirement already satisfied: pytz>=2020.1 in /opt/conda/lib/python3.10/site-packages (from pandas>=0.24->catboost) (2023.3)\r\n",
      "Requirement already satisfied: tzdata>=2022.1 in /opt/conda/lib/python3.10/site-packages (from pandas>=0.24->catboost) (2023.3)\r\n",
      "Requirement already satisfied: contourpy>=1.0.1 in /opt/conda/lib/python3.10/site-packages (from matplotlib->catboost) (1.1.0)\r\n",
      "Requirement already satisfied: cycler>=0.10 in /opt/conda/lib/python3.10/site-packages (from matplotlib->catboost) (0.11.0)\r\n",
      "Requirement already satisfied: fonttools>=4.22.0 in /opt/conda/lib/python3.10/site-packages (from matplotlib->catboost) (4.42.1)\r\n",
      "Requirement already satisfied: kiwisolver>=1.0.1 in /opt/conda/lib/python3.10/site-packages (from matplotlib->catboost) (1.4.4)\r\n",
      "Requirement already satisfied: packaging>=20.0 in /opt/conda/lib/python3.10/site-packages (from matplotlib->catboost) (21.3)\r\n",
      "Requirement already satisfied: pillow>=6.2.0 in /opt/conda/lib/python3.10/site-packages (from matplotlib->catboost) (10.1.0)\r\n",
      "Requirement already satisfied: pyparsing>=2.3.1 in /opt/conda/lib/python3.10/site-packages (from matplotlib->catboost) (3.0.9)\r\n",
      "Requirement already satisfied: tenacity>=6.2.0 in /opt/conda/lib/python3.10/site-packages (from plotly->catboost) (8.2.3)\r\n",
      "Collecting gdown\r\n",
      "  Downloading gdown-4.7.1-py3-none-any.whl (15 kB)\r\n",
      "Requirement already satisfied: filelock in /opt/conda/lib/python3.10/site-packages (from gdown) (3.12.2)\r\n",
      "Requirement already satisfied: requests[socks] in /opt/conda/lib/python3.10/site-packages (from gdown) (2.31.0)\r\n",
      "Requirement already satisfied: six in /opt/conda/lib/python3.10/site-packages (from gdown) (1.16.0)\r\n",
      "Requirement already satisfied: tqdm in /opt/conda/lib/python3.10/site-packages (from gdown) (4.66.1)\r\n",
      "Requirement already satisfied: beautifulsoup4 in /opt/conda/lib/python3.10/site-packages (from gdown) (4.12.2)\r\n",
      "Requirement already satisfied: soupsieve>1.2 in /opt/conda/lib/python3.10/site-packages (from beautifulsoup4->gdown) (2.3.2.post1)\r\n",
      "Requirement already satisfied: charset-normalizer<4,>=2 in /opt/conda/lib/python3.10/site-packages (from requests[socks]->gdown) (3.2.0)\r\n",
      "Requirement already satisfied: idna<4,>=2.5 in /opt/conda/lib/python3.10/site-packages (from requests[socks]->gdown) (3.4)\r\n",
      "Requirement already satisfied: urllib3<3,>=1.21.1 in /opt/conda/lib/python3.10/site-packages (from requests[socks]->gdown) (1.26.15)\r\n",
      "Requirement already satisfied: certifi>=2017.4.17 in /opt/conda/lib/python3.10/site-packages (from requests[socks]->gdown) (2023.11.17)\r\n",
      "Requirement already satisfied: PySocks!=1.5.7,>=1.5.6 in /opt/conda/lib/python3.10/site-packages (from requests[socks]->gdown) (1.7.1)\r\n",
      "Installing collected packages: gdown\r\n",
      "Successfully installed gdown-4.7.1\r\n"
     ]
    }
   ],
   "source": [
    "! pip install optuna\n",
    "! pip install catboost\n",
    "! pip install gdown"
   ]
  },
  {
   "cell_type": "code",
   "execution_count": 2,
   "id": "ad12835b",
   "metadata": {
    "_cell_guid": "b1076dfc-b9ad-4769-8c92-a6c4dae69d19",
    "_uuid": "8f2839f25d086af736a60e9eeb907d3b93b6e0e5",
    "execution": {
     "iopub.execute_input": "2024-01-07T10:13:06.356599Z",
     "iopub.status.busy": "2024-01-07T10:13:06.356148Z",
     "iopub.status.idle": "2024-01-07T10:13:13.026589Z",
     "shell.execute_reply": "2024-01-07T10:13:13.025182Z"
    },
    "id": "CkwSUyXFY6rN",
    "papermill": {
     "duration": 6.778251,
     "end_time": "2024-01-07T10:13:13.030489",
     "exception": false,
     "start_time": "2024-01-07T10:13:06.252238",
     "status": "completed"
    },
    "tags": []
   },
   "outputs": [],
   "source": [
    "# This Python 3 environment comes with many helpful analytics libraries installed\n",
    "# It is defined by the kaggle/python Docker image: https://github.com/kaggle/docker-python\n",
    "# For example, here's several helpful packages to load\n",
    "\n",
    "import numpy as np # linear algebra\n",
    "import pandas as pd # data processing, CSV file I/O (e.g. pd.read_csv)\n",
    "import matplotlib.pyplot as plt\n",
    "import seaborn as sns\n",
    "import optuna\n",
    "from sklearn.model_selection import train_test_split, cross_val_score\n",
    "from sklearn.preprocessing import LabelEncoder\n",
    "from sklearn.tree import DecisionTreeClassifier, plot_tree\n",
    "from sklearn.metrics import make_scorer, accuracy_score, recall_score, f1_score, confusion_matrix\n",
    "from sklearn.ensemble import RandomForestClassifier\n",
    "from xgboost import XGBClassifier\n",
    "from lightgbm import LGBMClassifier\n",
    "from catboost import CatBoostClassifier"
   ]
  },
  {
   "cell_type": "code",
   "execution_count": 3,
   "id": "4a0d26e3",
   "metadata": {
    "execution": {
     "iopub.execute_input": "2024-01-07T10:13:13.101923Z",
     "iopub.status.busy": "2024-01-07T10:13:13.100409Z",
     "iopub.status.idle": "2024-01-07T10:13:16.409335Z",
     "shell.execute_reply": "2024-01-07T10:13:16.407468Z"
    },
    "id": "QMGWhlEVQy0H",
    "outputId": "7a22949c-2ede-493d-c3bf-a9343a16a565",
    "papermill": {
     "duration": 3.348603,
     "end_time": "2024-01-07T10:13:16.412856",
     "exception": false,
     "start_time": "2024-01-07T10:13:13.064253",
     "status": "completed"
    },
    "tags": []
   },
   "outputs": [
    {
     "name": "stdout",
     "output_type": "stream",
     "text": [
      "Downloading...\r\n",
      "From: https://drive.google.com/uc?id=1bhS_RnzzU-NgW8Hgc_03Tl4EOlK-8cJr\r\n",
      "To: /kaggle/working/train.csv\r\n",
      "100%|████████████████████████████████████████| 170k/170k [00:00<00:00, 85.3MB/s]\r\n"
     ]
    }
   ],
   "source": [
    "!gdown 'https://drive.google.com/uc?id=1bhS_RnzzU-NgW8Hgc_03Tl4EOlK-8cJr'"
   ]
  },
  {
   "cell_type": "markdown",
   "id": "a3fd1518",
   "metadata": {
    "id": "Kn61S7C2Y6rZ",
    "papermill": {
     "duration": 0.032787,
     "end_time": "2024-01-07T10:13:16.478759",
     "exception": false,
     "start_time": "2024-01-07T10:13:16.445972",
     "status": "completed"
    },
    "tags": []
   },
   "source": [
    "# P1: Explore (13 points)"
   ]
  },
  {
   "cell_type": "markdown",
   "id": "ffc676ee",
   "metadata": {
    "id": "ibv0QxxHY6re",
    "papermill": {
     "duration": 0.032742,
     "end_time": "2024-01-07T10:13:16.547013",
     "exception": false,
     "start_time": "2024-01-07T10:13:16.514271",
     "status": "completed"
    },
    "tags": []
   },
   "source": [
    "Load the dataset as a dataframe "
   ]
  },
  {
   "cell_type": "code",
   "execution_count": 4,
   "id": "3117cb22",
   "metadata": {
    "execution": {
     "iopub.execute_input": "2024-01-07T10:13:16.615259Z",
     "iopub.status.busy": "2024-01-07T10:13:16.614841Z",
     "iopub.status.idle": "2024-01-07T10:13:16.641238Z",
     "shell.execute_reply": "2024-01-07T10:13:16.639752Z"
    },
    "id": "F0TiZE6yY6rg",
    "papermill": {
     "duration": 0.064428,
     "end_time": "2024-01-07T10:13:16.644743",
     "exception": false,
     "start_time": "2024-01-07T10:13:16.580315",
     "status": "completed"
    },
    "tags": []
   },
   "outputs": [],
   "source": [
    "DF = pd.read_csv('train.csv') # changed it to DF "
   ]
  },
  {
   "cell_type": "markdown",
   "id": "ac9f4a3a",
   "metadata": {
    "id": "CXwsdR5EY6rh",
    "papermill": {
     "duration": 0.032769,
     "end_time": "2024-01-07T10:13:16.710932",
     "exception": false,
     "start_time": "2024-01-07T10:13:16.678163",
     "status": "completed"
    },
    "tags": []
   },
   "source": [
    "Inspect the first rows of the dataframe **(P1-1: 1 point)**"
   ]
  },
  {
   "cell_type": "code",
   "execution_count": 5,
   "id": "59cc8701",
   "metadata": {
    "execution": {
     "iopub.execute_input": "2024-01-07T10:13:16.778725Z",
     "iopub.status.busy": "2024-01-07T10:13:16.778228Z",
     "iopub.status.idle": "2024-01-07T10:13:16.823109Z",
     "shell.execute_reply": "2024-01-07T10:13:16.821924Z"
    },
    "id": "dmgZYuQUY6ri",
    "outputId": "4c426cd2-a7c1-48cb-9ba1-20a3e7c1e2d0",
    "papermill": {
     "duration": 0.08206,
     "end_time": "2024-01-07T10:13:16.825615",
     "exception": false,
     "start_time": "2024-01-07T10:13:16.743555",
     "status": "completed"
    },
    "tags": []
   },
   "outputs": [
    {
     "data": {
      "text/html": [
       "<div>\n",
       "<style scoped>\n",
       "    .dataframe tbody tr th:only-of-type {\n",
       "        vertical-align: middle;\n",
       "    }\n",
       "\n",
       "    .dataframe tbody tr th {\n",
       "        vertical-align: top;\n",
       "    }\n",
       "\n",
       "    .dataframe thead th {\n",
       "        text-align: right;\n",
       "    }\n",
       "</style>\n",
       "<table border=\"1\" class=\"dataframe\">\n",
       "  <thead>\n",
       "    <tr style=\"text-align: right;\">\n",
       "      <th></th>\n",
       "      <th>Age</th>\n",
       "      <th>Attrition</th>\n",
       "      <th>BusinessTravel</th>\n",
       "      <th>DailyRate</th>\n",
       "      <th>Department</th>\n",
       "      <th>DistanceFromHome</th>\n",
       "      <th>Education</th>\n",
       "      <th>EducationField</th>\n",
       "      <th>EmployeeCount</th>\n",
       "      <th>EmployeeNumber</th>\n",
       "      <th>...</th>\n",
       "      <th>RelationshipSatisfaction</th>\n",
       "      <th>StandardHours</th>\n",
       "      <th>StockOptionLevel</th>\n",
       "      <th>TotalWorkingYears</th>\n",
       "      <th>TrainingTimesLastYear</th>\n",
       "      <th>WorkLifeBalance</th>\n",
       "      <th>YearsAtCompany</th>\n",
       "      <th>YearsInCurrentRole</th>\n",
       "      <th>YearsSinceLastPromotion</th>\n",
       "      <th>YearsWithCurrManager</th>\n",
       "    </tr>\n",
       "  </thead>\n",
       "  <tbody>\n",
       "    <tr>\n",
       "      <th>0</th>\n",
       "      <td>29</td>\n",
       "      <td>No</td>\n",
       "      <td>Travel_Rarely</td>\n",
       "      <td>592</td>\n",
       "      <td>Research &amp; Development</td>\n",
       "      <td>7</td>\n",
       "      <td>3</td>\n",
       "      <td>Life Sciences</td>\n",
       "      <td>1</td>\n",
       "      <td>1883</td>\n",
       "      <td>...</td>\n",
       "      <td>2</td>\n",
       "      <td>80</td>\n",
       "      <td>0</td>\n",
       "      <td>11</td>\n",
       "      <td>2</td>\n",
       "      <td>3</td>\n",
       "      <td>3</td>\n",
       "      <td>2</td>\n",
       "      <td>1</td>\n",
       "      <td>2</td>\n",
       "    </tr>\n",
       "    <tr>\n",
       "      <th>1</th>\n",
       "      <td>36</td>\n",
       "      <td>No</td>\n",
       "      <td>Travel_Rarely</td>\n",
       "      <td>884</td>\n",
       "      <td>Sales</td>\n",
       "      <td>1</td>\n",
       "      <td>4</td>\n",
       "      <td>Life Sciences</td>\n",
       "      <td>1</td>\n",
       "      <td>1585</td>\n",
       "      <td>...</td>\n",
       "      <td>1</td>\n",
       "      <td>80</td>\n",
       "      <td>0</td>\n",
       "      <td>15</td>\n",
       "      <td>5</td>\n",
       "      <td>3</td>\n",
       "      <td>1</td>\n",
       "      <td>0</td>\n",
       "      <td>0</td>\n",
       "      <td>0</td>\n",
       "    </tr>\n",
       "    <tr>\n",
       "      <th>2</th>\n",
       "      <td>34</td>\n",
       "      <td>No</td>\n",
       "      <td>Travel_Rarely</td>\n",
       "      <td>1326</td>\n",
       "      <td>Sales</td>\n",
       "      <td>3</td>\n",
       "      <td>3</td>\n",
       "      <td>Other</td>\n",
       "      <td>1</td>\n",
       "      <td>1478</td>\n",
       "      <td>...</td>\n",
       "      <td>4</td>\n",
       "      <td>80</td>\n",
       "      <td>0</td>\n",
       "      <td>15</td>\n",
       "      <td>2</td>\n",
       "      <td>3</td>\n",
       "      <td>13</td>\n",
       "      <td>9</td>\n",
       "      <td>3</td>\n",
       "      <td>12</td>\n",
       "    </tr>\n",
       "    <tr>\n",
       "      <th>3</th>\n",
       "      <td>27</td>\n",
       "      <td>No</td>\n",
       "      <td>Travel_Rarely</td>\n",
       "      <td>954</td>\n",
       "      <td>Sales</td>\n",
       "      <td>9</td>\n",
       "      <td>3</td>\n",
       "      <td>Marketing</td>\n",
       "      <td>1</td>\n",
       "      <td>1965</td>\n",
       "      <td>...</td>\n",
       "      <td>1</td>\n",
       "      <td>80</td>\n",
       "      <td>0</td>\n",
       "      <td>7</td>\n",
       "      <td>5</td>\n",
       "      <td>3</td>\n",
       "      <td>7</td>\n",
       "      <td>7</td>\n",
       "      <td>0</td>\n",
       "      <td>7</td>\n",
       "    </tr>\n",
       "    <tr>\n",
       "      <th>4</th>\n",
       "      <td>32</td>\n",
       "      <td>No</td>\n",
       "      <td>Travel_Rarely</td>\n",
       "      <td>929</td>\n",
       "      <td>Sales</td>\n",
       "      <td>10</td>\n",
       "      <td>3</td>\n",
       "      <td>Marketing</td>\n",
       "      <td>1</td>\n",
       "      <td>722</td>\n",
       "      <td>...</td>\n",
       "      <td>4</td>\n",
       "      <td>80</td>\n",
       "      <td>0</td>\n",
       "      <td>10</td>\n",
       "      <td>2</td>\n",
       "      <td>2</td>\n",
       "      <td>10</td>\n",
       "      <td>7</td>\n",
       "      <td>0</td>\n",
       "      <td>8</td>\n",
       "    </tr>\n",
       "  </tbody>\n",
       "</table>\n",
       "<p>5 rows × 35 columns</p>\n",
       "</div>"
      ],
      "text/plain": [
       "   Age Attrition BusinessTravel  DailyRate              Department  \\\n",
       "0   29        No  Travel_Rarely        592  Research & Development   \n",
       "1   36        No  Travel_Rarely        884                   Sales   \n",
       "2   34        No  Travel_Rarely       1326                   Sales   \n",
       "3   27        No  Travel_Rarely        954                   Sales   \n",
       "4   32        No  Travel_Rarely        929                   Sales   \n",
       "\n",
       "   DistanceFromHome  Education EducationField  EmployeeCount  EmployeeNumber  \\\n",
       "0                 7          3  Life Sciences              1            1883   \n",
       "1                 1          4  Life Sciences              1            1585   \n",
       "2                 3          3          Other              1            1478   \n",
       "3                 9          3      Marketing              1            1965   \n",
       "4                10          3      Marketing              1             722   \n",
       "\n",
       "   ...  RelationshipSatisfaction StandardHours  StockOptionLevel  \\\n",
       "0  ...                         2            80                 0   \n",
       "1  ...                         1            80                 0   \n",
       "2  ...                         4            80                 0   \n",
       "3  ...                         1            80                 0   \n",
       "4  ...                         4            80                 0   \n",
       "\n",
       "   TotalWorkingYears  TrainingTimesLastYear WorkLifeBalance  YearsAtCompany  \\\n",
       "0                 11                      2               3               3   \n",
       "1                 15                      5               3               1   \n",
       "2                 15                      2               3              13   \n",
       "3                  7                      5               3               7   \n",
       "4                 10                      2               2              10   \n",
       "\n",
       "  YearsInCurrentRole  YearsSinceLastPromotion  YearsWithCurrManager  \n",
       "0                  2                        1                     2  \n",
       "1                  0                        0                     0  \n",
       "2                  9                        3                    12  \n",
       "3                  7                        0                     7  \n",
       "4                  7                        0                     8  \n",
       "\n",
       "[5 rows x 35 columns]"
      ]
     },
     "execution_count": 5,
     "metadata": {},
     "output_type": "execute_result"
    }
   ],
   "source": [
    "DF.head()"
   ]
  },
  {
   "cell_type": "markdown",
   "id": "e362a0cd",
   "metadata": {
    "id": "XeihCyA4Y6rj",
    "papermill": {
     "duration": 0.033196,
     "end_time": "2024-01-07T10:13:16.893272",
     "exception": false,
     "start_time": "2024-01-07T10:13:16.860076",
     "status": "completed"
    },
    "tags": []
   },
   "source": [
    "Calculate the number of samples **(P1-2: 0.5 point)**"
   ]
  },
  {
   "cell_type": "code",
   "execution_count": 6,
   "id": "503183ac",
   "metadata": {
    "execution": {
     "iopub.execute_input": "2024-01-07T10:13:16.961479Z",
     "iopub.status.busy": "2024-01-07T10:13:16.961017Z",
     "iopub.status.idle": "2024-01-07T10:13:16.966876Z",
     "shell.execute_reply": "2024-01-07T10:13:16.965983Z"
    },
    "id": "5BHe16yuY6rk",
    "outputId": "c9e909d7-37e7-4c13-a887-3035af16b9a7",
    "papermill": {
     "duration": 0.043586,
     "end_time": "2024-01-07T10:13:16.969869",
     "exception": false,
     "start_time": "2024-01-07T10:13:16.926283",
     "status": "completed"
    },
    "tags": []
   },
   "outputs": [
    {
     "name": "stdout",
     "output_type": "stream",
     "text": [
      "rows :  1102\n",
      "cols :  35\n"
     ]
    }
   ],
   "source": [
    "print(\"rows : \" ,DF.shape[0])\n",
    "print(\"cols : \" ,DF.shape[1])"
   ]
  },
  {
   "cell_type": "markdown",
   "id": "2559876f",
   "metadata": {
    "id": "fIhgTadMY6rl",
    "papermill": {
     "duration": 0.033468,
     "end_time": "2024-01-07T10:13:17.037912",
     "exception": false,
     "start_time": "2024-01-07T10:13:17.004444",
     "status": "completed"
    },
    "tags": []
   },
   "source": [
    "Measure the number of unique values for each column. Note that `Attrition` is the target column. **(P1-3: 1.5 points)**"
   ]
  },
  {
   "cell_type": "code",
   "execution_count": 7,
   "id": "ba637fa5",
   "metadata": {
    "execution": {
     "iopub.execute_input": "2024-01-07T10:13:17.106995Z",
     "iopub.status.busy": "2024-01-07T10:13:17.106562Z",
     "iopub.status.idle": "2024-01-07T10:13:17.127433Z",
     "shell.execute_reply": "2024-01-07T10:13:17.125420Z"
    },
    "id": "Q3zHyYqvY6rm",
    "outputId": "a92854a5-7bc2-4d3a-c573-82fe29539a01",
    "papermill": {
     "duration": 0.059094,
     "end_time": "2024-01-07T10:13:17.130255",
     "exception": false,
     "start_time": "2024-01-07T10:13:17.071161",
     "status": "completed"
    },
    "tags": []
   },
   "outputs": [
    {
     "name": "stdout",
     "output_type": "stream",
     "text": [
      "Age  :  43\n",
      "BusinessTravel  :  3\n",
      "DailyRate  :  736\n",
      "Department  :  3\n",
      "DistanceFromHome  :  29\n",
      "Education  :  5\n",
      "EducationField  :  6\n",
      "EmployeeCount  :  1\n",
      "EmployeeNumber  :  1102\n",
      "EnvironmentSatisfaction  :  4\n",
      "Gender  :  2\n",
      "HourlyRate  :  71\n",
      "JobInvolvement  :  4\n",
      "JobLevel  :  5\n",
      "JobRole  :  9\n",
      "JobSatisfaction  :  4\n",
      "MaritalStatus  :  3\n",
      "MonthlyIncome  :  1027\n",
      "MonthlyRate  :  1082\n",
      "NumCompaniesWorked  :  10\n",
      "Over18  :  1\n",
      "OverTime  :  2\n",
      "PercentSalaryHike  :  15\n",
      "PerformanceRating  :  2\n",
      "RelationshipSatisfaction  :  4\n",
      "StandardHours  :  1\n",
      "StockOptionLevel  :  4\n",
      "TotalWorkingYears  :  40\n",
      "TrainingTimesLastYear  :  7\n",
      "WorkLifeBalance  :  4\n",
      "YearsAtCompany  :  34\n",
      "YearsInCurrentRole  :  19\n",
      "YearsSinceLastPromotion  :  16\n",
      "YearsWithCurrManager  :  17\n"
     ]
    }
   ],
   "source": [
    "unique_ = dict()\n",
    "\n",
    "for i in DF.columns : \n",
    "    if i == \"Attrition\" : continue\n",
    "    unique_[i] = DF[i].nunique()\n",
    "\n",
    "for item,value in unique_.items():\n",
    "    print(item , \" : \",value)"
   ]
  },
  {
   "cell_type": "markdown",
   "id": "74699791",
   "metadata": {
    "id": "2WfrS5svY6rp",
    "papermill": {
     "duration": 0.033361,
     "end_time": "2024-01-07T10:13:17.197263",
     "exception": false,
     "start_time": "2024-01-07T10:13:17.163902",
     "status": "completed"
    },
    "tags": []
   },
   "source": [
    "Check if there is a column with less than two unique values. If such a columns exists, remove it! **(P1-4: 1.5 points)**"
   ]
  },
  {
   "cell_type": "code",
   "execution_count": 8,
   "id": "b837f5b7",
   "metadata": {
    "execution": {
     "iopub.execute_input": "2024-01-07T10:13:17.265393Z",
     "iopub.status.busy": "2024-01-07T10:13:17.264930Z",
     "iopub.status.idle": "2024-01-07T10:13:17.292970Z",
     "shell.execute_reply": "2024-01-07T10:13:17.291784Z"
    },
    "id": "6DNDuBbGY6rq",
    "papermill": {
     "duration": 0.066177,
     "end_time": "2024-01-07T10:13:17.296460",
     "exception": false,
     "start_time": "2024-01-07T10:13:17.230283",
     "status": "completed"
    },
    "tags": []
   },
   "outputs": [
    {
     "data": {
      "text/html": [
       "<div>\n",
       "<style scoped>\n",
       "    .dataframe tbody tr th:only-of-type {\n",
       "        vertical-align: middle;\n",
       "    }\n",
       "\n",
       "    .dataframe tbody tr th {\n",
       "        vertical-align: top;\n",
       "    }\n",
       "\n",
       "    .dataframe thead th {\n",
       "        text-align: right;\n",
       "    }\n",
       "</style>\n",
       "<table border=\"1\" class=\"dataframe\">\n",
       "  <thead>\n",
       "    <tr style=\"text-align: right;\">\n",
       "      <th></th>\n",
       "      <th>Age</th>\n",
       "      <th>Attrition</th>\n",
       "      <th>BusinessTravel</th>\n",
       "      <th>DailyRate</th>\n",
       "      <th>Department</th>\n",
       "      <th>DistanceFromHome</th>\n",
       "      <th>Education</th>\n",
       "      <th>EducationField</th>\n",
       "      <th>EmployeeNumber</th>\n",
       "      <th>EnvironmentSatisfaction</th>\n",
       "      <th>...</th>\n",
       "      <th>PerformanceRating</th>\n",
       "      <th>RelationshipSatisfaction</th>\n",
       "      <th>StockOptionLevel</th>\n",
       "      <th>TotalWorkingYears</th>\n",
       "      <th>TrainingTimesLastYear</th>\n",
       "      <th>WorkLifeBalance</th>\n",
       "      <th>YearsAtCompany</th>\n",
       "      <th>YearsInCurrentRole</th>\n",
       "      <th>YearsSinceLastPromotion</th>\n",
       "      <th>YearsWithCurrManager</th>\n",
       "    </tr>\n",
       "  </thead>\n",
       "  <tbody>\n",
       "    <tr>\n",
       "      <th>0</th>\n",
       "      <td>29</td>\n",
       "      <td>No</td>\n",
       "      <td>Travel_Rarely</td>\n",
       "      <td>592</td>\n",
       "      <td>Research &amp; Development</td>\n",
       "      <td>7</td>\n",
       "      <td>3</td>\n",
       "      <td>Life Sciences</td>\n",
       "      <td>1883</td>\n",
       "      <td>4</td>\n",
       "      <td>...</td>\n",
       "      <td>3</td>\n",
       "      <td>2</td>\n",
       "      <td>0</td>\n",
       "      <td>11</td>\n",
       "      <td>2</td>\n",
       "      <td>3</td>\n",
       "      <td>3</td>\n",
       "      <td>2</td>\n",
       "      <td>1</td>\n",
       "      <td>2</td>\n",
       "    </tr>\n",
       "    <tr>\n",
       "      <th>1</th>\n",
       "      <td>36</td>\n",
       "      <td>No</td>\n",
       "      <td>Travel_Rarely</td>\n",
       "      <td>884</td>\n",
       "      <td>Sales</td>\n",
       "      <td>1</td>\n",
       "      <td>4</td>\n",
       "      <td>Life Sciences</td>\n",
       "      <td>1585</td>\n",
       "      <td>2</td>\n",
       "      <td>...</td>\n",
       "      <td>3</td>\n",
       "      <td>1</td>\n",
       "      <td>0</td>\n",
       "      <td>15</td>\n",
       "      <td>5</td>\n",
       "      <td>3</td>\n",
       "      <td>1</td>\n",
       "      <td>0</td>\n",
       "      <td>0</td>\n",
       "      <td>0</td>\n",
       "    </tr>\n",
       "    <tr>\n",
       "      <th>2</th>\n",
       "      <td>34</td>\n",
       "      <td>No</td>\n",
       "      <td>Travel_Rarely</td>\n",
       "      <td>1326</td>\n",
       "      <td>Sales</td>\n",
       "      <td>3</td>\n",
       "      <td>3</td>\n",
       "      <td>Other</td>\n",
       "      <td>1478</td>\n",
       "      <td>4</td>\n",
       "      <td>...</td>\n",
       "      <td>3</td>\n",
       "      <td>4</td>\n",
       "      <td>0</td>\n",
       "      <td>15</td>\n",
       "      <td>2</td>\n",
       "      <td>3</td>\n",
       "      <td>13</td>\n",
       "      <td>9</td>\n",
       "      <td>3</td>\n",
       "      <td>12</td>\n",
       "    </tr>\n",
       "    <tr>\n",
       "      <th>3</th>\n",
       "      <td>27</td>\n",
       "      <td>No</td>\n",
       "      <td>Travel_Rarely</td>\n",
       "      <td>954</td>\n",
       "      <td>Sales</td>\n",
       "      <td>9</td>\n",
       "      <td>3</td>\n",
       "      <td>Marketing</td>\n",
       "      <td>1965</td>\n",
       "      <td>4</td>\n",
       "      <td>...</td>\n",
       "      <td>3</td>\n",
       "      <td>1</td>\n",
       "      <td>0</td>\n",
       "      <td>7</td>\n",
       "      <td>5</td>\n",
       "      <td>3</td>\n",
       "      <td>7</td>\n",
       "      <td>7</td>\n",
       "      <td>0</td>\n",
       "      <td>7</td>\n",
       "    </tr>\n",
       "    <tr>\n",
       "      <th>4</th>\n",
       "      <td>32</td>\n",
       "      <td>No</td>\n",
       "      <td>Travel_Rarely</td>\n",
       "      <td>929</td>\n",
       "      <td>Sales</td>\n",
       "      <td>10</td>\n",
       "      <td>3</td>\n",
       "      <td>Marketing</td>\n",
       "      <td>722</td>\n",
       "      <td>4</td>\n",
       "      <td>...</td>\n",
       "      <td>3</td>\n",
       "      <td>4</td>\n",
       "      <td>0</td>\n",
       "      <td>10</td>\n",
       "      <td>2</td>\n",
       "      <td>2</td>\n",
       "      <td>10</td>\n",
       "      <td>7</td>\n",
       "      <td>0</td>\n",
       "      <td>8</td>\n",
       "    </tr>\n",
       "  </tbody>\n",
       "</table>\n",
       "<p>5 rows × 32 columns</p>\n",
       "</div>"
      ],
      "text/plain": [
       "   Age Attrition BusinessTravel  DailyRate              Department  \\\n",
       "0   29        No  Travel_Rarely        592  Research & Development   \n",
       "1   36        No  Travel_Rarely        884                   Sales   \n",
       "2   34        No  Travel_Rarely       1326                   Sales   \n",
       "3   27        No  Travel_Rarely        954                   Sales   \n",
       "4   32        No  Travel_Rarely        929                   Sales   \n",
       "\n",
       "   DistanceFromHome  Education EducationField  EmployeeNumber  \\\n",
       "0                 7          3  Life Sciences            1883   \n",
       "1                 1          4  Life Sciences            1585   \n",
       "2                 3          3          Other            1478   \n",
       "3                 9          3      Marketing            1965   \n",
       "4                10          3      Marketing             722   \n",
       "\n",
       "   EnvironmentSatisfaction  ... PerformanceRating  RelationshipSatisfaction  \\\n",
       "0                        4  ...                 3                         2   \n",
       "1                        2  ...                 3                         1   \n",
       "2                        4  ...                 3                         4   \n",
       "3                        4  ...                 3                         1   \n",
       "4                        4  ...                 3                         4   \n",
       "\n",
       "   StockOptionLevel  TotalWorkingYears TrainingTimesLastYear  WorkLifeBalance  \\\n",
       "0                 0                 11                     2                3   \n",
       "1                 0                 15                     5                3   \n",
       "2                 0                 15                     2                3   \n",
       "3                 0                  7                     5                3   \n",
       "4                 0                 10                     2                2   \n",
       "\n",
       "  YearsAtCompany  YearsInCurrentRole  YearsSinceLastPromotion  \\\n",
       "0              3                   2                        1   \n",
       "1              1                   0                        0   \n",
       "2             13                   9                        3   \n",
       "3              7                   7                        0   \n",
       "4             10                   7                        0   \n",
       "\n",
       "   YearsWithCurrManager  \n",
       "0                     2  \n",
       "1                     0  \n",
       "2                    12  \n",
       "3                     7  \n",
       "4                     8  \n",
       "\n",
       "[5 rows x 32 columns]"
      ]
     },
     "execution_count": 8,
     "metadata": {},
     "output_type": "execute_result"
    }
   ],
   "source": [
    "removable_cols = []\n",
    "\n",
    "for item,value in unique_.items():\n",
    "    if item not in DF.columns : continue\n",
    "    if value >=  2: continue\n",
    "    if item == \"Attrition\" : continue\n",
    "    removable_cols.append(item)\n",
    "    \n",
    "DF.drop(columns = removable_cols ,inplace = True)\n",
    "DF.head()"
   ]
  },
  {
   "cell_type": "markdown",
   "id": "ed4e5831",
   "metadata": {
    "id": "8Bw9kzGyY6rs",
    "papermill": {
     "duration": 0.033736,
     "end_time": "2024-01-07T10:13:17.365889",
     "exception": false,
     "start_time": "2024-01-07T10:13:17.332153",
     "status": "completed"
    },
    "tags": []
   },
   "source": [
    "Plot Mean `BusinessTravel` against `Age`. Note: Since the `BusinessTravel` column is categorical, you should first consider another column corresponding to each unique value `BusinessTravel` takes. For instance, you may assume that if someone does not travel, the value of the column for this person is 0. **(P1-5: 2.5 points)**"
   ]
  },
  {
   "cell_type": "code",
   "execution_count": 9,
   "id": "c38c7567",
   "metadata": {
    "execution": {
     "iopub.execute_input": "2024-01-07T10:13:17.436745Z",
     "iopub.status.busy": "2024-01-07T10:13:17.435789Z",
     "iopub.status.idle": "2024-01-07T10:13:17.447821Z",
     "shell.execute_reply": "2024-01-07T10:13:17.446336Z"
    },
    "id": "g3cpD4FdY6rt",
    "outputId": "3478cfdd-a364-4f34-cf4e-0f7ae18332fe",
    "papermill": {
     "duration": 0.052007,
     "end_time": "2024-01-07T10:13:17.451042",
     "exception": false,
     "start_time": "2024-01-07T10:13:17.399035",
     "status": "completed"
    },
    "tags": []
   },
   "outputs": [
    {
     "name": "stdout",
     "output_type": "stream",
     "text": [
      "['Travel_Rarely' 'Travel_Frequently' 'Non-Travel']\n"
     ]
    },
    {
     "data": {
      "text/plain": [
       "\"\\n# this commented code plots each value individually\\n\\ndummies = pd.get_dummies(DF['BusinessTravel'])\\ndummies\\n\""
      ]
     },
     "execution_count": 9,
     "metadata": {},
     "output_type": "execute_result"
    }
   ],
   "source": [
    "print(DF[\"BusinessTravel\"].unique())\n",
    "\n",
    "\"\"\"\n",
    "# this commented code plots each value individually\n",
    "\n",
    "dummies = pd.get_dummies(DF['BusinessTravel'])\n",
    "dummies\n",
    "\"\"\""
   ]
  },
  {
   "cell_type": "code",
   "execution_count": 10,
   "id": "cab03c3c",
   "metadata": {
    "execution": {
     "iopub.execute_input": "2024-01-07T10:13:17.528372Z",
     "iopub.status.busy": "2024-01-07T10:13:17.527567Z",
     "iopub.status.idle": "2024-01-07T10:13:17.536923Z",
     "shell.execute_reply": "2024-01-07T10:13:17.535897Z"
    },
    "id": "UznmZvQNY6rv",
    "papermill": {
     "duration": 0.051394,
     "end_time": "2024-01-07T10:13:17.539587",
     "exception": false,
     "start_time": "2024-01-07T10:13:17.488193",
     "status": "completed"
    },
    "tags": []
   },
   "outputs": [
    {
     "data": {
      "text/plain": [
       "\"\\ndummies_DF = pd.concat([DF, dummies], axis=1)\\ndummies_DF['Non-Travel'].fillna(0, inplace=True)\\ndummies_DF\\n\""
      ]
     },
     "execution_count": 10,
     "metadata": {},
     "output_type": "execute_result"
    }
   ],
   "source": [
    "DF[\"EBusinessTravel\"] = DF[\"BusinessTravel\"].map({\"Travel_Frequently\" : 2,\"Travel_Rarely\" : 1,\"Non-Travel\" :0})\n",
    "\n",
    "\"\"\"\n",
    "dummies_DF = pd.concat([DF, dummies], axis=1)\n",
    "dummies_DF['Non-Travel'].fillna(0, inplace=True)\n",
    "dummies_DF\n",
    "\"\"\""
   ]
  },
  {
   "cell_type": "code",
   "execution_count": 11,
   "id": "6212db3c",
   "metadata": {
    "execution": {
     "iopub.execute_input": "2024-01-07T10:13:17.610388Z",
     "iopub.status.busy": "2024-01-07T10:13:17.609922Z",
     "iopub.status.idle": "2024-01-07T10:13:18.125995Z",
     "shell.execute_reply": "2024-01-07T10:13:18.124722Z"
    },
    "id": "EUHnwPDyY6rw",
    "outputId": "1e72776e-2f60-4cce-f252-67ec11255d20",
    "papermill": {
     "duration": 0.555383,
     "end_time": "2024-01-07T10:13:18.129079",
     "exception": false,
     "start_time": "2024-01-07T10:13:17.573696",
     "status": "completed"
    },
    "tags": []
   },
   "outputs": [
    {
     "data": {
      "image/png": "[encoded data removed]",
      "text/plain": [
       "<Figure size 640x480 with 1 Axes>"
      ]
     },
     "metadata": {},
     "output_type": "display_data"
    },
    {
     "data": {
      "text/plain": [
       "\"\\nMnon_travel = dummies_DF.groupby('Age')['Non-Travel'].mean()\\nMtravel_rarely = dummies_DF.groupby('Age')['Travel_Rarely'].mean()\\nMtravel_frequently = dummies_DF.groupby('Age')['Travel_Frequently'].mean()\\n\\nplt.plot(Mnon_travel.index, Mnon_travel.values, marker='o', label='Non-Travel')\\nplt.plot(Mtravel_rarely.index, Mtravel_rarely.values, marker='o', label='Travel_Rarely')\\nplt.plot(Mtravel_frequently.index, Mtravel_frequently.values, marker='o', label='Travel_Frequently')\\n\\nplt.legend()\\nplt.show()\\n\\n\""
      ]
     },
     "execution_count": 11,
     "metadata": {},
     "output_type": "execute_result"
    }
   ],
   "source": [
    "mean_ = DF.groupby('Age')['EBusinessTravel'].mean().reset_index()\n",
    "plt.plot(mean_['Age'], mean_['EBusinessTravel'], marker='o')\n",
    "plt.show()\n",
    "\n",
    "\n",
    "\"\"\"\n",
    "Mnon_travel = dummies_DF.groupby('Age')['Non-Travel'].mean()\n",
    "Mtravel_rarely = dummies_DF.groupby('Age')['Travel_Rarely'].mean()\n",
    "Mtravel_frequently = dummies_DF.groupby('Age')['Travel_Frequently'].mean()\n",
    "\n",
    "plt.plot(Mnon_travel.index, Mnon_travel.values, marker='o', label='Non-Travel')\n",
    "plt.plot(Mtravel_rarely.index, Mtravel_rarely.values, marker='o', label='Travel_Rarely')\n",
    "plt.plot(Mtravel_frequently.index, Mtravel_frequently.values, marker='o', label='Travel_Frequently')\n",
    "\n",
    "plt.legend()\n",
    "plt.show()\n",
    "\n",
    "\"\"\""
   ]
  },
  {
   "cell_type": "markdown",
   "id": "fbee660d",
   "metadata": {
    "id": "8cYZQ9ckY6ry",
    "papermill": {
     "duration": 0.036523,
     "end_time": "2024-01-07T10:13:18.201650",
     "exception": false,
     "start_time": "2024-01-07T10:13:18.165127",
     "status": "completed"
    },
    "tags": []
   },
   "source": [
    "Find the `Department` in which the least amount of time has passed since the last promotion of the employees on average. **(P1-6: 1 point)**"
   ]
  },
  {
   "cell_type": "code",
   "execution_count": 12,
   "id": "d5380e6b",
   "metadata": {
    "execution": {
     "iopub.execute_input": "2024-01-07T10:13:18.275945Z",
     "iopub.status.busy": "2024-01-07T10:13:18.275201Z",
     "iopub.status.idle": "2024-01-07T10:13:18.284457Z",
     "shell.execute_reply": "2024-01-07T10:13:18.283297Z"
    },
    "id": "1GC5OZoHY6ry",
    "outputId": "e6f9138b-a166-4cb1-e0d5-369fbbc21313",
    "papermill": {
     "duration": 0.050382,
     "end_time": "2024-01-07T10:13:18.287315",
     "exception": false,
     "start_time": "2024-01-07T10:13:18.236933",
     "status": "completed"
    },
    "tags": []
   },
   "outputs": [
    {
     "name": "stdout",
     "output_type": "stream",
     "text": [
      "department Human Resources with avg promotion time of 1.711111111111111\n"
     ]
    }
   ],
   "source": [
    "Mpromotion_time = DF.groupby('Department')['YearsSinceLastPromotion'].mean()\n",
    "\n",
    "print(\"department\",Mpromotion_time.idxmin() ,\"with avg promotion time of\",Mpromotion_time.min())"
   ]
  },
  {
   "cell_type": "markdown",
   "id": "50a264ee",
   "metadata": {
    "id": "cLqA9i8dY6r0",
    "papermill": {
     "duration": 0.03504,
     "end_time": "2024-01-07T10:13:18.357654",
     "exception": false,
     "start_time": "2024-01-07T10:13:18.322614",
     "status": "completed"
    },
    "tags": []
   },
   "source": [
    "Check if there seems to be a meaningful relationship between people's age and the years they have worked with their current manager. Your result should be a plot. **(P1-7: 2 points)**"
   ]
  },
  {
   "cell_type": "code",
   "execution_count": 13,
   "id": "0399648e",
   "metadata": {
    "execution": {
     "iopub.execute_input": "2024-01-07T10:13:18.432013Z",
     "iopub.status.busy": "2024-01-07T10:13:18.430595Z",
     "iopub.status.idle": "2024-01-07T10:13:19.292214Z",
     "shell.execute_reply": "2024-01-07T10:13:19.291286Z"
    },
    "id": "CaEOq7eTY6r1",
    "outputId": "0d161789-fd28-4136-cf8a-d887c28f97e9",
    "papermill": {
     "duration": 0.901148,
     "end_time": "2024-01-07T10:13:19.294379",
     "exception": false,
     "start_time": "2024-01-07T10:13:18.393231",
     "status": "completed"
    },
    "tags": []
   },
   "outputs": [
    {
     "data": {
      "image/png": "[encoded data removed]",
      "text/plain": [
       "<Figure size 600x600 with 3 Axes>"
      ]
     },
     "metadata": {},
     "output_type": "display_data"
    },
    {
     "data": {
      "text/plain": [
       "\"\\nWe don't observe any significant or meaningful differences.\\nHowever, an apparent trend is noticeable: \\nindividuals aged around 30 to 40 tend to have more work experience with their current boss,\\nwhile those younger than 30 tend to have less experience due to their age.\\nAdditionally, individuals aged over 40 exhibit a more varied distribution;\\nsome have extensive experience while others have shorter experience periods.\\n\""
      ]
     },
     "execution_count": 13,
     "metadata": {},
     "output_type": "execute_result"
    }
   ],
   "source": [
    "sns.jointplot(x='Age', y='YearsWithCurrManager', data=DF, kind='scatter')\n",
    "plt.show()\n",
    "\n",
    "\"\"\"\n",
    "We don't observe any significant or meaningful differences.\n",
    "However, an apparent trend is noticeable: \n",
    "individuals aged around 30 to 40 tend to have more work experience with their current boss,\n",
    "while those younger than 30 tend to have less experience due to their age.\n",
    "Additionally, individuals aged over 40 exhibit a more varied distribution;\n",
    "some have extensive experience while others have shorter experience periods.\n",
    "\"\"\""
   ]
  },
  {
   "cell_type": "markdown",
   "id": "4f1b5879",
   "metadata": {
    "id": "vs9nj6dwY6r2",
    "papermill": {
     "duration": 0.035716,
     "end_time": "2024-01-07T10:13:19.366963",
     "exception": false,
     "start_time": "2024-01-07T10:13:19.331247",
     "status": "completed"
    },
    "tags": []
   },
   "source": [
    "Compare the average `JobSatisfaction` for employees whose `JobRole` is `Research Scientist`, `Human Resources`, `Manager`, or `Research Director` using a plot.  **(P1-8: 2 points)**"
   ]
  },
  {
   "cell_type": "code",
   "execution_count": 14,
   "id": "5b2720f0",
   "metadata": {
    "execution": {
     "iopub.execute_input": "2024-01-07T10:13:19.441972Z",
     "iopub.status.busy": "2024-01-07T10:13:19.441247Z",
     "iopub.status.idle": "2024-01-07T10:13:19.718284Z",
     "shell.execute_reply": "2024-01-07T10:13:19.717034Z"
    },
    "id": "zCLsRh1_Y6r3",
    "outputId": "dc3d9beb-0831-4a0d-c072-8a70948468ae",
    "papermill": {
     "duration": 0.318177,
     "end_time": "2024-01-07T10:13:19.721824",
     "exception": false,
     "start_time": "2024-01-07T10:13:19.403647",
     "status": "completed"
    },
    "tags": []
   },
   "outputs": [
    {
     "data": {
      "image/png": "[encoded data removed]",
      "text/plain": [
       "<Figure size 640x480 with 1 Axes>"
      ]
     },
     "metadata": {},
     "output_type": "display_data"
    }
   ],
   "source": [
    "filtered_DF = DF[DF['JobRole'].isin(['Research Scientist', 'Human Resources', 'Manager', 'Research Director'])]\n",
    "\n",
    "Msatisfaction_by_role =  filtered_DF.groupby('JobRole')['JobSatisfaction'].mean().sort_values()\n",
    "\n",
    "Msatisfaction_by_role.plot(kind='bar')\n",
    "plt.ylabel('AVG JobSatisfaction')\n",
    "plt.show()"
   ]
  },
  {
   "cell_type": "markdown",
   "id": "9b90a7a5",
   "metadata": {
    "id": "Sxl20-PNY6r5",
    "papermill": {
     "duration": 0.035436,
     "end_time": "2024-01-07T10:13:19.794642",
     "exception": false,
     "start_time": "2024-01-07T10:13:19.759206",
     "status": "completed"
    },
    "tags": []
   },
   "source": [
    "Plot the average `MonthlyIncome` against the `YearsAtCompany`. **(P1-9: 1 point)**"
   ]
  },
  {
   "cell_type": "code",
   "execution_count": 15,
   "id": "c8eaec79",
   "metadata": {
    "execution": {
     "iopub.execute_input": "2024-01-07T10:13:19.869785Z",
     "iopub.status.busy": "2024-01-07T10:13:19.869304Z",
     "iopub.status.idle": "2024-01-07T10:13:20.115406Z",
     "shell.execute_reply": "2024-01-07T10:13:20.114197Z"
    },
    "id": "m1273snFY6r6",
    "outputId": "f56f3de4-d2b8-480a-86da-b9390dac5ff8",
    "papermill": {
     "duration": 0.287608,
     "end_time": "2024-01-07T10:13:20.118639",
     "exception": false,
     "start_time": "2024-01-07T10:13:19.831031",
     "status": "completed"
    },
    "tags": []
   },
   "outputs": [
    {
     "data": {
      "image/png": "[encoded data removed]",
      "text/plain": [
       "<Figure size 640x480 with 1 Axes>"
      ]
     },
     "metadata": {},
     "output_type": "display_data"
    }
   ],
   "source": [
    "Mincome_by_years = DF.groupby('YearsAtCompany')['MonthlyIncome'].mean()\n",
    "\n",
    "plt.plot(Mincome_by_years.index, Mincome_by_years.values, marker='o')\n",
    "plt.xlabel('years at company')\n",
    "plt.ylabel('AVG monthly income')\n",
    "plt.show()"
   ]
  },
  {
   "cell_type": "markdown",
   "id": "6876988f",
   "metadata": {
    "id": "OTDFgCUJY6r7",
    "papermill": {
     "duration": 0.037334,
     "end_time": "2024-01-07T10:13:20.194173",
     "exception": false,
     "start_time": "2024-01-07T10:13:20.156839",
     "status": "completed"
    },
    "tags": []
   },
   "source": [
    "# P2: Pre-processing (9 points)"
   ]
  },
  {
   "cell_type": "markdown",
   "id": "83df6cfe",
   "metadata": {
    "id": "7rKI5m_xY6r7",
    "papermill": {
     "duration": 0.036515,
     "end_time": "2024-01-07T10:13:20.269776",
     "exception": false,
     "start_time": "2024-01-07T10:13:20.233261",
     "status": "completed"
    },
    "tags": []
   },
   "source": [
    "Label encode all categorical columns and split the data into train and test parts. The training part will further splitted into train and validation parts. **(P2-1: 2.5 points)**"
   ]
  },
  {
   "cell_type": "code",
   "execution_count": 16,
   "id": "214afa11",
   "metadata": {
    "execution": {
     "iopub.execute_input": "2024-01-07T10:13:20.347496Z",
     "iopub.status.busy": "2024-01-07T10:13:20.346311Z",
     "iopub.status.idle": "2024-01-07T10:13:20.379115Z",
     "shell.execute_reply": "2024-01-07T10:13:20.377784Z"
    },
    "id": "PVnjuxvmY6r8",
    "outputId": "277655d9-e0a4-4a84-89e3-337f35da63a2",
    "papermill": {
     "duration": 0.074228,
     "end_time": "2024-01-07T10:13:20.381677",
     "exception": false,
     "start_time": "2024-01-07T10:13:20.307449",
     "status": "completed"
    },
    "tags": []
   },
   "outputs": [
    {
     "data": {
      "text/html": [
       "<div>\n",
       "<style scoped>\n",
       "    .dataframe tbody tr th:only-of-type {\n",
       "        vertical-align: middle;\n",
       "    }\n",
       "\n",
       "    .dataframe tbody tr th {\n",
       "        vertical-align: top;\n",
       "    }\n",
       "\n",
       "    .dataframe thead th {\n",
       "        text-align: right;\n",
       "    }\n",
       "</style>\n",
       "<table border=\"1\" class=\"dataframe\">\n",
       "  <thead>\n",
       "    <tr style=\"text-align: right;\">\n",
       "      <th></th>\n",
       "      <th>Age</th>\n",
       "      <th>Attrition</th>\n",
       "      <th>BusinessTravel</th>\n",
       "      <th>DailyRate</th>\n",
       "      <th>Department</th>\n",
       "      <th>DistanceFromHome</th>\n",
       "      <th>Education</th>\n",
       "      <th>EducationField</th>\n",
       "      <th>EmployeeNumber</th>\n",
       "      <th>EnvironmentSatisfaction</th>\n",
       "      <th>...</th>\n",
       "      <th>RelationshipSatisfaction</th>\n",
       "      <th>StockOptionLevel</th>\n",
       "      <th>TotalWorkingYears</th>\n",
       "      <th>TrainingTimesLastYear</th>\n",
       "      <th>WorkLifeBalance</th>\n",
       "      <th>YearsAtCompany</th>\n",
       "      <th>YearsInCurrentRole</th>\n",
       "      <th>YearsSinceLastPromotion</th>\n",
       "      <th>YearsWithCurrManager</th>\n",
       "      <th>EBusinessTravel</th>\n",
       "    </tr>\n",
       "  </thead>\n",
       "  <tbody>\n",
       "    <tr>\n",
       "      <th>0</th>\n",
       "      <td>29</td>\n",
       "      <td>0</td>\n",
       "      <td>2</td>\n",
       "      <td>592</td>\n",
       "      <td>1</td>\n",
       "      <td>7</td>\n",
       "      <td>3</td>\n",
       "      <td>1</td>\n",
       "      <td>1883</td>\n",
       "      <td>4</td>\n",
       "      <td>...</td>\n",
       "      <td>2</td>\n",
       "      <td>0</td>\n",
       "      <td>11</td>\n",
       "      <td>2</td>\n",
       "      <td>3</td>\n",
       "      <td>3</td>\n",
       "      <td>2</td>\n",
       "      <td>1</td>\n",
       "      <td>2</td>\n",
       "      <td>1</td>\n",
       "    </tr>\n",
       "    <tr>\n",
       "      <th>1</th>\n",
       "      <td>36</td>\n",
       "      <td>0</td>\n",
       "      <td>2</td>\n",
       "      <td>884</td>\n",
       "      <td>2</td>\n",
       "      <td>1</td>\n",
       "      <td>4</td>\n",
       "      <td>1</td>\n",
       "      <td>1585</td>\n",
       "      <td>2</td>\n",
       "      <td>...</td>\n",
       "      <td>1</td>\n",
       "      <td>0</td>\n",
       "      <td>15</td>\n",
       "      <td>5</td>\n",
       "      <td>3</td>\n",
       "      <td>1</td>\n",
       "      <td>0</td>\n",
       "      <td>0</td>\n",
       "      <td>0</td>\n",
       "      <td>1</td>\n",
       "    </tr>\n",
       "    <tr>\n",
       "      <th>2</th>\n",
       "      <td>34</td>\n",
       "      <td>0</td>\n",
       "      <td>2</td>\n",
       "      <td>1326</td>\n",
       "      <td>2</td>\n",
       "      <td>3</td>\n",
       "      <td>3</td>\n",
       "      <td>4</td>\n",
       "      <td>1478</td>\n",
       "      <td>4</td>\n",
       "      <td>...</td>\n",
       "      <td>4</td>\n",
       "      <td>0</td>\n",
       "      <td>15</td>\n",
       "      <td>2</td>\n",
       "      <td>3</td>\n",
       "      <td>13</td>\n",
       "      <td>9</td>\n",
       "      <td>3</td>\n",
       "      <td>12</td>\n",
       "      <td>1</td>\n",
       "    </tr>\n",
       "    <tr>\n",
       "      <th>3</th>\n",
       "      <td>27</td>\n",
       "      <td>0</td>\n",
       "      <td>2</td>\n",
       "      <td>954</td>\n",
       "      <td>2</td>\n",
       "      <td>9</td>\n",
       "      <td>3</td>\n",
       "      <td>2</td>\n",
       "      <td>1965</td>\n",
       "      <td>4</td>\n",
       "      <td>...</td>\n",
       "      <td>1</td>\n",
       "      <td>0</td>\n",
       "      <td>7</td>\n",
       "      <td>5</td>\n",
       "      <td>3</td>\n",
       "      <td>7</td>\n",
       "      <td>7</td>\n",
       "      <td>0</td>\n",
       "      <td>7</td>\n",
       "      <td>1</td>\n",
       "    </tr>\n",
       "    <tr>\n",
       "      <th>4</th>\n",
       "      <td>32</td>\n",
       "      <td>0</td>\n",
       "      <td>2</td>\n",
       "      <td>929</td>\n",
       "      <td>2</td>\n",
       "      <td>10</td>\n",
       "      <td>3</td>\n",
       "      <td>2</td>\n",
       "      <td>722</td>\n",
       "      <td>4</td>\n",
       "      <td>...</td>\n",
       "      <td>4</td>\n",
       "      <td>0</td>\n",
       "      <td>10</td>\n",
       "      <td>2</td>\n",
       "      <td>2</td>\n",
       "      <td>10</td>\n",
       "      <td>7</td>\n",
       "      <td>0</td>\n",
       "      <td>8</td>\n",
       "      <td>1</td>\n",
       "    </tr>\n",
       "  </tbody>\n",
       "</table>\n",
       "<p>5 rows × 33 columns</p>\n",
       "</div>"
      ],
      "text/plain": [
       "   Age  Attrition  BusinessTravel  DailyRate  Department  DistanceFromHome  \\\n",
       "0   29          0               2        592           1                 7   \n",
       "1   36          0               2        884           2                 1   \n",
       "2   34          0               2       1326           2                 3   \n",
       "3   27          0               2        954           2                 9   \n",
       "4   32          0               2        929           2                10   \n",
       "\n",
       "   Education  EducationField  EmployeeNumber  EnvironmentSatisfaction  ...  \\\n",
       "0          3               1            1883                        4  ...   \n",
       "1          4               1            1585                        2  ...   \n",
       "2          3               4            1478                        4  ...   \n",
       "3          3               2            1965                        4  ...   \n",
       "4          3               2             722                        4  ...   \n",
       "\n",
       "   RelationshipSatisfaction  StockOptionLevel  TotalWorkingYears  \\\n",
       "0                         2                 0                 11   \n",
       "1                         1                 0                 15   \n",
       "2                         4                 0                 15   \n",
       "3                         1                 0                  7   \n",
       "4                         4                 0                 10   \n",
       "\n",
       "   TrainingTimesLastYear  WorkLifeBalance  YearsAtCompany  YearsInCurrentRole  \\\n",
       "0                      2                3               3                   2   \n",
       "1                      5                3               1                   0   \n",
       "2                      2                3              13                   9   \n",
       "3                      5                3               7                   7   \n",
       "4                      2                2              10                   7   \n",
       "\n",
       "   YearsSinceLastPromotion  YearsWithCurrManager  EBusinessTravel  \n",
       "0                        1                     2                1  \n",
       "1                        0                     0                1  \n",
       "2                        3                    12                1  \n",
       "3                        0                     7                1  \n",
       "4                        0                     8                1  \n",
       "\n",
       "[5 rows x 33 columns]"
      ]
     },
     "execution_count": 16,
     "metadata": {},
     "output_type": "execute_result"
    }
   ],
   "source": [
    "encoders = {}\n",
    "for i in DF.select_dtypes(exclude=[\"number\"]).columns:\n",
    "    encoders[i] = LabelEncoder()\n",
    "    DF[i] = encoders[i].fit_transform(DF[i])\n",
    "    \n",
    "DF.head()"
   ]
  },
  {
   "cell_type": "code",
   "execution_count": 17,
   "id": "cd0282ad",
   "metadata": {
    "execution": {
     "iopub.execute_input": "2024-01-07T10:13:20.459707Z",
     "iopub.status.busy": "2024-01-07T10:13:20.459184Z",
     "iopub.status.idle": "2024-01-07T10:13:20.468112Z",
     "shell.execute_reply": "2024-01-07T10:13:20.466876Z"
    },
    "id": "scGFLjFmY6r9",
    "papermill": {
     "duration": 0.050922,
     "end_time": "2024-01-07T10:13:20.470728",
     "exception": false,
     "start_time": "2024-01-07T10:13:20.419806",
     "status": "completed"
    },
    "tags": []
   },
   "outputs": [],
   "source": [
    "train, TV = train_test_split(DF, test_size=0.2)"
   ]
  },
  {
   "cell_type": "code",
   "execution_count": 18,
   "id": "029c837c",
   "metadata": {
    "execution": {
     "iopub.execute_input": "2024-01-07T10:13:20.549466Z",
     "iopub.status.busy": "2024-01-07T10:13:20.549018Z",
     "iopub.status.idle": "2024-01-07T10:13:20.556729Z",
     "shell.execute_reply": "2024-01-07T10:13:20.555296Z"
    },
    "id": "61k2TkwbY6r9",
    "outputId": "4b0754af-6205-407b-b605-22a8a5e81d11",
    "papermill": {
     "duration": 0.050072,
     "end_time": "2024-01-07T10:13:20.559549",
     "exception": false,
     "start_time": "2024-01-07T10:13:20.509477",
     "status": "completed"
    },
    "tags": []
   },
   "outputs": [
    {
     "name": "stdout",
     "output_type": "stream",
     "text": [
      "Xy train :  (881, 33)\n",
      "Xy test/validation :  (221, 33)\n"
     ]
    }
   ],
   "source": [
    "print(\"Xy train : \" ,train.shape)\n",
    "print(\"Xy test/validation : \" ,TV.shape)"
   ]
  },
  {
   "cell_type": "markdown",
   "id": "7793c1be",
   "metadata": {
    "id": "UubVA2F1Qy0n",
    "papermill": {
     "duration": 0.037103,
     "end_time": "2024-01-07T10:13:20.635746",
     "exception": false,
     "start_time": "2024-01-07T10:13:20.598643",
     "status": "completed"
    },
    "tags": []
   },
   "source": [
    "Further split the test dataframe into validation and test dataframes. **(P2-2: 0.5 point)**"
   ]
  },
  {
   "cell_type": "code",
   "execution_count": 19,
   "id": "281f42fe",
   "metadata": {
    "execution": {
     "iopub.execute_input": "2024-01-07T10:13:20.715452Z",
     "iopub.status.busy": "2024-01-07T10:13:20.714946Z",
     "iopub.status.idle": "2024-01-07T10:13:20.724724Z",
     "shell.execute_reply": "2024-01-07T10:13:20.723307Z"
    },
    "id": "Ne1RvrleQy0o",
    "papermill": {
     "duration": 0.051264,
     "end_time": "2024-01-07T10:13:20.727263",
     "exception": false,
     "start_time": "2024-01-07T10:13:20.675999",
     "status": "completed"
    },
    "tags": []
   },
   "outputs": [
    {
     "name": "stdout",
     "output_type": "stream",
     "text": [
      "Xy train :  (110, 33)\n",
      "Xy validation :  (111, 33)\n"
     ]
    }
   ],
   "source": [
    "test, validation = train_test_split(TV, test_size=0.5)\n",
    "\n",
    "print(\"Xy train : \" ,test.shape)\n",
    "print(\"Xy validation : \" ,validation.shape)"
   ]
  },
  {
   "cell_type": "markdown",
   "id": "dbd42ede",
   "metadata": {
    "id": "zfzCvdfOY6r-",
    "papermill": {
     "duration": 0.036514,
     "end_time": "2024-01-07T10:13:20.802296",
     "exception": false,
     "start_time": "2024-01-07T10:13:20.765782",
     "status": "completed"
    },
    "tags": []
   },
   "source": [
    "Split the test and validation dataframe into feature and label part, Attrition columns is the target columns and rest of the columns should be treated as features. **(P2-3: 1 point)**"
   ]
  },
  {
   "cell_type": "code",
   "execution_count": 20,
   "id": "08443722",
   "metadata": {
    "execution": {
     "iopub.execute_input": "2024-01-07T10:13:20.879229Z",
     "iopub.status.busy": "2024-01-07T10:13:20.878763Z",
     "iopub.status.idle": "2024-01-07T10:13:20.887719Z",
     "shell.execute_reply": "2024-01-07T10:13:20.886430Z"
    },
    "id": "LKMQHWuUY6r_",
    "papermill": {
     "duration": 0.050791,
     "end_time": "2024-01-07T10:13:20.890695",
     "exception": false,
     "start_time": "2024-01-07T10:13:20.839904",
     "status": "completed"
    },
    "tags": []
   },
   "outputs": [],
   "source": [
    "X_val = validation.drop('Attrition', axis=1)\n",
    "y_val = validation['Attrition']\n",
    "\n",
    "X_test = test.drop('Attrition', axis=1)\n",
    "y_test = test['Attrition']"
   ]
  },
  {
   "cell_type": "markdown",
   "id": "33838ff0",
   "metadata": {
    "id": "GSpqMTFpY6r_",
    "papermill": {
     "duration": 0.037874,
     "end_time": "2024-01-07T10:13:20.966742",
     "exception": false,
     "start_time": "2024-01-07T10:13:20.928868",
     "status": "completed"
    },
    "tags": []
   },
   "source": [
    "check if the training dataset is label balanced. **(P2-4: 2 points)**"
   ]
  },
  {
   "cell_type": "code",
   "execution_count": 21,
   "id": "553b9d11",
   "metadata": {
    "execution": {
     "iopub.execute_input": "2024-01-07T10:13:21.046217Z",
     "iopub.status.busy": "2024-01-07T10:13:21.045753Z",
     "iopub.status.idle": "2024-01-07T10:13:21.056568Z",
     "shell.execute_reply": "2024-01-07T10:13:21.055327Z"
    },
    "id": "BRYjba3CY6sA",
    "outputId": "6863e2b8-763a-4579-b96b-e2aa3a3d2ab2",
    "papermill": {
     "duration": 0.054302,
     "end_time": "2024-01-07T10:13:21.059522",
     "exception": false,
     "start_time": "2024-01-07T10:13:21.005220",
     "status": "completed"
    },
    "tags": []
   },
   "outputs": [
    {
     "name": "stdout",
     "output_type": "stream",
     "text": [
      "percentage : \n",
      " Attrition\n",
      "0    82.746879\n",
      "1    17.253121\n",
      "Name: proportion, dtype: float64\n",
      "\n",
      "\n",
      "its clear that its not balanced\n"
     ]
    }
   ],
   "source": [
    "print(\"percentage : \\n\", train['Attrition'].value_counts(normalize=True) * 100)\n",
    "\n",
    "print(\"\\n\\nits clear that its not balanced\")"
   ]
  },
  {
   "cell_type": "markdown",
   "id": "b87b1d91",
   "metadata": {
    "id": "HyI8OMESY6sB",
    "papermill": {
     "duration": 0.038396,
     "end_time": "2024-01-07T10:13:21.136139",
     "exception": false,
     "start_time": "2024-01-07T10:13:21.097743",
     "status": "completed"
    },
    "tags": []
   },
   "source": [
    "Balance the training dataset by oversampling the class with less samples. **(P2-5: 2 points)**\n",
    "\n",
    "Don't know oversampling? Read [this link](https://deeptip.ir/oversampling-and-undersampling-in-python/) (5 minutes)"
   ]
  },
  {
   "cell_type": "code",
   "execution_count": 22,
   "id": "64eafd91",
   "metadata": {
    "execution": {
     "iopub.execute_input": "2024-01-07T10:13:21.214850Z",
     "iopub.status.busy": "2024-01-07T10:13:21.214379Z",
     "iopub.status.idle": "2024-01-07T10:13:21.403013Z",
     "shell.execute_reply": "2024-01-07T10:13:21.401760Z"
    },
    "id": "-0AmZtFeY6sC",
    "papermill": {
     "duration": 0.231337,
     "end_time": "2024-01-07T10:13:21.406095",
     "exception": false,
     "start_time": "2024-01-07T10:13:21.174758",
     "status": "completed"
    },
    "tags": []
   },
   "outputs": [],
   "source": [
    "\"\"\"\n",
    "couldnt open the given link so i looked up this link :\n",
    "https://machinelearningmastery.com/random-oversampling-and-undersampling-for-imbalanced-classification/\n",
    "\n",
    "\"\"\"\n",
    "from imblearn.over_sampling import RandomOverSampler\n",
    "\n",
    "R = RandomOverSampler()\n",
    "X_train, y_train = R.fit_resample(train.drop('Attrition', axis=1), train['Attrition'])"
   ]
  },
  {
   "cell_type": "code",
   "execution_count": 23,
   "id": "f7b550bf",
   "metadata": {
    "execution": {
     "iopub.execute_input": "2024-01-07T10:13:21.486430Z",
     "iopub.status.busy": "2024-01-07T10:13:21.484715Z",
     "iopub.status.idle": "2024-01-07T10:13:21.493568Z",
     "shell.execute_reply": "2024-01-07T10:13:21.492658Z"
    },
    "id": "AHghb96ZY6sD",
    "outputId": "ca75a026-4dc9-4bd7-affa-cee9f3a80aa2",
    "papermill": {
     "duration": 0.051164,
     "end_time": "2024-01-07T10:13:21.496180",
     "exception": false,
     "start_time": "2024-01-07T10:13:21.445016",
     "status": "completed"
    },
    "tags": []
   },
   "outputs": [
    {
     "name": "stdout",
     "output_type": "stream",
     "text": [
      "percentage : \n",
      " Attrition\n",
      "0    50.0\n",
      "1    50.0\n",
      "Name: proportion, dtype: float64\n",
      "\n",
      "\n",
      "now we are dealing with a balanced train\n"
     ]
    }
   ],
   "source": [
    "print(\"percentage : \\n\", y_train.value_counts(normalize=True) * 100)\n",
    "\n",
    "print(\"\\n\\nnow we are dealing with a balanced train\")"
   ]
  },
  {
   "cell_type": "markdown",
   "id": "82d4a1fc",
   "metadata": {
    "id": "weAvJ4YkY6sE",
    "papermill": {
     "duration": 0.037721,
     "end_time": "2024-01-07T10:13:21.572813",
     "exception": false,
     "start_time": "2024-01-07T10:13:21.535092",
     "status": "completed"
    },
    "tags": []
   },
   "source": [
    "Split the training dataframe into feature and target columns. **(P2-6: 1 point)**"
   ]
  },
  {
   "cell_type": "code",
   "execution_count": 24,
   "id": "c7fb9f4e",
   "metadata": {
    "execution": {
     "iopub.execute_input": "2024-01-07T10:13:21.651676Z",
     "iopub.status.busy": "2024-01-07T10:13:21.651179Z",
     "iopub.status.idle": "2024-01-07T10:13:21.655870Z",
     "shell.execute_reply": "2024-01-07T10:13:21.654721Z"
    },
    "id": "SGcR7r_oY6sF",
    "papermill": {
     "duration": 0.047535,
     "end_time": "2024-01-07T10:13:21.658469",
     "exception": false,
     "start_time": "2024-01-07T10:13:21.610934",
     "status": "completed"
    },
    "tags": []
   },
   "outputs": [],
   "source": [
    "X_train = X_train\n",
    "y_train = y_train"
   ]
  },
  {
   "cell_type": "markdown",
   "id": "452ecb1e",
   "metadata": {
    "id": "7o4c3mGuY6sx",
    "papermill": {
     "duration": 0.037259,
     "end_time": "2024-01-07T10:13:21.733399",
     "exception": false,
     "start_time": "2024-01-07T10:13:21.696140",
     "status": "completed"
    },
    "tags": []
   },
   "source": [
    "# P3: Decision tree from scratch (20 points)\n",
    "Don't know Decision Tree? Read [this link](https://betterdatascience.com/mml-decision-trees/) (25 minutes).\n",
    "\n",
    "Watch an introduction to Decision Trees [here](https://www.youtube.com/watch?v=J4Wdy0Wc_xQ&list=PLblh5JKOoLUIE96dI3U7oxHaCAbZgfhHk) (10 minutes).\n",
    "\n",
    "Implement decision tree based on the given functions. **(P3-1: 15 points)**\n",
    "\n",
    "The given functions are not mandatory, you can add or remove any functions if needed."
   ]
  },
  {
   "cell_type": "code",
   "execution_count": 25,
   "id": "3c1be5b5",
   "metadata": {
    "execution": {
     "iopub.execute_input": "2024-01-07T10:13:21.812196Z",
     "iopub.status.busy": "2024-01-07T10:13:21.811778Z",
     "iopub.status.idle": "2024-01-07T10:13:21.831970Z",
     "shell.execute_reply": "2024-01-07T10:13:21.830859Z"
    },
    "id": "AgXSufRBY6sx",
    "papermill": {
     "duration": 0.063423,
     "end_time": "2024-01-07T10:13:21.834750",
     "exception": false,
     "start_time": "2024-01-07T10:13:21.771327",
     "status": "completed"
    },
    "tags": []
   },
   "outputs": [],
   "source": [
    "class DecisionTree:\n",
    "\n",
    "    def __init__(self, max_depth=None, max_features=None):\n",
    "        self.max_depth = max_depth\n",
    "        self.max_features = max_features\n",
    "        self.tree = {}\n",
    "\n",
    "    def _compute_entropy(self, y):\n",
    "        classes, counts = np.unique(y, return_counts=True)\n",
    "        return -np.sum(counts / len(y) * np.log2(counts / len(y)))\n",
    "\n",
    "    def _split_data(self, X, y, feature_index, threshold):\n",
    "        left_mask = X[:, feature_index] <= threshold\n",
    "        right_mask = X[:, feature_index] > threshold\n",
    "        return X[left_mask], X[right_mask], y[left_mask], y[right_mask]\n",
    "\n",
    "    def _find_best_split(self, X, y):\n",
    "        best_feature_index, best_threshold, best_entropy = None, None, float('inf')\n",
    "        for feature_index in range(X.shape[1]):\n",
    "            for threshold in np.unique(X[:, feature_index]):\n",
    "                left_data, right_data, left_labels, right_labels = self._split_data(X, y, feature_index, threshold)\n",
    "                if len(left_data) == 0 or len(right_data) == 0: continue\n",
    "                total_entropy = len(left_labels) / len(y) * self._compute_entropy(left_labels) + len(right_labels) / len(y) * self._compute_entropy(right_labels)\n",
    "                if total_entropy < best_entropy: best_feature_index, best_threshold, best_entropy = feature_index, threshold, total_entropy\n",
    "        return best_feature_index, best_threshold\n",
    "\n",
    "    def _build_tree(self, X, y, depth):\n",
    "        if depth == 0 or len(np.unique(y)) == 1: return np.bincount(y).argmax()\n",
    "        best_feature_index, best_threshold = self._find_best_split(X, y)\n",
    "        if best_feature_index is None: return np.bincount(y).argmax()\n",
    "        left_data, right_data, left_labels, right_labels = self._split_data(X, y, best_feature_index, best_threshold)\n",
    "        if len(left_data) == 0 or len(right_data) == 0: return np.bincount(y).argmax()        \n",
    "        left_subtree ,right_subtree = self._build_tree(left_data, left_labels, depth - 1) , self._build_tree(right_data, right_labels, depth - 1)\n",
    "        res = dict()\n",
    "        res[\"feature_index\"], res[\"threshold\"], res[\"left\"], res[\"right\"] = best_feature_index, best_threshold, left_subtree ,right_subtree\n",
    "        return res\n",
    "\n",
    "    def fit(self, X, y):\n",
    "        self.tree = self._build_tree(X, y, self.max_depth)\n",
    "\n",
    "    def _predict_sample(self, x, tree):\n",
    "        if not isinstance(tree, dict): return tree\n",
    "        feature_index, threshold = tree['feature_index'], tree['threshold']\n",
    "        if x[feature_index] > threshold:\n",
    "            return self._predict_sample(x, tree['right'])\n",
    "        return self._predict_sample(x, tree['left'])\n",
    "\n",
    "    def predict(self, X):\n",
    "        result = []\n",
    "        for x in X: \n",
    "            result.append(self._predict_sample(x, self.tree))\n",
    "        return np.array(result)"
   ]
  },
  {
   "cell_type": "markdown",
   "id": "08c98c75",
   "metadata": {
    "papermill": {
     "duration": 0.037195,
     "end_time": "2024-01-07T10:13:21.911913",
     "exception": false,
     "start_time": "2024-01-07T10:13:21.874718",
     "status": "completed"
    },
    "tags": []
   },
   "source": [
    "Define the model and train it. **(P3-2: 1 point)**"
   ]
  },
  {
   "cell_type": "code",
   "execution_count": 26,
   "id": "b69c30c3",
   "metadata": {
    "execution": {
     "iopub.execute_input": "2024-01-07T10:13:21.991984Z",
     "iopub.status.busy": "2024-01-07T10:13:21.990659Z",
     "iopub.status.idle": "2024-01-07T10:13:26.881544Z",
     "shell.execute_reply": "2024-01-07T10:13:26.879890Z"
    },
    "id": "MhdIVjK_Y6sy",
    "papermill": {
     "duration": 4.935022,
     "end_time": "2024-01-07T10:13:26.884505",
     "exception": false,
     "start_time": "2024-01-07T10:13:21.949483",
     "status": "completed"
    },
    "tags": []
   },
   "outputs": [],
   "source": [
    "customDT = DecisionTree(max_depth = 3)  \n",
    "customDT.fit(X_train.values, y_train)"
   ]
  },
  {
   "cell_type": "markdown",
   "id": "cad2a54a",
   "metadata": {
    "papermill": {
     "duration": 0.038136,
     "end_time": "2024-01-07T10:13:26.961928",
     "exception": false,
     "start_time": "2024-01-07T10:13:26.923792",
     "status": "completed"
    },
    "tags": []
   },
   "source": [
    "Predict the y_train and y_val values. **(P3-3: 1 point)**"
   ]
  },
  {
   "cell_type": "code",
   "execution_count": 27,
   "id": "a34723fe",
   "metadata": {
    "execution": {
     "iopub.execute_input": "2024-01-07T10:13:27.040955Z",
     "iopub.status.busy": "2024-01-07T10:13:27.040438Z",
     "iopub.status.idle": "2024-01-07T10:13:27.053823Z",
     "shell.execute_reply": "2024-01-07T10:13:27.052312Z"
    },
    "id": "TxoeEQloY6sy",
    "papermill": {
     "duration": 0.05642,
     "end_time": "2024-01-07T10:13:27.056934",
     "exception": false,
     "start_time": "2024-01-07T10:13:27.000514",
     "status": "completed"
    },
    "tags": []
   },
   "outputs": [],
   "source": [
    "y_train_pred = customDT.predict(X_train.values)\n",
    "y_val_pred = customDT.predict(X_val.values)"
   ]
  },
  {
   "cell_type": "code",
   "execution_count": 28,
   "id": "e19ee127",
   "metadata": {
    "execution": {
     "iopub.execute_input": "2024-01-07T10:13:27.140486Z",
     "iopub.status.busy": "2024-01-07T10:13:27.139985Z",
     "iopub.status.idle": "2024-01-07T10:13:27.162020Z",
     "shell.execute_reply": "2024-01-07T10:13:27.160618Z"
    },
    "id": "Juh0taxYY6sy",
    "outputId": "3cbdc019-7ca7-4c94-b649-2446df1789f9",
    "papermill": {
     "duration": 0.066255,
     "end_time": "2024-01-07T10:13:27.164547",
     "exception": false,
     "start_time": "2024-01-07T10:13:27.098292",
     "status": "completed"
    },
    "tags": []
   },
   "outputs": [
    {
     "name": "stdout",
     "output_type": "stream",
     "text": [
      "Train and validation accuracy are: 0.7661179698216736, 0.7387387387387387\n",
      "Train and validation recall are: 0.6776406035665294, 0.47619047619047616\n",
      "Train and validation f1 are: 0.7434161023325809, 0.40816326530612246\n"
     ]
    }
   ],
   "source": [
    "print(f'Train and validation accuracy are: {accuracy_score(y_train, y_train_pred)}, {accuracy_score(y_val, y_val_pred)}')\n",
    "\n",
    "print(f'Train and validation recall are: {recall_score(y_train, y_train_pred)}, {recall_score(y_val, y_val_pred)}')\n",
    "\n",
    "print(f'Train and validation f1 are: {f1_score(y_train, y_train_pred)}, {f1_score(y_val, y_val_pred)}')"
   ]
  },
  {
   "cell_type": "markdown",
   "id": "4ccfde30",
   "metadata": {
    "papermill": {
     "duration": 0.038127,
     "end_time": "2024-01-07T10:13:27.241469",
     "exception": false,
     "start_time": "2024-01-07T10:13:27.203342",
     "status": "completed"
    },
    "tags": []
   },
   "source": [
    "Visulize (y_train, y_train_pred) using Heatmap **(P3-4: 1.5 points)**"
   ]
  },
  {
   "cell_type": "code",
   "execution_count": 29,
   "id": "2d90f7d6",
   "metadata": {
    "execution": {
     "iopub.execute_input": "2024-01-07T10:13:27.323323Z",
     "iopub.status.busy": "2024-01-07T10:13:27.322820Z",
     "iopub.status.idle": "2024-01-07T10:13:27.616238Z",
     "shell.execute_reply": "2024-01-07T10:13:27.615045Z"
    },
    "id": "HT16ccWiY6sy",
    "outputId": "f360b49c-6061-4cfc-aa56-152e6b6bcd72",
    "papermill": {
     "duration": 0.337427,
     "end_time": "2024-01-07T10:13:27.618801",
     "exception": false,
     "start_time": "2024-01-07T10:13:27.281374",
     "status": "completed"
    },
    "tags": []
   },
   "outputs": [
    {
     "data": {
      "text/plain": [
       "<Axes: >"
      ]
     },
     "execution_count": 29,
     "metadata": {},
     "output_type": "execute_result"
    },
    {
     "data": {
      "image/png": "[encoded data removed]",
      "text/plain": [
       "<Figure size 640x480 with 2 Axes>"
      ]
     },
     "metadata": {},
     "output_type": "display_data"
    }
   ],
   "source": [
    "# src: https://www.geeksforgeeks.org/seaborn-heatmap-a-comprehensive-guide/ (6 minutes)\n",
    "# src: https://blog.faradars.org/confusion-matrix-from-zero-to-hero/ (5 minutes)\n",
    "\n",
    "CM = confusion_matrix(y_train, y_train_pred)\n",
    "sns.heatmap(CM, annot=True, fmt='d')"
   ]
  },
  {
   "cell_type": "markdown",
   "id": "e5600efc",
   "metadata": {
    "papermill": {
     "duration": 0.040407,
     "end_time": "2024-01-07T10:13:27.698886",
     "exception": false,
     "start_time": "2024-01-07T10:13:27.658479",
     "status": "completed"
    },
    "tags": []
   },
   "source": [
    "Visulize (y_val, y_val_pred) using Heatmap **(P3-5: 1.5 points)**"
   ]
  },
  {
   "cell_type": "code",
   "execution_count": 30,
   "id": "8d4b5961",
   "metadata": {
    "execution": {
     "iopub.execute_input": "2024-01-07T10:13:27.781306Z",
     "iopub.status.busy": "2024-01-07T10:13:27.780861Z",
     "iopub.status.idle": "2024-01-07T10:13:28.106385Z",
     "shell.execute_reply": "2024-01-07T10:13:28.104812Z"
    },
    "id": "lkFcU41DY6sz",
    "outputId": "66eda1b9-c56b-4690-8f06-e2146faaa567",
    "papermill": {
     "duration": 0.371401,
     "end_time": "2024-01-07T10:13:28.109692",
     "exception": false,
     "start_time": "2024-01-07T10:13:27.738291",
     "status": "completed"
    },
    "tags": []
   },
   "outputs": [
    {
     "data": {
      "text/plain": [
       "<Axes: >"
      ]
     },
     "execution_count": 30,
     "metadata": {},
     "output_type": "execute_result"
    },
    {
     "data": {
      "image/png": "[encoded data removed]",
      "text/plain": [
       "<Figure size 640x480 with 2 Axes>"
      ]
     },
     "metadata": {},
     "output_type": "display_data"
    }
   ],
   "source": [
    "CM = confusion_matrix(y_val, y_val_pred)\n",
    "sns.heatmap(CM, annot=True, fmt='d')"
   ]
  },
  {
   "cell_type": "markdown",
   "id": "965e905d",
   "metadata": {
    "id": "hIj4WvP7Y6sz",
    "papermill": {
     "duration": 0.040019,
     "end_time": "2024-01-07T10:13:28.189992",
     "exception": false,
     "start_time": "2024-01-07T10:13:28.149973",
     "status": "completed"
    },
    "tags": []
   },
   "source": [
    "# P4: Random forest from scratch (20 points)\n",
    "Don't know Random Forest? Read [this link](https://quera.org/blog/random-forest-algorithm/) (15 minutes).\n",
    "\n",
    "Implement Random Forest based on the given functions. **(P4-1: 15 points)**\n",
    "\n",
    "The given functions are not mandatory, you can add or remove any functions if needed."
   ]
  },
  {
   "cell_type": "code",
   "execution_count": 31,
   "id": "b19726b8",
   "metadata": {
    "execution": {
     "iopub.execute_input": "2024-01-07T10:13:28.270914Z",
     "iopub.status.busy": "2024-01-07T10:13:28.270354Z",
     "iopub.status.idle": "2024-01-07T10:13:28.283398Z",
     "shell.execute_reply": "2024-01-07T10:13:28.281959Z"
    },
    "id": "LdZogTTzY6sz",
    "papermill": {
     "duration": 0.05674,
     "end_time": "2024-01-07T10:13:28.286128",
     "exception": false,
     "start_time": "2024-01-07T10:13:28.229388",
     "status": "completed"
    },
    "tags": []
   },
   "outputs": [],
   "source": [
    "class RandomForest:\n",
    "    def __init__(self, num_trees=10, max_depth=None, random_state=None, max_features=None):\n",
    "        self.num_trees = num_trees\n",
    "        self.max_depth = max_depth\n",
    "        self.random_state = random_state\n",
    "        self.max_features = max_features\n",
    "        self.trees = []\n",
    "\n",
    "    def fit(self, X, y):\n",
    "        np.random.seed(self.random_state)\n",
    "        num_samples ,num_features = X.shape\n",
    "        for i in range(self.num_trees):\n",
    "            indices = np.random.choice(num_samples, num_samples, replace = True)\n",
    "            tree = DecisionTree(max_depth = self.max_depth, max_features = self.max_features)\n",
    "            if self.max_features:\n",
    "                feature_indices = np.random.choice(num_features, self.max_features, replace=False)\n",
    "                tree.fit(X[indices][:, feature_indices], y[indices])\n",
    "            else:\n",
    "                tree.fit(X[indices], y[indices])\n",
    "            self.trees.append(tree)\n",
    "\n",
    "    def predict(self, X):\n",
    "        predictions = np.zeros((X.shape[0], len(self.trees)))\n",
    "        for i, tree in enumerate(self.trees):\n",
    "            predictions[:, i] = np.round(tree.predict(X)).astype(int)\n",
    "        return np.array([np.bincount(row.astype(int)).argmax() for row in predictions])"
   ]
  },
  {
   "cell_type": "markdown",
   "id": "213dd35f",
   "metadata": {
    "papermill": {
     "duration": 0.038851,
     "end_time": "2024-01-07T10:13:28.364012",
     "exception": false,
     "start_time": "2024-01-07T10:13:28.325161",
     "status": "completed"
    },
    "tags": []
   },
   "source": [
    "Define the model and train it. **(P4-2: 1 point)**"
   ]
  },
  {
   "cell_type": "code",
   "execution_count": 32,
   "id": "bdbe7601",
   "metadata": {
    "execution": {
     "iopub.execute_input": "2024-01-07T10:13:28.443129Z",
     "iopub.status.busy": "2024-01-07T10:13:28.442654Z",
     "iopub.status.idle": "2024-01-07T10:15:34.424415Z",
     "shell.execute_reply": "2024-01-07T10:15:34.423194Z"
    },
    "id": "WDBTkxW-Y6sz",
    "papermill": {
     "duration": 126.025726,
     "end_time": "2024-01-07T10:15:34.427876",
     "exception": false,
     "start_time": "2024-01-07T10:13:28.402150",
     "status": "completed"
    },
    "tags": []
   },
   "outputs": [],
   "source": [
    "customRF = RandomForest(num_trees=20, max_depth=5)\n",
    "customRF.fit(X_train.values, y_train)"
   ]
  },
  {
   "cell_type": "markdown",
   "id": "dd0a9f4a",
   "metadata": {
    "papermill": {
     "duration": 0.039331,
     "end_time": "2024-01-07T10:15:34.507362",
     "exception": false,
     "start_time": "2024-01-07T10:15:34.468031",
     "status": "completed"
    },
    "tags": []
   },
   "source": [
    "Predict the y_train and y_val values. **(P4-3: 1 point)**"
   ]
  },
  {
   "cell_type": "code",
   "execution_count": 33,
   "id": "e5c4d0a8",
   "metadata": {
    "execution": {
     "iopub.execute_input": "2024-01-07T10:15:34.590252Z",
     "iopub.status.busy": "2024-01-07T10:15:34.588668Z",
     "iopub.status.idle": "2024-01-07T10:15:34.752040Z",
     "shell.execute_reply": "2024-01-07T10:15:34.750651Z"
    },
    "id": "kYXMVAAnY6s0",
    "papermill": {
     "duration": 0.208212,
     "end_time": "2024-01-07T10:15:34.755265",
     "exception": false,
     "start_time": "2024-01-07T10:15:34.547053",
     "status": "completed"
    },
    "tags": []
   },
   "outputs": [],
   "source": [
    "y_train_pred = customRF.predict(X_train.values)\n",
    "y_val_pred = customRF.predict(X_val.values)"
   ]
  },
  {
   "cell_type": "code",
   "execution_count": 34,
   "id": "b0bfbafa",
   "metadata": {
    "execution": {
     "iopub.execute_input": "2024-01-07T10:15:34.835360Z",
     "iopub.status.busy": "2024-01-07T10:15:34.834895Z",
     "iopub.status.idle": "2024-01-07T10:15:34.855391Z",
     "shell.execute_reply": "2024-01-07T10:15:34.853953Z"
    },
    "id": "D_vC8Q4QY6s0",
    "outputId": "9118ef47-954d-4e45-9fbc-d5104337fe9a",
    "papermill": {
     "duration": 0.063855,
     "end_time": "2024-01-07T10:15:34.857872",
     "exception": false,
     "start_time": "2024-01-07T10:15:34.794017",
     "status": "completed"
    },
    "tags": []
   },
   "outputs": [
    {
     "name": "stdout",
     "output_type": "stream",
     "text": [
      "Train and validation accuracy are: 0.8786008230452675 ,0.7567567567567568\n",
      "Train and validation recall are: 0.8436213991769548 ,0.5238095238095238\n",
      "Train and validation f1 are: 0.8742004264392325 ,0.4489795918367347\n"
     ]
    }
   ],
   "source": [
    "print(f'Train and validation accuracy are: {accuracy_score(y_train, y_train_pred)} ,{accuracy_score(y_val, y_val_pred)}')\n",
    "\n",
    "print(f'Train and validation recall are: {recall_score(y_train, y_train_pred)} ,{recall_score(y_val, y_val_pred)}')\n",
    "\n",
    "print(f'Train and validation f1 are: {f1_score(y_train, y_train_pred)} ,{f1_score(y_val, y_val_pred)}')"
   ]
  },
  {
   "cell_type": "markdown",
   "id": "26b32ff4",
   "metadata": {
    "papermill": {
     "duration": 0.037854,
     "end_time": "2024-01-07T10:15:34.934060",
     "exception": false,
     "start_time": "2024-01-07T10:15:34.896206",
     "status": "completed"
    },
    "tags": []
   },
   "source": [
    "Visulize (y_train, y_train_pred) using Heatmap **(P4-4: 1.5 points)**"
   ]
  },
  {
   "cell_type": "code",
   "execution_count": 35,
   "id": "48f6cdaa",
   "metadata": {
    "execution": {
     "iopub.execute_input": "2024-01-07T10:15:35.013564Z",
     "iopub.status.busy": "2024-01-07T10:15:35.012289Z",
     "iopub.status.idle": "2024-01-07T10:15:35.325756Z",
     "shell.execute_reply": "2024-01-07T10:15:35.324491Z"
    },
    "id": "BhItiTv1Y6s0",
    "outputId": "3f233ba1-696d-4876-ffd9-4088428fc357",
    "papermill": {
     "duration": 0.356041,
     "end_time": "2024-01-07T10:15:35.328276",
     "exception": false,
     "start_time": "2024-01-07T10:15:34.972235",
     "status": "completed"
    },
    "tags": []
   },
   "outputs": [
    {
     "data": {
      "text/plain": [
       "<Axes: >"
      ]
     },
     "execution_count": 35,
     "metadata": {},
     "output_type": "execute_result"
    },
    {
     "data": {
      "image/png": "[encoded data removed]",
      "text/plain": [
       "<Figure size 640x480 with 2 Axes>"
      ]
     },
     "metadata": {},
     "output_type": "display_data"
    }
   ],
   "source": [
    "CM = confusion_matrix(y_train, y_train_pred)\n",
    "sns.heatmap(CM, annot=True, fmt='d')"
   ]
  },
  {
   "cell_type": "markdown",
   "id": "c056d8e7",
   "metadata": {
    "papermill": {
     "duration": 0.038996,
     "end_time": "2024-01-07T10:15:35.406328",
     "exception": false,
     "start_time": "2024-01-07T10:15:35.367332",
     "status": "completed"
    },
    "tags": []
   },
   "source": [
    "Visulize (y_val, y_val_pred) using Heatmap **(P4-5: 1.5 points)**"
   ]
  },
  {
   "cell_type": "code",
   "execution_count": 36,
   "id": "afcb48ee",
   "metadata": {
    "execution": {
     "iopub.execute_input": "2024-01-07T10:15:35.487821Z",
     "iopub.status.busy": "2024-01-07T10:15:35.486443Z",
     "iopub.status.idle": "2024-01-07T10:15:35.809957Z",
     "shell.execute_reply": "2024-01-07T10:15:35.808620Z"
    },
    "id": "iThD4bu-Y6s1",
    "outputId": "ffd96f38-6b57-4497-f24d-e03858b94107",
    "papermill": {
     "duration": 0.366445,
     "end_time": "2024-01-07T10:15:35.812630",
     "exception": false,
     "start_time": "2024-01-07T10:15:35.446185",
     "status": "completed"
    },
    "tags": []
   },
   "outputs": [
    {
     "data": {
      "text/plain": [
       "<Axes: >"
      ]
     },
     "execution_count": 36,
     "metadata": {},
     "output_type": "execute_result"
    },
    {
     "data": {
      "image/png": "[encoded data removed]",
      "text/plain": [
       "<Figure size 640x480 with 2 Axes>"
      ]
     },
     "metadata": {},
     "output_type": "display_data"
    }
   ],
   "source": [
    "CM = confusion_matrix(y_val, y_val_pred)\n",
    "sns.heatmap(CM, annot=True, fmt='d')"
   ]
  },
  {
   "cell_type": "markdown",
   "id": "35743331",
   "metadata": {
    "id": "2KvBtKSfY6s1",
    "papermill": {
     "duration": 0.040061,
     "end_time": "2024-01-07T10:15:35.893010",
     "exception": false,
     "start_time": "2024-01-07T10:15:35.852949",
     "status": "completed"
    },
    "tags": []
   },
   "source": [
    "# P5: Decision Tree (10 points)"
   ]
  },
  {
   "cell_type": "markdown",
   "id": "184c97a2",
   "metadata": {
    "id": "EVViZvEHY6s1",
    "papermill": {
     "duration": 0.039719,
     "end_time": "2024-01-07T10:15:35.973614",
     "exception": false,
     "start_time": "2024-01-07T10:15:35.933895",
     "status": "completed"
    },
    "tags": []
   },
   "source": [
    "Fit the data to a decision tree (of sklearn) with maximum depth of 2. **(P5-1: 2 points)**"
   ]
  },
  {
   "cell_type": "code",
   "execution_count": 37,
   "id": "dba72003",
   "metadata": {
    "execution": {
     "iopub.execute_input": "2024-01-07T10:15:36.058307Z",
     "iopub.status.busy": "2024-01-07T10:15:36.057520Z",
     "iopub.status.idle": "2024-01-07T10:15:36.079316Z",
     "shell.execute_reply": "2024-01-07T10:15:36.077853Z"
    },
    "id": "Rv500otuY6s2",
    "outputId": "e3a39b7e-01ed-416f-fd3a-feac4fd4a1fa",
    "papermill": {
     "duration": 0.067909,
     "end_time": "2024-01-07T10:15:36.082094",
     "exception": false,
     "start_time": "2024-01-07T10:15:36.014185",
     "status": "completed"
    },
    "tags": []
   },
   "outputs": [
    {
     "data": {
      "text/html": [
       "<style>#sk-container-id-1 {color: black;background-color: white;}#sk-container-id-1 pre{padding: 0;}#sk-container-id-1 div.sk-toggleable {background-color: white;}#sk-container-id-1 label.sk-toggleable__label {cursor: pointer;display: block;width: 100%;margin-bottom: 0;padding: 0.3em;box-sizing: border-box;text-align: center;}#sk-container-id-1 label.sk-toggleable__label-arrow:before {content: \"▸\";float: left;margin-right: 0.25em;color: #696969;}#sk-container-id-1 label.sk-toggleable__label-arrow:hover:before {color: black;}#sk-container-id-1 div.sk-estimator:hover label.sk-toggleable__label-arrow:before {color: black;}#sk-container-id-1 div.sk-toggleable__content {max-height: 0;max-width: 0;overflow: hidden;text-align: left;background-color: #f0f8ff;}#sk-container-id-1 div.sk-toggleable__content pre {margin: 0.2em;color: black;border-radius: 0.25em;background-color: #f0f8ff;}#sk-container-id-1 input.sk-toggleable__control:checked~div.sk-toggleable__content {max-height: 200px;max-width: 100%;overflow: auto;}#sk-container-id-1 input.sk-toggleable__control:checked~label.sk-toggleable__label-arrow:before {content: \"▾\";}#sk-container-id-1 div.sk-estimator input.sk-toggleable__control:checked~label.sk-toggleable__label {background-color: #d4ebff;}#sk-container-id-1 div.sk-label input.sk-toggleable__control:checked~label.sk-toggleable__label {background-color: #d4ebff;}#sk-container-id-1 input.sk-hidden--visually {border: 0;clip: rect(1px 1px 1px 1px);clip: rect(1px, 1px, 1px, 1px);height: 1px;margin: -1px;overflow: hidden;padding: 0;position: absolute;width: 1px;}#sk-container-id-1 div.sk-estimator {font-family: monospace;background-color: #f0f8ff;border: 1px dotted black;border-radius: 0.25em;box-sizing: border-box;margin-bottom: 0.5em;}#sk-container-id-1 div.sk-estimator:hover {background-color: #d4ebff;}#sk-container-id-1 div.sk-parallel-item::after {content: \"\";width: 100%;border-bottom: 1px solid gray;flex-grow: 1;}#sk-container-id-1 div.sk-label:hover label.sk-toggleable__label {background-color: #d4ebff;}#sk-container-id-1 div.sk-serial::before {content: \"\";position: absolute;border-left: 1px solid gray;box-sizing: border-box;top: 0;bottom: 0;left: 50%;z-index: 0;}#sk-container-id-1 div.sk-serial {display: flex;flex-direction: column;align-items: center;background-color: white;padding-right: 0.2em;padding-left: 0.2em;position: relative;}#sk-container-id-1 div.sk-item {position: relative;z-index: 1;}#sk-container-id-1 div.sk-parallel {display: flex;align-items: stretch;justify-content: center;background-color: white;position: relative;}#sk-container-id-1 div.sk-item::before, #sk-container-id-1 div.sk-parallel-item::before {content: \"\";position: absolute;border-left: 1px solid gray;box-sizing: border-box;top: 0;bottom: 0;left: 50%;z-index: -1;}#sk-container-id-1 div.sk-parallel-item {display: flex;flex-direction: column;z-index: 1;position: relative;background-color: white;}#sk-container-id-1 div.sk-parallel-item:first-child::after {align-self: flex-end;width: 50%;}#sk-container-id-1 div.sk-parallel-item:last-child::after {align-self: flex-start;width: 50%;}#sk-container-id-1 div.sk-parallel-item:only-child::after {width: 0;}#sk-container-id-1 div.sk-dashed-wrapped {border: 1px dashed gray;margin: 0 0.4em 0.5em 0.4em;box-sizing: border-box;padding-bottom: 0.4em;background-color: white;}#sk-container-id-1 div.sk-label label {font-family: monospace;font-weight: bold;display: inline-block;line-height: 1.2em;}#sk-container-id-1 div.sk-label-container {text-align: center;}#sk-container-id-1 div.sk-container {/* jupyter's `normalize.less` sets `[hidden] { display: none; }` but bootstrap.min.css set `[hidden] { display: none !important; }` so we also need the `!important` here to be able to override the default hidden behavior on the sphinx rendered scikit-learn.org. See: https://github.com/scikit-learn/scikit-learn/issues/21755 */display: inline-block !important;position: relative;}#sk-container-id-1 div.sk-text-repr-fallback {display: none;}</style><div id=\"sk-container-id-1\" class=\"sk-top-container\"><div class=\"sk-text-repr-fallback\"><pre>DecisionTreeClassifier(max_depth=2)</pre><b>In a Jupyter environment, please rerun this cell to show the HTML representation or trust the notebook. <br />On GitHub, the HTML representation is unable to render, please try loading this page with nbviewer.org.</b></div><div class=\"sk-container\" hidden><div class=\"sk-item\"><div class=\"sk-estimator sk-toggleable\"><input class=\"sk-toggleable__control sk-hidden--visually\" id=\"sk-estimator-id-1\" type=\"checkbox\" checked><label for=\"sk-estimator-id-1\" class=\"sk-toggleable__label sk-toggleable__label-arrow\">DecisionTreeClassifier</label><div class=\"sk-toggleable__content\"><pre>DecisionTreeClassifier(max_depth=2)</pre></div></div></div></div></div>"
      ],
      "text/plain": [
       "DecisionTreeClassifier(max_depth=2)"
      ]
     },
     "execution_count": 37,
     "metadata": {},
     "output_type": "execute_result"
    }
   ],
   "source": [
    "SKDT = DecisionTreeClassifier(max_depth=2)\n",
    "SKDT.fit(X_train, y_train)"
   ]
  },
  {
   "cell_type": "markdown",
   "id": "039f7581",
   "metadata": {
    "id": "ziaGL9PkY6s2",
    "papermill": {
     "duration": 0.040181,
     "end_time": "2024-01-07T10:15:36.162416",
     "exception": false,
     "start_time": "2024-01-07T10:15:36.122235",
     "status": "completed"
    },
    "tags": []
   },
   "source": [
    "Plot the fitted decision tree. **(P5-2: 2 points)**"
   ]
  },
  {
   "cell_type": "code",
   "execution_count": 38,
   "id": "b09cef09",
   "metadata": {
    "execution": {
     "iopub.execute_input": "2024-01-07T10:15:36.248865Z",
     "iopub.status.busy": "2024-01-07T10:15:36.248404Z",
     "iopub.status.idle": "2024-01-07T10:15:36.674928Z",
     "shell.execute_reply": "2024-01-07T10:15:36.673403Z"
    },
    "id": "8E4xlxE_Y6s2",
    "outputId": "d2f9bbcb-c2f6-4270-aac6-9998634a41b0",
    "papermill": {
     "duration": 0.473955,
     "end_time": "2024-01-07T10:15:36.677746",
     "exception": false,
     "start_time": "2024-01-07T10:15:36.203791",
     "status": "completed"
    },
    "tags": []
   },
   "outputs": [
    {
     "data": {
      "image/png": "[encoded data removed]",
      "text/plain": [
       "<Figure size 640x480 with 1 Axes>"
      ]
     },
     "metadata": {},
     "output_type": "display_data"
    }
   ],
   "source": [
    "plot_tree(SKDT ,class_names = [\"no\" ,\"yes\"] ,feature_names = X_train.columns)\n",
    "plt.show()"
   ]
  },
  {
   "cell_type": "markdown",
   "id": "41ef8d32",
   "metadata": {
    "id": "cyhllvRTY6s2",
    "papermill": {
     "duration": 0.039837,
     "end_time": "2024-01-07T10:15:36.759216",
     "exception": false,
     "start_time": "2024-01-07T10:15:36.719379",
     "status": "completed"
    },
    "tags": []
   },
   "source": [
    "Make predictions on training and validation set and calculate accuracy, recall and f1_score on them. **(P5-3: 1 point)**"
   ]
  },
  {
   "cell_type": "code",
   "execution_count": 39,
   "id": "05098434",
   "metadata": {
    "execution": {
     "iopub.execute_input": "2024-01-07T10:15:36.843197Z",
     "iopub.status.busy": "2024-01-07T10:15:36.842702Z",
     "iopub.status.idle": "2024-01-07T10:15:36.854564Z",
     "shell.execute_reply": "2024-01-07T10:15:36.853701Z"
    },
    "id": "wQy7M-ADY6s3",
    "papermill": {
     "duration": 0.057065,
     "end_time": "2024-01-07T10:15:36.856790",
     "exception": false,
     "start_time": "2024-01-07T10:15:36.799725",
     "status": "completed"
    },
    "tags": []
   },
   "outputs": [],
   "source": [
    "y_train_pred = SKDT.predict(X_train)\n",
    "y_val_pred = SKDT.predict(X_val)"
   ]
  },
  {
   "cell_type": "code",
   "execution_count": 40,
   "id": "fd9419d1",
   "metadata": {
    "execution": {
     "iopub.execute_input": "2024-01-07T10:15:36.940762Z",
     "iopub.status.busy": "2024-01-07T10:15:36.940024Z",
     "iopub.status.idle": "2024-01-07T10:15:36.958099Z",
     "shell.execute_reply": "2024-01-07T10:15:36.957243Z"
    },
    "id": "HB0UvUjHY6s3",
    "outputId": "a077488c-c9e2-4fe4-b890-0aef6275de36",
    "papermill": {
     "duration": 0.063904,
     "end_time": "2024-01-07T10:15:36.960706",
     "exception": false,
     "start_time": "2024-01-07T10:15:36.896802",
     "status": "completed"
    },
    "tags": []
   },
   "outputs": [
    {
     "name": "stdout",
     "output_type": "stream",
     "text": [
      "Train and validation accuracy are: 0.720164609053498 ,0.5675675675675675\n",
      "Train and validation recall are: 0.7530864197530864 ,0.5238095238095238\n",
      "Train and validation f1 are: 0.7290836653386454 ,0.3142857142857143\n"
     ]
    }
   ],
   "source": [
    "print(f'Train and validation accuracy are: {accuracy_score(y_train, y_train_pred)} ,{accuracy_score(y_val, y_val_pred)}')\n",
    "\n",
    "print(f'Train and validation recall are: {recall_score(y_train, y_train_pred)} ,{recall_score(y_val, y_val_pred)}')\n",
    "\n",
    "print(f'Train and validation f1 are: {f1_score(y_train, y_train_pred)} ,{f1_score(y_val, y_val_pred)}')"
   ]
  },
  {
   "cell_type": "markdown",
   "id": "40838f05",
   "metadata": {
    "id": "iWNzFacmY6s3",
    "papermill": {
     "duration": 0.04153,
     "end_time": "2024-01-07T10:15:37.043309",
     "exception": false,
     "start_time": "2024-01-07T10:15:37.001779",
     "status": "completed"
    },
    "tags": []
   },
   "source": [
    "Plot the confusion matrices for the training and validation datasets. **(P5-4: 2 points)**"
   ]
  },
  {
   "cell_type": "code",
   "execution_count": 41,
   "id": "5992b6a7",
   "metadata": {
    "execution": {
     "iopub.execute_input": "2024-01-07T10:15:37.127781Z",
     "iopub.status.busy": "2024-01-07T10:15:37.126986Z",
     "iopub.status.idle": "2024-01-07T10:15:37.464892Z",
     "shell.execute_reply": "2024-01-07T10:15:37.463613Z"
    },
    "id": "_ceaLVLOY6s3",
    "outputId": "3e0d4616-7a71-44e8-af65-b0b00201e66c",
    "papermill": {
     "duration": 0.383787,
     "end_time": "2024-01-07T10:15:37.467810",
     "exception": false,
     "start_time": "2024-01-07T10:15:37.084023",
     "status": "completed"
    },
    "tags": []
   },
   "outputs": [
    {
     "data": {
      "text/plain": [
       "<Axes: >"
      ]
     },
     "execution_count": 41,
     "metadata": {},
     "output_type": "execute_result"
    },
    {
     "data": {
      "image/png": "[encoded data removed]",
      "text/plain": [
       "<Figure size 640x480 with 2 Axes>"
      ]
     },
     "metadata": {},
     "output_type": "display_data"
    }
   ],
   "source": [
    "CM = confusion_matrix(y_train, y_train_pred)\n",
    "sns.heatmap(CM, annot=True, fmt='d')"
   ]
  },
  {
   "cell_type": "code",
   "execution_count": 42,
   "id": "292e8e4a",
   "metadata": {
    "execution": {
     "iopub.execute_input": "2024-01-07T10:15:37.554749Z",
     "iopub.status.busy": "2024-01-07T10:15:37.554288Z",
     "iopub.status.idle": "2024-01-07T10:15:37.891606Z",
     "shell.execute_reply": "2024-01-07T10:15:37.889857Z"
    },
    "id": "N5rFxcF2Y6s4",
    "outputId": "0298d018-0c33-4b80-f135-e7cbd9435b0b",
    "papermill": {
     "duration": 0.384198,
     "end_time": "2024-01-07T10:15:37.894462",
     "exception": false,
     "start_time": "2024-01-07T10:15:37.510264",
     "status": "completed"
    },
    "tags": []
   },
   "outputs": [
    {
     "data": {
      "text/plain": [
       "<Axes: >"
      ]
     },
     "execution_count": 42,
     "metadata": {},
     "output_type": "execute_result"
    },
    {
     "data": {
      "image/png": "[encoded data removed]",
      "text/plain": [
       "<Figure size 640x480 with 2 Axes>"
      ]
     },
     "metadata": {},
     "output_type": "display_data"
    }
   ],
   "source": [
    "CM = confusion_matrix(y_val, y_val_pred)\n",
    "sns.heatmap(CM, annot=True, fmt='d')"
   ]
  },
  {
   "cell_type": "markdown",
   "id": "92a3d95c",
   "metadata": {
    "id": "DWvXosA_Y6s4",
    "papermill": {
     "duration": 0.041716,
     "end_time": "2024-01-07T10:15:37.978691",
     "exception": false,
     "start_time": "2024-01-07T10:15:37.936975",
     "status": "completed"
    },
    "tags": []
   },
   "source": [
    "Experiment with different depth trees and plot the f1_score associated with each depth on training and valication datasets. **(P5-5: 3 points)**"
   ]
  },
  {
   "cell_type": "code",
   "execution_count": 43,
   "id": "a15930a1",
   "metadata": {
    "execution": {
     "iopub.execute_input": "2024-01-07T10:15:38.067569Z",
     "iopub.status.busy": "2024-01-07T10:15:38.066204Z",
     "iopub.status.idle": "2024-01-07T10:15:38.654376Z",
     "shell.execute_reply": "2024-01-07T10:15:38.653127Z"
    },
    "id": "TtRlCTd-Y6s4",
    "outputId": "8b062830-bf82-4b03-954e-3570a2968d70",
    "papermill": {
     "duration": 0.635961,
     "end_time": "2024-01-07T10:15:38.656972",
     "exception": false,
     "start_time": "2024-01-07T10:15:38.021011",
     "status": "completed"
    },
    "tags": []
   },
   "outputs": [
    {
     "data": {
      "image/png": "[encoded data removed]",
      "text/plain": [
       "<Figure size 640x480 with 1 Axes>"
      ]
     },
     "metadata": {},
     "output_type": "display_data"
    }
   ],
   "source": [
    "D = [i for i in range(1 ,24 ,2)]\n",
    "\n",
    "trainScores ,valScores = [] ,[]\n",
    "\n",
    "for i in D : \n",
    "    SKDT = DecisionTreeClassifier(max_depth = i)\n",
    "    SKDT.fit(X_train ,y_train)\n",
    "    y_train_pred = SKDT.predict(X_train)\n",
    "    y_val_pred = SKDT.predict(X_val)\n",
    "    trainScores.append(f1_score(y_train ,y_train_pred))\n",
    "    valScores.append(f1_score(y_val ,y_val_pred))\n",
    "\n",
    "plt.plot(D ,trainScores ,label='training set' ,marker = 'o')\n",
    "plt.plot(D ,valScores ,label='validation set' ,marker = 'o')\n",
    "plt.legend()\n",
    "plt.show()"
   ]
  },
  {
   "cell_type": "markdown",
   "id": "26510bcc",
   "metadata": {
    "id": "KqlTWWvgY6s4",
    "papermill": {
     "duration": 0.042784,
     "end_time": "2024-01-07T10:15:38.743217",
     "exception": false,
     "start_time": "2024-01-07T10:15:38.700433",
     "status": "completed"
    },
    "tags": []
   },
   "source": [
    "# P6: Random Forest (7 points)"
   ]
  },
  {
   "cell_type": "markdown",
   "id": "476c5e12",
   "metadata": {
    "id": "otmfUyIZY6s5",
    "papermill": {
     "duration": 0.043041,
     "end_time": "2024-01-07T10:15:38.829814",
     "exception": false,
     "start_time": "2024-01-07T10:15:38.786773",
     "status": "completed"
    },
    "tags": []
   },
   "source": [
    "Fit the training data to a random forest (of sklearn). **(P6-1: 2 points)**"
   ]
  },
  {
   "cell_type": "code",
   "execution_count": 44,
   "id": "61eaa4d9",
   "metadata": {
    "execution": {
     "iopub.execute_input": "2024-01-07T10:15:38.917964Z",
     "iopub.status.busy": "2024-01-07T10:15:38.917490Z",
     "iopub.status.idle": "2024-01-07T10:15:39.281153Z",
     "shell.execute_reply": "2024-01-07T10:15:39.280171Z"
    },
    "id": "UHAwi_ViY6s5",
    "outputId": "82f29dec-c56b-48d7-e4cc-8d6abe343585",
    "papermill": {
     "duration": 0.410643,
     "end_time": "2024-01-07T10:15:39.283767",
     "exception": false,
     "start_time": "2024-01-07T10:15:38.873124",
     "status": "completed"
    },
    "tags": []
   },
   "outputs": [
    {
     "data": {
      "text/html": [
       "<style>#sk-container-id-2 {color: black;background-color: white;}#sk-container-id-2 pre{padding: 0;}#sk-container-id-2 div.sk-toggleable {background-color: white;}#sk-container-id-2 label.sk-toggleable__label {cursor: pointer;display: block;width: 100%;margin-bottom: 0;padding: 0.3em;box-sizing: border-box;text-align: center;}#sk-container-id-2 label.sk-toggleable__label-arrow:before {content: \"▸\";float: left;margin-right: 0.25em;color: #696969;}#sk-container-id-2 label.sk-toggleable__label-arrow:hover:before {color: black;}#sk-container-id-2 div.sk-estimator:hover label.sk-toggleable__label-arrow:before {color: black;}#sk-container-id-2 div.sk-toggleable__content {max-height: 0;max-width: 0;overflow: hidden;text-align: left;background-color: #f0f8ff;}#sk-container-id-2 div.sk-toggleable__content pre {margin: 0.2em;color: black;border-radius: 0.25em;background-color: #f0f8ff;}#sk-container-id-2 input.sk-toggleable__control:checked~div.sk-toggleable__content {max-height: 200px;max-width: 100%;overflow: auto;}#sk-container-id-2 input.sk-toggleable__control:checked~label.sk-toggleable__label-arrow:before {content: \"▾\";}#sk-container-id-2 div.sk-estimator input.sk-toggleable__control:checked~label.sk-toggleable__label {background-color: #d4ebff;}#sk-container-id-2 div.sk-label input.sk-toggleable__control:checked~label.sk-toggleable__label {background-color: #d4ebff;}#sk-container-id-2 input.sk-hidden--visually {border: 0;clip: rect(1px 1px 1px 1px);clip: rect(1px, 1px, 1px, 1px);height: 1px;margin: -1px;overflow: hidden;padding: 0;position: absolute;width: 1px;}#sk-container-id-2 div.sk-estimator {font-family: monospace;background-color: #f0f8ff;border: 1px dotted black;border-radius: 0.25em;box-sizing: border-box;margin-bottom: 0.5em;}#sk-container-id-2 div.sk-estimator:hover {background-color: #d4ebff;}#sk-container-id-2 div.sk-parallel-item::after {content: \"\";width: 100%;border-bottom: 1px solid gray;flex-grow: 1;}#sk-container-id-2 div.sk-label:hover label.sk-toggleable__label {background-color: #d4ebff;}#sk-container-id-2 div.sk-serial::before {content: \"\";position: absolute;border-left: 1px solid gray;box-sizing: border-box;top: 0;bottom: 0;left: 50%;z-index: 0;}#sk-container-id-2 div.sk-serial {display: flex;flex-direction: column;align-items: center;background-color: white;padding-right: 0.2em;padding-left: 0.2em;position: relative;}#sk-container-id-2 div.sk-item {position: relative;z-index: 1;}#sk-container-id-2 div.sk-parallel {display: flex;align-items: stretch;justify-content: center;background-color: white;position: relative;}#sk-container-id-2 div.sk-item::before, #sk-container-id-2 div.sk-parallel-item::before {content: \"\";position: absolute;border-left: 1px solid gray;box-sizing: border-box;top: 0;bottom: 0;left: 50%;z-index: -1;}#sk-container-id-2 div.sk-parallel-item {display: flex;flex-direction: column;z-index: 1;position: relative;background-color: white;}#sk-container-id-2 div.sk-parallel-item:first-child::after {align-self: flex-end;width: 50%;}#sk-container-id-2 div.sk-parallel-item:last-child::after {align-self: flex-start;width: 50%;}#sk-container-id-2 div.sk-parallel-item:only-child::after {width: 0;}#sk-container-id-2 div.sk-dashed-wrapped {border: 1px dashed gray;margin: 0 0.4em 0.5em 0.4em;box-sizing: border-box;padding-bottom: 0.4em;background-color: white;}#sk-container-id-2 div.sk-label label {font-family: monospace;font-weight: bold;display: inline-block;line-height: 1.2em;}#sk-container-id-2 div.sk-label-container {text-align: center;}#sk-container-id-2 div.sk-container {/* jupyter's `normalize.less` sets `[hidden] { display: none; }` but bootstrap.min.css set `[hidden] { display: none !important; }` so we also need the `!important` here to be able to override the default hidden behavior on the sphinx rendered scikit-learn.org. See: https://github.com/scikit-learn/scikit-learn/issues/21755 */display: inline-block !important;position: relative;}#sk-container-id-2 div.sk-text-repr-fallback {display: none;}</style><div id=\"sk-container-id-2\" class=\"sk-top-container\"><div class=\"sk-text-repr-fallback\"><pre>RandomForestClassifier(max_depth=6)</pre><b>In a Jupyter environment, please rerun this cell to show the HTML representation or trust the notebook. <br />On GitHub, the HTML representation is unable to render, please try loading this page with nbviewer.org.</b></div><div class=\"sk-container\" hidden><div class=\"sk-item\"><div class=\"sk-estimator sk-toggleable\"><input class=\"sk-toggleable__control sk-hidden--visually\" id=\"sk-estimator-id-2\" type=\"checkbox\" checked><label for=\"sk-estimator-id-2\" class=\"sk-toggleable__label sk-toggleable__label-arrow\">RandomForestClassifier</label><div class=\"sk-toggleable__content\"><pre>RandomForestClassifier(max_depth=6)</pre></div></div></div></div></div>"
      ],
      "text/plain": [
       "RandomForestClassifier(max_depth=6)"
      ]
     },
     "execution_count": 44,
     "metadata": {},
     "output_type": "execute_result"
    }
   ],
   "source": [
    "SKRF = RandomForestClassifier(n_estimators=100, max_depth = 6)\n",
    "SKRF.fit(X_train, y_train)"
   ]
  },
  {
   "cell_type": "markdown",
   "id": "bd677b0f",
   "metadata": {
    "id": "k78G0uYSY6s5",
    "papermill": {
     "duration": 0.044626,
     "end_time": "2024-01-07T10:15:39.373006",
     "exception": false,
     "start_time": "2024-01-07T10:15:39.328380",
     "status": "completed"
    },
    "tags": []
   },
   "source": [
    "Plot the feature importances using a bar plot. **(P6-2: 2 points)**"
   ]
  },
  {
   "cell_type": "code",
   "execution_count": 45,
   "id": "c0717199",
   "metadata": {
    "execution": {
     "iopub.execute_input": "2024-01-07T10:15:39.462806Z",
     "iopub.status.busy": "2024-01-07T10:15:39.462024Z",
     "iopub.status.idle": "2024-01-07T10:15:40.218322Z",
     "shell.execute_reply": "2024-01-07T10:15:40.217023Z"
    },
    "id": "6wcuIiAAY6s5",
    "outputId": "23c70a53-2e39-450c-d45d-16320616437a",
    "papermill": {
     "duration": 0.804251,
     "end_time": "2024-01-07T10:15:40.220897",
     "exception": false,
     "start_time": "2024-01-07T10:15:39.416646",
     "status": "completed"
    },
    "tags": []
   },
   "outputs": [
    {
     "data": {
      "image/png": "[encoded data removed]",
      "text/plain": [
       "<Figure size 640x480 with 1 Axes>"
      ]
     },
     "metadata": {},
     "output_type": "display_data"
    }
   ],
   "source": [
    "importances = SKRF.feature_importances_\n",
    "Sindices = np.argsort(importances)[::-1]\n",
    "Sfeature_names = [X_train.columns[i] for i in Sindices]\n",
    "\n",
    "plt.bar(range(X_train.shape[1]), importances[Sindices], align='center')\n",
    "plt.xticks(range(X_train.shape[1]), Sfeature_names, rotation=90)\n",
    "plt.tight_layout()\n",
    "plt.show()"
   ]
  },
  {
   "cell_type": "markdown",
   "id": "72a20cd8",
   "metadata": {
    "id": "hQ9C2oljY6s5",
    "papermill": {
     "duration": 0.043479,
     "end_time": "2024-01-07T10:15:40.312593",
     "exception": false,
     "start_time": "2024-01-07T10:15:40.269114",
     "status": "completed"
    },
    "tags": []
   },
   "source": [
    "Make predictions using the model and print the accuracy, recall, f1_score and plot the confusion matrices for training and validation data. **(P6-3: 1 point)**"
   ]
  },
  {
   "cell_type": "code",
   "execution_count": 46,
   "id": "3bdef065",
   "metadata": {
    "execution": {
     "iopub.execute_input": "2024-01-07T10:15:40.403227Z",
     "iopub.status.busy": "2024-01-07T10:15:40.402409Z",
     "iopub.status.idle": "2024-01-07T10:15:40.446247Z",
     "shell.execute_reply": "2024-01-07T10:15:40.445227Z"
    },
    "id": "Op-_BulmY6s6",
    "papermill": {
     "duration": 0.092097,
     "end_time": "2024-01-07T10:15:40.448997",
     "exception": false,
     "start_time": "2024-01-07T10:15:40.356900",
     "status": "completed"
    },
    "tags": []
   },
   "outputs": [],
   "source": [
    "y_train_pred = SKRF.predict(X_train)\n",
    "y_val_pred = SKRF.predict(X_val)"
   ]
  },
  {
   "cell_type": "code",
   "execution_count": 47,
   "id": "740b387e",
   "metadata": {
    "execution": {
     "iopub.execute_input": "2024-01-07T10:15:40.538937Z",
     "iopub.status.busy": "2024-01-07T10:15:40.538197Z",
     "iopub.status.idle": "2024-01-07T10:15:40.556690Z",
     "shell.execute_reply": "2024-01-07T10:15:40.555563Z"
    },
    "id": "Q7IX3brsY6s7",
    "outputId": "f2ac3e5f-2186-4c72-8b06-377032c1949d",
    "papermill": {
     "duration": 0.066696,
     "end_time": "2024-01-07T10:15:40.559510",
     "exception": false,
     "start_time": "2024-01-07T10:15:40.492814",
     "status": "completed"
    },
    "tags": []
   },
   "outputs": [
    {
     "name": "stdout",
     "output_type": "stream",
     "text": [
      "Train and validation accuracy are: 0.9430727023319616 ,0.8018018018018018\n",
      "Train and validation recall are: 0.9314128943758574 ,0.38095238095238093\n",
      "Train and validation f1 are: 0.9424011103400417 ,0.42105263157894735\n"
     ]
    }
   ],
   "source": [
    "print(f'Train and validation accuracy are: {accuracy_score(y_train, y_train_pred)} ,{accuracy_score(y_val, y_val_pred)}')\n",
    "\n",
    "print(f'Train and validation recall are: {recall_score(y_train, y_train_pred)} ,{recall_score(y_val, y_val_pred)}')\n",
    "\n",
    "print(f'Train and validation f1 are: {f1_score(y_train, y_train_pred)} ,{f1_score(y_val, y_val_pred)}')"
   ]
  },
  {
   "cell_type": "markdown",
   "id": "ca26eb9c",
   "metadata": {
    "papermill": {
     "duration": 0.044384,
     "end_time": "2024-01-07T10:15:40.648238",
     "exception": false,
     "start_time": "2024-01-07T10:15:40.603854",
     "status": "completed"
    },
    "tags": []
   },
   "source": [
    "Plot the confusion matrices for the training and validation datasets. **(P6-4: 2 points)**"
   ]
  },
  {
   "cell_type": "code",
   "execution_count": 48,
   "id": "aaa0d5ab",
   "metadata": {
    "execution": {
     "iopub.execute_input": "2024-01-07T10:15:40.740388Z",
     "iopub.status.busy": "2024-01-07T10:15:40.739441Z",
     "iopub.status.idle": "2024-01-07T10:15:41.061447Z",
     "shell.execute_reply": "2024-01-07T10:15:41.060175Z"
    },
    "id": "XoNWdAVxY6s7",
    "outputId": "020dabd3-9966-49d9-d4f2-505a4e2f8dfe",
    "papermill": {
     "duration": 0.371719,
     "end_time": "2024-01-07T10:15:41.064146",
     "exception": false,
     "start_time": "2024-01-07T10:15:40.692427",
     "status": "completed"
    },
    "tags": []
   },
   "outputs": [
    {
     "data": {
      "text/plain": [
       "<Axes: >"
      ]
     },
     "execution_count": 48,
     "metadata": {},
     "output_type": "execute_result"
    },
    {
     "data": {
      "image/png": "[encoded data removed]",
      "text/plain": [
       "<Figure size 640x480 with 2 Axes>"
      ]
     },
     "metadata": {},
     "output_type": "display_data"
    }
   ],
   "source": [
    "CM = confusion_matrix(y_train, y_train_pred)\n",
    "sns.heatmap(CM, annot=True, fmt='d')"
   ]
  },
  {
   "cell_type": "code",
   "execution_count": 49,
   "id": "049b0bf2",
   "metadata": {
    "execution": {
     "iopub.execute_input": "2024-01-07T10:15:41.158616Z",
     "iopub.status.busy": "2024-01-07T10:15:41.158135Z",
     "iopub.status.idle": "2024-01-07T10:15:41.498633Z",
     "shell.execute_reply": "2024-01-07T10:15:41.497257Z"
    },
    "id": "n-efQiG-Y6s7",
    "outputId": "29098447-873d-4a01-8a2b-ecc8e3bf1d49",
    "papermill": {
     "duration": 0.392067,
     "end_time": "2024-01-07T10:15:41.501432",
     "exception": false,
     "start_time": "2024-01-07T10:15:41.109365",
     "status": "completed"
    },
    "tags": []
   },
   "outputs": [
    {
     "data": {
      "text/plain": [
       "<Axes: >"
      ]
     },
     "execution_count": 49,
     "metadata": {},
     "output_type": "execute_result"
    },
    {
     "data": {
      "image/png": "[encoded data removed]",
      "text/plain": [
       "<Figure size 640x480 with 2 Axes>"
      ]
     },
     "metadata": {},
     "output_type": "display_data"
    }
   ],
   "source": [
    "CM = confusion_matrix(y_val, y_val_pred)\n",
    "sns.heatmap(CM, annot=True, fmt='d')"
   ]
  },
  {
   "cell_type": "markdown",
   "id": "f72095a5",
   "metadata": {
    "id": "aM1RLOC6Y6s8",
    "papermill": {
     "duration": 0.045289,
     "end_time": "2024-01-07T10:15:41.592132",
     "exception": false,
     "start_time": "2024-01-07T10:15:41.546843",
     "status": "completed"
    },
    "tags": []
   },
   "source": [
    "# P7: Gradient Boosted Decision Trees (5 points)\n",
    "Don't know GBD Tree? Follow [this link](https://www.machinelearningplus.com/machine-learning/an-introduction-to-gradient-boosting-decision-trees/) (+30 minutes)."
   ]
  },
  {
   "cell_type": "markdown",
   "id": "e2423df1",
   "metadata": {
    "id": "18SNN1sPY6s8",
    "papermill": {
     "duration": 0.045126,
     "end_time": "2024-01-07T10:15:41.682954",
     "exception": false,
     "start_time": "2024-01-07T10:15:41.637828",
     "status": "completed"
    },
    "tags": []
   },
   "source": [
    "Fit a gradient boosted decision tree(e.g. catboost, lightgbm, xgboost). **(P7-1: 2 points)**\n",
    "\n",
    "Using the catboost library is recommended"
   ]
  },
  {
   "cell_type": "code",
   "execution_count": 50,
   "id": "b1231da1",
   "metadata": {
    "execution": {
     "iopub.execute_input": "2024-01-07T10:15:41.776316Z",
     "iopub.status.busy": "2024-01-07T10:15:41.775652Z",
     "iopub.status.idle": "2024-01-07T10:15:44.625031Z",
     "shell.execute_reply": "2024-01-07T10:15:44.623711Z"
    },
    "papermill": {
     "duration": 2.89916,
     "end_time": "2024-01-07T10:15:44.627665",
     "exception": false,
     "start_time": "2024-01-07T10:15:41.728505",
     "status": "completed"
    },
    "tags": []
   },
   "outputs": [
    {
     "name": "stdout",
     "output_type": "stream",
     "text": [
      "Learning rate set to 0.012102\n",
      "0:\tlearn: 0.6876144\ttotal: 56.6ms\tremaining: 56.5s\n",
      "1:\tlearn: 0.6822054\ttotal: 59.1ms\tremaining: 29.5s\n",
      "2:\tlearn: 0.6757909\ttotal: 61.6ms\tremaining: 20.5s\n",
      "3:\tlearn: 0.6694107\ttotal: 63.6ms\tremaining: 15.8s\n",
      "4:\tlearn: 0.6637153\ttotal: 65.7ms\tremaining: 13.1s\n",
      "5:\tlearn: 0.6573517\ttotal: 67.6ms\tremaining: 11.2s\n",
      "6:\tlearn: 0.6518850\ttotal: 69.6ms\tremaining: 9.88s\n",
      "7:\tlearn: 0.6462224\ttotal: 71.7ms\tremaining: 8.9s\n",
      "8:\tlearn: 0.6403746\ttotal: 73.9ms\tremaining: 8.14s\n",
      "9:\tlearn: 0.6353566\ttotal: 75.9ms\tremaining: 7.51s\n",
      "10:\tlearn: 0.6309829\ttotal: 77.9ms\tremaining: 7.01s\n",
      "11:\tlearn: 0.6249866\ttotal: 80ms\tremaining: 6.59s\n",
      "12:\tlearn: 0.6199559\ttotal: 82.1ms\tremaining: 6.23s\n",
      "13:\tlearn: 0.6153236\ttotal: 84.2ms\tremaining: 5.93s\n",
      "14:\tlearn: 0.6102921\ttotal: 86.3ms\tremaining: 5.67s\n",
      "15:\tlearn: 0.6054913\ttotal: 88.4ms\tremaining: 5.44s\n",
      "16:\tlearn: 0.6001539\ttotal: 90.5ms\tremaining: 5.23s\n",
      "17:\tlearn: 0.5946300\ttotal: 92.5ms\tremaining: 5.05s\n",
      "18:\tlearn: 0.5906225\ttotal: 94.6ms\tremaining: 4.88s\n",
      "19:\tlearn: 0.5869463\ttotal: 97ms\tremaining: 4.75s\n",
      "20:\tlearn: 0.5835338\ttotal: 99.3ms\tremaining: 4.63s\n",
      "21:\tlearn: 0.5798129\ttotal: 101ms\tremaining: 4.51s\n",
      "22:\tlearn: 0.5751701\ttotal: 104ms\tremaining: 4.4s\n",
      "23:\tlearn: 0.5721428\ttotal: 106ms\tremaining: 4.29s\n",
      "24:\tlearn: 0.5690437\ttotal: 108ms\tremaining: 4.21s\n",
      "25:\tlearn: 0.5653750\ttotal: 111ms\tremaining: 4.14s\n",
      "26:\tlearn: 0.5611628\ttotal: 113ms\tremaining: 4.08s\n",
      "27:\tlearn: 0.5577094\ttotal: 115ms\tremaining: 4.01s\n",
      "28:\tlearn: 0.5535245\ttotal: 118ms\tremaining: 3.93s\n",
      "29:\tlearn: 0.5506096\ttotal: 120ms\tremaining: 3.87s\n",
      "30:\tlearn: 0.5471361\ttotal: 122ms\tremaining: 3.81s\n",
      "31:\tlearn: 0.5438137\ttotal: 124ms\tremaining: 3.76s\n",
      "32:\tlearn: 0.5400089\ttotal: 127ms\tremaining: 3.71s\n",
      "33:\tlearn: 0.5359069\ttotal: 129ms\tremaining: 3.67s\n",
      "34:\tlearn: 0.5329589\ttotal: 132ms\tremaining: 3.63s\n",
      "35:\tlearn: 0.5301270\ttotal: 134ms\tremaining: 3.59s\n",
      "36:\tlearn: 0.5270522\ttotal: 136ms\tremaining: 3.55s\n",
      "37:\tlearn: 0.5237608\ttotal: 139ms\tremaining: 3.51s\n",
      "38:\tlearn: 0.5206565\ttotal: 141ms\tremaining: 3.48s\n",
      "39:\tlearn: 0.5177645\ttotal: 144ms\tremaining: 3.45s\n",
      "40:\tlearn: 0.5153120\ttotal: 146ms\tremaining: 3.42s\n",
      "41:\tlearn: 0.5121785\ttotal: 149ms\tremaining: 3.39s\n",
      "42:\tlearn: 0.5098593\ttotal: 151ms\tremaining: 3.36s\n",
      "43:\tlearn: 0.5072599\ttotal: 153ms\tremaining: 3.33s\n",
      "44:\tlearn: 0.5045949\ttotal: 156ms\tremaining: 3.31s\n",
      "45:\tlearn: 0.5019744\ttotal: 158ms\tremaining: 3.28s\n",
      "46:\tlearn: 0.4998943\ttotal: 161ms\tremaining: 3.26s\n",
      "47:\tlearn: 0.4973651\ttotal: 164ms\tremaining: 3.24s\n",
      "48:\tlearn: 0.4950611\ttotal: 166ms\tremaining: 3.22s\n",
      "49:\tlearn: 0.4931227\ttotal: 169ms\tremaining: 3.2s\n",
      "50:\tlearn: 0.4907086\ttotal: 171ms\tremaining: 3.18s\n",
      "51:\tlearn: 0.4877605\ttotal: 173ms\tremaining: 3.16s\n",
      "52:\tlearn: 0.4852853\ttotal: 176ms\tremaining: 3.14s\n",
      "53:\tlearn: 0.4827143\ttotal: 178ms\tremaining: 3.12s\n",
      "54:\tlearn: 0.4797114\ttotal: 181ms\tremaining: 3.1s\n",
      "55:\tlearn: 0.4777980\ttotal: 184ms\tremaining: 3.1s\n",
      "56:\tlearn: 0.4750209\ttotal: 188ms\tremaining: 3.11s\n",
      "57:\tlearn: 0.4720793\ttotal: 190ms\tremaining: 3.09s\n",
      "58:\tlearn: 0.4698405\ttotal: 193ms\tremaining: 3.07s\n",
      "59:\tlearn: 0.4672039\ttotal: 195ms\tremaining: 3.06s\n",
      "60:\tlearn: 0.4656517\ttotal: 198ms\tremaining: 3.04s\n",
      "61:\tlearn: 0.4624138\ttotal: 200ms\tremaining: 3.03s\n",
      "62:\tlearn: 0.4603499\ttotal: 203ms\tremaining: 3.02s\n",
      "63:\tlearn: 0.4579288\ttotal: 205ms\tremaining: 3s\n",
      "64:\tlearn: 0.4562489\ttotal: 208ms\tremaining: 2.99s\n",
      "65:\tlearn: 0.4540606\ttotal: 210ms\tremaining: 2.98s\n",
      "66:\tlearn: 0.4527623\ttotal: 213ms\tremaining: 2.96s\n",
      "67:\tlearn: 0.4508242\ttotal: 215ms\tremaining: 2.95s\n",
      "68:\tlearn: 0.4489899\ttotal: 218ms\tremaining: 2.93s\n",
      "69:\tlearn: 0.4467672\ttotal: 220ms\tremaining: 2.92s\n",
      "70:\tlearn: 0.4445370\ttotal: 223ms\tremaining: 2.91s\n",
      "71:\tlearn: 0.4427906\ttotal: 225ms\tremaining: 2.9s\n",
      "72:\tlearn: 0.4406444\ttotal: 228ms\tremaining: 2.89s\n",
      "73:\tlearn: 0.4384020\ttotal: 230ms\tremaining: 2.88s\n",
      "74:\tlearn: 0.4365990\ttotal: 232ms\tremaining: 2.87s\n",
      "75:\tlearn: 0.4353111\ttotal: 235ms\tremaining: 2.85s\n",
      "76:\tlearn: 0.4330114\ttotal: 237ms\tremaining: 2.84s\n",
      "77:\tlearn: 0.4315095\ttotal: 239ms\tremaining: 2.82s\n",
      "78:\tlearn: 0.4298689\ttotal: 241ms\tremaining: 2.81s\n",
      "79:\tlearn: 0.4286018\ttotal: 243ms\tremaining: 2.8s\n",
      "80:\tlearn: 0.4270410\ttotal: 246ms\tremaining: 2.79s\n",
      "81:\tlearn: 0.4250790\ttotal: 248ms\tremaining: 2.77s\n",
      "82:\tlearn: 0.4235392\ttotal: 250ms\tremaining: 2.77s\n",
      "83:\tlearn: 0.4219419\ttotal: 253ms\tremaining: 2.76s\n",
      "84:\tlearn: 0.4203273\ttotal: 256ms\tremaining: 2.75s\n",
      "85:\tlearn: 0.4189664\ttotal: 258ms\tremaining: 2.74s\n",
      "86:\tlearn: 0.4174603\ttotal: 260ms\tremaining: 2.73s\n",
      "87:\tlearn: 0.4159220\ttotal: 262ms\tremaining: 2.72s\n",
      "88:\tlearn: 0.4142357\ttotal: 265ms\tremaining: 2.71s\n",
      "89:\tlearn: 0.4126866\ttotal: 267ms\tremaining: 2.69s\n",
      "90:\tlearn: 0.4108453\ttotal: 269ms\tremaining: 2.68s\n",
      "91:\tlearn: 0.4092502\ttotal: 271ms\tremaining: 2.67s\n",
      "92:\tlearn: 0.4079811\ttotal: 273ms\tremaining: 2.66s\n",
      "93:\tlearn: 0.4066302\ttotal: 276ms\tremaining: 2.66s\n",
      "94:\tlearn: 0.4052799\ttotal: 278ms\tremaining: 2.65s\n",
      "95:\tlearn: 0.4038561\ttotal: 280ms\tremaining: 2.64s\n",
      "96:\tlearn: 0.4021828\ttotal: 282ms\tremaining: 2.63s\n",
      "97:\tlearn: 0.4007721\ttotal: 291ms\tremaining: 2.68s\n",
      "98:\tlearn: 0.3993623\ttotal: 293ms\tremaining: 2.67s\n",
      "99:\tlearn: 0.3982340\ttotal: 296ms\tremaining: 2.67s\n",
      "100:\tlearn: 0.3960420\ttotal: 299ms\tremaining: 2.66s\n",
      "101:\tlearn: 0.3946099\ttotal: 302ms\tremaining: 2.66s\n",
      "102:\tlearn: 0.3925958\ttotal: 306ms\tremaining: 2.66s\n",
      "103:\tlearn: 0.3906296\ttotal: 309ms\tremaining: 2.66s\n",
      "104:\tlearn: 0.3889379\ttotal: 312ms\tremaining: 2.66s\n",
      "105:\tlearn: 0.3876396\ttotal: 315ms\tremaining: 2.65s\n",
      "106:\tlearn: 0.3863837\ttotal: 318ms\tremaining: 2.65s\n",
      "107:\tlearn: 0.3850732\ttotal: 320ms\tremaining: 2.64s\n",
      "108:\tlearn: 0.3837734\ttotal: 322ms\tremaining: 2.63s\n",
      "109:\tlearn: 0.3826308\ttotal: 325ms\tremaining: 2.63s\n",
      "110:\tlearn: 0.3813660\ttotal: 327ms\tremaining: 2.62s\n",
      "111:\tlearn: 0.3797207\ttotal: 330ms\tremaining: 2.61s\n",
      "112:\tlearn: 0.3778558\ttotal: 332ms\tremaining: 2.6s\n",
      "113:\tlearn: 0.3766042\ttotal: 334ms\tremaining: 2.6s\n",
      "114:\tlearn: 0.3753652\ttotal: 337ms\tremaining: 2.59s\n",
      "115:\tlearn: 0.3738138\ttotal: 339ms\tremaining: 2.59s\n",
      "116:\tlearn: 0.3723377\ttotal: 342ms\tremaining: 2.58s\n",
      "117:\tlearn: 0.3706067\ttotal: 344ms\tremaining: 2.57s\n",
      "118:\tlearn: 0.3690648\ttotal: 346ms\tremaining: 2.56s\n",
      "119:\tlearn: 0.3669307\ttotal: 349ms\tremaining: 2.56s\n",
      "120:\tlearn: 0.3659261\ttotal: 351ms\tremaining: 2.55s\n",
      "121:\tlearn: 0.3638232\ttotal: 353ms\tremaining: 2.54s\n",
      "122:\tlearn: 0.3625675\ttotal: 355ms\tremaining: 2.53s\n",
      "123:\tlearn: 0.3613242\ttotal: 357ms\tremaining: 2.52s\n",
      "124:\tlearn: 0.3602577\ttotal: 359ms\tremaining: 2.51s\n",
      "125:\tlearn: 0.3591232\ttotal: 361ms\tremaining: 2.5s\n",
      "126:\tlearn: 0.3580309\ttotal: 363ms\tremaining: 2.5s\n",
      "127:\tlearn: 0.3569434\ttotal: 365ms\tremaining: 2.49s\n",
      "128:\tlearn: 0.3558771\ttotal: 367ms\tremaining: 2.48s\n",
      "129:\tlearn: 0.3545142\ttotal: 369ms\tremaining: 2.47s\n",
      "130:\tlearn: 0.3535178\ttotal: 372ms\tremaining: 2.46s\n",
      "131:\tlearn: 0.3522779\ttotal: 374ms\tremaining: 2.46s\n",
      "132:\tlearn: 0.3512067\ttotal: 376ms\tremaining: 2.45s\n",
      "133:\tlearn: 0.3501406\ttotal: 379ms\tremaining: 2.45s\n",
      "134:\tlearn: 0.3482358\ttotal: 382ms\tremaining: 2.45s\n",
      "135:\tlearn: 0.3468742\ttotal: 385ms\tremaining: 2.44s\n",
      "136:\tlearn: 0.3456997\ttotal: 388ms\tremaining: 2.44s\n",
      "137:\tlearn: 0.3447354\ttotal: 390ms\tremaining: 2.44s\n",
      "138:\tlearn: 0.3436662\ttotal: 393ms\tremaining: 2.44s\n",
      "139:\tlearn: 0.3424049\ttotal: 397ms\tremaining: 2.44s\n",
      "140:\tlearn: 0.3412692\ttotal: 401ms\tremaining: 2.44s\n",
      "141:\tlearn: 0.3403696\ttotal: 404ms\tremaining: 2.44s\n",
      "142:\tlearn: 0.3393342\ttotal: 407ms\tremaining: 2.44s\n",
      "143:\tlearn: 0.3384298\ttotal: 410ms\tremaining: 2.44s\n",
      "144:\tlearn: 0.3374762\ttotal: 412ms\tremaining: 2.43s\n",
      "145:\tlearn: 0.3363506\ttotal: 416ms\tremaining: 2.43s\n",
      "146:\tlearn: 0.3354090\ttotal: 419ms\tremaining: 2.43s\n",
      "147:\tlearn: 0.3343861\ttotal: 423ms\tremaining: 2.44s\n",
      "148:\tlearn: 0.3332519\ttotal: 426ms\tremaining: 2.43s\n",
      "149:\tlearn: 0.3325070\ttotal: 430ms\tremaining: 2.44s\n",
      "150:\tlearn: 0.3314426\ttotal: 435ms\tremaining: 2.44s\n",
      "151:\tlearn: 0.3308005\ttotal: 440ms\tremaining: 2.45s\n",
      "152:\tlearn: 0.3299289\ttotal: 443ms\tremaining: 2.45s\n",
      "153:\tlearn: 0.3292806\ttotal: 446ms\tremaining: 2.45s\n",
      "154:\tlearn: 0.3283666\ttotal: 450ms\tremaining: 2.45s\n",
      "155:\tlearn: 0.3269640\ttotal: 453ms\tremaining: 2.45s\n",
      "156:\tlearn: 0.3257668\ttotal: 456ms\tremaining: 2.45s\n",
      "157:\tlearn: 0.3248017\ttotal: 459ms\tremaining: 2.44s\n",
      "158:\tlearn: 0.3239347\ttotal: 461ms\tremaining: 2.44s\n",
      "159:\tlearn: 0.3232357\ttotal: 464ms\tremaining: 2.44s\n",
      "160:\tlearn: 0.3224667\ttotal: 468ms\tremaining: 2.44s\n",
      "161:\tlearn: 0.3212641\ttotal: 470ms\tremaining: 2.43s\n",
      "162:\tlearn: 0.3204223\ttotal: 473ms\tremaining: 2.43s\n",
      "163:\tlearn: 0.3195366\ttotal: 476ms\tremaining: 2.43s\n",
      "164:\tlearn: 0.3186365\ttotal: 479ms\tremaining: 2.42s\n",
      "165:\tlearn: 0.3175424\ttotal: 482ms\tremaining: 2.42s\n",
      "166:\tlearn: 0.3161515\ttotal: 488ms\tremaining: 2.43s\n",
      "167:\tlearn: 0.3150058\ttotal: 494ms\tremaining: 2.45s\n",
      "168:\tlearn: 0.3142151\ttotal: 497ms\tremaining: 2.44s\n",
      "169:\tlearn: 0.3132454\ttotal: 501ms\tremaining: 2.44s\n",
      "170:\tlearn: 0.3124203\ttotal: 503ms\tremaining: 2.44s\n",
      "171:\tlearn: 0.3118030\ttotal: 506ms\tremaining: 2.44s\n",
      "172:\tlearn: 0.3107220\ttotal: 508ms\tremaining: 2.43s\n",
      "173:\tlearn: 0.3098178\ttotal: 510ms\tremaining: 2.42s\n",
      "174:\tlearn: 0.3091688\ttotal: 512ms\tremaining: 2.42s\n",
      "175:\tlearn: 0.3083375\ttotal: 515ms\tremaining: 2.41s\n",
      "176:\tlearn: 0.3074803\ttotal: 517ms\tremaining: 2.4s\n",
      "177:\tlearn: 0.3065852\ttotal: 520ms\tremaining: 2.4s\n",
      "178:\tlearn: 0.3058563\ttotal: 522ms\tremaining: 2.39s\n",
      "179:\tlearn: 0.3048681\ttotal: 524ms\tremaining: 2.39s\n",
      "180:\tlearn: 0.3035428\ttotal: 526ms\tremaining: 2.38s\n",
      "181:\tlearn: 0.3027542\ttotal: 528ms\tremaining: 2.37s\n",
      "182:\tlearn: 0.3016836\ttotal: 530ms\tremaining: 2.37s\n",
      "183:\tlearn: 0.3010457\ttotal: 532ms\tremaining: 2.36s\n",
      "184:\tlearn: 0.3002776\ttotal: 534ms\tremaining: 2.35s\n",
      "185:\tlearn: 0.2993085\ttotal: 536ms\tremaining: 2.35s\n",
      "186:\tlearn: 0.2985319\ttotal: 538ms\tremaining: 2.34s\n",
      "187:\tlearn: 0.2974880\ttotal: 540ms\tremaining: 2.33s\n",
      "188:\tlearn: 0.2967771\ttotal: 542ms\tremaining: 2.33s\n",
      "189:\tlearn: 0.2962458\ttotal: 544ms\tremaining: 2.32s\n",
      "190:\tlearn: 0.2954724\ttotal: 546ms\tremaining: 2.31s\n",
      "191:\tlearn: 0.2945306\ttotal: 548ms\tremaining: 2.31s\n",
      "192:\tlearn: 0.2939336\ttotal: 550ms\tremaining: 2.3s\n",
      "193:\tlearn: 0.2929284\ttotal: 553ms\tremaining: 2.3s\n",
      "194:\tlearn: 0.2921524\ttotal: 555ms\tremaining: 2.29s\n",
      "195:\tlearn: 0.2914418\ttotal: 558ms\tremaining: 2.29s\n",
      "196:\tlearn: 0.2906711\ttotal: 560ms\tremaining: 2.28s\n",
      "197:\tlearn: 0.2896160\ttotal: 563ms\tremaining: 2.28s\n",
      "198:\tlearn: 0.2891168\ttotal: 565ms\tremaining: 2.27s\n",
      "199:\tlearn: 0.2886626\ttotal: 568ms\tremaining: 2.27s\n",
      "200:\tlearn: 0.2879517\ttotal: 570ms\tremaining: 2.27s\n",
      "201:\tlearn: 0.2870467\ttotal: 577ms\tremaining: 2.28s\n",
      "202:\tlearn: 0.2864480\ttotal: 579ms\tremaining: 2.27s\n",
      "203:\tlearn: 0.2853805\ttotal: 582ms\tremaining: 2.27s\n",
      "204:\tlearn: 0.2846438\ttotal: 584ms\tremaining: 2.27s\n",
      "205:\tlearn: 0.2839863\ttotal: 588ms\tremaining: 2.27s\n",
      "206:\tlearn: 0.2833028\ttotal: 591ms\tremaining: 2.26s\n",
      "207:\tlearn: 0.2827616\ttotal: 594ms\tremaining: 2.26s\n",
      "208:\tlearn: 0.2822646\ttotal: 596ms\tremaining: 2.26s\n",
      "209:\tlearn: 0.2813464\ttotal: 599ms\tremaining: 2.25s\n",
      "210:\tlearn: 0.2806568\ttotal: 601ms\tremaining: 2.25s\n",
      "211:\tlearn: 0.2801475\ttotal: 604ms\tremaining: 2.24s\n",
      "212:\tlearn: 0.2794114\ttotal: 606ms\tremaining: 2.24s\n",
      "213:\tlearn: 0.2782986\ttotal: 608ms\tremaining: 2.23s\n",
      "214:\tlearn: 0.2777302\ttotal: 611ms\tremaining: 2.23s\n",
      "215:\tlearn: 0.2768563\ttotal: 613ms\tremaining: 2.23s\n",
      "216:\tlearn: 0.2760806\ttotal: 616ms\tremaining: 2.22s\n",
      "217:\tlearn: 0.2753883\ttotal: 618ms\tremaining: 2.22s\n",
      "218:\tlearn: 0.2743486\ttotal: 621ms\tremaining: 2.21s\n",
      "219:\tlearn: 0.2737616\ttotal: 623ms\tremaining: 2.21s\n",
      "220:\tlearn: 0.2731532\ttotal: 626ms\tremaining: 2.21s\n",
      "221:\tlearn: 0.2723856\ttotal: 628ms\tremaining: 2.2s\n",
      "222:\tlearn: 0.2718051\ttotal: 631ms\tremaining: 2.2s\n",
      "223:\tlearn: 0.2708593\ttotal: 633ms\tremaining: 2.19s\n",
      "224:\tlearn: 0.2696782\ttotal: 635ms\tremaining: 2.19s\n",
      "225:\tlearn: 0.2689288\ttotal: 638ms\tremaining: 2.18s\n",
      "226:\tlearn: 0.2683861\ttotal: 640ms\tremaining: 2.18s\n",
      "227:\tlearn: 0.2677970\ttotal: 643ms\tremaining: 2.18s\n",
      "228:\tlearn: 0.2671256\ttotal: 645ms\tremaining: 2.17s\n",
      "229:\tlearn: 0.2665988\ttotal: 648ms\tremaining: 2.17s\n",
      "230:\tlearn: 0.2661830\ttotal: 650ms\tremaining: 2.16s\n",
      "231:\tlearn: 0.2649878\ttotal: 653ms\tremaining: 2.16s\n",
      "232:\tlearn: 0.2642264\ttotal: 655ms\tremaining: 2.16s\n",
      "233:\tlearn: 0.2634843\ttotal: 657ms\tremaining: 2.15s\n",
      "234:\tlearn: 0.2627479\ttotal: 660ms\tremaining: 2.15s\n",
      "235:\tlearn: 0.2622251\ttotal: 662ms\tremaining: 2.14s\n",
      "236:\tlearn: 0.2616233\ttotal: 665ms\tremaining: 2.14s\n",
      "237:\tlearn: 0.2609221\ttotal: 667ms\tremaining: 2.13s\n",
      "238:\tlearn: 0.2603692\ttotal: 669ms\tremaining: 2.13s\n",
      "239:\tlearn: 0.2594723\ttotal: 672ms\tremaining: 2.13s\n",
      "240:\tlearn: 0.2586368\ttotal: 674ms\tremaining: 2.12s\n",
      "241:\tlearn: 0.2580942\ttotal: 677ms\tremaining: 2.12s\n",
      "242:\tlearn: 0.2572037\ttotal: 679ms\tremaining: 2.12s\n",
      "243:\tlearn: 0.2562349\ttotal: 681ms\tremaining: 2.11s\n",
      "244:\tlearn: 0.2556444\ttotal: 684ms\tremaining: 2.11s\n",
      "245:\tlearn: 0.2549926\ttotal: 686ms\tremaining: 2.1s\n",
      "246:\tlearn: 0.2542372\ttotal: 689ms\tremaining: 2.1s\n",
      "247:\tlearn: 0.2536813\ttotal: 691ms\tremaining: 2.1s\n",
      "248:\tlearn: 0.2532632\ttotal: 694ms\tremaining: 2.09s\n",
      "249:\tlearn: 0.2528521\ttotal: 697ms\tremaining: 2.09s\n",
      "250:\tlearn: 0.2523695\ttotal: 699ms\tremaining: 2.09s\n",
      "251:\tlearn: 0.2514214\ttotal: 702ms\tremaining: 2.08s\n",
      "252:\tlearn: 0.2508364\ttotal: 704ms\tremaining: 2.08s\n",
      "253:\tlearn: 0.2499563\ttotal: 707ms\tremaining: 2.08s\n",
      "254:\tlearn: 0.2495135\ttotal: 709ms\tremaining: 2.07s\n",
      "255:\tlearn: 0.2488634\ttotal: 712ms\tremaining: 2.07s\n",
      "256:\tlearn: 0.2482136\ttotal: 714ms\tremaining: 2.06s\n",
      "257:\tlearn: 0.2475364\ttotal: 717ms\tremaining: 2.06s\n",
      "258:\tlearn: 0.2468913\ttotal: 719ms\tremaining: 2.06s\n",
      "259:\tlearn: 0.2464611\ttotal: 722ms\tremaining: 2.05s\n",
      "260:\tlearn: 0.2458229\ttotal: 724ms\tremaining: 2.05s\n",
      "261:\tlearn: 0.2453513\ttotal: 727ms\tremaining: 2.05s\n",
      "262:\tlearn: 0.2439707\ttotal: 729ms\tremaining: 2.04s\n",
      "263:\tlearn: 0.2429933\ttotal: 732ms\tremaining: 2.04s\n",
      "264:\tlearn: 0.2421586\ttotal: 734ms\tremaining: 2.04s\n",
      "265:\tlearn: 0.2415533\ttotal: 737ms\tremaining: 2.03s\n",
      "266:\tlearn: 0.2409968\ttotal: 739ms\tremaining: 2.03s\n",
      "267:\tlearn: 0.2404204\ttotal: 741ms\tremaining: 2.02s\n",
      "268:\tlearn: 0.2399582\ttotal: 744ms\tremaining: 2.02s\n",
      "269:\tlearn: 0.2395099\ttotal: 746ms\tremaining: 2.02s\n",
      "270:\tlearn: 0.2387564\ttotal: 749ms\tremaining: 2.01s\n",
      "271:\tlearn: 0.2381513\ttotal: 751ms\tremaining: 2.01s\n",
      "272:\tlearn: 0.2375599\ttotal: 754ms\tremaining: 2.01s\n",
      "273:\tlearn: 0.2370311\ttotal: 756ms\tremaining: 2s\n",
      "274:\tlearn: 0.2363677\ttotal: 759ms\tremaining: 2s\n",
      "275:\tlearn: 0.2361270\ttotal: 761ms\tremaining: 2s\n",
      "276:\tlearn: 0.2355311\ttotal: 764ms\tremaining: 1.99s\n",
      "277:\tlearn: 0.2350317\ttotal: 766ms\tremaining: 1.99s\n",
      "278:\tlearn: 0.2345181\ttotal: 769ms\tremaining: 1.99s\n",
      "279:\tlearn: 0.2339720\ttotal: 772ms\tremaining: 1.98s\n",
      "280:\tlearn: 0.2333048\ttotal: 775ms\tremaining: 1.98s\n",
      "281:\tlearn: 0.2326220\ttotal: 777ms\tremaining: 1.98s\n",
      "282:\tlearn: 0.2319806\ttotal: 780ms\tremaining: 1.98s\n",
      "283:\tlearn: 0.2313994\ttotal: 782ms\tremaining: 1.97s\n",
      "284:\tlearn: 0.2308682\ttotal: 785ms\tremaining: 1.97s\n",
      "285:\tlearn: 0.2303472\ttotal: 787ms\tremaining: 1.97s\n",
      "286:\tlearn: 0.2299597\ttotal: 790ms\tremaining: 1.96s\n",
      "287:\tlearn: 0.2296429\ttotal: 792ms\tremaining: 1.96s\n",
      "288:\tlearn: 0.2292370\ttotal: 794ms\tremaining: 1.95s\n",
      "289:\tlearn: 0.2287839\ttotal: 797ms\tremaining: 1.95s\n",
      "290:\tlearn: 0.2284990\ttotal: 799ms\tremaining: 1.95s\n",
      "291:\tlearn: 0.2278083\ttotal: 802ms\tremaining: 1.94s\n",
      "292:\tlearn: 0.2273316\ttotal: 804ms\tremaining: 1.94s\n",
      "293:\tlearn: 0.2265862\ttotal: 807ms\tremaining: 1.94s\n",
      "294:\tlearn: 0.2261759\ttotal: 809ms\tremaining: 1.93s\n",
      "295:\tlearn: 0.2256019\ttotal: 811ms\tremaining: 1.93s\n",
      "296:\tlearn: 0.2250949\ttotal: 814ms\tremaining: 1.93s\n",
      "297:\tlearn: 0.2247503\ttotal: 816ms\tremaining: 1.92s\n",
      "298:\tlearn: 0.2241090\ttotal: 819ms\tremaining: 1.92s\n",
      "299:\tlearn: 0.2236740\ttotal: 821ms\tremaining: 1.92s\n",
      "300:\tlearn: 0.2232398\ttotal: 823ms\tremaining: 1.91s\n",
      "301:\tlearn: 0.2228340\ttotal: 826ms\tremaining: 1.91s\n",
      "302:\tlearn: 0.2222816\ttotal: 828ms\tremaining: 1.91s\n",
      "303:\tlearn: 0.2219521\ttotal: 831ms\tremaining: 1.9s\n",
      "304:\tlearn: 0.2214561\ttotal: 833ms\tremaining: 1.9s\n",
      "305:\tlearn: 0.2208942\ttotal: 836ms\tremaining: 1.9s\n",
      "306:\tlearn: 0.2202256\ttotal: 838ms\tremaining: 1.89s\n",
      "307:\tlearn: 0.2195594\ttotal: 841ms\tremaining: 1.89s\n",
      "308:\tlearn: 0.2189555\ttotal: 843ms\tremaining: 1.89s\n",
      "309:\tlearn: 0.2182008\ttotal: 846ms\tremaining: 1.88s\n",
      "310:\tlearn: 0.2177758\ttotal: 849ms\tremaining: 1.88s\n",
      "311:\tlearn: 0.2174334\ttotal: 851ms\tremaining: 1.88s\n",
      "312:\tlearn: 0.2170449\ttotal: 854ms\tremaining: 1.87s\n",
      "313:\tlearn: 0.2166828\ttotal: 856ms\tremaining: 1.87s\n",
      "314:\tlearn: 0.2162030\ttotal: 859ms\tremaining: 1.87s\n",
      "315:\tlearn: 0.2155503\ttotal: 861ms\tremaining: 1.86s\n",
      "316:\tlearn: 0.2150661\ttotal: 863ms\tremaining: 1.86s\n",
      "317:\tlearn: 0.2146637\ttotal: 866ms\tremaining: 1.86s\n",
      "318:\tlearn: 0.2140412\ttotal: 868ms\tremaining: 1.85s\n",
      "319:\tlearn: 0.2132547\ttotal: 871ms\tremaining: 1.85s\n",
      "320:\tlearn: 0.2127150\ttotal: 874ms\tremaining: 1.85s\n",
      "321:\tlearn: 0.2121024\ttotal: 877ms\tremaining: 1.85s\n",
      "322:\tlearn: 0.2117297\ttotal: 880ms\tremaining: 1.84s\n",
      "323:\tlearn: 0.2109540\ttotal: 882ms\tremaining: 1.84s\n",
      "324:\tlearn: 0.2104442\ttotal: 885ms\tremaining: 1.84s\n",
      "325:\tlearn: 0.2100642\ttotal: 887ms\tremaining: 1.83s\n",
      "326:\tlearn: 0.2094940\ttotal: 890ms\tremaining: 1.83s\n",
      "327:\tlearn: 0.2088599\ttotal: 892ms\tremaining: 1.83s\n",
      "328:\tlearn: 0.2082631\ttotal: 895ms\tremaining: 1.82s\n",
      "329:\tlearn: 0.2076280\ttotal: 898ms\tremaining: 1.82s\n",
      "330:\tlearn: 0.2073684\ttotal: 900ms\tremaining: 1.82s\n",
      "331:\tlearn: 0.2069140\ttotal: 903ms\tremaining: 1.82s\n",
      "332:\tlearn: 0.2064325\ttotal: 905ms\tremaining: 1.81s\n",
      "333:\tlearn: 0.2059831\ttotal: 908ms\tremaining: 1.81s\n",
      "334:\tlearn: 0.2055153\ttotal: 910ms\tremaining: 1.81s\n",
      "335:\tlearn: 0.2050064\ttotal: 913ms\tremaining: 1.8s\n",
      "336:\tlearn: 0.2046243\ttotal: 915ms\tremaining: 1.8s\n",
      "337:\tlearn: 0.2040515\ttotal: 918ms\tremaining: 1.8s\n",
      "338:\tlearn: 0.2035960\ttotal: 920ms\tremaining: 1.79s\n",
      "339:\tlearn: 0.2032383\ttotal: 923ms\tremaining: 1.79s\n",
      "340:\tlearn: 0.2028200\ttotal: 925ms\tremaining: 1.79s\n",
      "341:\tlearn: 0.2023806\ttotal: 928ms\tremaining: 1.78s\n",
      "342:\tlearn: 0.2019454\ttotal: 930ms\tremaining: 1.78s\n",
      "343:\tlearn: 0.2013986\ttotal: 933ms\tremaining: 1.78s\n",
      "344:\tlearn: 0.2009603\ttotal: 935ms\tremaining: 1.77s\n",
      "345:\tlearn: 0.2003034\ttotal: 938ms\tremaining: 1.77s\n",
      "346:\tlearn: 0.1996702\ttotal: 940ms\tremaining: 1.77s\n",
      "347:\tlearn: 0.1992087\ttotal: 943ms\tremaining: 1.77s\n",
      "348:\tlearn: 0.1986143\ttotal: 945ms\tremaining: 1.76s\n",
      "349:\tlearn: 0.1983560\ttotal: 948ms\tremaining: 1.76s\n",
      "350:\tlearn: 0.1980171\ttotal: 950ms\tremaining: 1.76s\n",
      "351:\tlearn: 0.1974355\ttotal: 952ms\tremaining: 1.75s\n",
      "352:\tlearn: 0.1968404\ttotal: 955ms\tremaining: 1.75s\n",
      "353:\tlearn: 0.1966021\ttotal: 957ms\tremaining: 1.75s\n",
      "354:\tlearn: 0.1961426\ttotal: 960ms\tremaining: 1.74s\n",
      "355:\tlearn: 0.1957383\ttotal: 966ms\tremaining: 1.75s\n",
      "356:\tlearn: 0.1953235\ttotal: 969ms\tremaining: 1.75s\n",
      "357:\tlearn: 0.1949215\ttotal: 972ms\tremaining: 1.74s\n",
      "358:\tlearn: 0.1944972\ttotal: 974ms\tremaining: 1.74s\n",
      "359:\tlearn: 0.1941726\ttotal: 977ms\tremaining: 1.74s\n",
      "360:\tlearn: 0.1937585\ttotal: 979ms\tremaining: 1.73s\n",
      "361:\tlearn: 0.1929841\ttotal: 982ms\tremaining: 1.73s\n",
      "362:\tlearn: 0.1926082\ttotal: 984ms\tremaining: 1.73s\n",
      "363:\tlearn: 0.1924088\ttotal: 987ms\tremaining: 1.72s\n",
      "364:\tlearn: 0.1919087\ttotal: 989ms\tremaining: 1.72s\n",
      "365:\tlearn: 0.1914274\ttotal: 992ms\tremaining: 1.72s\n",
      "366:\tlearn: 0.1910624\ttotal: 994ms\tremaining: 1.71s\n",
      "367:\tlearn: 0.1905096\ttotal: 997ms\tremaining: 1.71s\n",
      "368:\tlearn: 0.1900373\ttotal: 999ms\tremaining: 1.71s\n",
      "369:\tlearn: 0.1895265\ttotal: 1s\tremaining: 1.7s\n",
      "370:\tlearn: 0.1891452\ttotal: 1s\tremaining: 1.7s\n",
      "371:\tlearn: 0.1888534\ttotal: 1.01s\tremaining: 1.7s\n",
      "372:\tlearn: 0.1883895\ttotal: 1.01s\tremaining: 1.7s\n",
      "373:\tlearn: 0.1879394\ttotal: 1.01s\tremaining: 1.69s\n",
      "374:\tlearn: 0.1873448\ttotal: 1.01s\tremaining: 1.69s\n",
      "375:\tlearn: 0.1868362\ttotal: 1.01s\tremaining: 1.69s\n",
      "376:\tlearn: 0.1862182\ttotal: 1.02s\tremaining: 1.68s\n",
      "377:\tlearn: 0.1858689\ttotal: 1.02s\tremaining: 1.68s\n",
      "378:\tlearn: 0.1854676\ttotal: 1.02s\tremaining: 1.68s\n",
      "379:\tlearn: 0.1848488\ttotal: 1.02s\tremaining: 1.67s\n",
      "380:\tlearn: 0.1841971\ttotal: 1.03s\tremaining: 1.67s\n",
      "381:\tlearn: 0.1837740\ttotal: 1.03s\tremaining: 1.67s\n",
      "382:\tlearn: 0.1831050\ttotal: 1.03s\tremaining: 1.66s\n",
      "383:\tlearn: 0.1828260\ttotal: 1.03s\tremaining: 1.66s\n",
      "384:\tlearn: 0.1823501\ttotal: 1.04s\tremaining: 1.66s\n",
      "385:\tlearn: 0.1820457\ttotal: 1.04s\tremaining: 1.65s\n",
      "386:\tlearn: 0.1816713\ttotal: 1.04s\tremaining: 1.65s\n",
      "387:\tlearn: 0.1814032\ttotal: 1.04s\tremaining: 1.65s\n",
      "388:\tlearn: 0.1809783\ttotal: 1.05s\tremaining: 1.64s\n",
      "389:\tlearn: 0.1805947\ttotal: 1.05s\tremaining: 1.64s\n",
      "390:\tlearn: 0.1801889\ttotal: 1.05s\tremaining: 1.64s\n",
      "391:\tlearn: 0.1797325\ttotal: 1.05s\tremaining: 1.64s\n",
      "392:\tlearn: 0.1793721\ttotal: 1.06s\tremaining: 1.63s\n",
      "393:\tlearn: 0.1788908\ttotal: 1.06s\tremaining: 1.63s\n",
      "394:\tlearn: 0.1782308\ttotal: 1.06s\tremaining: 1.63s\n",
      "395:\tlearn: 0.1777767\ttotal: 1.06s\tremaining: 1.62s\n",
      "396:\tlearn: 0.1772491\ttotal: 1.07s\tremaining: 1.62s\n",
      "397:\tlearn: 0.1768192\ttotal: 1.07s\tremaining: 1.62s\n",
      "398:\tlearn: 0.1765341\ttotal: 1.07s\tremaining: 1.61s\n",
      "399:\tlearn: 0.1761468\ttotal: 1.07s\tremaining: 1.61s\n",
      "400:\tlearn: 0.1756854\ttotal: 1.08s\tremaining: 1.61s\n",
      "401:\tlearn: 0.1753128\ttotal: 1.08s\tremaining: 1.61s\n",
      "402:\tlearn: 0.1748473\ttotal: 1.08s\tremaining: 1.6s\n",
      "403:\tlearn: 0.1745081\ttotal: 1.08s\tremaining: 1.6s\n",
      "404:\tlearn: 0.1742855\ttotal: 1.09s\tremaining: 1.6s\n",
      "405:\tlearn: 0.1738948\ttotal: 1.09s\tremaining: 1.59s\n",
      "406:\tlearn: 0.1735142\ttotal: 1.09s\tremaining: 1.59s\n",
      "407:\tlearn: 0.1730881\ttotal: 1.09s\tremaining: 1.59s\n",
      "408:\tlearn: 0.1726697\ttotal: 1.1s\tremaining: 1.58s\n",
      "409:\tlearn: 0.1722904\ttotal: 1.1s\tremaining: 1.58s\n",
      "410:\tlearn: 0.1718967\ttotal: 1.1s\tremaining: 1.58s\n",
      "411:\tlearn: 0.1716841\ttotal: 1.1s\tremaining: 1.58s\n",
      "412:\tlearn: 0.1714533\ttotal: 1.11s\tremaining: 1.57s\n",
      "413:\tlearn: 0.1708605\ttotal: 1.11s\tremaining: 1.57s\n",
      "414:\tlearn: 0.1705606\ttotal: 1.11s\tremaining: 1.57s\n",
      "415:\tlearn: 0.1703275\ttotal: 1.11s\tremaining: 1.56s\n",
      "416:\tlearn: 0.1700167\ttotal: 1.12s\tremaining: 1.56s\n",
      "417:\tlearn: 0.1696743\ttotal: 1.12s\tremaining: 1.56s\n",
      "418:\tlearn: 0.1691306\ttotal: 1.12s\tremaining: 1.55s\n",
      "419:\tlearn: 0.1688211\ttotal: 1.12s\tremaining: 1.55s\n",
      "420:\tlearn: 0.1681643\ttotal: 1.13s\tremaining: 1.55s\n",
      "421:\tlearn: 0.1678734\ttotal: 1.13s\tremaining: 1.55s\n",
      "422:\tlearn: 0.1675295\ttotal: 1.13s\tremaining: 1.54s\n",
      "423:\tlearn: 0.1671064\ttotal: 1.13s\tremaining: 1.54s\n",
      "424:\tlearn: 0.1668120\ttotal: 1.14s\tremaining: 1.54s\n",
      "425:\tlearn: 0.1663668\ttotal: 1.14s\tremaining: 1.53s\n",
      "426:\tlearn: 0.1660327\ttotal: 1.14s\tremaining: 1.53s\n",
      "427:\tlearn: 0.1658252\ttotal: 1.14s\tremaining: 1.53s\n",
      "428:\tlearn: 0.1653842\ttotal: 1.15s\tremaining: 1.52s\n",
      "429:\tlearn: 0.1651122\ttotal: 1.15s\tremaining: 1.52s\n",
      "430:\tlearn: 0.1648387\ttotal: 1.15s\tremaining: 1.52s\n",
      "431:\tlearn: 0.1645997\ttotal: 1.15s\tremaining: 1.52s\n",
      "432:\tlearn: 0.1642023\ttotal: 1.16s\tremaining: 1.51s\n",
      "433:\tlearn: 0.1637967\ttotal: 1.16s\tremaining: 1.51s\n",
      "434:\tlearn: 0.1635847\ttotal: 1.16s\tremaining: 1.51s\n",
      "435:\tlearn: 0.1633169\ttotal: 1.17s\tremaining: 1.51s\n",
      "436:\tlearn: 0.1630963\ttotal: 1.17s\tremaining: 1.5s\n",
      "437:\tlearn: 0.1627859\ttotal: 1.17s\tremaining: 1.5s\n",
      "438:\tlearn: 0.1625695\ttotal: 1.17s\tremaining: 1.5s\n",
      "439:\tlearn: 0.1624170\ttotal: 1.18s\tremaining: 1.5s\n",
      "440:\tlearn: 0.1619797\ttotal: 1.18s\tremaining: 1.49s\n",
      "441:\tlearn: 0.1614807\ttotal: 1.18s\tremaining: 1.49s\n",
      "442:\tlearn: 0.1610666\ttotal: 1.18s\tremaining: 1.49s\n",
      "443:\tlearn: 0.1607234\ttotal: 1.18s\tremaining: 1.48s\n",
      "444:\tlearn: 0.1605145\ttotal: 1.19s\tremaining: 1.48s\n",
      "445:\tlearn: 0.1598815\ttotal: 1.19s\tremaining: 1.48s\n",
      "446:\tlearn: 0.1595851\ttotal: 1.19s\tremaining: 1.47s\n",
      "447:\tlearn: 0.1593099\ttotal: 1.19s\tremaining: 1.47s\n",
      "448:\tlearn: 0.1589323\ttotal: 1.2s\tremaining: 1.47s\n",
      "449:\tlearn: 0.1587021\ttotal: 1.2s\tremaining: 1.47s\n",
      "450:\tlearn: 0.1583175\ttotal: 1.2s\tremaining: 1.46s\n",
      "451:\tlearn: 0.1580418\ttotal: 1.2s\tremaining: 1.46s\n",
      "452:\tlearn: 0.1576453\ttotal: 1.21s\tremaining: 1.46s\n",
      "453:\tlearn: 0.1573581\ttotal: 1.21s\tremaining: 1.46s\n",
      "454:\tlearn: 0.1569291\ttotal: 1.21s\tremaining: 1.45s\n",
      "455:\tlearn: 0.1565518\ttotal: 1.22s\tremaining: 1.45s\n",
      "456:\tlearn: 0.1561007\ttotal: 1.22s\tremaining: 1.45s\n",
      "457:\tlearn: 0.1557936\ttotal: 1.22s\tremaining: 1.44s\n",
      "458:\tlearn: 0.1554717\ttotal: 1.22s\tremaining: 1.44s\n",
      "459:\tlearn: 0.1552295\ttotal: 1.23s\tremaining: 1.44s\n",
      "460:\tlearn: 0.1547989\ttotal: 1.23s\tremaining: 1.44s\n",
      "461:\tlearn: 0.1544288\ttotal: 1.23s\tremaining: 1.43s\n",
      "462:\tlearn: 0.1542984\ttotal: 1.23s\tremaining: 1.43s\n",
      "463:\tlearn: 0.1539593\ttotal: 1.24s\tremaining: 1.43s\n",
      "464:\tlearn: 0.1535193\ttotal: 1.24s\tremaining: 1.42s\n",
      "465:\tlearn: 0.1531859\ttotal: 1.24s\tremaining: 1.42s\n",
      "466:\tlearn: 0.1529134\ttotal: 1.24s\tremaining: 1.42s\n",
      "467:\tlearn: 0.1523725\ttotal: 1.25s\tremaining: 1.42s\n",
      "468:\tlearn: 0.1520791\ttotal: 1.25s\tremaining: 1.41s\n",
      "469:\tlearn: 0.1517134\ttotal: 1.25s\tremaining: 1.41s\n",
      "470:\tlearn: 0.1515028\ttotal: 1.25s\tremaining: 1.41s\n",
      "471:\tlearn: 0.1510399\ttotal: 1.25s\tremaining: 1.4s\n",
      "472:\tlearn: 0.1506104\ttotal: 1.26s\tremaining: 1.4s\n",
      "473:\tlearn: 0.1503153\ttotal: 1.26s\tremaining: 1.4s\n",
      "474:\tlearn: 0.1500423\ttotal: 1.26s\tremaining: 1.4s\n",
      "475:\tlearn: 0.1498158\ttotal: 1.27s\tremaining: 1.39s\n",
      "476:\tlearn: 0.1495284\ttotal: 1.27s\tremaining: 1.39s\n",
      "477:\tlearn: 0.1492330\ttotal: 1.27s\tremaining: 1.39s\n",
      "478:\tlearn: 0.1488540\ttotal: 1.27s\tremaining: 1.39s\n",
      "479:\tlearn: 0.1485051\ttotal: 1.28s\tremaining: 1.38s\n",
      "480:\tlearn: 0.1481420\ttotal: 1.28s\tremaining: 1.38s\n",
      "481:\tlearn: 0.1478567\ttotal: 1.28s\tremaining: 1.38s\n",
      "482:\tlearn: 0.1475791\ttotal: 1.28s\tremaining: 1.37s\n",
      "483:\tlearn: 0.1469948\ttotal: 1.29s\tremaining: 1.37s\n",
      "484:\tlearn: 0.1465831\ttotal: 1.29s\tremaining: 1.37s\n",
      "485:\tlearn: 0.1462806\ttotal: 1.29s\tremaining: 1.36s\n",
      "486:\tlearn: 0.1460394\ttotal: 1.29s\tremaining: 1.36s\n",
      "487:\tlearn: 0.1457612\ttotal: 1.3s\tremaining: 1.36s\n",
      "488:\tlearn: 0.1455061\ttotal: 1.3s\tremaining: 1.36s\n",
      "489:\tlearn: 0.1451805\ttotal: 1.3s\tremaining: 1.35s\n",
      "490:\tlearn: 0.1447106\ttotal: 1.3s\tremaining: 1.35s\n",
      "491:\tlearn: 0.1444572\ttotal: 1.3s\tremaining: 1.35s\n",
      "492:\tlearn: 0.1442988\ttotal: 1.31s\tremaining: 1.34s\n",
      "493:\tlearn: 0.1440092\ttotal: 1.31s\tremaining: 1.34s\n",
      "494:\tlearn: 0.1436623\ttotal: 1.31s\tremaining: 1.34s\n",
      "495:\tlearn: 0.1432074\ttotal: 1.31s\tremaining: 1.34s\n",
      "496:\tlearn: 0.1430773\ttotal: 1.32s\tremaining: 1.33s\n",
      "497:\tlearn: 0.1428292\ttotal: 1.32s\tremaining: 1.33s\n",
      "498:\tlearn: 0.1425445\ttotal: 1.32s\tremaining: 1.33s\n",
      "499:\tlearn: 0.1423157\ttotal: 1.32s\tremaining: 1.32s\n",
      "500:\tlearn: 0.1420294\ttotal: 1.33s\tremaining: 1.32s\n",
      "501:\tlearn: 0.1418098\ttotal: 1.33s\tremaining: 1.32s\n",
      "502:\tlearn: 0.1414815\ttotal: 1.33s\tremaining: 1.32s\n",
      "503:\tlearn: 0.1412695\ttotal: 1.33s\tremaining: 1.31s\n",
      "504:\tlearn: 0.1410128\ttotal: 1.34s\tremaining: 1.31s\n",
      "505:\tlearn: 0.1403853\ttotal: 1.34s\tremaining: 1.31s\n",
      "506:\tlearn: 0.1400689\ttotal: 1.34s\tremaining: 1.3s\n",
      "507:\tlearn: 0.1399295\ttotal: 1.34s\tremaining: 1.3s\n",
      "508:\tlearn: 0.1395455\ttotal: 1.35s\tremaining: 1.3s\n",
      "509:\tlearn: 0.1390548\ttotal: 1.35s\tremaining: 1.3s\n",
      "510:\tlearn: 0.1387659\ttotal: 1.35s\tremaining: 1.29s\n",
      "511:\tlearn: 0.1384119\ttotal: 1.36s\tremaining: 1.29s\n",
      "512:\tlearn: 0.1381798\ttotal: 1.36s\tremaining: 1.29s\n",
      "513:\tlearn: 0.1379920\ttotal: 1.36s\tremaining: 1.29s\n",
      "514:\tlearn: 0.1377919\ttotal: 1.37s\tremaining: 1.29s\n",
      "515:\tlearn: 0.1375627\ttotal: 1.37s\tremaining: 1.28s\n",
      "516:\tlearn: 0.1373008\ttotal: 1.37s\tremaining: 1.28s\n",
      "517:\tlearn: 0.1370233\ttotal: 1.37s\tremaining: 1.28s\n",
      "518:\tlearn: 0.1366527\ttotal: 1.38s\tremaining: 1.27s\n",
      "519:\tlearn: 0.1364362\ttotal: 1.38s\tremaining: 1.27s\n",
      "520:\tlearn: 0.1362398\ttotal: 1.38s\tremaining: 1.27s\n",
      "521:\tlearn: 0.1359224\ttotal: 1.38s\tremaining: 1.27s\n",
      "522:\tlearn: 0.1355319\ttotal: 1.39s\tremaining: 1.26s\n",
      "523:\tlearn: 0.1351849\ttotal: 1.39s\tremaining: 1.26s\n",
      "524:\tlearn: 0.1349629\ttotal: 1.39s\tremaining: 1.26s\n",
      "525:\tlearn: 0.1347540\ttotal: 1.39s\tremaining: 1.25s\n",
      "526:\tlearn: 0.1345142\ttotal: 1.4s\tremaining: 1.25s\n",
      "527:\tlearn: 0.1341768\ttotal: 1.4s\tremaining: 1.25s\n",
      "528:\tlearn: 0.1340713\ttotal: 1.4s\tremaining: 1.25s\n",
      "529:\tlearn: 0.1337248\ttotal: 1.4s\tremaining: 1.24s\n",
      "530:\tlearn: 0.1335546\ttotal: 1.41s\tremaining: 1.24s\n",
      "531:\tlearn: 0.1332050\ttotal: 1.41s\tremaining: 1.24s\n",
      "532:\tlearn: 0.1330009\ttotal: 1.41s\tremaining: 1.24s\n",
      "533:\tlearn: 0.1326823\ttotal: 1.41s\tremaining: 1.23s\n",
      "534:\tlearn: 0.1324737\ttotal: 1.41s\tremaining: 1.23s\n",
      "535:\tlearn: 0.1320304\ttotal: 1.42s\tremaining: 1.23s\n",
      "536:\tlearn: 0.1316979\ttotal: 1.42s\tremaining: 1.22s\n",
      "537:\tlearn: 0.1314898\ttotal: 1.42s\tremaining: 1.22s\n",
      "538:\tlearn: 0.1311518\ttotal: 1.42s\tremaining: 1.22s\n",
      "539:\tlearn: 0.1309199\ttotal: 1.43s\tremaining: 1.22s\n",
      "540:\tlearn: 0.1305270\ttotal: 1.43s\tremaining: 1.21s\n",
      "541:\tlearn: 0.1303529\ttotal: 1.43s\tremaining: 1.21s\n",
      "542:\tlearn: 0.1299937\ttotal: 1.43s\tremaining: 1.21s\n",
      "543:\tlearn: 0.1295878\ttotal: 1.44s\tremaining: 1.2s\n",
      "544:\tlearn: 0.1294026\ttotal: 1.44s\tremaining: 1.2s\n",
      "545:\tlearn: 0.1291198\ttotal: 1.44s\tremaining: 1.2s\n",
      "546:\tlearn: 0.1288393\ttotal: 1.44s\tremaining: 1.2s\n",
      "547:\tlearn: 0.1287543\ttotal: 1.45s\tremaining: 1.19s\n",
      "548:\tlearn: 0.1284543\ttotal: 1.45s\tremaining: 1.19s\n",
      "549:\tlearn: 0.1280765\ttotal: 1.45s\tremaining: 1.19s\n",
      "550:\tlearn: 0.1278238\ttotal: 1.45s\tremaining: 1.18s\n",
      "551:\tlearn: 0.1275178\ttotal: 1.46s\tremaining: 1.18s\n",
      "552:\tlearn: 0.1273565\ttotal: 1.46s\tremaining: 1.18s\n",
      "553:\tlearn: 0.1268963\ttotal: 1.46s\tremaining: 1.18s\n",
      "554:\tlearn: 0.1265859\ttotal: 1.46s\tremaining: 1.17s\n",
      "555:\tlearn: 0.1261266\ttotal: 1.47s\tremaining: 1.17s\n",
      "556:\tlearn: 0.1258444\ttotal: 1.47s\tremaining: 1.17s\n",
      "557:\tlearn: 0.1256095\ttotal: 1.47s\tremaining: 1.17s\n",
      "558:\tlearn: 0.1253453\ttotal: 1.47s\tremaining: 1.16s\n",
      "559:\tlearn: 0.1252215\ttotal: 1.48s\tremaining: 1.16s\n",
      "560:\tlearn: 0.1250526\ttotal: 1.48s\tremaining: 1.16s\n",
      "561:\tlearn: 0.1247721\ttotal: 1.48s\tremaining: 1.15s\n",
      "562:\tlearn: 0.1243393\ttotal: 1.48s\tremaining: 1.15s\n",
      "563:\tlearn: 0.1241784\ttotal: 1.49s\tremaining: 1.15s\n",
      "564:\tlearn: 0.1238885\ttotal: 1.49s\tremaining: 1.15s\n",
      "565:\tlearn: 0.1237041\ttotal: 1.49s\tremaining: 1.14s\n",
      "566:\tlearn: 0.1233086\ttotal: 1.49s\tremaining: 1.14s\n",
      "567:\tlearn: 0.1230287\ttotal: 1.5s\tremaining: 1.14s\n",
      "568:\tlearn: 0.1227486\ttotal: 1.5s\tremaining: 1.13s\n",
      "569:\tlearn: 0.1224411\ttotal: 1.5s\tremaining: 1.13s\n",
      "570:\tlearn: 0.1222569\ttotal: 1.5s\tremaining: 1.13s\n",
      "571:\tlearn: 0.1219226\ttotal: 1.5s\tremaining: 1.13s\n",
      "572:\tlearn: 0.1215316\ttotal: 1.51s\tremaining: 1.12s\n",
      "573:\tlearn: 0.1212968\ttotal: 1.51s\tremaining: 1.12s\n",
      "574:\tlearn: 0.1209304\ttotal: 1.51s\tremaining: 1.12s\n",
      "575:\tlearn: 0.1206183\ttotal: 1.51s\tremaining: 1.11s\n",
      "576:\tlearn: 0.1201504\ttotal: 1.52s\tremaining: 1.11s\n",
      "577:\tlearn: 0.1199131\ttotal: 1.52s\tremaining: 1.11s\n",
      "578:\tlearn: 0.1196695\ttotal: 1.52s\tremaining: 1.11s\n",
      "579:\tlearn: 0.1194959\ttotal: 1.52s\tremaining: 1.1s\n",
      "580:\tlearn: 0.1192763\ttotal: 1.53s\tremaining: 1.1s\n",
      "581:\tlearn: 0.1190390\ttotal: 1.53s\tremaining: 1.1s\n",
      "582:\tlearn: 0.1186874\ttotal: 1.53s\tremaining: 1.09s\n",
      "583:\tlearn: 0.1184105\ttotal: 1.53s\tremaining: 1.09s\n",
      "584:\tlearn: 0.1181643\ttotal: 1.54s\tremaining: 1.09s\n",
      "585:\tlearn: 0.1178735\ttotal: 1.54s\tremaining: 1.09s\n",
      "586:\tlearn: 0.1176217\ttotal: 1.54s\tremaining: 1.08s\n",
      "587:\tlearn: 0.1173651\ttotal: 1.54s\tremaining: 1.08s\n",
      "588:\tlearn: 0.1171267\ttotal: 1.55s\tremaining: 1.08s\n",
      "589:\tlearn: 0.1169836\ttotal: 1.55s\tremaining: 1.08s\n",
      "590:\tlearn: 0.1166202\ttotal: 1.55s\tremaining: 1.07s\n",
      "591:\tlearn: 0.1162490\ttotal: 1.55s\tremaining: 1.07s\n",
      "592:\tlearn: 0.1159797\ttotal: 1.56s\tremaining: 1.07s\n",
      "593:\tlearn: 0.1157790\ttotal: 1.56s\tremaining: 1.07s\n",
      "594:\tlearn: 0.1153095\ttotal: 1.56s\tremaining: 1.06s\n",
      "595:\tlearn: 0.1150898\ttotal: 1.56s\tremaining: 1.06s\n",
      "596:\tlearn: 0.1148795\ttotal: 1.57s\tremaining: 1.06s\n",
      "597:\tlearn: 0.1146600\ttotal: 1.57s\tremaining: 1.05s\n",
      "598:\tlearn: 0.1144278\ttotal: 1.57s\tremaining: 1.05s\n",
      "599:\tlearn: 0.1143464\ttotal: 1.57s\tremaining: 1.05s\n",
      "600:\tlearn: 0.1139610\ttotal: 1.58s\tremaining: 1.05s\n",
      "601:\tlearn: 0.1137645\ttotal: 1.58s\tremaining: 1.04s\n",
      "602:\tlearn: 0.1135012\ttotal: 1.58s\tremaining: 1.04s\n",
      "603:\tlearn: 0.1132847\ttotal: 1.58s\tremaining: 1.04s\n",
      "604:\tlearn: 0.1131987\ttotal: 1.59s\tremaining: 1.04s\n",
      "605:\tlearn: 0.1130510\ttotal: 1.59s\tremaining: 1.03s\n",
      "606:\tlearn: 0.1127110\ttotal: 1.59s\tremaining: 1.03s\n",
      "607:\tlearn: 0.1126334\ttotal: 1.59s\tremaining: 1.03s\n",
      "608:\tlearn: 0.1124822\ttotal: 1.6s\tremaining: 1.02s\n",
      "609:\tlearn: 0.1123731\ttotal: 1.6s\tremaining: 1.02s\n",
      "610:\tlearn: 0.1121783\ttotal: 1.6s\tremaining: 1.02s\n",
      "611:\tlearn: 0.1119440\ttotal: 1.6s\tremaining: 1.02s\n",
      "612:\tlearn: 0.1117847\ttotal: 1.61s\tremaining: 1.01s\n",
      "613:\tlearn: 0.1116448\ttotal: 1.61s\tremaining: 1.01s\n",
      "614:\tlearn: 0.1112353\ttotal: 1.61s\tremaining: 1.01s\n",
      "615:\tlearn: 0.1111131\ttotal: 1.61s\tremaining: 1.01s\n",
      "616:\tlearn: 0.1108964\ttotal: 1.62s\tremaining: 1s\n",
      "617:\tlearn: 0.1106729\ttotal: 1.62s\tremaining: 1s\n",
      "618:\tlearn: 0.1105390\ttotal: 1.62s\tremaining: 998ms\n",
      "619:\tlearn: 0.1103641\ttotal: 1.62s\tremaining: 995ms\n",
      "620:\tlearn: 0.1101230\ttotal: 1.63s\tremaining: 992ms\n",
      "621:\tlearn: 0.1098893\ttotal: 1.63s\tremaining: 990ms\n",
      "622:\tlearn: 0.1096845\ttotal: 1.63s\tremaining: 987ms\n",
      "623:\tlearn: 0.1094086\ttotal: 1.63s\tremaining: 984ms\n",
      "624:\tlearn: 0.1092691\ttotal: 1.64s\tremaining: 982ms\n",
      "625:\tlearn: 0.1090230\ttotal: 1.64s\tremaining: 979ms\n",
      "626:\tlearn: 0.1088566\ttotal: 1.64s\tremaining: 976ms\n",
      "627:\tlearn: 0.1087059\ttotal: 1.64s\tremaining: 973ms\n",
      "628:\tlearn: 0.1085555\ttotal: 1.65s\tremaining: 971ms\n",
      "629:\tlearn: 0.1083857\ttotal: 1.65s\tremaining: 968ms\n",
      "630:\tlearn: 0.1080967\ttotal: 1.65s\tremaining: 965ms\n",
      "631:\tlearn: 0.1079080\ttotal: 1.65s\tremaining: 963ms\n",
      "632:\tlearn: 0.1076333\ttotal: 1.66s\tremaining: 960ms\n",
      "633:\tlearn: 0.1073460\ttotal: 1.66s\tremaining: 957ms\n",
      "634:\tlearn: 0.1071020\ttotal: 1.66s\tremaining: 954ms\n",
      "635:\tlearn: 0.1069139\ttotal: 1.66s\tremaining: 952ms\n",
      "636:\tlearn: 0.1067065\ttotal: 1.67s\tremaining: 949ms\n",
      "637:\tlearn: 0.1065648\ttotal: 1.67s\tremaining: 946ms\n",
      "638:\tlearn: 0.1062869\ttotal: 1.67s\tremaining: 944ms\n",
      "639:\tlearn: 0.1062031\ttotal: 1.67s\tremaining: 941ms\n",
      "640:\tlearn: 0.1059835\ttotal: 1.68s\tremaining: 938ms\n",
      "641:\tlearn: 0.1057468\ttotal: 1.68s\tremaining: 935ms\n",
      "642:\tlearn: 0.1054803\ttotal: 1.68s\tremaining: 933ms\n",
      "643:\tlearn: 0.1052732\ttotal: 1.68s\tremaining: 930ms\n",
      "644:\tlearn: 0.1050387\ttotal: 1.69s\tremaining: 927ms\n",
      "645:\tlearn: 0.1048638\ttotal: 1.69s\tremaining: 925ms\n",
      "646:\tlearn: 0.1047547\ttotal: 1.69s\tremaining: 922ms\n",
      "647:\tlearn: 0.1045101\ttotal: 1.69s\tremaining: 919ms\n",
      "648:\tlearn: 0.1042337\ttotal: 1.7s\tremaining: 917ms\n",
      "649:\tlearn: 0.1039794\ttotal: 1.7s\tremaining: 914ms\n",
      "650:\tlearn: 0.1038507\ttotal: 1.7s\tremaining: 911ms\n",
      "651:\tlearn: 0.1036400\ttotal: 1.7s\tremaining: 909ms\n",
      "652:\tlearn: 0.1034923\ttotal: 1.7s\tremaining: 906ms\n",
      "653:\tlearn: 0.1033146\ttotal: 1.71s\tremaining: 903ms\n",
      "654:\tlearn: 0.1030218\ttotal: 1.71s\tremaining: 901ms\n",
      "655:\tlearn: 0.1027774\ttotal: 1.71s\tremaining: 898ms\n",
      "656:\tlearn: 0.1024847\ttotal: 1.71s\tremaining: 895ms\n",
      "657:\tlearn: 0.1024137\ttotal: 1.72s\tremaining: 893ms\n",
      "658:\tlearn: 0.1021136\ttotal: 1.72s\tremaining: 890ms\n",
      "659:\tlearn: 0.1017915\ttotal: 1.72s\tremaining: 887ms\n",
      "660:\tlearn: 0.1016100\ttotal: 1.72s\tremaining: 885ms\n",
      "661:\tlearn: 0.1014884\ttotal: 1.73s\tremaining: 882ms\n",
      "662:\tlearn: 0.1012450\ttotal: 1.73s\tremaining: 879ms\n",
      "663:\tlearn: 0.1011046\ttotal: 1.73s\tremaining: 877ms\n",
      "664:\tlearn: 0.1009006\ttotal: 1.73s\tremaining: 874ms\n",
      "665:\tlearn: 0.1006629\ttotal: 1.74s\tremaining: 871ms\n",
      "666:\tlearn: 0.1004541\ttotal: 1.74s\tremaining: 869ms\n",
      "667:\tlearn: 0.1003690\ttotal: 1.74s\tremaining: 866ms\n",
      "668:\tlearn: 0.1002417\ttotal: 1.74s\tremaining: 863ms\n",
      "669:\tlearn: 0.0999704\ttotal: 1.75s\tremaining: 861ms\n",
      "670:\tlearn: 0.0998228\ttotal: 1.75s\tremaining: 858ms\n",
      "671:\tlearn: 0.0996568\ttotal: 1.75s\tremaining: 856ms\n",
      "672:\tlearn: 0.0994274\ttotal: 1.76s\tremaining: 854ms\n",
      "673:\tlearn: 0.0993350\ttotal: 1.76s\tremaining: 851ms\n",
      "674:\tlearn: 0.0991116\ttotal: 1.76s\tremaining: 848ms\n",
      "675:\tlearn: 0.0988945\ttotal: 1.76s\tremaining: 846ms\n",
      "676:\tlearn: 0.0986043\ttotal: 1.77s\tremaining: 843ms\n",
      "677:\tlearn: 0.0984389\ttotal: 1.77s\tremaining: 840ms\n",
      "678:\tlearn: 0.0981889\ttotal: 1.77s\tremaining: 838ms\n",
      "679:\tlearn: 0.0979933\ttotal: 1.77s\tremaining: 835ms\n",
      "680:\tlearn: 0.0978557\ttotal: 1.78s\tremaining: 832ms\n",
      "681:\tlearn: 0.0976213\ttotal: 1.78s\tremaining: 830ms\n",
      "682:\tlearn: 0.0974194\ttotal: 1.78s\tremaining: 827ms\n",
      "683:\tlearn: 0.0972348\ttotal: 1.78s\tremaining: 824ms\n",
      "684:\tlearn: 0.0970393\ttotal: 1.79s\tremaining: 822ms\n",
      "685:\tlearn: 0.0969097\ttotal: 1.79s\tremaining: 819ms\n",
      "686:\tlearn: 0.0968348\ttotal: 1.79s\tremaining: 816ms\n",
      "687:\tlearn: 0.0966487\ttotal: 1.79s\tremaining: 814ms\n",
      "688:\tlearn: 0.0964851\ttotal: 1.8s\tremaining: 811ms\n",
      "689:\tlearn: 0.0961938\ttotal: 1.8s\tremaining: 808ms\n",
      "690:\tlearn: 0.0960086\ttotal: 1.8s\tremaining: 805ms\n",
      "691:\tlearn: 0.0957913\ttotal: 1.8s\tremaining: 803ms\n",
      "692:\tlearn: 0.0956652\ttotal: 1.8s\tremaining: 800ms\n",
      "693:\tlearn: 0.0954644\ttotal: 1.81s\tremaining: 797ms\n",
      "694:\tlearn: 0.0950966\ttotal: 1.81s\tremaining: 795ms\n",
      "695:\tlearn: 0.0948712\ttotal: 1.81s\tremaining: 792ms\n",
      "696:\tlearn: 0.0946667\ttotal: 1.81s\tremaining: 789ms\n",
      "697:\tlearn: 0.0945176\ttotal: 1.82s\tremaining: 787ms\n",
      "698:\tlearn: 0.0942817\ttotal: 1.82s\tremaining: 784ms\n",
      "699:\tlearn: 0.0941833\ttotal: 1.82s\tremaining: 781ms\n",
      "700:\tlearn: 0.0939179\ttotal: 1.82s\tremaining: 779ms\n",
      "701:\tlearn: 0.0935828\ttotal: 1.83s\tremaining: 776ms\n",
      "702:\tlearn: 0.0934797\ttotal: 1.83s\tremaining: 773ms\n",
      "703:\tlearn: 0.0933736\ttotal: 1.83s\tremaining: 771ms\n",
      "704:\tlearn: 0.0932346\ttotal: 1.84s\tremaining: 768ms\n",
      "705:\tlearn: 0.0930304\ttotal: 1.84s\tremaining: 766ms\n",
      "706:\tlearn: 0.0928322\ttotal: 1.84s\tremaining: 763ms\n",
      "707:\tlearn: 0.0926708\ttotal: 1.84s\tremaining: 760ms\n",
      "708:\tlearn: 0.0925747\ttotal: 1.84s\tremaining: 758ms\n",
      "709:\tlearn: 0.0923108\ttotal: 1.85s\tremaining: 755ms\n",
      "710:\tlearn: 0.0921989\ttotal: 1.85s\tremaining: 752ms\n",
      "711:\tlearn: 0.0920762\ttotal: 1.85s\tremaining: 750ms\n",
      "712:\tlearn: 0.0918931\ttotal: 1.85s\tremaining: 747ms\n",
      "713:\tlearn: 0.0917711\ttotal: 1.86s\tremaining: 744ms\n",
      "714:\tlearn: 0.0916874\ttotal: 1.86s\tremaining: 742ms\n",
      "715:\tlearn: 0.0914628\ttotal: 1.86s\tremaining: 739ms\n",
      "716:\tlearn: 0.0912939\ttotal: 1.86s\tremaining: 736ms\n",
      "717:\tlearn: 0.0911483\ttotal: 1.87s\tremaining: 734ms\n",
      "718:\tlearn: 0.0909351\ttotal: 1.87s\tremaining: 731ms\n",
      "719:\tlearn: 0.0907336\ttotal: 1.87s\tremaining: 728ms\n",
      "720:\tlearn: 0.0905343\ttotal: 1.88s\tremaining: 726ms\n",
      "721:\tlearn: 0.0902804\ttotal: 1.88s\tremaining: 723ms\n",
      "722:\tlearn: 0.0901184\ttotal: 1.88s\tremaining: 720ms\n",
      "723:\tlearn: 0.0898763\ttotal: 1.88s\tremaining: 718ms\n",
      "724:\tlearn: 0.0896991\ttotal: 1.89s\tremaining: 715ms\n",
      "725:\tlearn: 0.0895221\ttotal: 1.89s\tremaining: 713ms\n",
      "726:\tlearn: 0.0894493\ttotal: 1.89s\tremaining: 710ms\n",
      "727:\tlearn: 0.0891856\ttotal: 1.89s\tremaining: 707ms\n",
      "728:\tlearn: 0.0890434\ttotal: 1.9s\tremaining: 704ms\n",
      "729:\tlearn: 0.0888680\ttotal: 1.9s\tremaining: 702ms\n",
      "730:\tlearn: 0.0886384\ttotal: 1.9s\tremaining: 699ms\n",
      "731:\tlearn: 0.0884088\ttotal: 1.9s\tremaining: 697ms\n",
      "732:\tlearn: 0.0882023\ttotal: 1.91s\tremaining: 694ms\n",
      "733:\tlearn: 0.0880686\ttotal: 1.91s\tremaining: 691ms\n",
      "734:\tlearn: 0.0879452\ttotal: 1.91s\tremaining: 689ms\n",
      "735:\tlearn: 0.0878173\ttotal: 1.91s\tremaining: 686ms\n",
      "736:\tlearn: 0.0876098\ttotal: 1.91s\tremaining: 683ms\n",
      "737:\tlearn: 0.0873932\ttotal: 1.92s\tremaining: 681ms\n",
      "738:\tlearn: 0.0871337\ttotal: 1.92s\tremaining: 678ms\n",
      "739:\tlearn: 0.0868919\ttotal: 1.92s\tremaining: 675ms\n",
      "740:\tlearn: 0.0868131\ttotal: 1.93s\tremaining: 673ms\n",
      "741:\tlearn: 0.0866655\ttotal: 1.93s\tremaining: 670ms\n",
      "742:\tlearn: 0.0864935\ttotal: 1.93s\tremaining: 668ms\n",
      "743:\tlearn: 0.0863671\ttotal: 1.93s\tremaining: 665ms\n",
      "744:\tlearn: 0.0861535\ttotal: 1.94s\tremaining: 662ms\n",
      "745:\tlearn: 0.0859016\ttotal: 1.94s\tremaining: 660ms\n",
      "746:\tlearn: 0.0857537\ttotal: 1.94s\tremaining: 657ms\n",
      "747:\tlearn: 0.0855870\ttotal: 1.94s\tremaining: 655ms\n",
      "748:\tlearn: 0.0855516\ttotal: 1.95s\tremaining: 652ms\n",
      "749:\tlearn: 0.0854114\ttotal: 1.95s\tremaining: 649ms\n",
      "750:\tlearn: 0.0852261\ttotal: 1.95s\tremaining: 647ms\n",
      "751:\tlearn: 0.0849621\ttotal: 1.95s\tremaining: 644ms\n",
      "752:\tlearn: 0.0847854\ttotal: 1.96s\tremaining: 642ms\n",
      "753:\tlearn: 0.0846414\ttotal: 1.96s\tremaining: 639ms\n",
      "754:\tlearn: 0.0843498\ttotal: 1.96s\tremaining: 637ms\n",
      "755:\tlearn: 0.0842203\ttotal: 1.96s\tremaining: 634ms\n",
      "756:\tlearn: 0.0840764\ttotal: 1.97s\tremaining: 631ms\n",
      "757:\tlearn: 0.0839771\ttotal: 1.97s\tremaining: 629ms\n",
      "758:\tlearn: 0.0838771\ttotal: 1.97s\tremaining: 626ms\n",
      "759:\tlearn: 0.0836276\ttotal: 1.97s\tremaining: 623ms\n",
      "760:\tlearn: 0.0835191\ttotal: 1.98s\tremaining: 621ms\n",
      "761:\tlearn: 0.0834434\ttotal: 1.98s\tremaining: 618ms\n",
      "762:\tlearn: 0.0832044\ttotal: 1.98s\tremaining: 615ms\n",
      "763:\tlearn: 0.0829950\ttotal: 1.98s\tremaining: 613ms\n",
      "764:\tlearn: 0.0828594\ttotal: 1.99s\tremaining: 610ms\n",
      "765:\tlearn: 0.0827144\ttotal: 1.99s\tremaining: 607ms\n",
      "766:\tlearn: 0.0825768\ttotal: 1.99s\tremaining: 605ms\n",
      "767:\tlearn: 0.0825283\ttotal: 1.99s\tremaining: 602ms\n",
      "768:\tlearn: 0.0824106\ttotal: 2s\tremaining: 599ms\n",
      "769:\tlearn: 0.0822298\ttotal: 2s\tremaining: 597ms\n",
      "770:\tlearn: 0.0820522\ttotal: 2s\tremaining: 594ms\n",
      "771:\tlearn: 0.0819630\ttotal: 2s\tremaining: 592ms\n",
      "772:\tlearn: 0.0817795\ttotal: 2s\tremaining: 589ms\n",
      "773:\tlearn: 0.0815886\ttotal: 2.01s\tremaining: 586ms\n",
      "774:\tlearn: 0.0814253\ttotal: 2.01s\tremaining: 584ms\n",
      "775:\tlearn: 0.0812915\ttotal: 2.01s\tremaining: 581ms\n",
      "776:\tlearn: 0.0811830\ttotal: 2.01s\tremaining: 578ms\n",
      "777:\tlearn: 0.0810269\ttotal: 2.02s\tremaining: 576ms\n",
      "778:\tlearn: 0.0808793\ttotal: 2.02s\tremaining: 573ms\n",
      "779:\tlearn: 0.0807617\ttotal: 2.02s\tremaining: 570ms\n",
      "780:\tlearn: 0.0805460\ttotal: 2.02s\tremaining: 568ms\n",
      "781:\tlearn: 0.0804585\ttotal: 2.03s\tremaining: 565ms\n",
      "782:\tlearn: 0.0802132\ttotal: 2.03s\tremaining: 563ms\n",
      "783:\tlearn: 0.0800179\ttotal: 2.03s\tremaining: 560ms\n",
      "784:\tlearn: 0.0798202\ttotal: 2.03s\tremaining: 557ms\n",
      "785:\tlearn: 0.0796243\ttotal: 2.04s\tremaining: 555ms\n",
      "786:\tlearn: 0.0794948\ttotal: 2.04s\tremaining: 552ms\n",
      "787:\tlearn: 0.0792967\ttotal: 2.04s\tremaining: 549ms\n",
      "788:\tlearn: 0.0791521\ttotal: 2.04s\tremaining: 547ms\n",
      "789:\tlearn: 0.0790483\ttotal: 2.05s\tremaining: 544ms\n",
      "790:\tlearn: 0.0788577\ttotal: 2.05s\tremaining: 541ms\n",
      "791:\tlearn: 0.0786748\ttotal: 2.05s\tremaining: 539ms\n",
      "792:\tlearn: 0.0785235\ttotal: 2.05s\tremaining: 536ms\n",
      "793:\tlearn: 0.0783547\ttotal: 2.06s\tremaining: 534ms\n",
      "794:\tlearn: 0.0782252\ttotal: 2.06s\tremaining: 531ms\n",
      "795:\tlearn: 0.0780874\ttotal: 2.06s\tremaining: 528ms\n",
      "796:\tlearn: 0.0778947\ttotal: 2.06s\tremaining: 526ms\n",
      "797:\tlearn: 0.0777504\ttotal: 2.07s\tremaining: 523ms\n",
      "798:\tlearn: 0.0776197\ttotal: 2.07s\tremaining: 520ms\n",
      "799:\tlearn: 0.0774868\ttotal: 2.07s\tremaining: 518ms\n",
      "800:\tlearn: 0.0772892\ttotal: 2.07s\tremaining: 515ms\n",
      "801:\tlearn: 0.0771582\ttotal: 2.08s\tremaining: 513ms\n",
      "802:\tlearn: 0.0769964\ttotal: 2.08s\tremaining: 510ms\n",
      "803:\tlearn: 0.0768853\ttotal: 2.08s\tremaining: 507ms\n",
      "804:\tlearn: 0.0766583\ttotal: 2.08s\tremaining: 505ms\n",
      "805:\tlearn: 0.0765033\ttotal: 2.08s\tremaining: 502ms\n",
      "806:\tlearn: 0.0763202\ttotal: 2.09s\tremaining: 499ms\n",
      "807:\tlearn: 0.0761766\ttotal: 2.09s\tremaining: 497ms\n",
      "808:\tlearn: 0.0760027\ttotal: 2.09s\tremaining: 494ms\n",
      "809:\tlearn: 0.0757700\ttotal: 2.1s\tremaining: 492ms\n",
      "810:\tlearn: 0.0755364\ttotal: 2.1s\tremaining: 489ms\n",
      "811:\tlearn: 0.0754018\ttotal: 2.1s\tremaining: 486ms\n",
      "812:\tlearn: 0.0752478\ttotal: 2.1s\tremaining: 484ms\n",
      "813:\tlearn: 0.0750906\ttotal: 2.1s\tremaining: 481ms\n",
      "814:\tlearn: 0.0749772\ttotal: 2.11s\tremaining: 479ms\n",
      "815:\tlearn: 0.0748142\ttotal: 2.11s\tremaining: 476ms\n",
      "816:\tlearn: 0.0746698\ttotal: 2.11s\tremaining: 473ms\n",
      "817:\tlearn: 0.0745926\ttotal: 2.12s\tremaining: 471ms\n",
      "818:\tlearn: 0.0744987\ttotal: 2.12s\tremaining: 468ms\n",
      "819:\tlearn: 0.0742993\ttotal: 2.12s\tremaining: 466ms\n",
      "820:\tlearn: 0.0741776\ttotal: 2.12s\tremaining: 463ms\n",
      "821:\tlearn: 0.0740580\ttotal: 2.13s\tremaining: 460ms\n",
      "822:\tlearn: 0.0739314\ttotal: 2.13s\tremaining: 458ms\n",
      "823:\tlearn: 0.0737415\ttotal: 2.13s\tremaining: 455ms\n",
      "824:\tlearn: 0.0736627\ttotal: 2.13s\tremaining: 452ms\n",
      "825:\tlearn: 0.0735919\ttotal: 2.13s\tremaining: 450ms\n",
      "826:\tlearn: 0.0734623\ttotal: 2.14s\tremaining: 447ms\n",
      "827:\tlearn: 0.0734132\ttotal: 2.14s\tremaining: 445ms\n",
      "828:\tlearn: 0.0732936\ttotal: 2.14s\tremaining: 442ms\n",
      "829:\tlearn: 0.0731300\ttotal: 2.15s\tremaining: 439ms\n",
      "830:\tlearn: 0.0730090\ttotal: 2.15s\tremaining: 437ms\n",
      "831:\tlearn: 0.0729053\ttotal: 2.15s\tremaining: 434ms\n",
      "832:\tlearn: 0.0727900\ttotal: 2.15s\tremaining: 432ms\n",
      "833:\tlearn: 0.0726307\ttotal: 2.16s\tremaining: 429ms\n",
      "834:\tlearn: 0.0724637\ttotal: 2.16s\tremaining: 427ms\n",
      "835:\tlearn: 0.0723821\ttotal: 2.16s\tremaining: 424ms\n",
      "836:\tlearn: 0.0722772\ttotal: 2.16s\tremaining: 422ms\n",
      "837:\tlearn: 0.0721547\ttotal: 2.17s\tremaining: 419ms\n",
      "838:\tlearn: 0.0721064\ttotal: 2.17s\tremaining: 417ms\n",
      "839:\tlearn: 0.0719984\ttotal: 2.17s\tremaining: 414ms\n",
      "840:\tlearn: 0.0718893\ttotal: 2.18s\tremaining: 411ms\n",
      "841:\tlearn: 0.0717624\ttotal: 2.18s\tremaining: 409ms\n",
      "842:\tlearn: 0.0716553\ttotal: 2.18s\tremaining: 406ms\n",
      "843:\tlearn: 0.0715705\ttotal: 2.18s\tremaining: 404ms\n",
      "844:\tlearn: 0.0713641\ttotal: 2.19s\tremaining: 401ms\n",
      "845:\tlearn: 0.0711990\ttotal: 2.19s\tremaining: 398ms\n",
      "846:\tlearn: 0.0710681\ttotal: 2.19s\tremaining: 396ms\n",
      "847:\tlearn: 0.0709439\ttotal: 2.19s\tremaining: 393ms\n",
      "848:\tlearn: 0.0708446\ttotal: 2.19s\tremaining: 391ms\n",
      "849:\tlearn: 0.0707199\ttotal: 2.2s\tremaining: 388ms\n",
      "850:\tlearn: 0.0706582\ttotal: 2.2s\tremaining: 385ms\n",
      "851:\tlearn: 0.0705257\ttotal: 2.2s\tremaining: 383ms\n",
      "852:\tlearn: 0.0703604\ttotal: 2.21s\tremaining: 380ms\n",
      "853:\tlearn: 0.0702429\ttotal: 2.21s\tremaining: 377ms\n",
      "854:\tlearn: 0.0700578\ttotal: 2.21s\tremaining: 375ms\n",
      "855:\tlearn: 0.0698768\ttotal: 2.21s\tremaining: 372ms\n",
      "856:\tlearn: 0.0697509\ttotal: 2.21s\tremaining: 370ms\n",
      "857:\tlearn: 0.0696398\ttotal: 2.22s\tremaining: 367ms\n",
      "858:\tlearn: 0.0695098\ttotal: 2.22s\tremaining: 364ms\n",
      "859:\tlearn: 0.0693555\ttotal: 2.22s\tremaining: 362ms\n",
      "860:\tlearn: 0.0691927\ttotal: 2.23s\tremaining: 359ms\n",
      "861:\tlearn: 0.0690045\ttotal: 2.23s\tremaining: 357ms\n",
      "862:\tlearn: 0.0688739\ttotal: 2.23s\tremaining: 354ms\n",
      "863:\tlearn: 0.0687370\ttotal: 2.23s\tremaining: 351ms\n",
      "864:\tlearn: 0.0686077\ttotal: 2.23s\tremaining: 349ms\n",
      "865:\tlearn: 0.0685032\ttotal: 2.24s\tremaining: 346ms\n",
      "866:\tlearn: 0.0684047\ttotal: 2.24s\tremaining: 344ms\n",
      "867:\tlearn: 0.0682801\ttotal: 2.24s\tremaining: 341ms\n",
      "868:\tlearn: 0.0681333\ttotal: 2.24s\tremaining: 338ms\n",
      "869:\tlearn: 0.0679787\ttotal: 2.25s\tremaining: 336ms\n",
      "870:\tlearn: 0.0678457\ttotal: 2.25s\tremaining: 333ms\n",
      "871:\tlearn: 0.0677421\ttotal: 2.25s\tremaining: 331ms\n",
      "872:\tlearn: 0.0676348\ttotal: 2.25s\tremaining: 328ms\n",
      "873:\tlearn: 0.0674873\ttotal: 2.26s\tremaining: 325ms\n",
      "874:\tlearn: 0.0673914\ttotal: 2.26s\tremaining: 323ms\n",
      "875:\tlearn: 0.0672935\ttotal: 2.26s\tremaining: 320ms\n",
      "876:\tlearn: 0.0671196\ttotal: 2.26s\tremaining: 318ms\n",
      "877:\tlearn: 0.0669957\ttotal: 2.27s\tremaining: 315ms\n",
      "878:\tlearn: 0.0668895\ttotal: 2.27s\tremaining: 312ms\n",
      "879:\tlearn: 0.0668325\ttotal: 2.27s\tremaining: 310ms\n",
      "880:\tlearn: 0.0667085\ttotal: 2.27s\tremaining: 307ms\n",
      "881:\tlearn: 0.0666372\ttotal: 2.28s\tremaining: 305ms\n",
      "882:\tlearn: 0.0665644\ttotal: 2.28s\tremaining: 302ms\n",
      "883:\tlearn: 0.0664304\ttotal: 2.28s\tremaining: 299ms\n",
      "884:\tlearn: 0.0662758\ttotal: 2.28s\tremaining: 297ms\n",
      "885:\tlearn: 0.0661700\ttotal: 2.29s\tremaining: 294ms\n",
      "886:\tlearn: 0.0660684\ttotal: 2.29s\tremaining: 292ms\n",
      "887:\tlearn: 0.0659613\ttotal: 2.29s\tremaining: 289ms\n",
      "888:\tlearn: 0.0658299\ttotal: 2.29s\tremaining: 286ms\n",
      "889:\tlearn: 0.0657157\ttotal: 2.29s\tremaining: 284ms\n",
      "890:\tlearn: 0.0656351\ttotal: 2.3s\tremaining: 281ms\n",
      "891:\tlearn: 0.0655081\ttotal: 2.3s\tremaining: 279ms\n",
      "892:\tlearn: 0.0653786\ttotal: 2.3s\tremaining: 276ms\n",
      "893:\tlearn: 0.0652589\ttotal: 2.31s\tremaining: 273ms\n",
      "894:\tlearn: 0.0651402\ttotal: 2.31s\tremaining: 271ms\n",
      "895:\tlearn: 0.0649849\ttotal: 2.31s\tremaining: 268ms\n",
      "896:\tlearn: 0.0648955\ttotal: 2.31s\tremaining: 266ms\n",
      "897:\tlearn: 0.0647680\ttotal: 2.31s\tremaining: 263ms\n",
      "898:\tlearn: 0.0646715\ttotal: 2.32s\tremaining: 260ms\n",
      "899:\tlearn: 0.0645354\ttotal: 2.32s\tremaining: 258ms\n",
      "900:\tlearn: 0.0644278\ttotal: 2.32s\tremaining: 255ms\n",
      "901:\tlearn: 0.0643813\ttotal: 2.32s\tremaining: 253ms\n",
      "902:\tlearn: 0.0642927\ttotal: 2.33s\tremaining: 250ms\n",
      "903:\tlearn: 0.0641779\ttotal: 2.33s\tremaining: 247ms\n",
      "904:\tlearn: 0.0640608\ttotal: 2.33s\tremaining: 245ms\n",
      "905:\tlearn: 0.0639116\ttotal: 2.33s\tremaining: 242ms\n",
      "906:\tlearn: 0.0637472\ttotal: 2.34s\tremaining: 240ms\n",
      "907:\tlearn: 0.0636655\ttotal: 2.34s\tremaining: 237ms\n",
      "908:\tlearn: 0.0635407\ttotal: 2.34s\tremaining: 234ms\n",
      "909:\tlearn: 0.0635077\ttotal: 2.35s\tremaining: 232ms\n",
      "910:\tlearn: 0.0634432\ttotal: 2.35s\tremaining: 230ms\n",
      "911:\tlearn: 0.0633445\ttotal: 2.35s\tremaining: 227ms\n",
      "912:\tlearn: 0.0632190\ttotal: 2.35s\tremaining: 224ms\n",
      "913:\tlearn: 0.0630701\ttotal: 2.36s\tremaining: 222ms\n",
      "914:\tlearn: 0.0629576\ttotal: 2.36s\tremaining: 219ms\n",
      "915:\tlearn: 0.0628488\ttotal: 2.36s\tremaining: 217ms\n",
      "916:\tlearn: 0.0627585\ttotal: 2.36s\tremaining: 214ms\n",
      "917:\tlearn: 0.0626101\ttotal: 2.37s\tremaining: 211ms\n",
      "918:\tlearn: 0.0624998\ttotal: 2.37s\tremaining: 209ms\n",
      "919:\tlearn: 0.0623797\ttotal: 2.37s\tremaining: 206ms\n",
      "920:\tlearn: 0.0622906\ttotal: 2.37s\tremaining: 204ms\n",
      "921:\tlearn: 0.0621949\ttotal: 2.38s\tremaining: 201ms\n",
      "922:\tlearn: 0.0621104\ttotal: 2.38s\tremaining: 198ms\n",
      "923:\tlearn: 0.0619392\ttotal: 2.38s\tremaining: 196ms\n",
      "924:\tlearn: 0.0618782\ttotal: 2.38s\tremaining: 193ms\n",
      "925:\tlearn: 0.0618006\ttotal: 2.38s\tremaining: 191ms\n",
      "926:\tlearn: 0.0616913\ttotal: 2.39s\tremaining: 188ms\n",
      "927:\tlearn: 0.0615625\ttotal: 2.39s\tremaining: 186ms\n",
      "928:\tlearn: 0.0614378\ttotal: 2.39s\tremaining: 183ms\n",
      "929:\tlearn: 0.0613544\ttotal: 2.4s\tremaining: 180ms\n",
      "930:\tlearn: 0.0613229\ttotal: 2.4s\tremaining: 178ms\n",
      "931:\tlearn: 0.0612381\ttotal: 2.4s\tremaining: 175ms\n",
      "932:\tlearn: 0.0611825\ttotal: 2.4s\tremaining: 173ms\n",
      "933:\tlearn: 0.0611025\ttotal: 2.4s\tremaining: 170ms\n",
      "934:\tlearn: 0.0610327\ttotal: 2.41s\tremaining: 167ms\n",
      "935:\tlearn: 0.0609077\ttotal: 2.41s\tremaining: 165ms\n",
      "936:\tlearn: 0.0608699\ttotal: 2.41s\tremaining: 162ms\n",
      "937:\tlearn: 0.0606980\ttotal: 2.42s\tremaining: 160ms\n",
      "938:\tlearn: 0.0605704\ttotal: 2.42s\tremaining: 157ms\n",
      "939:\tlearn: 0.0604191\ttotal: 2.42s\tremaining: 154ms\n",
      "940:\tlearn: 0.0602784\ttotal: 2.42s\tremaining: 152ms\n",
      "941:\tlearn: 0.0601823\ttotal: 2.42s\tremaining: 149ms\n",
      "942:\tlearn: 0.0601068\ttotal: 2.43s\tremaining: 147ms\n",
      "943:\tlearn: 0.0600201\ttotal: 2.43s\tremaining: 144ms\n",
      "944:\tlearn: 0.0598841\ttotal: 2.43s\tremaining: 142ms\n",
      "945:\tlearn: 0.0597843\ttotal: 2.44s\tremaining: 139ms\n",
      "946:\tlearn: 0.0596505\ttotal: 2.44s\tremaining: 136ms\n",
      "947:\tlearn: 0.0595437\ttotal: 2.44s\tremaining: 134ms\n",
      "948:\tlearn: 0.0593983\ttotal: 2.44s\tremaining: 131ms\n",
      "949:\tlearn: 0.0593105\ttotal: 2.44s\tremaining: 129ms\n",
      "950:\tlearn: 0.0592257\ttotal: 2.45s\tremaining: 126ms\n",
      "951:\tlearn: 0.0591386\ttotal: 2.45s\tremaining: 124ms\n",
      "952:\tlearn: 0.0591098\ttotal: 2.45s\tremaining: 121ms\n",
      "953:\tlearn: 0.0589645\ttotal: 2.45s\tremaining: 118ms\n",
      "954:\tlearn: 0.0589020\ttotal: 2.46s\tremaining: 116ms\n",
      "955:\tlearn: 0.0587636\ttotal: 2.46s\tremaining: 113ms\n",
      "956:\tlearn: 0.0586632\ttotal: 2.46s\tremaining: 111ms\n",
      "957:\tlearn: 0.0585287\ttotal: 2.46s\tremaining: 108ms\n",
      "958:\tlearn: 0.0584469\ttotal: 2.47s\tremaining: 105ms\n",
      "959:\tlearn: 0.0583391\ttotal: 2.47s\tremaining: 103ms\n",
      "960:\tlearn: 0.0582157\ttotal: 2.47s\tremaining: 100ms\n",
      "961:\tlearn: 0.0581638\ttotal: 2.47s\tremaining: 97.7ms\n",
      "962:\tlearn: 0.0580985\ttotal: 2.48s\tremaining: 95.1ms\n",
      "963:\tlearn: 0.0580004\ttotal: 2.48s\tremaining: 92.6ms\n",
      "964:\tlearn: 0.0579545\ttotal: 2.48s\tremaining: 90ms\n",
      "965:\tlearn: 0.0578690\ttotal: 2.48s\tremaining: 87.4ms\n",
      "966:\tlearn: 0.0577593\ttotal: 2.48s\tremaining: 84.8ms\n",
      "967:\tlearn: 0.0576304\ttotal: 2.49s\tremaining: 82.3ms\n",
      "968:\tlearn: 0.0575768\ttotal: 2.49s\tremaining: 79.7ms\n",
      "969:\tlearn: 0.0574374\ttotal: 2.49s\tremaining: 77.1ms\n",
      "970:\tlearn: 0.0574076\ttotal: 2.5s\tremaining: 74.5ms\n",
      "971:\tlearn: 0.0573156\ttotal: 2.5s\tremaining: 72ms\n",
      "972:\tlearn: 0.0571613\ttotal: 2.5s\tremaining: 69.4ms\n",
      "973:\tlearn: 0.0570471\ttotal: 2.5s\tremaining: 66.8ms\n",
      "974:\tlearn: 0.0569691\ttotal: 2.5s\tremaining: 64.2ms\n",
      "975:\tlearn: 0.0567792\ttotal: 2.51s\tremaining: 61.7ms\n",
      "976:\tlearn: 0.0566818\ttotal: 2.51s\tremaining: 59.1ms\n",
      "977:\tlearn: 0.0566259\ttotal: 2.51s\tremaining: 56.5ms\n",
      "978:\tlearn: 0.0565561\ttotal: 2.51s\tremaining: 53.9ms\n",
      "979:\tlearn: 0.0564521\ttotal: 2.52s\tremaining: 51.4ms\n",
      "980:\tlearn: 0.0563680\ttotal: 2.52s\tremaining: 48.8ms\n",
      "981:\tlearn: 0.0562662\ttotal: 2.52s\tremaining: 46.2ms\n",
      "982:\tlearn: 0.0561100\ttotal: 2.52s\tremaining: 43.7ms\n",
      "983:\tlearn: 0.0560108\ttotal: 2.53s\tremaining: 41.1ms\n",
      "984:\tlearn: 0.0558679\ttotal: 2.53s\tremaining: 38.5ms\n",
      "985:\tlearn: 0.0557584\ttotal: 2.53s\tremaining: 35.9ms\n",
      "986:\tlearn: 0.0557418\ttotal: 2.53s\tremaining: 33.4ms\n",
      "987:\tlearn: 0.0556625\ttotal: 2.54s\tremaining: 30.8ms\n",
      "988:\tlearn: 0.0555940\ttotal: 2.54s\tremaining: 28.2ms\n",
      "989:\tlearn: 0.0555309\ttotal: 2.54s\tremaining: 25.7ms\n",
      "990:\tlearn: 0.0554862\ttotal: 2.54s\tremaining: 23.1ms\n",
      "991:\tlearn: 0.0553810\ttotal: 2.55s\tremaining: 20.5ms\n",
      "992:\tlearn: 0.0553243\ttotal: 2.55s\tremaining: 18ms\n",
      "993:\tlearn: 0.0551898\ttotal: 2.55s\tremaining: 15.4ms\n",
      "994:\tlearn: 0.0550667\ttotal: 2.55s\tremaining: 12.8ms\n",
      "995:\tlearn: 0.0549770\ttotal: 2.56s\tremaining: 10.3ms\n",
      "996:\tlearn: 0.0548642\ttotal: 2.56s\tremaining: 7.7ms\n",
      "997:\tlearn: 0.0547503\ttotal: 2.56s\tremaining: 5.13ms\n",
      "998:\tlearn: 0.0546329\ttotal: 2.56s\tremaining: 2.57ms\n",
      "999:\tlearn: 0.0545135\ttotal: 2.56s\tremaining: 0us\n"
     ]
    },
    {
     "data": {
      "text/plain": [
       "<catboost.core.CatBoostClassifier at 0x7d29d3ab8400>"
      ]
     },
     "execution_count": 50,
     "metadata": {},
     "output_type": "execute_result"
    }
   ],
   "source": [
    "CBC = CatBoostClassifier()\n",
    "CBC.fit(X_train, y_train)"
   ]
  },
  {
   "cell_type": "markdown",
   "id": "700656d8",
   "metadata": {
    "papermill": {
     "duration": 0.047972,
     "end_time": "2024-01-07T10:15:44.724989",
     "exception": false,
     "start_time": "2024-01-07T10:15:44.677017",
     "status": "completed"
    },
    "tags": []
   },
   "source": [
    "Make predictions using the model and print the accuracy, recall, f1_score and plot the confusion matrices for training and validation data. **(P7-2: 1 point)**"
   ]
  },
  {
   "cell_type": "code",
   "execution_count": 51,
   "id": "fea80cf2",
   "metadata": {
    "execution": {
     "iopub.execute_input": "2024-01-07T10:15:44.824668Z",
     "iopub.status.busy": "2024-01-07T10:15:44.824125Z",
     "iopub.status.idle": "2024-01-07T10:15:44.840999Z",
     "shell.execute_reply": "2024-01-07T10:15:44.839558Z"
    },
    "papermill": {
     "duration": 0.069554,
     "end_time": "2024-01-07T10:15:44.844132",
     "exception": false,
     "start_time": "2024-01-07T10:15:44.774578",
     "status": "completed"
    },
    "tags": []
   },
   "outputs": [],
   "source": [
    "y_train_pred = CBC.predict(X_train)\n",
    "y_val_pred = CBC.predict(X_val)"
   ]
  },
  {
   "cell_type": "code",
   "execution_count": 52,
   "id": "521acc03",
   "metadata": {
    "execution": {
     "iopub.execute_input": "2024-01-07T10:15:44.943497Z",
     "iopub.status.busy": "2024-01-07T10:15:44.942998Z",
     "iopub.status.idle": "2024-01-07T10:15:44.962257Z",
     "shell.execute_reply": "2024-01-07T10:15:44.960604Z"
    },
    "id": "5XFow_6pY6s8",
    "outputId": "be422f68-50a9-4fa6-c42a-51205745f2d0",
    "papermill": {
     "duration": 0.071902,
     "end_time": "2024-01-07T10:15:44.965048",
     "exception": false,
     "start_time": "2024-01-07T10:15:44.893146",
     "status": "completed"
    },
    "tags": []
   },
   "outputs": [
    {
     "name": "stdout",
     "output_type": "stream",
     "text": [
      "Train and test accuracy are: 1.0 ,0.8018018018018018\n",
      "Train and test recall are: 1.0 ,0.23809523809523808\n",
      "Train and test f1 are: 1.0 ,0.31249999999999994\n"
     ]
    }
   ],
   "source": [
    "print(f'Train and test accuracy are: {accuracy_score(y_train, y_train_pred)} ,{accuracy_score(y_val, y_val_pred)}')\n",
    "\n",
    "print(f'Train and test recall are: {recall_score(y_train, y_train_pred)} ,{recall_score(y_val, y_val_pred)}')\n",
    "\n",
    "print(f'Train and test f1 are: {f1_score(y_train, y_train_pred)} ,{f1_score(y_val, y_val_pred)}')"
   ]
  },
  {
   "cell_type": "markdown",
   "id": "6e5c459b",
   "metadata": {
    "papermill": {
     "duration": 0.050606,
     "end_time": "2024-01-07T10:15:45.063868",
     "exception": false,
     "start_time": "2024-01-07T10:15:45.013262",
     "status": "completed"
    },
    "tags": []
   },
   "source": [
    "Plot the confusion matrices for the training and validation datasets. **(P7-3: 2 points)**"
   ]
  },
  {
   "cell_type": "code",
   "execution_count": 53,
   "id": "efbf6bbd",
   "metadata": {
    "execution": {
     "iopub.execute_input": "2024-01-07T10:15:45.165205Z",
     "iopub.status.busy": "2024-01-07T10:15:45.164386Z",
     "iopub.status.idle": "2024-01-07T10:15:45.492923Z",
     "shell.execute_reply": "2024-01-07T10:15:45.491605Z"
    },
    "id": "FfTIr9fzY6s9",
    "outputId": "48aac2da-89b9-4a1a-b0e2-0aef1d15b69a",
    "papermill": {
     "duration": 0.382867,
     "end_time": "2024-01-07T10:15:45.495573",
     "exception": false,
     "start_time": "2024-01-07T10:15:45.112706",
     "status": "completed"
    },
    "tags": []
   },
   "outputs": [
    {
     "data": {
      "text/plain": [
       "<Axes: >"
      ]
     },
     "execution_count": 53,
     "metadata": {},
     "output_type": "execute_result"
    },
    {
     "data": {
      "image/png": "[encoded data removed]",
      "text/plain": [
       "<Figure size 640x480 with 2 Axes>"
      ]
     },
     "metadata": {},
     "output_type": "display_data"
    }
   ],
   "source": [
    "CM = confusion_matrix(y_train, y_train_pred)\n",
    "sns.heatmap(CM, annot=True, fmt='d')"
   ]
  },
  {
   "cell_type": "code",
   "execution_count": 54,
   "id": "4b7a5174",
   "metadata": {
    "execution": {
     "iopub.execute_input": "2024-01-07T10:15:45.597700Z",
     "iopub.status.busy": "2024-01-07T10:15:45.597277Z",
     "iopub.status.idle": "2024-01-07T10:15:45.933351Z",
     "shell.execute_reply": "2024-01-07T10:15:45.932065Z"
    },
    "id": "xr-QCVSIY6s9",
    "outputId": "2d717654-fa5f-48bf-c3d7-e37fd5cbb677",
    "papermill": {
     "duration": 0.390554,
     "end_time": "2024-01-07T10:15:45.936650",
     "exception": false,
     "start_time": "2024-01-07T10:15:45.546096",
     "status": "completed"
    },
    "tags": []
   },
   "outputs": [
    {
     "data": {
      "text/plain": [
       "<Axes: >"
      ]
     },
     "execution_count": 54,
     "metadata": {},
     "output_type": "execute_result"
    },
    {
     "data": {
      "image/png": "[encoded data removed]",
      "text/plain": [
       "<Figure size 640x480 with 2 Axes>"
      ]
     },
     "metadata": {},
     "output_type": "display_data"
    }
   ],
   "source": [
    "CM = confusion_matrix(y_val, y_val_pred)\n",
    "sns.heatmap(CM, annot=True, fmt='d')"
   ]
  },
  {
   "cell_type": "markdown",
   "id": "e05d2d8f",
   "metadata": {
    "id": "HRQIi6XmY6s-",
    "papermill": {
     "duration": 0.049541,
     "end_time": "2024-01-07T10:15:46.037235",
     "exception": false,
     "start_time": "2024-01-07T10:15:45.987694",
     "status": "completed"
    },
    "tags": []
   },
   "source": [
    "# P8: Tuning parameters using optuna? (12 points)"
   ]
  },
  {
   "cell_type": "markdown",
   "id": "a00e7238",
   "metadata": {
    "id": "rp3A6wZlY6s-",
    "papermill": {
     "duration": 0.050305,
     "end_time": "2024-01-07T10:15:46.137085",
     "exception": false,
     "start_time": "2024-01-07T10:15:46.086780",
     "status": "completed"
    },
    "tags": []
   },
   "source": [
    "There are many tunable parameters in Gradient boosted decision trees tuning all of them using grid search is almost impossible. There is no other choice for tuing hyperparameters unless you assume some models on behaviour of models under different hyperparameter choices e.g. the follow a gaussian process. Use the optuna library to tune the hyperparameters of gradient boosted decision tree. Report the results as in the previous parts. **(P8-1: 10 points)**\n",
    "\n",
    "Do you want to get familiar more with it? Follow [this link](https://datagy.io/python-optuna/) (+40 minutes)\n",
    "\n",
    "Do you know the difference between parameters and hyperparameters? If no, you can find more [here](https://virgool.io/@maryam.hasanali/%D9%87%D8%A7%DB%8C%D9%BE%D8%B1%D9%BE%D8%A7%D8%B1%D8%A7%D9%85%D8%AA%D8%B1%D9%87%D8%A7%DB%8C-%D8%AF%D8%B1-%DB%8C%DA%A9-%D9%85%D8%AF%D9%84-%DB%8C%D8%A7%D8%AF%DA%AF%DB%8C%D8%B1%DB%8C-%D9%85%D8%A7%D8%B4%DB%8C%D9%86-%DA%86%DB%8C%D8%B3%D8%AA-%D9%88-%DA%86%DA%AF%D9%88%D9%86%D9%87-%D8%A2%D9%86-%D8%B1%D8%A7-%D8%AA%D9%86%D8%B8%DB%8C%D9%85-%DA%A9%D9%86%DB%8C%D9%85-o8zgjoouhwen) (3 minutes)."
   ]
  },
  {
   "cell_type": "code",
   "execution_count": 55,
   "id": "1b031e0f",
   "metadata": {
    "execution": {
     "iopub.execute_input": "2024-01-07T10:15:46.242007Z",
     "iopub.status.busy": "2024-01-07T10:15:46.241471Z",
     "iopub.status.idle": "2024-01-07T10:16:06.782141Z",
     "shell.execute_reply": "2024-01-07T10:16:06.780857Z"
    },
    "id": "_lATnkRBY6s-",
    "outputId": "7147ec58-20ea-43ba-cf09-03040d695139",
    "papermill": {
     "duration": 20.594203,
     "end_time": "2024-01-07T10:16:06.784462",
     "exception": false,
     "start_time": "2024-01-07T10:15:46.190259",
     "status": "completed"
    },
    "tags": []
   },
   "outputs": [
    {
     "name": "stderr",
     "output_type": "stream",
     "text": [
      "[I 2024-01-07 10:15:46,249] A new study created in memory with name: no-name-06fc37c8-7532-4f88-b94e-dd4a688602b1\n",
      "[I 2024-01-07 10:15:47,276] Trial 0 finished with value: 0.4390243902439024 and parameters: {'iterations': 383, 'depth': 6, 'random_strength': 72.39686447197738, 'learning_rate': 0.003694737156646926, 'bagging_temperature': 1.2851704419986587, 'l2_leaf_reg': 0.33658920612470994}. Best is trial 0 with value: 0.4390243902439024.\n",
      "[I 2024-01-07 10:15:48,391] Trial 1 finished with value: 0.4615384615384615 and parameters: {'iterations': 740, 'depth': 3, 'random_strength': 46.64751238584225, 'learning_rate': 0.0013417832165917266, 'bagging_temperature': 7.478709845394935, 'l2_leaf_reg': 1.9751561873992092}. Best is trial 1 with value: 0.4615384615384615.\n",
      "[I 2024-01-07 10:15:49,333] Trial 2 finished with value: 0.3888888888888889 and parameters: {'iterations': 324, 'depth': 6, 'random_strength': 44.10484113309657, 'learning_rate': 0.0345037591789964, 'bagging_temperature': 8.224713739675927, 'l2_leaf_reg': 3.549165725781979}. Best is trial 1 with value: 0.4615384615384615.\n",
      "[I 2024-01-07 10:15:49,531] Trial 3 finished with value: 0.5 and parameters: {'iterations': 680, 'depth': 3, 'random_strength': 46.347253514709294, 'learning_rate': 0.18177958455445686, 'bagging_temperature': 0.5194405913798994, 'l2_leaf_reg': 0.001419387777424032}. Best is trial 3 with value: 0.5.\n",
      "[I 2024-01-07 10:15:51,612] Trial 4 finished with value: 0.36363636363636365 and parameters: {'iterations': 586, 'depth': 8, 'random_strength': 25.91105395335842, 'learning_rate': 0.01089076252846496, 'bagging_temperature': 8.738147942994791, 'l2_leaf_reg': 0.07387078497135476}. Best is trial 3 with value: 0.5.\n",
      "[I 2024-01-07 10:15:51,959] Trial 5 finished with value: 0.45 and parameters: {'iterations': 216, 'depth': 5, 'random_strength': 34.383182380390295, 'learning_rate': 0.12041507635974544, 'bagging_temperature': 0.2922153495401536, 'l2_leaf_reg': 0.005199582563384558}. Best is trial 3 with value: 0.5.\n",
      "[I 2024-01-07 10:15:52,387] Trial 6 finished with value: 0.4444444444444444 and parameters: {'iterations': 288, 'depth': 3, 'random_strength': 17.21298568975903, 'learning_rate': 0.011355362316432742, 'bagging_temperature': 1.4984570103542372, 'l2_leaf_reg': 0.11262639950611301}. Best is trial 3 with value: 0.5.\n",
      "[I 2024-01-07 10:15:53,638] Trial 7 finished with value: 0.35 and parameters: {'iterations': 459, 'depth': 6, 'random_strength': 36.044632426660975, 'learning_rate': 0.005976138191607008, 'bagging_temperature': 5.339930973717885, 'l2_leaf_reg': 0.0010610745950471506}. Best is trial 3 with value: 0.5.\n",
      "[I 2024-01-07 10:15:55,680] Trial 8 finished with value: 0.3076923076923077 and parameters: {'iterations': 518, 'depth': 11, 'random_strength': 23.131586219505508, 'learning_rate': 0.019606532577348623, 'bagging_temperature': 0.5576250708509156, 'l2_leaf_reg': 0.0012418875643585882}. Best is trial 3 with value: 0.5.\n",
      "[I 2024-01-07 10:15:57,006] Trial 9 finished with value: 0.3448275862068965 and parameters: {'iterations': 117, 'depth': 10, 'random_strength': 58.746736672298816, 'learning_rate': 0.028887994058205732, 'bagging_temperature': 4.241664236656412, 'l2_leaf_reg': 0.09653796987132103}. Best is trial 3 with value: 0.5.\n",
      "[I 2024-01-07 10:15:57,463] Trial 10 finished with value: 0.3333333333333333 and parameters: {'iterations': 1024, 'depth': 9, 'random_strength': 97.20675613857301, 'learning_rate': 0.1953538503318981, 'bagging_temperature': 3.4638153516770354, 'l2_leaf_reg': 0.009737524405944487}. Best is trial 3 with value: 0.5.\n",
      "[I 2024-01-07 10:15:58,876] Trial 11 finished with value: 0.42857142857142855 and parameters: {'iterations': 868, 'depth': 3, 'random_strength': 2.2674271172788067, 'learning_rate': 0.0011098741372333274, 'bagging_temperature': 6.746802269736781, 'l2_leaf_reg': 8.831704120944062}. Best is trial 3 with value: 0.5.\n",
      "[I 2024-01-07 10:16:00,378] Trial 12 finished with value: 0.4528301886792453 and parameters: {'iterations': 827, 'depth': 4, 'random_strength': 63.34900190674582, 'learning_rate': 0.0011145604144847416, 'bagging_temperature': 6.746088482469844, 'l2_leaf_reg': 0.6806870594048102}. Best is trial 3 with value: 0.5.\n",
      "[I 2024-01-07 10:16:00,916] Trial 13 finished with value: 0.47619047619047616 and parameters: {'iterations': 731, 'depth': 3, 'random_strength': 81.47390515869048, 'learning_rate': 0.07282523831711858, 'bagging_temperature': 2.4508502886677825, 'l2_leaf_reg': 1.4181588684939854}. Best is trial 3 with value: 0.5.\n",
      "[I 2024-01-07 10:16:01,358] Trial 14 finished with value: 0.39999999999999997 and parameters: {'iterations': 1158, 'depth': 5, 'random_strength': 83.93801387886299, 'learning_rate': 0.07146176272012313, 'bagging_temperature': 2.6287198326641303, 'l2_leaf_reg': 0.023815164858462214}. Best is trial 3 with value: 0.5.\n",
      "[I 2024-01-07 10:16:04,697] Trial 15 finished with value: 0.36363636363636365 and parameters: {'iterations': 661, 'depth': 12, 'random_strength': 80.66061719515073, 'learning_rate': 0.0667530831155498, 'bagging_temperature': 2.4482535595262354, 'l2_leaf_reg': 0.6903562182643818}. Best is trial 3 with value: 0.5.\n",
      "[I 2024-01-07 10:16:04,996] Trial 16 finished with value: 0.375 and parameters: {'iterations': 949, 'depth': 4, 'random_strength': 59.68657961984764, 'learning_rate': 0.17968122873533365, 'bagging_temperature': 9.982094566012849, 'l2_leaf_reg': 0.004215642791761286}. Best is trial 3 with value: 0.5.\n",
      "[I 2024-01-07 10:16:05,450] Trial 17 finished with value: 0.4390243902439024 and parameters: {'iterations': 696, 'depth': 7, 'random_strength': 97.56979594560508, 'learning_rate': 0.07462114484984408, 'bagging_temperature': 2.210883841241217, 'l2_leaf_reg': 0.021046358602670862}. Best is trial 3 with value: 0.5.\n",
      "[I 2024-01-07 10:16:06,148] Trial 18 finished with value: 0.4782608695652174 and parameters: {'iterations': 791, 'depth': 4, 'random_strength': 83.64874309241274, 'learning_rate': 0.04485580687361517, 'bagging_temperature': 4.945446276699004, 'l2_leaf_reg': 0.255112061887816}. Best is trial 3 with value: 0.5.\n",
      "[I 2024-01-07 10:16:06,775] Trial 19 finished with value: 0.4545454545454545 and parameters: {'iterations': 1089, 'depth': 5, 'random_strength': 69.04251073007262, 'learning_rate': 0.0425845798587534, 'bagging_temperature': 5.139536140564503, 'l2_leaf_reg': 0.04403612554196721}. Best is trial 3 with value: 0.5.\n"
     ]
    },
    {
     "name": "stdout",
     "output_type": "stream",
     "text": [
      "{'iterations': 680, 'depth': 3, 'random_strength': 46.347253514709294, 'learning_rate': 0.18177958455445686, 'bagging_temperature': 0.5194405913798994, 'l2_leaf_reg': 0.001419387777424032}\n"
     ]
    }
   ],
   "source": [
    "import optuna\n",
    "from catboost import CatBoostClassifier\n",
    "from sklearn.metrics import f1_score\n",
    "\n",
    "def objective(trial):\n",
    "    params = { 'iterations': trial.suggest_int('iterations', 80, 1200),\n",
    "            'depth': trial.suggest_int('depth', 3, 12),\n",
    "            'random_strength': trial.suggest_float('random_strength', 0.0, 100.0),\n",
    "            'learning_rate': trial.suggest_float('learning_rate', 0.001, 0.2, log=True),\n",
    "            'bagging_temperature': trial.suggest_float('bagging_temperature', 0.0, 10.0),\n",
    "            'l2_leaf_reg': trial.suggest_float('l2_leaf_reg', 1e-3, 10.0, log=True),\n",
    "\n",
    "    }\n",
    "\n",
    "    catboost_model = CatBoostClassifier(**params, verbose=False)\n",
    "    catboost_model.fit(X_train, y_train, eval_set=(X_val, y_val), early_stopping_rounds=50, verbose=False)\n",
    "    val_preds = catboost_model.predict(X_val)\n",
    "    f1 = f1_score(y_val, val_preds)\n",
    "    return f1\n",
    "\n",
    "study = optuna.create_study(direction='maximize')\n",
    "study.optimize(objective, n_trials=20)\n",
    "trial = study.best_trial\n",
    "print(trial.params)\n"
   ]
  },
  {
   "cell_type": "code",
   "execution_count": 56,
   "id": "9774aa70",
   "metadata": {
    "execution": {
     "iopub.execute_input": "2024-01-07T10:16:06.892126Z",
     "iopub.status.busy": "2024-01-07T10:16:06.890867Z",
     "iopub.status.idle": "2024-01-07T10:16:07.856289Z",
     "shell.execute_reply": "2024-01-07T10:16:07.855448Z"
    },
    "id": "lp-wjdzgY6s_",
    "outputId": "f0fd9665-ab9c-4bbd-99b4-a098c62ae7c7",
    "papermill": {
     "duration": 1.022294,
     "end_time": "2024-01-07T10:16:07.859198",
     "exception": false,
     "start_time": "2024-01-07T10:16:06.836904",
     "status": "completed"
    },
    "tags": []
   },
   "outputs": [
    {
     "name": "stdout",
     "output_type": "stream",
     "text": [
      "Train and test accuracy are: 1.0 ,0.8108108108108109\n",
      "Train and test recall are: 1.0 ,0.2857142857142857\n",
      "Train and test f1 are: 1.0 ,0.36363636363636365\n"
     ]
    }
   ],
   "source": [
    "CBC_ = CatBoostClassifier(**trial.params, verbose=False)\n",
    "CBC_.fit(X_train, y_train)\n",
    "\n",
    "y_train_pred = CBC_.predict(X_train)\n",
    "y_val_pred = CBC_.predict(X_val)\n",
    "\n",
    "print(f'Train and test accuracy are: {accuracy_score(y_train, y_train_pred)} ,{accuracy_score(y_val, y_val_pred)}')\n",
    "\n",
    "print(f'Train and test recall are: {recall_score(y_train, y_train_pred)} ,{recall_score(y_val, y_val_pred)}')\n",
    "\n",
    "print(f'Train and test f1 are: {f1_score(y_train, y_train_pred)} ,{f1_score(y_val, y_val_pred)}')"
   ]
  },
  {
   "cell_type": "markdown",
   "id": "602967fd",
   "metadata": {
    "papermill": {
     "duration": 0.051591,
     "end_time": "2024-01-07T10:16:07.963640",
     "exception": false,
     "start_time": "2024-01-07T10:16:07.912049",
     "status": "completed"
    },
    "tags": []
   },
   "source": [
    "Plot the confusion matrices for the training and validation datasets. **(P8-2: 2 points)**"
   ]
  },
  {
   "cell_type": "code",
   "execution_count": 57,
   "id": "11f42059",
   "metadata": {
    "execution": {
     "iopub.execute_input": "2024-01-07T10:16:08.071893Z",
     "iopub.status.busy": "2024-01-07T10:16:08.070471Z",
     "iopub.status.idle": "2024-01-07T10:16:08.401306Z",
     "shell.execute_reply": "2024-01-07T10:16:08.399924Z"
    },
    "id": "F69begdeY6s_",
    "outputId": "b444ca3c-cf1b-4022-89a9-0ad16ac73777",
    "papermill": {
     "duration": 0.388401,
     "end_time": "2024-01-07T10:16:08.403999",
     "exception": false,
     "start_time": "2024-01-07T10:16:08.015598",
     "status": "completed"
    },
    "tags": []
   },
   "outputs": [
    {
     "data": {
      "text/plain": [
       "<Axes: >"
      ]
     },
     "execution_count": 57,
     "metadata": {},
     "output_type": "execute_result"
    },
    {
     "data": {
      "image/png": "[encoded data removed]",
      "text/plain": [
       "<Figure size 640x480 with 2 Axes>"
      ]
     },
     "metadata": {},
     "output_type": "display_data"
    }
   ],
   "source": [
    "CM = confusion_matrix(y_train, y_train_pred)\n",
    "sns.heatmap(CM, annot=True, fmt='d')"
   ]
  },
  {
   "cell_type": "code",
   "execution_count": 58,
   "id": "a4dd2ddb",
   "metadata": {
    "execution": {
     "iopub.execute_input": "2024-01-07T10:16:08.515208Z",
     "iopub.status.busy": "2024-01-07T10:16:08.514737Z",
     "iopub.status.idle": "2024-01-07T10:16:08.864807Z",
     "shell.execute_reply": "2024-01-07T10:16:08.863310Z"
    },
    "id": "oaBAU4PZY6s_",
    "outputId": "f547a7b9-7f78-44d8-8201-6a2996b8a70b",
    "papermill": {
     "duration": 0.408009,
     "end_time": "2024-01-07T10:16:08.867607",
     "exception": false,
     "start_time": "2024-01-07T10:16:08.459598",
     "status": "completed"
    },
    "tags": []
   },
   "outputs": [
    {
     "data": {
      "text/plain": [
       "<Axes: >"
      ]
     },
     "execution_count": 58,
     "metadata": {},
     "output_type": "execute_result"
    },
    {
     "data": {
      "image/png": "[encoded data removed]",
      "text/plain": [
       "<Figure size 640x480 with 2 Axes>"
      ]
     },
     "metadata": {},
     "output_type": "display_data"
    }
   ],
   "source": [
    "CM = confusion_matrix(y_val, y_val_pred)\n",
    "sns.heatmap(CM, annot=True, fmt='d')"
   ]
  },
  {
   "cell_type": "markdown",
   "id": "0e42a73e",
   "metadata": {
    "id": "7es40DN7Y6s_",
    "papermill": {
     "duration": 0.053392,
     "end_time": "2024-01-07T10:16:08.973844",
     "exception": false,
     "start_time": "2024-01-07T10:16:08.920452",
     "status": "completed"
    },
    "tags": []
   },
   "source": [
    "# P9: Performance on testing data (4 points)"
   ]
  },
  {
   "cell_type": "markdown",
   "id": "f061d2c6",
   "metadata": {
    "papermill": {
     "duration": 0.051529,
     "end_time": "2024-01-07T10:16:09.078396",
     "exception": false,
     "start_time": "2024-01-07T10:16:09.026867",
     "status": "completed"
    },
    "tags": []
   },
   "source": [
    "call the model on test data. **(P9-1: 1 point)**"
   ]
  },
  {
   "cell_type": "code",
   "execution_count": 59,
   "id": "38fa06c6",
   "metadata": {
    "execution": {
     "iopub.execute_input": "2024-01-07T10:16:09.185228Z",
     "iopub.status.busy": "2024-01-07T10:16:09.184758Z",
     "iopub.status.idle": "2024-01-07T10:16:09.194703Z",
     "shell.execute_reply": "2024-01-07T10:16:09.193270Z"
    },
    "papermill": {
     "duration": 0.065945,
     "end_time": "2024-01-07T10:16:09.197356",
     "exception": false,
     "start_time": "2024-01-07T10:16:09.131411",
     "status": "completed"
    },
    "tags": []
   },
   "outputs": [],
   "source": [
    "y_test_pred = CBC_.predict(X_test)"
   ]
  },
  {
   "cell_type": "markdown",
   "id": "414060f8",
   "metadata": {
    "id": "O1Dn-YrnY6tA",
    "papermill": {
     "duration": 0.054215,
     "end_time": "2024-01-07T10:16:09.304631",
     "exception": false,
     "start_time": "2024-01-07T10:16:09.250416",
     "status": "completed"
    },
    "tags": []
   },
   "source": [
    "evaluate your model on the testing data using f1_score. **(P9-2: 1 point)**"
   ]
  },
  {
   "cell_type": "code",
   "execution_count": 60,
   "id": "a62f3d7e",
   "metadata": {
    "execution": {
     "iopub.execute_input": "2024-01-07T10:16:09.413749Z",
     "iopub.status.busy": "2024-01-07T10:16:09.413246Z",
     "iopub.status.idle": "2024-01-07T10:16:09.426457Z",
     "shell.execute_reply": "2024-01-07T10:16:09.424975Z"
    },
    "id": "0IBNYaZTY6tA",
    "outputId": "ccd0990d-8530-4118-b139-28633e15f467",
    "papermill": {
     "duration": 0.069602,
     "end_time": "2024-01-07T10:16:09.429159",
     "exception": false,
     "start_time": "2024-01-07T10:16:09.359557",
     "status": "completed"
    },
    "tags": []
   },
   "outputs": [
    {
     "name": "stdout",
     "output_type": "stream",
     "text": [
      "F1 score on test :  0.5806451612903225\n"
     ]
    }
   ],
   "source": [
    "print(\"F1 score on test : \" ,f1_score(y_test ,y_test_pred))"
   ]
  },
  {
   "cell_type": "markdown",
   "id": "92d85a73",
   "metadata": {
    "papermill": {
     "duration": 0.052242,
     "end_time": "2024-01-07T10:16:09.535099",
     "exception": false,
     "start_time": "2024-01-07T10:16:09.482857",
     "status": "completed"
    },
    "tags": []
   },
   "source": [
    "What is the origin of loosing performance on the test set? Answer briefly here. **(P9-3: 1 point)**"
   ]
  },
  {
   "cell_type": "markdown",
   "id": "174b6173",
   "metadata": {
    "papermill": {
     "duration": 0.052461,
     "end_time": "2024-01-07T10:16:09.640832",
     "exception": false,
     "start_time": "2024-01-07T10:16:09.588371",
     "status": "completed"
    },
    "tags": []
   },
   "source": [
    "Some reasons for the decrease in performance on test data may be :</br>\n",
    "\n",
    "* Overfitting the training data and obtaining learning parameters specific to the training data, thereby limiting generalization ability.</br>\n",
    "*Randomness: Machine learning algorithms often encompass a level of randomness that can occasionally lead to a performance drop.</br>\n",
    "*Hyperparameters: We might have chosen a suboptimal range for hyperparameters, reducing their effectiveness"
   ]
  },
  {
   "cell_type": "markdown",
   "id": "6ccaa4f8",
   "metadata": {
    "papermill": {
     "duration": 0.051456,
     "end_time": "2024-01-07T10:16:09.744431",
     "exception": false,
     "start_time": "2024-01-07T10:16:09.692975",
     "status": "completed"
    },
    "tags": []
   },
   "source": [
    "Plot the heatmap of the confusion matrix here. **(P9-4: 1 point)**"
   ]
  },
  {
   "cell_type": "code",
   "execution_count": 61,
   "id": "c1207ddd",
   "metadata": {
    "execution": {
     "iopub.execute_input": "2024-01-07T10:16:09.853353Z",
     "iopub.status.busy": "2024-01-07T10:16:09.852827Z",
     "iopub.status.idle": "2024-01-07T10:16:10.183361Z",
     "shell.execute_reply": "2024-01-07T10:16:10.181810Z"
    },
    "id": "BSpcdXvWY6tA",
    "outputId": "914195fb-e938-4019-8ff0-a4bec7cffaf1",
    "papermill": {
     "duration": 0.387937,
     "end_time": "2024-01-07T10:16:10.185989",
     "exception": false,
     "start_time": "2024-01-07T10:16:09.798052",
     "status": "completed"
    },
    "tags": []
   },
   "outputs": [
    {
     "data": {
      "text/plain": [
       "<Axes: >"
      ]
     },
     "execution_count": 61,
     "metadata": {},
     "output_type": "execute_result"
    },
    {
     "data": {
      "image/png": "[encoded data removed]",
      "text/plain": [
       "<Figure size 640x480 with 2 Axes>"
      ]
     },
     "metadata": {},
     "output_type": "display_data"
    }
   ],
   "source": [
    "CM = confusion_matrix(y_test, y_test_pred)\n",
    "sns.heatmap(CM, annot=True, fmt='d')"
   ]
  }
 ],
 "metadata": {
  "colab": {
   "provenance": []
  },
  "kaggle": {
   "accelerator": "none",
   "dataSources": [],
   "dockerImageVersionId": 30626,
   "isGpuEnabled": false,
   "isInternetEnabled": true,
   "language": "python",
   "sourceType": "notebook"
  },
  "kernelspec": {
   "display_name": "Python 3",
   "language": "python",
   "name": "python3"
  },
  "language_info": {
   "codemirror_mode": {
    "name": "ipython",
    "version": 3
   },
   "file_extension": ".py",
   "mimetype": "text/x-python",
   "name": "python",
   "nbconvert_exporter": "python",
   "pygments_lexer": "ipython3",
   "version": "3.10.12"
  },
  "papermill": {
   "default_parameters": {},
   "duration": 237.250537,
   "end_time": "2024-01-07T10:16:11.768822",
   "environment_variables": {},
   "exception": null,
   "input_path": "__notebook__.ipynb",
   "output_path": "__notebook__.ipynb",
   "parameters": {},
   "start_time": "2024-01-07T10:12:14.518285",
   "version": "2.4.0"
  }
 },
 "nbformat": 4,
 "nbformat_minor": 5
}
