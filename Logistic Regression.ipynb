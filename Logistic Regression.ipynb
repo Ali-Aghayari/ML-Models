{
 "cells": [
  {
   "cell_type": "markdown",
   "id": "15ac4354",
   "metadata": {
    "id": "p9ZZJ-BuI0jR",
    "papermill": {
     "duration": 0.011156,
     "end_time": "2023-12-17T10:27:28.372193",
     "exception": false,
     "start_time": "2023-12-17T10:27:28.361037",
     "status": "completed"
    },
    "tags": []
   },
   "source": [
    "**ML - Fall 2023 - Practical - 3**<br>\n",
    "**Practical Homework 3 - Logistic Regression**"
   ]
  },
  {
   "cell_type": "markdown",
   "id": "5370ee79",
   "metadata": {
    "id": "YeD7CvFcJhBu",
    "papermill": {
     "duration": 0.010506,
     "end_time": "2023-12-17T10:27:28.393880",
     "exception": false,
     "start_time": "2023-12-17T10:27:28.383374",
     "status": "completed"
    },
    "tags": []
   },
   "source": [
    "### Full Name : Ali Aghayari\n",
    "### Student Number : 400104715\n",
    "### Colab Link:\n",
    "___"
   ]
  },
  {
   "cell_type": "markdown",
   "id": "3914f8f3",
   "metadata": {
    "id": "AW5uh7WjWrda",
    "papermill": {
     "duration": 0.010561,
     "end_time": "2023-12-17T10:27:28.415318",
     "exception": false,
     "start_time": "2023-12-17T10:27:28.404757",
     "status": "completed"
    },
    "tags": []
   },
   "source": [
    "# P1: Introduction (10 points)\n",
    "The dataset consists of several game result predictor (independent) variables and one target (dependent) variable, `win_or_defeat`. <br> Independent variables include the `spell_used`, `position`, `towers_damage`, `kill_death_ratio`, `controlling_time`, and so on.\n",
    "  * spell_used\n",
    "  * trap_used\n",
    "  * character\n",
    "  * position\n",
    "  * location\n",
    "  * assists\n",
    "  * damage_amount\n",
    "  * towers_damage\n",
    "  * rooms_damage\n",
    "  * deaths\n",
    "  * money_total\n",
    "  * kill_death_ratio\n",
    "  * kills_total\n",
    "  * level\n",
    "  * controlling_time\n",
    "  * total_damage\n",
    "  * earned_damage\n",
    "  * special_enemy_killed\n",
    "  * room_kills\n",
    "  * main_score\n",
    "  * win_or_defeat\n",
    "\n",
    "First, we perform data exploration to get a better understanding of the data. Then, we perform data preprocessing to prepare the data for the regression model. Finally, we train a regression model to predict the outcome."
   ]
  },
  {
   "cell_type": "code",
   "execution_count": 1,
   "id": "f18385f5",
   "metadata": {
    "execution": {
     "iopub.execute_input": "2023-12-17T10:27:28.437815Z",
     "iopub.status.busy": "2023-12-17T10:27:28.437420Z",
     "iopub.status.idle": "2023-12-17T10:27:28.447348Z",
     "shell.execute_reply": "2023-12-17T10:27:28.446473Z"
    },
    "id": "Yzt_AGkxIsqL",
    "papermill": {
     "duration": 0.023577,
     "end_time": "2023-12-17T10:27:28.449392",
     "exception": false,
     "start_time": "2023-12-17T10:27:28.425815",
     "status": "completed"
    },
    "tags": []
   },
   "outputs": [],
   "source": [
    "data_link = \"https://drive.google.com/file/d/1SGuWqcRJ1GvPO9RxzxjOAkCEN_RDJY9d/view?usp=sharing\""
   ]
  },
  {
   "cell_type": "code",
   "execution_count": 2,
   "id": "98d902a1",
   "metadata": {
    "execution": {
     "iopub.execute_input": "2023-12-17T10:27:28.472211Z",
     "iopub.status.busy": "2023-12-17T10:27:28.471871Z",
     "iopub.status.idle": "2023-12-17T10:28:20.621856Z",
     "shell.execute_reply": "2023-12-17T10:28:20.620696Z"
    },
    "id": "xlJOL7Rt4h4X",
    "outputId": "b2e17dc8-07bd-4e84-b6d8-dd1ae58bfe75",
    "papermill": {
     "duration": 52.16422,
     "end_time": "2023-12-17T10:28:20.624330",
     "exception": false,
     "start_time": "2023-12-17T10:27:28.460110",
     "status": "completed"
    },
    "tags": []
   },
   "outputs": [
    {
     "name": "stdout",
     "output_type": "stream",
     "text": [
      "Requirement already satisfied: typing-extensions in /opt/conda/lib/python3.10/site-packages (4.5.0)\r\n",
      "Collecting typing-extensions\r\n",
      "  Obtaining dependency information for typing-extensions from https://files.pythonhosted.org/packages/b7/f4/6a90020cd2d93349b442bfcb657d0dc91eee65491600b2cb1d388bc98e6b/typing_extensions-4.9.0-py3-none-any.whl.metadata\r\n",
      "  Downloading typing_extensions-4.9.0-py3-none-any.whl.metadata (3.0 kB)\r\n",
      "Downloading typing_extensions-4.9.0-py3-none-any.whl (32 kB)\r\n",
      "Installing collected packages: typing-extensions\r\n",
      "  Attempting uninstall: typing-extensions\r\n",
      "    Found existing installation: typing_extensions 4.5.0\r\n",
      "    Uninstalling typing_extensions-4.5.0:\r\n",
      "      Successfully uninstalled typing_extensions-4.5.0\r\n",
      "\u001b[31mERROR: pip's dependency resolver does not currently take into account all the packages that are installed. This behaviour is the source of the following dependency conflicts.\r\n",
      "cudf 23.8.0 requires cupy-cuda11x>=12.0.0, which is not installed.\r\n",
      "cuml 23.8.0 requires cupy-cuda11x>=12.0.0, which is not installed.\r\n",
      "dask-cudf 23.8.0 requires cupy-cuda11x>=12.0.0, which is not installed.\r\n",
      "apache-beam 2.46.0 requires dill<0.3.2,>=0.3.1.1, but you have dill 0.3.7 which is incompatible.\r\n",
      "apache-beam 2.46.0 requires pyarrow<10.0.0,>=3.0.0, but you have pyarrow 11.0.0 which is incompatible.\r\n",
      "cudf 23.8.0 requires pandas<1.6.0dev0,>=1.3, but you have pandas 2.0.3 which is incompatible.\r\n",
      "cudf 23.8.0 requires protobuf<5,>=4.21, but you have protobuf 3.20.3 which is incompatible.\r\n",
      "cuml 23.8.0 requires dask==2023.7.1, but you have dask 2023.11.0 which is incompatible.\r\n",
      "cuml 23.8.0 requires distributed==2023.7.1, but you have distributed 2023.11.0 which is incompatible.\r\n",
      "dask-cudf 23.8.0 requires dask==2023.7.1, but you have dask 2023.11.0 which is incompatible.\r\n",
      "dask-cudf 23.8.0 requires distributed==2023.7.1, but you have distributed 2023.11.0 which is incompatible.\r\n",
      "dask-cudf 23.8.0 requires pandas<1.6.0dev0,>=1.3, but you have pandas 2.0.3 which is incompatible.\r\n",
      "jupyterlab 4.0.5 requires jupyter-lsp>=2.0.0, but you have jupyter-lsp 1.5.1 which is incompatible.\r\n",
      "jupyterlab-lsp 5.0.0 requires jupyter-lsp>=2.0.0, but you have jupyter-lsp 1.5.1 which is incompatible.\r\n",
      "jupyterlab-lsp 5.0.0 requires jupyterlab<5.0.0a0,>=4.0.6, but you have jupyterlab 4.0.5 which is incompatible.\r\n",
      "pymc3 3.11.5 requires numpy<1.22.2,>=1.15.0, but you have numpy 1.24.3 which is incompatible.\r\n",
      "pymc3 3.11.5 requires scipy<1.8.0,>=1.7.3, but you have scipy 1.11.3 which is incompatible.\r\n",
      "tensorflow 2.13.0 requires typing-extensions<4.6.0,>=3.6.6, but you have typing-extensions 4.9.0 which is incompatible.\r\n",
      "tensorflow-probability 0.21.0 requires typing-extensions<4.6.0, but you have typing-extensions 4.9.0 which is incompatible.\r\n",
      "tensorflowjs 4.13.0 requires packaging~=23.1, but you have packaging 21.3 which is incompatible.\r\n",
      "ydata-profiling 4.5.1 requires numpy<1.24,>=1.16.0, but you have numpy 1.24.3 which is incompatible.\u001b[0m\u001b[31m\r\n",
      "\u001b[0mSuccessfully installed typing-extensions-4.7.1\r\n",
      "Requirement already satisfied: ydata-profiling in /opt/conda/lib/python3.10/site-packages (4.5.1)\r\n",
      "Requirement already satisfied: scipy<1.12,>=1.4.1 in /opt/conda/lib/python3.10/site-packages (from ydata-profiling) (1.11.3)\r\n",
      "Requirement already satisfied: pandas!=1.4.0,<2.1,>1.1 in /opt/conda/lib/python3.10/site-packages (from ydata-profiling) (2.0.3)\r\n",
      "Requirement already satisfied: matplotlib<4,>=3.2 in /opt/conda/lib/python3.10/site-packages (from ydata-profiling) (3.7.3)\r\n",
      "Requirement already satisfied: pydantic<2,>=1.8.1 in /opt/conda/lib/python3.10/site-packages (from ydata-profiling) (1.10.12)\r\n",
      "Requirement already satisfied: PyYAML<6.1,>=5.0.0 in /opt/conda/lib/python3.10/site-packages (from ydata-profiling) (6.0.1)\r\n",
      "Requirement already satisfied: jinja2<3.2,>=2.11.1 in /opt/conda/lib/python3.10/site-packages (from ydata-profiling) (3.1.2)\r\n",
      "Requirement already satisfied: visions[type_image_path]==0.7.5 in /opt/conda/lib/python3.10/site-packages (from ydata-profiling) (0.7.5)\r\n",
      "Collecting numpy<1.24,>=1.16.0 (from ydata-profiling)\r\n",
      "  Downloading numpy-1.23.5-cp310-cp310-manylinux_2_17_x86_64.manylinux2014_x86_64.whl (17.1 MB)\r\n",
      "\u001b[2K     \u001b[90m━━━━━━━━━━━━━━━━━━━━━━━━━━━━━━━━━━━━━━━━\u001b[0m \u001b[32m17.1/17.1 MB\u001b[0m \u001b[31m65.7 MB/s\u001b[0m eta \u001b[36m0:00:00\u001b[0m\r\n",
      "\u001b[?25hRequirement already satisfied: htmlmin==0.1.12 in /opt/conda/lib/python3.10/site-packages (from ydata-profiling) (0.1.12)\r\n",
      "Requirement already satisfied: phik<0.13,>=0.11.1 in /opt/conda/lib/python3.10/site-packages (from ydata-profiling) (0.12.3)\r\n",
      "Requirement already satisfied: requests<3,>=2.24.0 in /opt/conda/lib/python3.10/site-packages (from ydata-profiling) (2.31.0)\r\n",
      "Requirement already satisfied: tqdm<5,>=4.48.2 in /opt/conda/lib/python3.10/site-packages (from ydata-profiling) (4.66.1)\r\n",
      "Requirement already satisfied: seaborn<0.13,>=0.10.1 in /opt/conda/lib/python3.10/site-packages (from ydata-profiling) (0.12.2)\r\n",
      "Requirement already satisfied: multimethod<2,>=1.4 in /opt/conda/lib/python3.10/site-packages (from ydata-profiling) (1.9.1)\r\n",
      "Requirement already satisfied: statsmodels<1,>=0.13.2 in /opt/conda/lib/python3.10/site-packages (from ydata-profiling) (0.14.0)\r\n",
      "Requirement already satisfied: typeguard<3,>=2.13.2 in /opt/conda/lib/python3.10/site-packages (from ydata-profiling) (2.13.3)\r\n",
      "Requirement already satisfied: imagehash==4.3.1 in /opt/conda/lib/python3.10/site-packages (from ydata-profiling) (4.3.1)\r\n",
      "Requirement already satisfied: wordcloud>=1.9.1 in /opt/conda/lib/python3.10/site-packages (from ydata-profiling) (1.9.2)\r\n",
      "Requirement already satisfied: dacite>=1.8 in /opt/conda/lib/python3.10/site-packages (from ydata-profiling) (1.8.1)\r\n",
      "Requirement already satisfied: PyWavelets in /opt/conda/lib/python3.10/site-packages (from imagehash==4.3.1->ydata-profiling) (1.4.1)\r\n",
      "Requirement already satisfied: pillow in /opt/conda/lib/python3.10/site-packages (from imagehash==4.3.1->ydata-profiling) (10.1.0)\r\n",
      "Requirement already satisfied: attrs>=19.3.0 in /opt/conda/lib/python3.10/site-packages (from visions[type_image_path]==0.7.5->ydata-profiling) (23.1.0)\r\n",
      "Requirement already satisfied: networkx>=2.4 in /opt/conda/lib/python3.10/site-packages (from visions[type_image_path]==0.7.5->ydata-profiling) (3.1)\r\n",
      "Requirement already satisfied: tangled-up-in-unicode>=0.0.4 in /opt/conda/lib/python3.10/site-packages (from visions[type_image_path]==0.7.5->ydata-profiling) (0.2.0)\r\n",
      "Requirement already satisfied: MarkupSafe>=2.0 in /opt/conda/lib/python3.10/site-packages (from jinja2<3.2,>=2.11.1->ydata-profiling) (2.1.3)\r\n",
      "Requirement already satisfied: contourpy>=1.0.1 in /opt/conda/lib/python3.10/site-packages (from matplotlib<4,>=3.2->ydata-profiling) (1.1.0)\r\n",
      "Requirement already satisfied: cycler>=0.10 in /opt/conda/lib/python3.10/site-packages (from matplotlib<4,>=3.2->ydata-profiling) (0.11.0)\r\n",
      "Requirement already satisfied: fonttools>=4.22.0 in /opt/conda/lib/python3.10/site-packages (from matplotlib<4,>=3.2->ydata-profiling) (4.42.1)\r\n",
      "Requirement already satisfied: kiwisolver>=1.0.1 in /opt/conda/lib/python3.10/site-packages (from matplotlib<4,>=3.2->ydata-profiling) (1.4.4)\r\n",
      "Requirement already satisfied: packaging>=20.0 in /opt/conda/lib/python3.10/site-packages (from matplotlib<4,>=3.2->ydata-profiling) (21.3)\r\n",
      "Requirement already satisfied: pyparsing>=2.3.1 in /opt/conda/lib/python3.10/site-packages (from matplotlib<4,>=3.2->ydata-profiling) (3.0.9)\r\n",
      "Requirement already satisfied: python-dateutil>=2.7 in /opt/conda/lib/python3.10/site-packages (from matplotlib<4,>=3.2->ydata-profiling) (2.8.2)\r\n",
      "Requirement already satisfied: pytz>=2020.1 in /opt/conda/lib/python3.10/site-packages (from pandas!=1.4.0,<2.1,>1.1->ydata-profiling) (2023.3)\r\n",
      "Requirement already satisfied: tzdata>=2022.1 in /opt/conda/lib/python3.10/site-packages (from pandas!=1.4.0,<2.1,>1.1->ydata-profiling) (2023.3)\r\n",
      "Requirement already satisfied: joblib>=0.14.1 in /opt/conda/lib/python3.10/site-packages (from phik<0.13,>=0.11.1->ydata-profiling) (1.3.2)\r\n",
      "Requirement already satisfied: typing-extensions>=4.2.0 in /opt/conda/lib/python3.10/site-packages (from pydantic<2,>=1.8.1->ydata-profiling) (4.7.1)\r\n",
      "Requirement already satisfied: charset-normalizer<4,>=2 in /opt/conda/lib/python3.10/site-packages (from requests<3,>=2.24.0->ydata-profiling) (3.2.0)\r\n",
      "Requirement already satisfied: idna<4,>=2.5 in /opt/conda/lib/python3.10/site-packages (from requests<3,>=2.24.0->ydata-profiling) (3.4)\r\n",
      "Requirement already satisfied: urllib3<3,>=1.21.1 in /opt/conda/lib/python3.10/site-packages (from requests<3,>=2.24.0->ydata-profiling) (1.26.15)\r\n",
      "Requirement already satisfied: certifi>=2017.4.17 in /opt/conda/lib/python3.10/site-packages (from requests<3,>=2.24.0->ydata-profiling) (2023.7.22)\r\n",
      "Requirement already satisfied: patsy>=0.5.2 in /opt/conda/lib/python3.10/site-packages (from statsmodels<1,>=0.13.2->ydata-profiling) (0.5.3)\r\n",
      "Requirement already satisfied: six in /opt/conda/lib/python3.10/site-packages (from patsy>=0.5.2->statsmodels<1,>=0.13.2->ydata-profiling) (1.16.0)\r\n",
      "Installing collected packages: numpy\r\n",
      "  Attempting uninstall: numpy\r\n",
      "    Found existing installation: numpy 1.24.3\r\n",
      "    Uninstalling numpy-1.24.3:\r\n",
      "      Successfully uninstalled numpy-1.24.3\r\n",
      "\u001b[31mERROR: pip's dependency resolver does not currently take into account all the packages that are installed. This behaviour is the source of the following dependency conflicts.\r\n",
      "cudf 23.8.0 requires cupy-cuda11x>=12.0.0, which is not installed.\r\n",
      "cuml 23.8.0 requires cupy-cuda11x>=12.0.0, which is not installed.\r\n",
      "dask-cudf 23.8.0 requires cupy-cuda11x>=12.0.0, which is not installed.\r\n",
      "apache-beam 2.46.0 requires dill<0.3.2,>=0.3.1.1, but you have dill 0.3.7 which is incompatible.\r\n",
      "apache-beam 2.46.0 requires pyarrow<10.0.0,>=3.0.0, but you have pyarrow 11.0.0 which is incompatible.\r\n",
      "chex 0.1.84 requires numpy>=1.24.1, but you have numpy 1.23.5 which is incompatible.\r\n",
      "cudf 23.8.0 requires pandas<1.6.0dev0,>=1.3, but you have pandas 2.0.3 which is incompatible.\r\n",
      "cudf 23.8.0 requires protobuf<5,>=4.21, but you have protobuf 3.20.3 which is incompatible.\r\n",
      "cuml 23.8.0 requires dask==2023.7.1, but you have dask 2023.11.0 which is incompatible.\r\n",
      "cuml 23.8.0 requires distributed==2023.7.1, but you have distributed 2023.11.0 which is incompatible.\r\n",
      "dask-cuda 23.8.0 requires dask==2023.7.1, but you have dask 2023.11.0 which is incompatible.\r\n",
      "dask-cuda 23.8.0 requires distributed==2023.7.1, but you have distributed 2023.11.0 which is incompatible.\r\n",
      "dask-cuda 23.8.0 requires pandas<1.6.0dev0,>=1.3, but you have pandas 2.0.3 which is incompatible.\r\n",
      "dask-cudf 23.8.0 requires dask==2023.7.1, but you have dask 2023.11.0 which is incompatible.\r\n",
      "dask-cudf 23.8.0 requires distributed==2023.7.1, but you have distributed 2023.11.0 which is incompatible.\r\n",
      "dask-cudf 23.8.0 requires pandas<1.6.0dev0,>=1.3, but you have pandas 2.0.3 which is incompatible.\r\n",
      "libpysal 4.9.2 requires packaging>=22, but you have packaging 21.3 which is incompatible.\r\n",
      "libpysal 4.9.2 requires shapely>=2.0.1, but you have shapely 1.8.5.post1 which is incompatible.\r\n",
      "momepy 0.6.0 requires shapely>=2, but you have shapely 1.8.5.post1 which is incompatible.\r\n",
      "pymc3 3.11.5 requires numpy<1.22.2,>=1.15.0, but you have numpy 1.23.5 which is incompatible.\r\n",
      "pymc3 3.11.5 requires scipy<1.8.0,>=1.7.3, but you have scipy 1.11.3 which is incompatible.\r\n",
      "raft-dask 23.8.0 requires dask==2023.7.1, but you have dask 2023.11.0 which is incompatible.\r\n",
      "raft-dask 23.8.0 requires distributed==2023.7.1, but you have distributed 2023.11.0 which is incompatible.\r\n",
      "tensorflow 2.13.0 requires typing-extensions<4.6.0,>=3.6.6, but you have typing-extensions 4.7.1 which is incompatible.\r\n",
      "tensorflow-probability 0.21.0 requires typing-extensions<4.6.0, but you have typing-extensions 4.7.1 which is incompatible.\r\n",
      "tensorflowjs 4.13.0 requires packaging~=23.1, but you have packaging 21.3 which is incompatible.\u001b[0m\u001b[31m\r\n",
      "\u001b[0mSuccessfully installed numpy-1.23.5\r\n",
      "Collecting gdown\r\n",
      "  Downloading gdown-4.7.1-py3-none-any.whl (15 kB)\r\n",
      "Requirement already satisfied: filelock in /opt/conda/lib/python3.10/site-packages (from gdown) (3.12.2)\r\n",
      "Requirement already satisfied: requests[socks] in /opt/conda/lib/python3.10/site-packages (from gdown) (2.31.0)\r\n",
      "Requirement already satisfied: six in /opt/conda/lib/python3.10/site-packages (from gdown) (1.16.0)\r\n",
      "Requirement already satisfied: tqdm in /opt/conda/lib/python3.10/site-packages (from gdown) (4.66.1)\r\n",
      "Requirement already satisfied: beautifulsoup4 in /opt/conda/lib/python3.10/site-packages (from gdown) (4.12.2)\r\n",
      "Requirement already satisfied: soupsieve>1.2 in /opt/conda/lib/python3.10/site-packages (from beautifulsoup4->gdown) (2.3.2.post1)\r\n",
      "Requirement already satisfied: charset-normalizer<4,>=2 in /opt/conda/lib/python3.10/site-packages (from requests[socks]->gdown) (3.2.0)\r\n",
      "Requirement already satisfied: idna<4,>=2.5 in /opt/conda/lib/python3.10/site-packages (from requests[socks]->gdown) (3.4)\r\n",
      "Requirement already satisfied: urllib3<3,>=1.21.1 in /opt/conda/lib/python3.10/site-packages (from requests[socks]->gdown) (1.26.15)\r\n",
      "Requirement already satisfied: certifi>=2017.4.17 in /opt/conda/lib/python3.10/site-packages (from requests[socks]->gdown) (2023.7.22)\r\n",
      "Requirement already satisfied: PySocks!=1.5.7,>=1.5.6 in /opt/conda/lib/python3.10/site-packages (from requests[socks]->gdown) (1.7.1)\r\n",
      "Installing collected packages: gdown\r\n",
      "Successfully installed gdown-4.7.1\r\n"
     ]
    }
   ],
   "source": [
    "!pip install typing-extensions --upgrade\n",
    "!pip install ydata-profiling\n",
    "!pip install gdown"
   ]
  },
  {
   "cell_type": "code",
   "execution_count": 3,
   "id": "71949248",
   "metadata": {
    "execution": {
     "iopub.execute_input": "2023-12-17T10:28:20.654354Z",
     "iopub.status.busy": "2023-12-17T10:28:20.653462Z",
     "iopub.status.idle": "2023-12-17T10:28:24.497011Z",
     "shell.execute_reply": "2023-12-17T10:28:24.495879Z"
    },
    "id": "Tmd8xRNwYBAX",
    "papermill": {
     "duration": 3.861236,
     "end_time": "2023-12-17T10:28:24.499576",
     "exception": false,
     "start_time": "2023-12-17T10:28:20.638340",
     "status": "completed"
    },
    "tags": []
   },
   "outputs": [
    {
     "name": "stderr",
     "output_type": "stream",
     "text": [
      "/opt/conda/lib/python3.10/site-packages/scipy/__init__.py:146: UserWarning: A NumPy version >=1.16.5 and <1.23.0 is required for this version of SciPy (detected version 1.24.3\n",
      "  warnings.warn(f\"A NumPy version >={np_minversion} and <{np_maxversion}\"\n",
      "/opt/conda/lib/python3.10/site-packages/numba/core/decorators.py:262: NumbaDeprecationWarning: \u001b[1mnumba.generated_jit is deprecated. Please see the documentation at: https://numba.readthedocs.io/en/stable/reference/deprecation.html#deprecation-of-generated-jit for more information and advice on a suitable replacement.\u001b[0m\n",
      "  warnings.warn(msg, NumbaDeprecationWarning)\n",
      "/opt/conda/lib/python3.10/site-packages/visions/backends/shared/nan_handling.py:51: NumbaDeprecationWarning: \u001b[1mThe 'nopython' keyword argument was not supplied to the 'numba.jit' decorator. The implicit default value for this argument is currently False, but it will be changed to True in Numba 0.59.0. See https://numba.readthedocs.io/en/stable/reference/deprecation.html#deprecation-of-object-mode-fall-back-behaviour-when-using-jit for details.\u001b[0m\n",
      "  def hasna(x: np.ndarray) -> bool:\n"
     ]
    }
   ],
   "source": [
    "import numpy as np\n",
    "import pandas as pd\n",
    "import matplotlib.pyplot as plt\n",
    "import seaborn as sns\n",
    "from ydata_profiling import ProfileReport\n",
    "\n",
    "from sklearn.model_selection import train_test_split\n",
    "from sklearn import preprocessing\n",
    "from sklearn.preprocessing import StandardScaler"
   ]
  },
  {
   "cell_type": "code",
   "execution_count": 4,
   "id": "fa6bfed3",
   "metadata": {
    "execution": {
     "iopub.execute_input": "2023-12-17T10:28:24.529823Z",
     "iopub.status.busy": "2023-12-17T10:28:24.528789Z",
     "iopub.status.idle": "2023-12-17T10:28:27.271794Z",
     "shell.execute_reply": "2023-12-17T10:28:27.270755Z"
    },
    "id": "trp2GMGdZ-Sy",
    "outputId": "d1d45c24-9f83-48b9-873c-f80bb90ab7ef",
    "papermill": {
     "duration": 2.76063,
     "end_time": "2023-12-17T10:28:27.274365",
     "exception": false,
     "start_time": "2023-12-17T10:28:24.513735",
     "status": "completed"
    },
    "tags": []
   },
   "outputs": [
    {
     "name": "stdout",
     "output_type": "stream",
     "text": [
      "Downloading...\r\n",
      "From: https://drive.google.com/uc?id=1SGuWqcRJ1GvPO9RxzxjOAkCEN_RDJY9d\r\n",
      "To: /kaggle/working/train.csv\r\n",
      "100%|█████████████████████████████████████████| 493k/493k [00:00<00:00, 120MB/s]\r\n"
     ]
    }
   ],
   "source": [
    "!gdown 1SGuWqcRJ1GvPO9RxzxjOAkCEN_RDJY9d"
   ]
  },
  {
   "cell_type": "markdown",
   "id": "5ca6b46d",
   "metadata": {
    "id": "krjaoiiLapka",
    "papermill": {
     "duration": 0.013411,
     "end_time": "2023-12-17T10:28:27.301813",
     "exception": false,
     "start_time": "2023-12-17T10:28:27.288402",
     "status": "completed"
    },
    "tags": []
   },
   "source": [
    "KurtosisLoad the dataset as a dataframe. Then, check for any null values and remove the rows containing them. Finally, display the first 10 rows. Also check for duplicate rows and delete them, if there are any. Report some other metrics like `Kurtosis` and `Interquartile range (IQR)` (hint: search and read about ydata-profiling). **(P1-1: 5 points)**"
   ]
  },
  {
   "cell_type": "code",
   "execution_count": 5,
   "id": "557ae557",
   "metadata": {
    "execution": {
     "iopub.execute_input": "2023-12-17T10:28:27.331455Z",
     "iopub.status.busy": "2023-12-17T10:28:27.330559Z",
     "iopub.status.idle": "2023-12-17T10:28:27.407652Z",
     "shell.execute_reply": "2023-12-17T10:28:27.406686Z"
    },
    "id": "29l6ChSOaJ7K",
    "papermill": {
     "duration": 0.095122,
     "end_time": "2023-12-17T10:28:27.410619",
     "exception": false,
     "start_time": "2023-12-17T10:28:27.315497",
     "status": "completed"
    },
    "tags": []
   },
   "outputs": [
    {
     "name": "stdout",
     "output_type": "stream",
     "text": [
      "is null count : Unnamed: 0              0\n",
      "spell_used              0\n",
      "trap_used               0\n",
      "character               0\n",
      "position                0\n",
      "location                1\n",
      "assists                 1\n",
      "damage_amount           0\n",
      "towers_damage           0\n",
      "rooms_damage            0\n",
      "deaths                  0\n",
      "money_total             0\n",
      "kill_death_ratio        1\n",
      "kills_total             0\n",
      "level                   0\n",
      "controlling_time        0\n",
      "total_damage            0\n",
      "earned_damage           0\n",
      "special_enemy_killed    0\n",
      "room_kills              0\n",
      "main_score              0\n",
      "win_or_defeat           0\n",
      "dtype: int64\n",
      "count of duplicated rows :  0\n",
      "we dont have any dupliacted row\n",
      "\n",
      "\n",
      "   Unnamed: 0  spell_used  trap_used    character   position       location  \\\n",
      "0           0           4         12  TwistedFate  Side.blue  Lane.top_lane   \n",
      "2           2           4         12        Ziggs  Side.blue  Lane.bot_lane   \n",
      "3           3           4          7        Senna   Side.red  Lane.bot_lane   \n",
      "5           5           4         11       Rengar   Side.red    Lane.jungle   \n",
      "6           6           4         12        Ziggs  Side.blue  Lane.bot_lane   \n",
      "\n",
      "   assists  damage_amount  towers_damage  rooms_damage  ...  kill_death_ratio  \\\n",
      "0      9.0           1862           5119          1862  ...          1.222222   \n",
      "2      3.0            543           2754           543  ...          1.750000   \n",
      "3      4.0           1547           1547          1547  ...          1.000000   \n",
      "5      7.0           1564          16053          1564  ...          3.500000   \n",
      "6      9.0          19665          20431         19665  ...          5.333333   \n",
      "\n",
      "   kills_total  level  controlling_time  total_damage  earned_damage  \\\n",
      "0            2     13                19         99079          25062   \n",
      "2            4     12                11        106757          10049   \n",
      "3            2     12                14         53993          12480   \n",
      "5            7     14                14        128646          40236   \n",
      "6            7     12                11        123192           8057   \n",
      "\n",
      "   special_enemy_killed  room_kills  main_score  win_or_defeat  \n",
      "0                   149           1          21          False  \n",
      "2                   168           0          11          False  \n",
      "3                   129           1          11          False  \n",
      "5                    27           1          17           True  \n",
      "6                   140           4           9           True  \n",
      "\n",
      "[5 rows x 22 columns]\n",
      "Kurtosis:\n",
      "Unnamed: 0              -1.199976\n",
      "spell_used              -0.771228\n",
      "trap_used               -1.560519\n",
      "assists                  1.796163\n",
      "damage_amount           20.631801\n",
      "towers_damage            3.060186\n",
      "rooms_damage            20.631801\n",
      "deaths                   0.372563\n",
      "money_total              0.326406\n",
      "kill_death_ratio         9.973199\n",
      "kills_total              1.438422\n",
      "level                   -0.384155\n",
      "controlling_time        11.943538\n",
      "total_damage             0.696798\n",
      "earned_damage            1.792284\n",
      "special_enemy_killed    -1.157044\n",
      "room_kills               2.527769\n",
      "main_score               3.950108\n",
      "dtype: float64\n",
      "\n",
      "Interquartile Range (IQR):\n",
      "Unnamed: 0               2306.0\n",
      "spell_used                  7.0\n",
      "trap_used                   8.0\n",
      "assists                     7.0\n",
      "damage_amount            3349.0\n",
      "towers_damage           11356.0\n",
      "rooms_damage             3349.0\n",
      "deaths                      5.0\n",
      "money_total              4738.0\n",
      "kill_death_ratio            3.2\n",
      "kills_total                 6.0\n",
      "level                       4.0\n",
      "controlling_time           17.0\n",
      "total_damage            92045.0\n",
      "earned_damage           12629.0\n",
      "special_enemy_killed      155.0\n",
      "room_kills                  2.0\n",
      "main_score                 20.0\n",
      "dtype: float64\n"
     ]
    }
   ],
   "source": [
    "DF = pd.read_csv(\"/kaggle/working/train.csv\")\n",
    "\n",
    "print(\"is null count :\",DF.isnull().sum())\n",
    "DF.dropna(inplace=True)\n",
    "# print(\"is null count :\",DF.isnull().sum())\n",
    "\n",
    "print(\"count of duplicated rows : \" ,DF.duplicated().sum())\n",
    "print(\"we dont have any dupliacted row\",end=\"\\n\\n\\n\")\n",
    "# DF = DF.drop_duplicates()\n",
    "\n",
    "\n",
    "print(DF.head())\n",
    "\n",
    "n_DF = DF.select_dtypes(include=['number'])\n",
    "kurtosisValues = n_DF.kurtosis()\n",
    "IQR = n_DF.quantile(0.75) - n_DF.quantile(0.25)\n",
    "\n",
    "print(\"Kurtosis:\")\n",
    "print(kurtosisValues)\n",
    "print(\"\\nInterquartile Range (IQR):\")\n",
    "print(IQR)\n",
    "\n",
    "# profile = ProfileReport(DF, title=\"Profiling Report\")\n",
    "# profile.to_file(\"dataProfile.html\")\n",
    "# profile #couldn't find a more optimized usage of this library method"
   ]
  },
  {
   "cell_type": "markdown",
   "id": "3d159873",
   "metadata": {
    "id": "KgSInOX3dLsy",
    "papermill": {
     "duration": 0.013847,
     "end_time": "2023-12-17T10:28:27.439073",
     "exception": false,
     "start_time": "2023-12-17T10:28:27.425226",
     "status": "completed"
    },
    "tags": []
   },
   "source": [
    "Calculate the mean, standard deviation, min and max value for each non object column. **(P1-2: 5 points)**"
   ]
  },
  {
   "cell_type": "code",
   "execution_count": 6,
   "id": "ac93b00e",
   "metadata": {
    "execution": {
     "iopub.execute_input": "2023-12-17T10:28:27.469056Z",
     "iopub.status.busy": "2023-12-17T10:28:27.468666Z",
     "iopub.status.idle": "2023-12-17T10:28:27.528485Z",
     "shell.execute_reply": "2023-12-17T10:28:27.527500Z"
    },
    "id": "Y-wpNz12dF3P",
    "outputId": "4f609f39-2dfd-4e2c-bc85-0645366e4a7b",
    "papermill": {
     "duration": 0.077863,
     "end_time": "2023-12-17T10:28:27.531106",
     "exception": false,
     "start_time": "2023-12-17T10:28:27.453243",
     "status": "completed"
    },
    "tags": []
   },
   "outputs": [
    {
     "data": {
      "text/html": [
       "<div>\n",
       "<style scoped>\n",
       "    .dataframe tbody tr th:only-of-type {\n",
       "        vertical-align: middle;\n",
       "    }\n",
       "\n",
       "    .dataframe tbody tr th {\n",
       "        vertical-align: top;\n",
       "    }\n",
       "\n",
       "    .dataframe thead th {\n",
       "        text-align: right;\n",
       "    }\n",
       "</style>\n",
       "<table border=\"1\" class=\"dataframe\">\n",
       "  <thead>\n",
       "    <tr style=\"text-align: right;\">\n",
       "      <th></th>\n",
       "      <th>Unnamed: 0</th>\n",
       "      <th>spell_used</th>\n",
       "      <th>trap_used</th>\n",
       "      <th>assists</th>\n",
       "      <th>damage_amount</th>\n",
       "      <th>towers_damage</th>\n",
       "      <th>rooms_damage</th>\n",
       "      <th>deaths</th>\n",
       "      <th>money_total</th>\n",
       "      <th>kill_death_ratio</th>\n",
       "      <th>kills_total</th>\n",
       "      <th>level</th>\n",
       "      <th>controlling_time</th>\n",
       "      <th>total_damage</th>\n",
       "      <th>earned_damage</th>\n",
       "      <th>special_enemy_killed</th>\n",
       "      <th>room_kills</th>\n",
       "      <th>main_score</th>\n",
       "    </tr>\n",
       "  </thead>\n",
       "  <tbody>\n",
       "    <tr>\n",
       "      <th>count</th>\n",
       "      <td>4613.000000</td>\n",
       "      <td>4613.000000</td>\n",
       "      <td>4613.000000</td>\n",
       "      <td>4613.000000</td>\n",
       "      <td>4613.000000</td>\n",
       "      <td>4613.000000</td>\n",
       "      <td>4613.000000</td>\n",
       "      <td>4613.000000</td>\n",
       "      <td>4613.000000</td>\n",
       "      <td>4613.000000</td>\n",
       "      <td>4613.000000</td>\n",
       "      <td>4613.000000</td>\n",
       "      <td>4613.000000</td>\n",
       "      <td>4613.000000</td>\n",
       "      <td>4613.000000</td>\n",
       "      <td>4613.000000</td>\n",
       "      <td>4613.000000</td>\n",
       "      <td>4613.000000</td>\n",
       "    </tr>\n",
       "    <tr>\n",
       "      <th>mean</th>\n",
       "      <td>2308.996098</td>\n",
       "      <td>6.707782</td>\n",
       "      <td>8.430739</td>\n",
       "      <td>8.189031</td>\n",
       "      <td>2639.487752</td>\n",
       "      <td>9382.315847</td>\n",
       "      <td>2639.487752</td>\n",
       "      <td>5.740733</td>\n",
       "      <td>10865.129850</td>\n",
       "      <td>3.602712</td>\n",
       "      <td>5.702580</td>\n",
       "      <td>13.826794</td>\n",
       "      <td>18.926295</td>\n",
       "      <td>117652.268806</td>\n",
       "      <td>21465.087145</td>\n",
       "      <td>120.789725</td>\n",
       "      <td>1.032517</td>\n",
       "      <td>30.158899</td>\n",
       "    </tr>\n",
       "    <tr>\n",
       "      <th>std</th>\n",
       "      <td>1331.809470</td>\n",
       "      <td>3.976734</td>\n",
       "      <td>4.312468</td>\n",
       "      <td>5.639756</td>\n",
       "      <td>3194.783198</td>\n",
       "      <td>10101.251927</td>\n",
       "      <td>3194.783198</td>\n",
       "      <td>3.020094</td>\n",
       "      <td>3473.747695</td>\n",
       "      <td>3.767723</td>\n",
       "      <td>4.317011</td>\n",
       "      <td>2.373998</td>\n",
       "      <td>14.080420</td>\n",
       "      <td>70408.498868</td>\n",
       "      <td>9907.871328</td>\n",
       "      <td>83.739102</td>\n",
       "      <td>1.313180</td>\n",
       "      <td>20.875652</td>\n",
       "    </tr>\n",
       "    <tr>\n",
       "      <th>min</th>\n",
       "      <td>0.000000</td>\n",
       "      <td>1.000000</td>\n",
       "      <td>1.000000</td>\n",
       "      <td>0.000000</td>\n",
       "      <td>0.000000</td>\n",
       "      <td>0.000000</td>\n",
       "      <td>0.000000</td>\n",
       "      <td>0.000000</td>\n",
       "      <td>3093.000000</td>\n",
       "      <td>0.000000</td>\n",
       "      <td>0.000000</td>\n",
       "      <td>6.000000</td>\n",
       "      <td>0.000000</td>\n",
       "      <td>5401.000000</td>\n",
       "      <td>2674.000000</td>\n",
       "      <td>0.000000</td>\n",
       "      <td>0.000000</td>\n",
       "      <td>1.000000</td>\n",
       "    </tr>\n",
       "    <tr>\n",
       "      <th>25%</th>\n",
       "      <td>1156.000000</td>\n",
       "      <td>4.000000</td>\n",
       "      <td>4.000000</td>\n",
       "      <td>4.000000</td>\n",
       "      <td>403.000000</td>\n",
       "      <td>2089.000000</td>\n",
       "      <td>403.000000</td>\n",
       "      <td>3.000000</td>\n",
       "      <td>8313.000000</td>\n",
       "      <td>1.300000</td>\n",
       "      <td>2.000000</td>\n",
       "      <td>12.000000</td>\n",
       "      <td>9.000000</td>\n",
       "      <td>67911.000000</td>\n",
       "      <td>14269.000000</td>\n",
       "      <td>32.000000</td>\n",
       "      <td>0.000000</td>\n",
       "      <td>16.000000</td>\n",
       "    </tr>\n",
       "    <tr>\n",
       "      <th>50%</th>\n",
       "      <td>2309.000000</td>\n",
       "      <td>4.000000</td>\n",
       "      <td>11.000000</td>\n",
       "      <td>7.000000</td>\n",
       "      <td>1656.000000</td>\n",
       "      <td>5761.000000</td>\n",
       "      <td>1656.000000</td>\n",
       "      <td>5.000000</td>\n",
       "      <td>10479.000000</td>\n",
       "      <td>2.400000</td>\n",
       "      <td>5.000000</td>\n",
       "      <td>14.000000</td>\n",
       "      <td>17.000000</td>\n",
       "      <td>114753.000000</td>\n",
       "      <td>19862.000000</td>\n",
       "      <td>137.000000</td>\n",
       "      <td>1.000000</td>\n",
       "      <td>24.000000</td>\n",
       "    </tr>\n",
       "    <tr>\n",
       "      <th>75%</th>\n",
       "      <td>3462.000000</td>\n",
       "      <td>11.000000</td>\n",
       "      <td>12.000000</td>\n",
       "      <td>11.000000</td>\n",
       "      <td>3752.000000</td>\n",
       "      <td>13445.000000</td>\n",
       "      <td>3752.000000</td>\n",
       "      <td>8.000000</td>\n",
       "      <td>13051.000000</td>\n",
       "      <td>4.500000</td>\n",
       "      <td>8.000000</td>\n",
       "      <td>16.000000</td>\n",
       "      <td>26.000000</td>\n",
       "      <td>159956.000000</td>\n",
       "      <td>26898.000000</td>\n",
       "      <td>187.000000</td>\n",
       "      <td>2.000000</td>\n",
       "      <td>36.000000</td>\n",
       "    </tr>\n",
       "    <tr>\n",
       "      <th>max</th>\n",
       "      <td>4615.000000</td>\n",
       "      <td>21.000000</td>\n",
       "      <td>21.000000</td>\n",
       "      <td>41.000000</td>\n",
       "      <td>44162.000000</td>\n",
       "      <td>68474.000000</td>\n",
       "      <td>44162.000000</td>\n",
       "      <td>21.000000</td>\n",
       "      <td>28566.000000</td>\n",
       "      <td>33.000000</td>\n",
       "      <td>30.000000</td>\n",
       "      <td>18.000000</td>\n",
       "      <td>193.000000</td>\n",
       "      <td>499423.000000</td>\n",
       "      <td>78861.000000</td>\n",
       "      <td>440.000000</td>\n",
       "      <td>9.000000</td>\n",
       "      <td>174.000000</td>\n",
       "    </tr>\n",
       "  </tbody>\n",
       "</table>\n",
       "</div>"
      ],
      "text/plain": [
       "        Unnamed: 0   spell_used    trap_used      assists  damage_amount  \\\n",
       "count  4613.000000  4613.000000  4613.000000  4613.000000    4613.000000   \n",
       "mean   2308.996098     6.707782     8.430739     8.189031    2639.487752   \n",
       "std    1331.809470     3.976734     4.312468     5.639756    3194.783198   \n",
       "min       0.000000     1.000000     1.000000     0.000000       0.000000   \n",
       "25%    1156.000000     4.000000     4.000000     4.000000     403.000000   \n",
       "50%    2309.000000     4.000000    11.000000     7.000000    1656.000000   \n",
       "75%    3462.000000    11.000000    12.000000    11.000000    3752.000000   \n",
       "max    4615.000000    21.000000    21.000000    41.000000   44162.000000   \n",
       "\n",
       "       towers_damage  rooms_damage       deaths   money_total  \\\n",
       "count    4613.000000   4613.000000  4613.000000   4613.000000   \n",
       "mean     9382.315847   2639.487752     5.740733  10865.129850   \n",
       "std     10101.251927   3194.783198     3.020094   3473.747695   \n",
       "min         0.000000      0.000000     0.000000   3093.000000   \n",
       "25%      2089.000000    403.000000     3.000000   8313.000000   \n",
       "50%      5761.000000   1656.000000     5.000000  10479.000000   \n",
       "75%     13445.000000   3752.000000     8.000000  13051.000000   \n",
       "max     68474.000000  44162.000000    21.000000  28566.000000   \n",
       "\n",
       "       kill_death_ratio  kills_total        level  controlling_time  \\\n",
       "count       4613.000000  4613.000000  4613.000000       4613.000000   \n",
       "mean           3.602712     5.702580    13.826794         18.926295   \n",
       "std            3.767723     4.317011     2.373998         14.080420   \n",
       "min            0.000000     0.000000     6.000000          0.000000   \n",
       "25%            1.300000     2.000000    12.000000          9.000000   \n",
       "50%            2.400000     5.000000    14.000000         17.000000   \n",
       "75%            4.500000     8.000000    16.000000         26.000000   \n",
       "max           33.000000    30.000000    18.000000        193.000000   \n",
       "\n",
       "        total_damage  earned_damage  special_enemy_killed   room_kills  \\\n",
       "count    4613.000000    4613.000000           4613.000000  4613.000000   \n",
       "mean   117652.268806   21465.087145            120.789725     1.032517   \n",
       "std     70408.498868    9907.871328             83.739102     1.313180   \n",
       "min      5401.000000    2674.000000              0.000000     0.000000   \n",
       "25%     67911.000000   14269.000000             32.000000     0.000000   \n",
       "50%    114753.000000   19862.000000            137.000000     1.000000   \n",
       "75%    159956.000000   26898.000000            187.000000     2.000000   \n",
       "max    499423.000000   78861.000000            440.000000     9.000000   \n",
       "\n",
       "        main_score  \n",
       "count  4613.000000  \n",
       "mean     30.158899  \n",
       "std      20.875652  \n",
       "min       1.000000  \n",
       "25%      16.000000  \n",
       "50%      24.000000  \n",
       "75%      36.000000  \n",
       "max     174.000000  "
      ]
     },
     "execution_count": 6,
     "metadata": {},
     "output_type": "execute_result"
    }
   ],
   "source": [
    "DF.describe()"
   ]
  },
  {
   "cell_type": "markdown",
   "id": "37a52b2f",
   "metadata": {
    "id": "XRVUHls6dhQU",
    "papermill": {
     "duration": 0.070271,
     "end_time": "2023-12-17T10:28:27.616588",
     "exception": false,
     "start_time": "2023-12-17T10:28:27.546317",
     "status": "completed"
    },
    "tags": []
   },
   "source": [
    "# P2: Data Exploration (30 points)\n",
    "In this section, we perform some data exploration to get a better understanding of the data."
   ]
  },
  {
   "cell_type": "markdown",
   "id": "ab703882",
   "metadata": {
    "id": "_VxmVr5ne2gM",
    "papermill": {
     "duration": 0.014254,
     "end_time": "2023-12-17T10:28:27.645308",
     "exception": false,
     "start_time": "2023-12-17T10:28:27.631054",
     "status": "completed"
    },
    "tags": []
   },
   "source": [
    "1- Show number of unique value for `location` column **(P2-1: 5 points)**"
   ]
  },
  {
   "cell_type": "code",
   "execution_count": 7,
   "id": "54786566",
   "metadata": {
    "execution": {
     "iopub.execute_input": "2023-12-17T10:28:27.675818Z",
     "iopub.status.busy": "2023-12-17T10:28:27.675427Z",
     "iopub.status.idle": "2023-12-17T10:28:27.684626Z",
     "shell.execute_reply": "2023-12-17T10:28:27.683709Z"
    },
    "id": "WY2dmJWBdNVx",
    "outputId": "d9de878e-d430-4739-9a7f-e606c423cb1f",
    "papermill": {
     "duration": 0.027215,
     "end_time": "2023-12-17T10:28:27.687006",
     "exception": false,
     "start_time": "2023-12-17T10:28:27.659791",
     "status": "completed"
    },
    "tags": []
   },
   "outputs": [
    {
     "name": "stdout",
     "output_type": "stream",
     "text": [
      "5\n",
      "\n",
      "location\n",
      "Lane.jungle      978\n",
      "Lane.top_lane    955\n",
      "Lane.mid_lane    913\n",
      "Lane.bot_lane    902\n",
      "Lane.utility     865\n",
      "Name: count, dtype: int64\n"
     ]
    }
   ],
   "source": [
    "print(DF[\"location\"].nunique() ,end = \"\\n\\n\")\n",
    "\n",
    "print(DF[\"location\"].value_counts())"
   ]
  },
  {
   "cell_type": "markdown",
   "id": "1b3fcab1",
   "metadata": {
    "id": "oOgJwjeDfRk_",
    "papermill": {
     "duration": 0.014375,
     "end_time": "2023-12-17T10:28:27.716171",
     "exception": false,
     "start_time": "2023-12-17T10:28:27.701796",
     "status": "completed"
    },
    "tags": []
   },
   "source": [
    "2- Plot correlation matrix between features **(P2-2: 5 points)**"
   ]
  },
  {
   "cell_type": "code",
   "execution_count": 8,
   "id": "d8c6c3a2",
   "metadata": {
    "execution": {
     "iopub.execute_input": "2023-12-17T10:28:27.747188Z",
     "iopub.status.busy": "2023-12-17T10:28:27.746802Z",
     "iopub.status.idle": "2023-12-17T10:28:28.294082Z",
     "shell.execute_reply": "2023-12-17T10:28:28.293187Z"
    },
    "id": "7h_TV2rifDLE",
    "outputId": "9f042a39-4998-4f21-817f-8c4c2fcbfb5e",
    "papermill": {
     "duration": 0.565606,
     "end_time": "2023-12-17T10:28:28.296567",
     "exception": false,
     "start_time": "2023-12-17T10:28:27.730961",
     "status": "completed"
    },
    "tags": []
   },
   "outputs": [
    {
     "data": {
      "image/png": "[encoded data removed]",
      "text/plain": [
       "<Figure size 640x480 with 2 Axes>"
      ]
     },
     "metadata": {},
     "output_type": "display_data"
    }
   ],
   "source": [
    "# label_encoder = preprocessing.LabelEncoder()\n",
    "# for c in DF.columns :\n",
    "#    if DF[c].dtype == 'object' or DF[c].dtype == \"string\":\n",
    "#        DF[c] = label_encoder.fit_transform(DF[c])\n",
    "# sns.heatmap(DF.corr())\n",
    "# plt.show()\n",
    "\n",
    "\n",
    "sns.heatmap(DF.select_dtypes(exclude=['object']).corr())\n",
    "plt.show()"
   ]
  },
  {
   "cell_type": "markdown",
   "id": "e7b1aff8",
   "metadata": {
    "id": "li6TaUshsGE-",
    "papermill": {
     "duration": 0.015909,
     "end_time": "2023-12-17T10:28:28.328606",
     "exception": false,
     "start_time": "2023-12-17T10:28:28.312697",
     "status": "completed"
    },
    "tags": []
   },
   "source": [
    "3- Plot bar plot of combined `position` and `location` columns (hint: use crosstab in pandas) **(P2-3: 5 points)**"
   ]
  },
  {
   "cell_type": "code",
   "execution_count": 9,
   "id": "e85ab658",
   "metadata": {
    "execution": {
     "iopub.execute_input": "2023-12-17T10:28:28.362012Z",
     "iopub.status.busy": "2023-12-17T10:28:28.361246Z",
     "iopub.status.idle": "2023-12-17T10:28:28.631068Z",
     "shell.execute_reply": "2023-12-17T10:28:28.630172Z"
    },
    "id": "TSUKApbHfeGb",
    "outputId": "02709840-1649-49d9-c49b-80f2a0d08042",
    "papermill": {
     "duration": 0.288936,
     "end_time": "2023-12-17T10:28:28.633198",
     "exception": false,
     "start_time": "2023-12-17T10:28:28.344262",
     "status": "completed"
    },
    "tags": []
   },
   "outputs": [
    {
     "data": {
      "image/png": "[encoded data removed]",
      "text/plain": [
       "<Figure size 640x480 with 1 Axes>"
      ]
     },
     "metadata": {},
     "output_type": "display_data"
    }
   ],
   "source": [
    "CT = pd.crosstab(DF.position, DF.location)\n",
    "barplot = CT.plot.bar(rot=0)"
   ]
  },
  {
   "cell_type": "markdown",
   "id": "f517931f",
   "metadata": {
    "id": "ewMPS0orttId",
    "papermill": {
     "duration": 0.016053,
     "end_time": "2023-12-17T10:28:28.665778",
     "exception": false,
     "start_time": "2023-12-17T10:28:28.649725",
     "status": "completed"
    },
    "tags": []
   },
   "source": [
    "4- Plot pie chart of `level` column **(P2-4: 5 points)**"
   ]
  },
  {
   "cell_type": "code",
   "execution_count": 10,
   "id": "98cd7dbc",
   "metadata": {
    "execution": {
     "iopub.execute_input": "2023-12-17T10:28:28.700317Z",
     "iopub.status.busy": "2023-12-17T10:28:28.699934Z",
     "iopub.status.idle": "2023-12-17T10:28:28.883395Z",
     "shell.execute_reply": "2023-12-17T10:28:28.882328Z"
    },
    "id": "QYpHnLKPswqa",
    "outputId": "9e7e303b-fc10-4c40-e7f4-be05ab8e0cf2",
    "papermill": {
     "duration": 0.205881,
     "end_time": "2023-12-17T10:28:28.887932",
     "exception": false,
     "start_time": "2023-12-17T10:28:28.682051",
     "status": "completed"
    },
    "tags": []
   },
   "outputs": [
    {
     "data": {
      "image/png": "[encoded data removed]",
      "text/plain": [
       "<Figure size 640x480 with 1 Axes>"
      ]
     },
     "metadata": {},
     "output_type": "display_data"
    }
   ],
   "source": [
    "plt.pie(DF[\"level\"].value_counts(), labels = DF[\"level\"].value_counts().index , autopct = \"%1.1f%%\")\n",
    "plt.show()"
   ]
  },
  {
   "cell_type": "markdown",
   "id": "af7a6e5f",
   "metadata": {
    "id": "r1s9bYUvuPra",
    "papermill": {
     "duration": 0.036185,
     "end_time": "2023-12-17T10:28:28.960809",
     "exception": false,
     "start_time": "2023-12-17T10:28:28.924624",
     "status": "completed"
    },
    "tags": []
   },
   "source": [
    "5- Plot box-plot on combination of `location` and `earned_damage` columns **(P2-5: 5 points)**"
   ]
  },
  {
   "cell_type": "code",
   "execution_count": 11,
   "id": "75450e37",
   "metadata": {
    "execution": {
     "iopub.execute_input": "2023-12-17T10:28:29.004364Z",
     "iopub.status.busy": "2023-12-17T10:28:29.003478Z",
     "iopub.status.idle": "2023-12-17T10:28:29.231838Z",
     "shell.execute_reply": "2023-12-17T10:28:29.230916Z"
    },
    "id": "33XJ6aFSt_GH",
    "outputId": "d095e891-3801-4fbb-c090-a5a4f1f584b6",
    "papermill": {
     "duration": 0.2483,
     "end_time": "2023-12-17T10:28:29.234076",
     "exception": false,
     "start_time": "2023-12-17T10:28:28.985776",
     "status": "completed"
    },
    "tags": []
   },
   "outputs": [
    {
     "name": "stderr",
     "output_type": "stream",
     "text": [
      "/opt/conda/lib/python3.10/site-packages/seaborn/_oldcore.py:1498: FutureWarning: is_categorical_dtype is deprecated and will be removed in a future version. Use isinstance(dtype, CategoricalDtype) instead\n",
      "  if pd.api.types.is_categorical_dtype(vector):\n",
      "/opt/conda/lib/python3.10/site-packages/seaborn/_oldcore.py:1498: FutureWarning: is_categorical_dtype is deprecated and will be removed in a future version. Use isinstance(dtype, CategoricalDtype) instead\n",
      "  if pd.api.types.is_categorical_dtype(vector):\n",
      "/opt/conda/lib/python3.10/site-packages/seaborn/_oldcore.py:1498: FutureWarning: is_categorical_dtype is deprecated and will be removed in a future version. Use isinstance(dtype, CategoricalDtype) instead\n",
      "  if pd.api.types.is_categorical_dtype(vector):\n"
     ]
    },
    {
     "data": {
      "image/png": "[encoded data removed]",
      "text/plain": [
       "<Figure size 640x480 with 1 Axes>"
      ]
     },
     "metadata": {},
     "output_type": "display_data"
    }
   ],
   "source": [
    "sns.boxplot(x = \"location\",y = \"earned_damage\" ,data = DF)\n",
    "plt.show()"
   ]
  },
  {
   "cell_type": "markdown",
   "id": "50fe8a9a",
   "metadata": {
    "id": "XzPlMdyNwhGM",
    "papermill": {
     "duration": 0.017424,
     "end_time": "2023-12-17T10:28:29.269490",
     "exception": false,
     "start_time": "2023-12-17T10:28:29.252066",
     "status": "completed"
    },
    "tags": []
   },
   "source": [
    "6- Plot histplot of `spell_used` column (10 bins). **(P2-6: 5 points)**"
   ]
  },
  {
   "cell_type": "code",
   "execution_count": 12,
   "id": "6f602040",
   "metadata": {
    "execution": {
     "iopub.execute_input": "2023-12-17T10:28:29.309117Z",
     "iopub.status.busy": "2023-12-17T10:28:29.308231Z",
     "iopub.status.idle": "2023-12-17T10:28:29.546249Z",
     "shell.execute_reply": "2023-12-17T10:28:29.545334Z"
    },
    "id": "ChQm1Syzvxha",
    "outputId": "04c36b09-0c19-461a-80da-bf010c5e8109",
    "papermill": {
     "duration": 0.259558,
     "end_time": "2023-12-17T10:28:29.548591",
     "exception": false,
     "start_time": "2023-12-17T10:28:29.289033",
     "status": "completed"
    },
    "tags": []
   },
   "outputs": [
    {
     "data": {
      "text/plain": [
       "<Axes: >"
      ]
     },
     "execution_count": 12,
     "metadata": {},
     "output_type": "execute_result"
    },
    {
     "data": {
      "image/png": "[encoded data removed]",
      "text/plain": [
       "<Figure size 640x480 with 1 Axes>"
      ]
     },
     "metadata": {},
     "output_type": "display_data"
    }
   ],
   "source": [
    "DF.spell_used.hist()"
   ]
  },
  {
   "cell_type": "markdown",
   "id": "0fa7491c",
   "metadata": {
    "id": "ZxgzNduq8AuK",
    "papermill": {
     "duration": 0.018453,
     "end_time": "2023-12-17T10:28:29.585646",
     "exception": false,
     "start_time": "2023-12-17T10:28:29.567193",
     "status": "completed"
    },
    "tags": []
   },
   "source": [
    "# P3: Pre-processing (15 points)\n",
    "In this section, we perform some pre-processing to make the data ready for model."
   ]
  },
  {
   "cell_type": "markdown",
   "id": "7f9c2fea",
   "metadata": {
    "id": "9DqB3RGC9Pok",
    "papermill": {
     "duration": 0.018157,
     "end_time": "2023-12-17T10:28:29.622426",
     "exception": false,
     "start_time": "2023-12-17T10:28:29.604269",
     "status": "completed"
    },
    "tags": []
   },
   "source": [
    "First of all, in your heatmap, there are some variables that have very low correlation with your dependent variable. You can delete those features that their absulote value of correlation with dependent variable is less than 0.015. **(P3-1: 5 points)**"
   ]
  },
  {
   "cell_type": "code",
   "execution_count": 13,
   "id": "07ffd196",
   "metadata": {
    "execution": {
     "iopub.execute_input": "2023-12-17T10:28:29.660661Z",
     "iopub.status.busy": "2023-12-17T10:28:29.659972Z",
     "iopub.status.idle": "2023-12-17T10:28:30.124630Z",
     "shell.execute_reply": "2023-12-17T10:28:30.123575Z"
    },
    "id": "cY9TnD8owtct",
    "papermill": {
     "duration": 0.486318,
     "end_time": "2023-12-17T10:28:30.126724",
     "exception": false,
     "start_time": "2023-12-17T10:28:29.640406",
     "status": "completed"
    },
    "tags": []
   },
   "outputs": [
    {
     "data": {
      "image/png": "[encoded data removed]",
      "text/plain": [
       "<Figure size 640x480 with 2 Axes>"
      ]
     },
     "metadata": {},
     "output_type": "display_data"
    },
    {
     "name": "stdout",
     "output_type": "stream",
     "text": [
      "   trap_used  assists  damage_amount  towers_damage  rooms_damage  deaths  \\\n",
      "0         12      9.0           1862           5119          1862       9   \n",
      "2         12      3.0            543           2754           543       4   \n",
      "3          7      4.0           1547           1547          1547       6   \n",
      "5         11      7.0           1564          16053          1564       4   \n",
      "6         12      9.0          19665          20431         19665       3   \n",
      "\n",
      "   money_total  kill_death_ratio  kills_total  level  controlling_time  \\\n",
      "0         9152          1.222222            2     13                19   \n",
      "2         9014          1.750000            4     12                11   \n",
      "3         8155          1.000000            2     12                14   \n",
      "5        11536          3.500000            7     14                14   \n",
      "6        10699          5.333333            7     12                11   \n",
      "\n",
      "   total_damage  earned_damage  special_enemy_killed  room_kills  main_score  \\\n",
      "0         99079          25062                   149           1          21   \n",
      "2        106757          10049                   168           0          11   \n",
      "3         53993          12480                   129           1          11   \n",
      "5        128646          40236                    27           1          17   \n",
      "6        123192           8057                   140           4           9   \n",
      "\n",
      "   win_or_defeat    character   position       location  \n",
      "0          False  TwistedFate  Side.blue  Lane.top_lane  \n",
      "2          False        Ziggs  Side.blue  Lane.bot_lane  \n",
      "3          False        Senna   Side.red  Lane.bot_lane  \n",
      "5           True       Rengar   Side.red    Lane.jungle  \n",
      "6           True        Ziggs  Side.blue  Lane.bot_lane  \n"
     ]
    }
   ],
   "source": [
    "corr = DF.select_dtypes(exclude=['object']).corr()\n",
    "high_corr_inedx = corr[abs(corr['win_or_defeat']) >= 0.015]['win_or_defeat'].index.tolist()\n",
    "DF_filtered_sns = DF[high_corr_inedx]\n",
    "\n",
    "sns.heatmap(DF_filtered_sns.corr())\n",
    "plt.show()\n",
    "\n",
    "high_corr_inedx += DF.select_dtypes(include=['object']).columns.to_list()\n",
    "DF = DF[high_corr_inedx]\n",
    "print(DF.head())"
   ]
  },
  {
   "cell_type": "markdown",
   "id": "bd932f3f",
   "metadata": {
    "id": "fjnsiKnf_ZaQ",
    "papermill": {
     "duration": 0.019684,
     "end_time": "2023-12-17T10:28:30.166638",
     "exception": false,
     "start_time": "2023-12-17T10:28:30.146954",
     "status": "completed"
    },
    "tags": []
   },
   "source": [
    "Next step is to encode labels. Columns that are not numeric ('string' or 'object'), can't be given to the model, so you should convert them to numeric values <br> (hint: use sklearn LabelEncoder). **(P3-2: 5 points)**"
   ]
  },
  {
   "cell_type": "code",
   "execution_count": 14,
   "id": "609c1e6e",
   "metadata": {
    "execution": {
     "iopub.execute_input": "2023-12-17T10:28:30.206972Z",
     "iopub.status.busy": "2023-12-17T10:28:30.206341Z",
     "iopub.status.idle": "2023-12-17T10:28:30.234164Z",
     "shell.execute_reply": "2023-12-17T10:28:30.233168Z"
    },
    "id": "FZIen4zG-ZTt",
    "papermill": {
     "duration": 0.051511,
     "end_time": "2023-12-17T10:28:30.237365",
     "exception": false,
     "start_time": "2023-12-17T10:28:30.185854",
     "status": "completed"
    },
    "tags": []
   },
   "outputs": [
    {
     "name": "stderr",
     "output_type": "stream",
     "text": [
      "/opt/conda/lib/python3.10/site-packages/sklearn/utils/validation.py:605: FutureWarning: is_sparse is deprecated and will be removed in a future version. Check `isinstance(dtype, pd.SparseDtype)` instead.\n",
      "  if is_sparse(pd_dtype):\n",
      "/opt/conda/lib/python3.10/site-packages/sklearn/utils/validation.py:614: FutureWarning: is_sparse is deprecated and will be removed in a future version. Check `isinstance(dtype, pd.SparseDtype)` instead.\n",
      "  if is_sparse(pd_dtype) or not is_extension_array_dtype(pd_dtype):\n",
      "/opt/conda/lib/python3.10/site-packages/sklearn/utils/validation.py:605: FutureWarning: is_sparse is deprecated and will be removed in a future version. Check `isinstance(dtype, pd.SparseDtype)` instead.\n",
      "  if is_sparse(pd_dtype):\n",
      "/opt/conda/lib/python3.10/site-packages/sklearn/utils/validation.py:614: FutureWarning: is_sparse is deprecated and will be removed in a future version. Check `isinstance(dtype, pd.SparseDtype)` instead.\n",
      "  if is_sparse(pd_dtype) or not is_extension_array_dtype(pd_dtype):\n",
      "/opt/conda/lib/python3.10/site-packages/sklearn/utils/validation.py:605: FutureWarning: is_sparse is deprecated and will be removed in a future version. Check `isinstance(dtype, pd.SparseDtype)` instead.\n",
      "  if is_sparse(pd_dtype):\n",
      "/opt/conda/lib/python3.10/site-packages/sklearn/utils/validation.py:614: FutureWarning: is_sparse is deprecated and will be removed in a future version. Check `isinstance(dtype, pd.SparseDtype)` instead.\n",
      "  if is_sparse(pd_dtype) or not is_extension_array_dtype(pd_dtype):\n"
     ]
    },
    {
     "data": {
      "text/html": [
       "<div>\n",
       "<style scoped>\n",
       "    .dataframe tbody tr th:only-of-type {\n",
       "        vertical-align: middle;\n",
       "    }\n",
       "\n",
       "    .dataframe tbody tr th {\n",
       "        vertical-align: top;\n",
       "    }\n",
       "\n",
       "    .dataframe thead th {\n",
       "        text-align: right;\n",
       "    }\n",
       "</style>\n",
       "<table border=\"1\" class=\"dataframe\">\n",
       "  <thead>\n",
       "    <tr style=\"text-align: right;\">\n",
       "      <th></th>\n",
       "      <th>trap_used</th>\n",
       "      <th>assists</th>\n",
       "      <th>damage_amount</th>\n",
       "      <th>towers_damage</th>\n",
       "      <th>rooms_damage</th>\n",
       "      <th>deaths</th>\n",
       "      <th>money_total</th>\n",
       "      <th>kill_death_ratio</th>\n",
       "      <th>kills_total</th>\n",
       "      <th>level</th>\n",
       "      <th>controlling_time</th>\n",
       "      <th>total_damage</th>\n",
       "      <th>earned_damage</th>\n",
       "      <th>special_enemy_killed</th>\n",
       "      <th>room_kills</th>\n",
       "      <th>main_score</th>\n",
       "      <th>win_or_defeat</th>\n",
       "      <th>character</th>\n",
       "      <th>position</th>\n",
       "      <th>location</th>\n",
       "    </tr>\n",
       "  </thead>\n",
       "  <tbody>\n",
       "    <tr>\n",
       "      <th>0</th>\n",
       "      <td>12</td>\n",
       "      <td>9.0</td>\n",
       "      <td>1862</td>\n",
       "      <td>5119</td>\n",
       "      <td>1862</td>\n",
       "      <td>9</td>\n",
       "      <td>9152</td>\n",
       "      <td>1.222222</td>\n",
       "      <td>2</td>\n",
       "      <td>13</td>\n",
       "      <td>19</td>\n",
       "      <td>99079</td>\n",
       "      <td>25062</td>\n",
       "      <td>149</td>\n",
       "      <td>1</td>\n",
       "      <td>21</td>\n",
       "      <td>False</td>\n",
       "      <td>129</td>\n",
       "      <td>0</td>\n",
       "      <td>3</td>\n",
       "    </tr>\n",
       "    <tr>\n",
       "      <th>2</th>\n",
       "      <td>12</td>\n",
       "      <td>3.0</td>\n",
       "      <td>543</td>\n",
       "      <td>2754</td>\n",
       "      <td>543</td>\n",
       "      <td>4</td>\n",
       "      <td>9014</td>\n",
       "      <td>1.750000</td>\n",
       "      <td>4</td>\n",
       "      <td>12</td>\n",
       "      <td>11</td>\n",
       "      <td>106757</td>\n",
       "      <td>10049</td>\n",
       "      <td>168</td>\n",
       "      <td>0</td>\n",
       "      <td>11</td>\n",
       "      <td>False</td>\n",
       "      <td>153</td>\n",
       "      <td>0</td>\n",
       "      <td>0</td>\n",
       "    </tr>\n",
       "    <tr>\n",
       "      <th>3</th>\n",
       "      <td>7</td>\n",
       "      <td>4.0</td>\n",
       "      <td>1547</td>\n",
       "      <td>1547</td>\n",
       "      <td>1547</td>\n",
       "      <td>6</td>\n",
       "      <td>8155</td>\n",
       "      <td>1.000000</td>\n",
       "      <td>2</td>\n",
       "      <td>12</td>\n",
       "      <td>14</td>\n",
       "      <td>53993</td>\n",
       "      <td>12480</td>\n",
       "      <td>129</td>\n",
       "      <td>1</td>\n",
       "      <td>11</td>\n",
       "      <td>False</td>\n",
       "      <td>105</td>\n",
       "      <td>1</td>\n",
       "      <td>0</td>\n",
       "    </tr>\n",
       "    <tr>\n",
       "      <th>5</th>\n",
       "      <td>11</td>\n",
       "      <td>7.0</td>\n",
       "      <td>1564</td>\n",
       "      <td>16053</td>\n",
       "      <td>1564</td>\n",
       "      <td>4</td>\n",
       "      <td>11536</td>\n",
       "      <td>3.500000</td>\n",
       "      <td>7</td>\n",
       "      <td>14</td>\n",
       "      <td>14</td>\n",
       "      <td>128646</td>\n",
       "      <td>40236</td>\n",
       "      <td>27</td>\n",
       "      <td>1</td>\n",
       "      <td>17</td>\n",
       "      <td>True</td>\n",
       "      <td>99</td>\n",
       "      <td>1</td>\n",
       "      <td>1</td>\n",
       "    </tr>\n",
       "    <tr>\n",
       "      <th>6</th>\n",
       "      <td>12</td>\n",
       "      <td>9.0</td>\n",
       "      <td>19665</td>\n",
       "      <td>20431</td>\n",
       "      <td>19665</td>\n",
       "      <td>3</td>\n",
       "      <td>10699</td>\n",
       "      <td>5.333333</td>\n",
       "      <td>7</td>\n",
       "      <td>12</td>\n",
       "      <td>11</td>\n",
       "      <td>123192</td>\n",
       "      <td>8057</td>\n",
       "      <td>140</td>\n",
       "      <td>4</td>\n",
       "      <td>9</td>\n",
       "      <td>True</td>\n",
       "      <td>153</td>\n",
       "      <td>0</td>\n",
       "      <td>0</td>\n",
       "    </tr>\n",
       "  </tbody>\n",
       "</table>\n",
       "</div>"
      ],
      "text/plain": [
       "   trap_used  assists  damage_amount  towers_damage  rooms_damage  deaths  \\\n",
       "0         12      9.0           1862           5119          1862       9   \n",
       "2         12      3.0            543           2754           543       4   \n",
       "3          7      4.0           1547           1547          1547       6   \n",
       "5         11      7.0           1564          16053          1564       4   \n",
       "6         12      9.0          19665          20431         19665       3   \n",
       "\n",
       "   money_total  kill_death_ratio  kills_total  level  controlling_time  \\\n",
       "0         9152          1.222222            2     13                19   \n",
       "2         9014          1.750000            4     12                11   \n",
       "3         8155          1.000000            2     12                14   \n",
       "5        11536          3.500000            7     14                14   \n",
       "6        10699          5.333333            7     12                11   \n",
       "\n",
       "   total_damage  earned_damage  special_enemy_killed  room_kills  main_score  \\\n",
       "0         99079          25062                   149           1          21   \n",
       "2        106757          10049                   168           0          11   \n",
       "3         53993          12480                   129           1          11   \n",
       "5        128646          40236                    27           1          17   \n",
       "6        123192           8057                   140           4           9   \n",
       "\n",
       "   win_or_defeat  character  position  location  \n",
       "0          False        129         0         3  \n",
       "2          False        153         0         0  \n",
       "3          False        105         1         0  \n",
       "5           True         99         1         1  \n",
       "6           True        153         0         0  "
      ]
     },
     "execution_count": 14,
     "metadata": {},
     "output_type": "execute_result"
    }
   ],
   "source": [
    "label_encoder = preprocessing.LabelEncoder()\n",
    "for c in DF.columns :\n",
    "    if DF[c].dtype == 'object':\n",
    "        DF[c] = label_encoder.fit_transform(DF[c])\n",
    "DF.head()"
   ]
  },
  {
   "cell_type": "markdown",
   "id": "20daf6f6",
   "metadata": {
    "id": "NBzy_IK3C9eW",
    "papermill": {
     "duration": 0.019549,
     "end_time": "2023-12-17T10:28:30.277964",
     "exception": false,
     "start_time": "2023-12-17T10:28:30.258415",
     "status": "completed"
    },
    "tags": []
   },
   "source": [
    "now we need to normalize columns of the dataframe which causes our model to converge better and prevent focusing on some specific number of columns. we use 'Z normalization' for this purpose.\n",
    "\n",
    "be careful not to normalize 'win_or_defeat' column!"
   ]
  },
  {
   "cell_type": "code",
   "execution_count": 15,
   "id": "167cd76e",
   "metadata": {
    "execution": {
     "iopub.execute_input": "2023-12-17T10:28:30.320673Z",
     "iopub.status.busy": "2023-12-17T10:28:30.319707Z",
     "iopub.status.idle": "2023-12-17T10:28:30.397335Z",
     "shell.execute_reply": "2023-12-17T10:28:30.396033Z"
    },
    "id": "GxzrZsHgQin6",
    "outputId": "5bdead6e-f8ed-47d4-940b-0e93b229c348",
    "papermill": {
     "duration": 0.101899,
     "end_time": "2023-12-17T10:28:30.400051",
     "exception": false,
     "start_time": "2023-12-17T10:28:30.298152",
     "status": "completed"
    },
    "tags": []
   },
   "outputs": [
    {
     "name": "stderr",
     "output_type": "stream",
     "text": [
      "/opt/conda/lib/python3.10/site-packages/sklearn/utils/validation.py:767: FutureWarning: is_sparse is deprecated and will be removed in a future version. Check `isinstance(dtype, pd.SparseDtype)` instead.\n",
      "  if not hasattr(array, \"sparse\") and array.dtypes.apply(is_sparse).any():\n",
      "/opt/conda/lib/python3.10/site-packages/sklearn/utils/validation.py:605: FutureWarning: is_sparse is deprecated and will be removed in a future version. Check `isinstance(dtype, pd.SparseDtype)` instead.\n",
      "  if is_sparse(pd_dtype):\n",
      "/opt/conda/lib/python3.10/site-packages/sklearn/utils/validation.py:614: FutureWarning: is_sparse is deprecated and will be removed in a future version. Check `isinstance(dtype, pd.SparseDtype)` instead.\n",
      "  if is_sparse(pd_dtype) or not is_extension_array_dtype(pd_dtype):\n",
      "/opt/conda/lib/python3.10/site-packages/sklearn/utils/validation.py:767: FutureWarning: is_sparse is deprecated and will be removed in a future version. Check `isinstance(dtype, pd.SparseDtype)` instead.\n",
      "  if not hasattr(array, \"sparse\") and array.dtypes.apply(is_sparse).any():\n",
      "/opt/conda/lib/python3.10/site-packages/sklearn/utils/validation.py:605: FutureWarning: is_sparse is deprecated and will be removed in a future version. Check `isinstance(dtype, pd.SparseDtype)` instead.\n",
      "  if is_sparse(pd_dtype):\n",
      "/opt/conda/lib/python3.10/site-packages/sklearn/utils/validation.py:614: FutureWarning: is_sparse is deprecated and will be removed in a future version. Check `isinstance(dtype, pd.SparseDtype)` instead.\n",
      "  if is_sparse(pd_dtype) or not is_extension_array_dtype(pd_dtype):\n"
     ]
    },
    {
     "data": {
      "text/html": [
       "<div>\n",
       "<style scoped>\n",
       "    .dataframe tbody tr th:only-of-type {\n",
       "        vertical-align: middle;\n",
       "    }\n",
       "\n",
       "    .dataframe tbody tr th {\n",
       "        vertical-align: top;\n",
       "    }\n",
       "\n",
       "    .dataframe thead th {\n",
       "        text-align: right;\n",
       "    }\n",
       "</style>\n",
       "<table border=\"1\" class=\"dataframe\">\n",
       "  <thead>\n",
       "    <tr style=\"text-align: right;\">\n",
       "      <th></th>\n",
       "      <th>trap_used</th>\n",
       "      <th>assists</th>\n",
       "      <th>damage_amount</th>\n",
       "      <th>towers_damage</th>\n",
       "      <th>rooms_damage</th>\n",
       "      <th>deaths</th>\n",
       "      <th>money_total</th>\n",
       "      <th>kill_death_ratio</th>\n",
       "      <th>kills_total</th>\n",
       "      <th>level</th>\n",
       "      <th>controlling_time</th>\n",
       "      <th>total_damage</th>\n",
       "      <th>earned_damage</th>\n",
       "      <th>special_enemy_killed</th>\n",
       "      <th>room_kills</th>\n",
       "      <th>main_score</th>\n",
       "      <th>character</th>\n",
       "      <th>position</th>\n",
       "      <th>location</th>\n",
       "    </tr>\n",
       "  </thead>\n",
       "  <tbody>\n",
       "    <tr>\n",
       "      <th>count</th>\n",
       "      <td>4.613000e+03</td>\n",
       "      <td>4.613000e+03</td>\n",
       "      <td>4.613000e+03</td>\n",
       "      <td>4.613000e+03</td>\n",
       "      <td>4.613000e+03</td>\n",
       "      <td>4.613000e+03</td>\n",
       "      <td>4.613000e+03</td>\n",
       "      <td>4.613000e+03</td>\n",
       "      <td>4.613000e+03</td>\n",
       "      <td>4.613000e+03</td>\n",
       "      <td>4.613000e+03</td>\n",
       "      <td>4.613000e+03</td>\n",
       "      <td>4.613000e+03</td>\n",
       "      <td>4.613000e+03</td>\n",
       "      <td>4.613000e+03</td>\n",
       "      <td>4.613000e+03</td>\n",
       "      <td>4.613000e+03</td>\n",
       "      <td>4.613000e+03</td>\n",
       "      <td>4.613000e+03</td>\n",
       "    </tr>\n",
       "    <tr>\n",
       "      <th>mean</th>\n",
       "      <td>1.139826e-16</td>\n",
       "      <td>1.417081e-16</td>\n",
       "      <td>-3.388671e-17</td>\n",
       "      <td>7.855556e-17</td>\n",
       "      <td>-3.388671e-17</td>\n",
       "      <td>-4.697931e-17</td>\n",
       "      <td>1.347767e-16</td>\n",
       "      <td>8.779739e-17</td>\n",
       "      <td>-8.009586e-17</td>\n",
       "      <td>1.563410e-16</td>\n",
       "      <td>2.368219e-17</td>\n",
       "      <td>-6.623312e-17</td>\n",
       "      <td>7.701525e-17</td>\n",
       "      <td>-1.501797e-17</td>\n",
       "      <td>-4.235839e-17</td>\n",
       "      <td>-5.545098e-17</td>\n",
       "      <td>-2.926580e-17</td>\n",
       "      <td>1.232244e-17</td>\n",
       "      <td>1.216841e-16</td>\n",
       "    </tr>\n",
       "    <tr>\n",
       "      <th>std</th>\n",
       "      <td>1.000108e+00</td>\n",
       "      <td>1.000108e+00</td>\n",
       "      <td>1.000108e+00</td>\n",
       "      <td>1.000108e+00</td>\n",
       "      <td>1.000108e+00</td>\n",
       "      <td>1.000108e+00</td>\n",
       "      <td>1.000108e+00</td>\n",
       "      <td>1.000108e+00</td>\n",
       "      <td>1.000108e+00</td>\n",
       "      <td>1.000108e+00</td>\n",
       "      <td>1.000108e+00</td>\n",
       "      <td>1.000108e+00</td>\n",
       "      <td>1.000108e+00</td>\n",
       "      <td>1.000108e+00</td>\n",
       "      <td>1.000108e+00</td>\n",
       "      <td>1.000108e+00</td>\n",
       "      <td>1.000108e+00</td>\n",
       "      <td>1.000108e+00</td>\n",
       "      <td>1.000108e+00</td>\n",
       "    </tr>\n",
       "    <tr>\n",
       "      <th>min</th>\n",
       "      <td>-1.723270e+00</td>\n",
       "      <td>-1.452176e+00</td>\n",
       "      <td>-8.262764e-01</td>\n",
       "      <td>-9.289277e-01</td>\n",
       "      <td>-8.262764e-01</td>\n",
       "      <td>-1.901051e+00</td>\n",
       "      <td>-2.237633e+00</td>\n",
       "      <td>-9.563076e-01</td>\n",
       "      <td>-1.321099e+00</td>\n",
       "      <td>-3.297241e+00</td>\n",
       "      <td>-1.344303e+00</td>\n",
       "      <td>-1.594459e+00</td>\n",
       "      <td>-1.896787e+00</td>\n",
       "      <td>-1.442609e+00</td>\n",
       "      <td>-7.863575e-01</td>\n",
       "      <td>-1.396941e+00</td>\n",
       "      <td>-1.747295e+00</td>\n",
       "      <td>-9.851525e-01</td>\n",
       "      <td>-1.416887e+00</td>\n",
       "    </tr>\n",
       "    <tr>\n",
       "      <th>25%</th>\n",
       "      <td>-1.027537e+00</td>\n",
       "      <td>-7.428487e-01</td>\n",
       "      <td>-7.001196e-01</td>\n",
       "      <td>-7.220993e-01</td>\n",
       "      <td>-7.001196e-01</td>\n",
       "      <td>-9.075974e-01</td>\n",
       "      <td>-7.347703e-01</td>\n",
       "      <td>-6.112343e-01</td>\n",
       "      <td>-8.577650e-01</td>\n",
       "      <td>-7.695845e-01</td>\n",
       "      <td>-7.050480e-01</td>\n",
       "      <td>-7.065434e-01</td>\n",
       "      <td>-7.263788e-01</td>\n",
       "      <td>-1.060429e+00</td>\n",
       "      <td>-7.863575e-01</td>\n",
       "      <td>-6.783230e-01</td>\n",
       "      <td>-7.641335e-01</td>\n",
       "      <td>-9.851525e-01</td>\n",
       "      <td>-7.009161e-01</td>\n",
       "    </tr>\n",
       "    <tr>\n",
       "      <th>50%</th>\n",
       "      <td>5.958396e-01</td>\n",
       "      <td>-2.108531e-01</td>\n",
       "      <td>-3.078752e-01</td>\n",
       "      <td>-3.585406e-01</td>\n",
       "      <td>-3.078752e-01</td>\n",
       "      <td>-2.452946e-01</td>\n",
       "      <td>-1.111686e-01</td>\n",
       "      <td>-3.192491e-01</td>\n",
       "      <td>-1.627644e-01</td>\n",
       "      <td>7.296761e-02</td>\n",
       "      <td>-1.368215e-01</td>\n",
       "      <td>-4.118229e-02</td>\n",
       "      <td>-1.618169e-01</td>\n",
       "      <td>1.936017e-01</td>\n",
       "      <td>-2.476456e-02</td>\n",
       "      <td>-2.950598e-01</td>\n",
       "      <td>-2.055189e-01</td>\n",
       "      <td>-9.851525e-01</td>\n",
       "      <td>1.505511e-02</td>\n",
       "    </tr>\n",
       "    <tr>\n",
       "      <th>75%</th>\n",
       "      <td>8.277505e-01</td>\n",
       "      <td>4.984744e-01</td>\n",
       "      <td>3.482655e-01</td>\n",
       "      <td>4.022397e-01</td>\n",
       "      <td>3.482655e-01</td>\n",
       "      <td>7.481594e-01</td>\n",
       "      <td>6.293224e-01</td>\n",
       "      <td>2.381771e-01</td>\n",
       "      <td>5.322361e-01</td>\n",
       "      <td>9.155198e-01</td>\n",
       "      <td>5.024333e-01</td>\n",
       "      <td>6.008979e-01</td>\n",
       "      <td>5.484025e-01</td>\n",
       "      <td>7.907591e-01</td>\n",
       "      <td>7.368283e-01</td>\n",
       "      <td>2.798348e-01</td>\n",
       "      <td>9.117105e-01</td>\n",
       "      <td>1.015071e+00</td>\n",
       "      <td>7.310263e-01</td>\n",
       "    </tr>\n",
       "    <tr>\n",
       "      <th>max</th>\n",
       "      <td>2.914949e+00</td>\n",
       "      <td>5.818430e+00</td>\n",
       "      <td>1.299838e+01</td>\n",
       "      <td>5.850571e+00</td>\n",
       "      <td>1.299838e+01</td>\n",
       "      <td>5.053127e+00</td>\n",
       "      <td>5.096164e+00</td>\n",
       "      <td>7.803248e+00</td>\n",
       "      <td>5.628907e+00</td>\n",
       "      <td>1.758072e+00</td>\n",
       "      <td>1.236416e+01</td>\n",
       "      <td>5.422813e+00</td>\n",
       "      <td>5.793589e+00</td>\n",
       "      <td>3.812375e+00</td>\n",
       "      <td>6.067979e+00</td>\n",
       "      <td>6.891124e+00</td>\n",
       "      <td>1.738460e+00</td>\n",
       "      <td>1.015071e+00</td>\n",
       "      <td>1.446998e+00</td>\n",
       "    </tr>\n",
       "  </tbody>\n",
       "</table>\n",
       "</div>"
      ],
      "text/plain": [
       "          trap_used       assists  damage_amount  towers_damage  rooms_damage  \\\n",
       "count  4.613000e+03  4.613000e+03   4.613000e+03   4.613000e+03  4.613000e+03   \n",
       "mean   1.139826e-16  1.417081e-16  -3.388671e-17   7.855556e-17 -3.388671e-17   \n",
       "std    1.000108e+00  1.000108e+00   1.000108e+00   1.000108e+00  1.000108e+00   \n",
       "min   -1.723270e+00 -1.452176e+00  -8.262764e-01  -9.289277e-01 -8.262764e-01   \n",
       "25%   -1.027537e+00 -7.428487e-01  -7.001196e-01  -7.220993e-01 -7.001196e-01   \n",
       "50%    5.958396e-01 -2.108531e-01  -3.078752e-01  -3.585406e-01 -3.078752e-01   \n",
       "75%    8.277505e-01  4.984744e-01   3.482655e-01   4.022397e-01  3.482655e-01   \n",
       "max    2.914949e+00  5.818430e+00   1.299838e+01   5.850571e+00  1.299838e+01   \n",
       "\n",
       "             deaths   money_total  kill_death_ratio   kills_total  \\\n",
       "count  4.613000e+03  4.613000e+03      4.613000e+03  4.613000e+03   \n",
       "mean  -4.697931e-17  1.347767e-16      8.779739e-17 -8.009586e-17   \n",
       "std    1.000108e+00  1.000108e+00      1.000108e+00  1.000108e+00   \n",
       "min   -1.901051e+00 -2.237633e+00     -9.563076e-01 -1.321099e+00   \n",
       "25%   -9.075974e-01 -7.347703e-01     -6.112343e-01 -8.577650e-01   \n",
       "50%   -2.452946e-01 -1.111686e-01     -3.192491e-01 -1.627644e-01   \n",
       "75%    7.481594e-01  6.293224e-01      2.381771e-01  5.322361e-01   \n",
       "max    5.053127e+00  5.096164e+00      7.803248e+00  5.628907e+00   \n",
       "\n",
       "              level  controlling_time  total_damage  earned_damage  \\\n",
       "count  4.613000e+03      4.613000e+03  4.613000e+03   4.613000e+03   \n",
       "mean   1.563410e-16      2.368219e-17 -6.623312e-17   7.701525e-17   \n",
       "std    1.000108e+00      1.000108e+00  1.000108e+00   1.000108e+00   \n",
       "min   -3.297241e+00     -1.344303e+00 -1.594459e+00  -1.896787e+00   \n",
       "25%   -7.695845e-01     -7.050480e-01 -7.065434e-01  -7.263788e-01   \n",
       "50%    7.296761e-02     -1.368215e-01 -4.118229e-02  -1.618169e-01   \n",
       "75%    9.155198e-01      5.024333e-01  6.008979e-01   5.484025e-01   \n",
       "max    1.758072e+00      1.236416e+01  5.422813e+00   5.793589e+00   \n",
       "\n",
       "       special_enemy_killed    room_kills    main_score     character  \\\n",
       "count          4.613000e+03  4.613000e+03  4.613000e+03  4.613000e+03   \n",
       "mean          -1.501797e-17 -4.235839e-17 -5.545098e-17 -2.926580e-17   \n",
       "std            1.000108e+00  1.000108e+00  1.000108e+00  1.000108e+00   \n",
       "min           -1.442609e+00 -7.863575e-01 -1.396941e+00 -1.747295e+00   \n",
       "25%           -1.060429e+00 -7.863575e-01 -6.783230e-01 -7.641335e-01   \n",
       "50%            1.936017e-01 -2.476456e-02 -2.950598e-01 -2.055189e-01   \n",
       "75%            7.907591e-01  7.368283e-01  2.798348e-01  9.117105e-01   \n",
       "max            3.812375e+00  6.067979e+00  6.891124e+00  1.738460e+00   \n",
       "\n",
       "           position      location  \n",
       "count  4.613000e+03  4.613000e+03  \n",
       "mean   1.232244e-17  1.216841e-16  \n",
       "std    1.000108e+00  1.000108e+00  \n",
       "min   -9.851525e-01 -1.416887e+00  \n",
       "25%   -9.851525e-01 -7.009161e-01  \n",
       "50%   -9.851525e-01  1.505511e-02  \n",
       "75%    1.015071e+00  7.310263e-01  \n",
       "max    1.015071e+00  1.446998e+00  "
      ]
     },
     "execution_count": 15,
     "metadata": {},
     "output_type": "execute_result"
    }
   ],
   "source": [
    "# shouldn't we use .fit() on X_train instead of all of the DF\n",
    "features = DF.columns[DF.columns != 'win_or_defeat']\n",
    "scaler = StandardScaler()\n",
    "DF[features] = scaler.fit_transform(DF[features])\n",
    "\n",
    "DF.describe()"
   ]
  },
  {
   "cell_type": "markdown",
   "id": "8d5097c7",
   "metadata": {
    "id": "WU26vBmUjRci",
    "papermill": {
     "duration": 0.021336,
     "end_time": "2023-12-17T10:28:30.442632",
     "exception": false,
     "start_time": "2023-12-17T10:28:30.421296",
     "status": "completed"
    },
    "tags": []
   },
   "source": [
    "# P4: Regression Model (30 points)\n",
    "\n",
    "Split the data to train, test, and validation using sklearn's `train_test_split`. Use 10% of the data for the testing phase, another 10% for the validation phase, and the remaining for the training phase."
   ]
  },
  {
   "cell_type": "code",
   "execution_count": 16,
   "id": "83317b66",
   "metadata": {
    "execution": {
     "iopub.execute_input": "2023-12-17T10:28:30.487290Z",
     "iopub.status.busy": "2023-12-17T10:28:30.486396Z",
     "iopub.status.idle": "2023-12-17T10:28:30.502644Z",
     "shell.execute_reply": "2023-12-17T10:28:30.501601Z"
    },
    "id": "Yq6eeJ_-AUxs",
    "papermill": {
     "duration": 0.041559,
     "end_time": "2023-12-17T10:28:30.505258",
     "exception": false,
     "start_time": "2023-12-17T10:28:30.463699",
     "status": "completed"
    },
    "tags": []
   },
   "outputs": [
    {
     "name": "stdout",
     "output_type": "stream",
     "text": [
      "X train :  (3690, 19)  y train :  (3690,)\n",
      "X val :  (461, 19)  y val :  (461,)\n",
      "X test :  (462, 19)  y test :  (462,)\n"
     ]
    }
   ],
   "source": [
    "y = DF['win_or_defeat']\n",
    "X = DF.drop('win_or_defeat', axis=1)\n",
    "X_train, X_temp, y_train, y_temp = train_test_split(X, y, test_size=0.2, random_state=42)\n",
    "X_val, X_test, y_val, y_test = train_test_split(X_temp, y_temp, test_size=0.5, random_state=42)\n",
    "\n",
    "print(\"X train : \" ,X_train.shape ,\" y train : \" ,y_train.shape)\n",
    "print(\"X val : \" ,X_val.shape ,\" y val : \" ,y_val.shape)\n",
    "print(\"X test : \" ,X_test.shape ,\" y test : \" ,y_test.shape)"
   ]
  },
  {
   "cell_type": "markdown",
   "id": "f1090b81",
   "metadata": {
    "id": "ljMClvznjqWU",
    "papermill": {
     "duration": 0.020988,
     "end_time": "2023-12-17T10:28:30.547809",
     "exception": false,
     "start_time": "2023-12-17T10:28:30.526821",
     "status": "completed"
    },
    "tags": []
   },
   "source": [
    "### Custom Regression Model\n",
    "\n",
    "1- Complete custom logistic regression functions below **(P4-1: 10 points)**"
   ]
  },
  {
   "cell_type": "code",
   "execution_count": 17,
   "id": "30d757a9",
   "metadata": {
    "execution": {
     "iopub.execute_input": "2023-12-17T10:28:30.590653Z",
     "iopub.status.busy": "2023-12-17T10:28:30.590245Z",
     "iopub.status.idle": "2023-12-17T10:28:30.601995Z",
     "shell.execute_reply": "2023-12-17T10:28:30.601014Z"
    },
    "id": "xGpfdK77kCS7",
    "papermill": {
     "duration": 0.035582,
     "end_time": "2023-12-17T10:28:30.604118",
     "exception": false,
     "start_time": "2023-12-17T10:28:30.568536",
     "status": "completed"
    },
    "tags": []
   },
   "outputs": [],
   "source": [
    "from sklearn.metrics import accuracy_score\n",
    "\n",
    "class CustomLogisticRegression():\n",
    "    def __init__(self, learning_rate=0.01, num_iterations=1000):\n",
    "        self.learning_rate = learning_rate\n",
    "        self.num_iterations = num_iterations\n",
    "        self.bias ,self.weights = None ,None\n",
    "\n",
    "    def sigmoid(self, z):\n",
    "        return 1 / (1 + np.exp(-z))\n",
    "\n",
    "    def loss(self, X, y):\n",
    "        m = X.shape[0]\n",
    "        predictions = self.predict_(X)\n",
    "        return (-1 / m) * np.sum(y * np.log(predictions) + (1 - y) * np.log(1 - predictions))\n",
    "\n",
    "    def loss_backward(self, X, y):\n",
    "        m = X.shape[0]\n",
    "        predictions = self.predict_(X)\n",
    "        dz = predictions - y\n",
    "        return (1 / m) * np.dot(X.T, dz) , (1 / m) * np.sum(dz)\n",
    "\n",
    "    def fit(self, X, y):\n",
    "        n_samples, n_features = X.shape\n",
    "        self.weights = np.zeros(n_features)\n",
    "        self.bias = 0\n",
    "        for _ in range(self.num_iterations):\n",
    "            dw, db = self.loss_backward(X, y)\n",
    "            self.weights -= self.learning_rate * dw\n",
    "            self.bias -= self.learning_rate * db\n",
    "    \n",
    "    def predict_(self, X):\n",
    "        z = np.dot(X, self.weights) + self.bias\n",
    "        return self.sigmoid(z)\n",
    "    \n",
    "    def predict(self, X):\n",
    "        z = np.dot(X, self.weights) + self.bias\n",
    "        predictions = self.sigmoid(z)\n",
    "        return np.where(predictions >= 0.5, 1, 0)"
   ]
  },
  {
   "cell_type": "markdown",
   "id": "1500e0fa",
   "metadata": {
    "id": "ZOq9MvSN-zmn",
    "papermill": {
     "duration": 0.020058,
     "end_time": "2023-12-17T10:28:30.644803",
     "exception": false,
     "start_time": "2023-12-17T10:28:30.624745",
     "status": "completed"
    },
    "tags": []
   },
   "source": [
    "### Torch Regression Model\n",
    "\n",
    "2- Implement the Logistic Regression Model. This time, use Pytorch! **(P4-2: 10 points)**"
   ]
  },
  {
   "cell_type": "code",
   "execution_count": 18,
   "id": "e783131e",
   "metadata": {
    "execution": {
     "iopub.execute_input": "2023-12-17T10:28:30.687587Z",
     "iopub.status.busy": "2023-12-17T10:28:30.687157Z",
     "iopub.status.idle": "2023-12-17T10:28:33.990340Z",
     "shell.execute_reply": "2023-12-17T10:28:33.989570Z"
    },
    "id": "wHt_tn-DBkdF",
    "papermill": {
     "duration": 3.327365,
     "end_time": "2023-12-17T10:28:33.992699",
     "exception": false,
     "start_time": "2023-12-17T10:28:30.665334",
     "status": "completed"
    },
    "tags": []
   },
   "outputs": [],
   "source": [
    "import torch\n",
    "import torch.nn as nn\n",
    "import torch.optim as optim\n",
    "\n",
    "class TorchLogisticRegression():\n",
    "    def __init__(self, learning_rate=0.01, num_iterations=1000):\n",
    "        self.learning_rate = learning_rate\n",
    "        self.num_iterations = num_iterations\n",
    "        self.model = None\n",
    "\n",
    "    def loss(self, y_pred, y_true):\n",
    "        criterion = nn.BCEWithLogitsLoss()\n",
    "        return criterion(y_pred, y_true)\n",
    "\n",
    "    def predict(self, X):\n",
    "        with torch.no_grad():\n",
    "            outputs = self.model(X)\n",
    "            predicted = (torch.sigmoid(outputs) >= 0.5).float()\n",
    "        return predicted.numpy()\n",
    "\n",
    "    def fit(self, X_train, y_train):\n",
    "        input_size = X_train.shape[1]\n",
    "        self.model = nn.Linear(input_size, 1)\n",
    "        criterion = nn.BCEWithLogitsLoss()\n",
    "        optimizer = optim.SGD(self.model.parameters(), lr=self.learning_rate)\n",
    "        x_train_tensor = torch.FloatTensor(X_train)\n",
    "        y_train_tensor = torch.FloatTensor(y_train).view(-1, 1)  # Reshaping directly\n",
    "        for epoch in range(self.num_iterations):\n",
    "            optimizer.zero_grad()\n",
    "            outputs = self.model(x_train_tensor)\n",
    "            loss = criterion(outputs, y_train_tensor)\n",
    "            loss.backward()\n",
    "            optimizer.step()"
   ]
  },
  {
   "cell_type": "markdown",
   "id": "90bc788b",
   "metadata": {
    "id": "fA-EG86mE2IQ",
    "papermill": {
     "duration": 0.020895,
     "end_time": "2023-12-17T10:28:34.033917",
     "exception": false,
     "start_time": "2023-12-17T10:28:34.013022",
     "status": "completed"
    },
    "tags": []
   },
   "source": [
    "### SK-Learn Regression Model\n",
    "\n",
    "3- Now train a Logistic Regression using SK-Learn **(P4-3: 5 points)**"
   ]
  },
  {
   "cell_type": "code",
   "execution_count": 19,
   "id": "c6bd5eb3",
   "metadata": {
    "execution": {
     "iopub.execute_input": "2023-12-17T10:28:34.077143Z",
     "iopub.status.busy": "2023-12-17T10:28:34.076009Z",
     "iopub.status.idle": "2023-12-17T10:28:34.206553Z",
     "shell.execute_reply": "2023-12-17T10:28:34.205195Z"
    },
    "id": "kfoR-Gl4FHtn",
    "papermill": {
     "duration": 0.156282,
     "end_time": "2023-12-17T10:28:34.210600",
     "exception": false,
     "start_time": "2023-12-17T10:28:34.054318",
     "status": "completed"
    },
    "tags": []
   },
   "outputs": [
    {
     "name": "stderr",
     "output_type": "stream",
     "text": [
      "/opt/conda/lib/python3.10/site-packages/sklearn/utils/validation.py:767: FutureWarning: is_sparse is deprecated and will be removed in a future version. Check `isinstance(dtype, pd.SparseDtype)` instead.\n",
      "  if not hasattr(array, \"sparse\") and array.dtypes.apply(is_sparse).any():\n",
      "/opt/conda/lib/python3.10/site-packages/sklearn/utils/validation.py:605: FutureWarning: is_sparse is deprecated and will be removed in a future version. Check `isinstance(dtype, pd.SparseDtype)` instead.\n",
      "  if is_sparse(pd_dtype):\n",
      "/opt/conda/lib/python3.10/site-packages/sklearn/utils/validation.py:614: FutureWarning: is_sparse is deprecated and will be removed in a future version. Check `isinstance(dtype, pd.SparseDtype)` instead.\n",
      "  if is_sparse(pd_dtype) or not is_extension_array_dtype(pd_dtype):\n",
      "/opt/conda/lib/python3.10/site-packages/sklearn/utils/validation.py:767: FutureWarning: is_sparse is deprecated and will be removed in a future version. Check `isinstance(dtype, pd.SparseDtype)` instead.\n",
      "  if not hasattr(array, \"sparse\") and array.dtypes.apply(is_sparse).any():\n",
      "/opt/conda/lib/python3.10/site-packages/sklearn/utils/validation.py:605: FutureWarning: is_sparse is deprecated and will be removed in a future version. Check `isinstance(dtype, pd.SparseDtype)` instead.\n",
      "  if is_sparse(pd_dtype):\n",
      "/opt/conda/lib/python3.10/site-packages/sklearn/utils/validation.py:614: FutureWarning: is_sparse is deprecated and will be removed in a future version. Check `isinstance(dtype, pd.SparseDtype)` instead.\n",
      "  if is_sparse(pd_dtype) or not is_extension_array_dtype(pd_dtype):\n"
     ]
    }
   ],
   "source": [
    "from sklearn.linear_model import LogisticRegression\n",
    "logisticRegr = LogisticRegression(max_iter = 1000)\n",
    "logisticRegr.fit(X_train, y_train)\n",
    "y_pred_SKlean = logisticRegr.predict(X_test)"
   ]
  },
  {
   "cell_type": "markdown",
   "id": "4112f096",
   "metadata": {
    "id": "DilJdE71FqXH",
    "papermill": {
     "duration": 0.042184,
     "end_time": "2023-12-17T10:28:34.296683",
     "exception": false,
     "start_time": "2023-12-17T10:28:34.254499",
     "status": "completed"
    },
    "tags": []
   },
   "source": [
    "### Predicting the output for the testing data\n",
    "4- Train Custom Logistic Regression and Torch Logistic Regression models and then Predict the `Outcome` for the testing samples using both models. **(P4-4: 5 points)**"
   ]
  },
  {
   "cell_type": "code",
   "execution_count": 20,
   "id": "eac7576f",
   "metadata": {
    "execution": {
     "iopub.execute_input": "2023-12-17T10:28:34.356300Z",
     "iopub.status.busy": "2023-12-17T10:28:34.355430Z",
     "iopub.status.idle": "2023-12-17T10:28:41.205683Z",
     "shell.execute_reply": "2023-12-17T10:28:41.204834Z"
    },
    "id": "T34qmNrSKIJ8",
    "papermill": {
     "duration": 6.874553,
     "end_time": "2023-12-17T10:28:41.208229",
     "exception": false,
     "start_time": "2023-12-17T10:28:34.333676",
     "status": "completed"
    },
    "tags": []
   },
   "outputs": [],
   "source": [
    "customLogisticRegr =  CustomLogisticRegression(num_iterations = 1000)\n",
    "customLogisticRegr.fit(X_train, y_train)\n",
    "y_pred_custom = customLogisticRegr.predict(X_test)\n",
    "\n",
    "torchLogisticRegr = TorchLogisticRegression(num_iterations = 10000)\n",
    "torchLogisticRegr.fit(X_train.values, y_train.values)\n",
    "X_test_tens = torch.FloatTensor(X_test.values)\n",
    "y_pred_torch = torchLogisticRegr.predict(X_test_tens)"
   ]
  },
  {
   "cell_type": "markdown",
   "id": "b00f664c",
   "metadata": {
    "id": "1EYIDhDZIXHU",
    "papermill": {
     "duration": 0.020177,
     "end_time": "2023-12-17T10:28:41.249494",
     "exception": false,
     "start_time": "2023-12-17T10:28:41.229317",
     "status": "completed"
    },
    "tags": []
   },
   "source": [
    "# P5: Evaluation (10 points)\n",
    "\n",
    "1- Complete the metric codes. then evaluate all the models results using the implemented metrices and compare them. **(P5-1: 10 points)**"
   ]
  },
  {
   "cell_type": "code",
   "execution_count": 21,
   "id": "1f7ee77c",
   "metadata": {
    "execution": {
     "iopub.execute_input": "2023-12-17T10:28:41.293226Z",
     "iopub.status.busy": "2023-12-17T10:28:41.292535Z",
     "iopub.status.idle": "2023-12-17T10:28:41.335697Z",
     "shell.execute_reply": "2023-12-17T10:28:41.334488Z"
    },
    "id": "8wuMmYYDI4yI",
    "papermill": {
     "duration": 0.06777,
     "end_time": "2023-12-17T10:28:41.338053",
     "exception": false,
     "start_time": "2023-12-17T10:28:41.270283",
     "status": "completed"
    },
    "tags": []
   },
   "outputs": [
    {
     "name": "stdout",
     "output_type": "stream",
     "text": [
      "SKlearn accuracy: 0.829004329004329\n",
      "SKlearn F1 score: 0.8271334792122539\n",
      "SKlearn precision: 0.8076923076923077\n",
      "SKlearn recall: 0.8076923076923077\n",
      "SKlearn confusion matrix: [[194, 34], [45, 189]]\n",
      "\n",
      "\n",
      "\n",
      "customLogisticReg accuracy: 0.8181818181818182\n",
      "customLogisticReg F1 score: 0.8149779735682819\n",
      "customLogisticReg precision: 0.7905982905982906\n",
      "customLogisticReg recall: 0.7905982905982906\n",
      "customLogisticReg confusion matrix: [[194, 34], [45, 189]]\n",
      "\n",
      "\n",
      "\n",
      "torchLogisticReg accuracy: 0.829004329004329\n",
      "torchLogisticReg F1 score: 0.8278867102396514\n",
      "torchLogisticReg precision: 0.811965811965812\n",
      "torchLogisticReg recall: 0.811965811965812\n",
      "torchLogisticReg confusion matrix: [[193, 35], [44, 190]]\n"
     ]
    }
   ],
   "source": [
    "class classification_full_report():\n",
    "\n",
    "    def __init__(self, y_true, y_pred):\n",
    "        self.y_true = y_true\n",
    "        self.y_pred = y_pred\n",
    "\n",
    "    def accuracy(self):\n",
    "        return sum(1 for true, pred in zip(self.y_true, self.y_pred) if true == pred) / len(self.y_true)\n",
    "\n",
    "    def f1_score(self):\n",
    "        precision = self.precision()\n",
    "        recall = self.recall()\n",
    "        return 2 * (precision * recall) / (precision + recall) if precision + recall != 0 else 0\n",
    "    \n",
    "    def precision(self):\n",
    "        true_positive = sum(1 for true, pred in zip(self.y_true, self.y_pred) if true == 1 and pred == 1)\n",
    "        pred_positive = sum(1 for pred in self.y_pred if pred == 1)\n",
    "        return true_positive / pred_positive if pred_positive != 0 else 0\n",
    "\n",
    "    def recall(self):\n",
    "        true_positive = sum(1 for true, pred in zip(self.y_true, self.y_pred) if true == 1 and pred == 1)\n",
    "        real_positive = sum(1 for true in self.y_true if true == 1)\n",
    "        return true_positive / real_positive if real_positive != 0 else 0\n",
    "\n",
    "    def confusion_matrix(self):\n",
    "        T_positive = sum(1 for true, pred in zip(self.y_true, self.y_pred) if true == 1 and pred == 1)\n",
    "        T_negative = sum(1 for true, pred in zip(self.y_true, self.y_pred) if true == 0 and pred == 0)\n",
    "        F_positive = sum(1 for true, pred in zip(self.y_true, self.y_pred) if true == 0 and pred == 1)\n",
    "        F_negative = sum(1 for true, pred in zip(self.y_true, self.y_pred) if true == 1 and pred == 0)\n",
    "        return [[T_negative, F_positive], [F_negative, T_positive]]\n",
    "    \n",
    "    \n",
    "report_SKlearn = classification_full_report(y_test, y_pred_SKlean)\n",
    "print(\"SKlearn accuracy:\", report_SKlearn.accuracy())\n",
    "print(\"SKlearn F1 score:\", report_SKlearn.f1_score())\n",
    "print(\"SKlearn precision:\", report_SKlearn.recall())\n",
    "print(\"SKlearn recall:\", report_SKlearn.recall())\n",
    "print(\"SKlearn confusion matrix:\", report_SKlearn.confusion_matrix())\n",
    "\n",
    "print(\"\\n\\n\")\n",
    "report_custom = classification_full_report(y_test, y_pred_custom)\n",
    "print(\"customLogisticReg accuracy:\", report_custom.accuracy())\n",
    "print(\"customLogisticReg F1 score:\", report_custom.f1_score())\n",
    "print(\"customLogisticReg precision:\", report_custom.recall())\n",
    "print(\"customLogisticReg recall:\", report_custom.recall())\n",
    "print(\"customLogisticReg confusion matrix:\", report_SKlearn.confusion_matrix())\n",
    "\n",
    "print(\"\\n\\n\")\n",
    "report_torch = classification_full_report(y_test, y_pred_torch)\n",
    "print(\"torchLogisticReg accuracy:\", report_torch.accuracy())\n",
    "print(\"torchLogisticReg F1 score:\", report_torch.f1_score())\n",
    "print(\"torchLogisticReg precision:\", report_torch.recall())\n",
    "print(\"torchLogisticReg recall:\", report_torch.recall())\n",
    "print(\"torchLogisticReg confusion matrix:\", report_torch.confusion_matrix())"
   ]
  },
  {
   "cell_type": "markdown",
   "id": "8dc8a1ff",
   "metadata": {
    "papermill": {
     "duration": 0.020212,
     "end_time": "2023-12-17T10:28:41.378938",
     "exception": false,
     "start_time": "2023-12-17T10:28:41.358726",
     "status": "completed"
    },
    "tags": []
   },
   "source": [
    "# P6: Neural Net (5 points)"
   ]
  },
  {
   "cell_type": "markdown",
   "id": "534e3a1c",
   "metadata": {
    "papermill": {
     "duration": 0.020415,
     "end_time": "2023-12-17T10:28:41.419830",
     "exception": false,
     "start_time": "2023-12-17T10:28:41.399415",
     "status": "completed"
    },
    "tags": []
   },
   "source": [
    "Implement a neural net containing the following layers: LSTM, CNN, Pooling and Dense (Linear). Train the neural network on the training data and tune its hyperparameters using the validation data. Finally, print a classification report indicating how well its doing on the testing data. **(P6-1: 5 points)**"
   ]
  },
  {
   "cell_type": "code",
   "execution_count": 22,
   "id": "e85cc0c6",
   "metadata": {
    "execution": {
     "iopub.execute_input": "2023-12-17T10:28:41.463400Z",
     "iopub.status.busy": "2023-12-17T10:28:41.462369Z",
     "iopub.status.idle": "2023-12-17T10:29:17.991734Z",
     "shell.execute_reply": "2023-12-17T10:29:17.990675Z"
    },
    "id": "bKCvmMHxYdFS",
    "outputId": "44487307-63d6-4688-e777-3528470d027a",
    "papermill": {
     "duration": 36.553597,
     "end_time": "2023-12-17T10:29:17.993976",
     "exception": false,
     "start_time": "2023-12-17T10:28:41.440379",
     "status": "completed"
    },
    "tags": []
   },
   "outputs": [
    {
     "name": "stdout",
     "output_type": "stream",
     "text": [
      "Epoch 1/20\n",
      "116/116 [==============================] - 12s 12ms/step - loss: 0.4440 - accuracy: 0.7932 - val_loss: 0.3837 - val_accuracy: 0.8156\n",
      "Epoch 2/20\n",
      " 28/116 [======>.......................] - ETA: 0s - loss: 0.4003 - accuracy: 0.8103"
     ]
    },
    {
     "name": "stderr",
     "output_type": "stream",
     "text": [
      "/opt/conda/lib/python3.10/site-packages/keras/src/engine/training.py:3000: UserWarning: You are saving your model as an HDF5 file via `model.save()`. This file format is considered legacy. We recommend using instead the native Keras format, e.g. `model.save('my_model.keras')`.\n",
      "  saving_api.save_model(\n"
     ]
    },
    {
     "name": "stdout",
     "output_type": "stream",
     "text": [
      "116/116 [==============================] - 1s 6ms/step - loss: 0.3580 - accuracy: 0.8404 - val_loss: 0.3698 - val_accuracy: 0.8200\n",
      "Epoch 3/20\n",
      "116/116 [==============================] - 1s 6ms/step - loss: 0.3480 - accuracy: 0.8472 - val_loss: 0.3728 - val_accuracy: 0.8178\n",
      "Epoch 4/20\n",
      "116/116 [==============================] - 1s 7ms/step - loss: 0.3453 - accuracy: 0.8491 - val_loss: 0.3636 - val_accuracy: 0.8351\n",
      "Epoch 5/20\n",
      "116/116 [==============================] - 1s 6ms/step - loss: 0.3338 - accuracy: 0.8482 - val_loss: 0.3570 - val_accuracy: 0.8330\n",
      "Epoch 6/20\n",
      "116/116 [==============================] - 1s 6ms/step - loss: 0.3298 - accuracy: 0.8501 - val_loss: 0.3583 - val_accuracy: 0.8330\n",
      "Epoch 7/20\n",
      "116/116 [==============================] - 1s 6ms/step - loss: 0.3258 - accuracy: 0.8553 - val_loss: 0.3777 - val_accuracy: 0.8221\n",
      "Epoch 8/20\n",
      "116/116 [==============================] - 1s 6ms/step - loss: 0.3192 - accuracy: 0.8599 - val_loss: 0.3675 - val_accuracy: 0.8243\n",
      "Epoch 9/20\n",
      "116/116 [==============================] - 1s 7ms/step - loss: 0.3092 - accuracy: 0.8642 - val_loss: 0.3615 - val_accuracy: 0.8351\n",
      "Epoch 10/20\n",
      "116/116 [==============================] - 1s 7ms/step - loss: 0.3074 - accuracy: 0.8615 - val_loss: 0.3791 - val_accuracy: 0.8134\n",
      "15/15 [==============================] - 1s 4ms/step - loss: 0.3705 - accuracy: 0.8377\n",
      "15/15 [==============================] - 1s 2ms/step\n",
      "\n",
      "\n",
      "\n",
      "NNlogisticReg accuracy: 0.8376623376623377\n",
      "NNlogisticReg F1 score: 0.8380129589632829\n",
      "NNlogisticReg precision: 0.8290598290598291\n",
      "NNlogisticReg recall: 0.8290598290598291\n",
      "NNlogisticReg confusion matrix: [[193, 35], [40, 194]]\n"
     ]
    }
   ],
   "source": [
    "import numpy as np\n",
    "import tensorflow as tf\n",
    "from tensorflow.keras.models import Sequential\n",
    "from tensorflow.keras.layers import LSTM, Dense, Conv1D, MaxPooling1D, Flatten\n",
    "from tensorflow.keras.callbacks import EarlyStopping, ModelCheckpoint\n",
    "\n",
    "X_train_ = np.reshape(X_train, (X_train.shape[0], X_train.shape[1], 1))\n",
    "X_val_ = np.reshape(X_val, (X_val.shape[0], X_val.shape[1], 1))\n",
    "X_test_ = np.reshape(X_test, (X_test.shape[0], X_test.shape[1], 1))\n",
    "\n",
    "model = Sequential()\n",
    "model.add(LSTM(64, input_shape=X_train_.shape[1:], return_sequences=True))\n",
    "model.add(Conv1D(filters=32, kernel_size=3, activation='relu'))\n",
    "model.add(MaxPooling1D(pool_size=2))\n",
    "model.add(Flatten())\n",
    "model.add(Dense(128, activation='relu'))\n",
    "model.add(Dense(64, activation='relu'))\n",
    "model.add(Dense(32, activation='tanh'))\n",
    "model.add(Dense(2, activation='sigmoid'))\n",
    "model.compile(optimizer='adam', loss='sparse_categorical_crossentropy', metrics=['accuracy'])\n",
    "\n",
    "early_stopping = EarlyStopping(monitor='val_loss', patience=5, restore_best_weights=True)\n",
    "model_checkpoint = ModelCheckpoint('best_model.h5', monitor='val_loss', save_best_only=True)\n",
    "\n",
    "history = model.fit(X_train_, y_train, epochs=20, batch_size=32, validation_data=(X_val_, y_val), callbacks=[early_stopping, model_checkpoint])\n",
    "best_model = tf.keras.models.load_model('best_model.h5')\n",
    "test_loss, test_accuracy = best_model.evaluate(X_test_, y_test)\n",
    "\n",
    "y_pred_classes = np.argmax(best_model.predict(X_test_), axis=1)\n",
    "\n",
    "print(\"\\n\\n\")\n",
    "report_NN = classification_full_report(y_test, y_pred_classes)\n",
    "print(\"NNlogisticReg accuracy:\", report_NN.accuracy())\n",
    "print(\"NNlogisticReg F1 score:\", report_NN.f1_score())\n",
    "print(\"NNlogisticReg precision:\", report_NN.recall())\n",
    "print(\"NNlogisticReg recall:\", report_NN.recall())\n",
    "print(\"NNlogisticReg confusion matrix:\", report_NN.confusion_matrix())"
   ]
  }
 ],
 "metadata": {
  "colab": {
   "provenance": []
  },
  "kaggle": {
   "accelerator": "gpu",
   "dataSources": [],
   "dockerImageVersionId": 30587,
   "isGpuEnabled": true,
   "isInternetEnabled": true,
   "language": "python",
   "sourceType": "notebook"
  },
  "kernelspec": {
   "display_name": "Python 3",
   "language": "python",
   "name": "python3"
  },
  "language_info": {
   "codemirror_mode": {
    "name": "ipython",
    "version": 3
   },
   "file_extension": ".py",
   "mimetype": "text/x-python",
   "name": "python",
   "nbconvert_exporter": "python",
   "pygments_lexer": "ipython3",
   "version": "3.10.12"
  },
  "papermill": {
   "default_parameters": {},
   "duration": 116.582144,
   "end_time": "2023-12-17T10:29:21.569292",
   "environment_variables": {},
   "exception": null,
   "input_path": "__notebook__.ipynb",
   "output_path": "__notebook__.ipynb",
   "parameters": {},
   "start_time": "2023-12-17T10:27:24.987148",
   "version": "2.4.0"
  }
 },
 "nbformat": 4,
 "nbformat_minor": 5
}
