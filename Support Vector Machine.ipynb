{
 "cells": [
  {
   "cell_type": "markdown",
   "id": "c3f5e9c6",
   "metadata": {
    "id": "UhNpvvS_xHnJ",
    "papermill": {
     "duration": 0.016171,
     "end_time": "2024-01-01T14:11:31.085498",
     "exception": false,
     "start_time": "2024-01-01T14:11:31.069327",
     "status": "completed"
    },
    "tags": []
   },
   "source": [
    "**ML - Fall 2023 - Practical 4**"
   ]
  },
  {
   "cell_type": "markdown",
   "id": "06b3585c",
   "metadata": {
    "papermill": {
     "duration": 0.015495,
     "end_time": "2024-01-01T14:11:31.116383",
     "exception": false,
     "start_time": "2024-01-01T14:11:31.100888",
     "status": "completed"
    },
    "tags": []
   },
   "source": [
    "**Support Vector Machine**"
   ]
  },
  {
   "cell_type": "markdown",
   "id": "e82b34d8",
   "metadata": {
    "papermill": {
     "duration": 0.014499,
     "end_time": "2024-01-01T14:11:31.146626",
     "exception": false,
     "start_time": "2024-01-01T14:11:31.132127",
     "status": "completed"
    },
    "tags": []
   },
   "source": [
    "**Student Name: Ali Aghayari** <br>\n",
    "**Student Number: 400104715**"
   ]
  },
  {
   "cell_type": "markdown",
   "id": "3134ff0f",
   "metadata": {
    "papermill": {
     "duration": 0.015078,
     "end_time": "2024-01-01T14:11:31.177147",
     "exception": false,
     "start_time": "2024-01-01T14:11:31.162069",
     "status": "completed"
    },
    "tags": []
   },
   "source": [
    "# P0: Intro"
   ]
  },
  {
   "cell_type": "markdown",
   "id": "e240b18a",
   "metadata": {
    "id": "dOp04evUxM-3",
    "papermill": {
     "duration": 0.015212,
     "end_time": "2024-01-01T14:11:31.207334",
     "exception": false,
     "start_time": "2024-01-01T14:11:31.192122",
     "status": "completed"
    },
    "tags": []
   },
   "source": [
    "Sentiment Analysis is a Natural Language Processing technique that allows us to determine the sentiment or opinion of a given text. It is a very useful technique that allows us to extract insights from social media, customer feedback, product reviews, etc. This assignment focuses on building a sentiment classifier using the SVM algorithm. You are given a dataset of tweets along with their corresponding sentiments. Your task is to build a classifier that can determine the sentiment of a given tweet."
   ]
  },
  {
   "cell_type": "markdown",
   "id": "db927599",
   "metadata": {
    "id": "HRyaluoHxkMW",
    "papermill": {
     "duration": 0.015241,
     "end_time": "2024-01-01T14:11:31.238330",
     "exception": false,
     "start_time": "2024-01-01T14:11:31.223089",
     "status": "completed"
    },
    "tags": []
   },
   "source": [
    "# P1: Data Exploration"
   ]
  },
  {
   "cell_type": "markdown",
   "id": "2f5fab84",
   "metadata": {
    "id": "WdLsc4MbzNVH",
    "papermill": {
     "duration": 0.015253,
     "end_time": "2024-01-01T14:11:31.269083",
     "exception": false,
     "start_time": "2024-01-01T14:11:31.253830",
     "status": "completed"
    },
    "tags": []
   },
   "source": [
    "The dataset provided to you includes one file: `sentiment.csv`.\n",
    "Run the below cells to download the data."
   ]
  },
  {
   "cell_type": "code",
   "execution_count": 1,
   "id": "162571f3",
   "metadata": {
    "execution": {
     "iopub.execute_input": "2024-01-01T14:11:31.302586Z",
     "iopub.status.busy": "2024-01-01T14:11:31.302206Z",
     "iopub.status.idle": "2024-01-01T14:11:46.198357Z",
     "shell.execute_reply": "2024-01-01T14:11:46.197150Z"
    },
    "papermill": {
     "duration": 14.915642,
     "end_time": "2024-01-01T14:11:46.201022",
     "exception": false,
     "start_time": "2024-01-01T14:11:31.285380",
     "status": "completed"
    },
    "tags": []
   },
   "outputs": [
    {
     "name": "stdout",
     "output_type": "stream",
     "text": [
      "Collecting gdown\r\n",
      "  Downloading gdown-4.7.1-py3-none-any.whl (15 kB)\r\n",
      "Requirement already satisfied: filelock in /opt/conda/lib/python3.10/site-packages (from gdown) (3.12.2)\r\n",
      "Requirement already satisfied: requests[socks] in /opt/conda/lib/python3.10/site-packages (from gdown) (2.31.0)\r\n",
      "Requirement already satisfied: six in /opt/conda/lib/python3.10/site-packages (from gdown) (1.16.0)\r\n",
      "Requirement already satisfied: tqdm in /opt/conda/lib/python3.10/site-packages (from gdown) (4.66.1)\r\n",
      "Requirement already satisfied: beautifulsoup4 in /opt/conda/lib/python3.10/site-packages (from gdown) (4.12.2)\r\n",
      "Requirement already satisfied: soupsieve>1.2 in /opt/conda/lib/python3.10/site-packages (from beautifulsoup4->gdown) (2.3.2.post1)\r\n",
      "Requirement already satisfied: charset-normalizer<4,>=2 in /opt/conda/lib/python3.10/site-packages (from requests[socks]->gdown) (3.2.0)\r\n",
      "Requirement already satisfied: idna<4,>=2.5 in /opt/conda/lib/python3.10/site-packages (from requests[socks]->gdown) (3.4)\r\n",
      "Requirement already satisfied: urllib3<3,>=1.21.1 in /opt/conda/lib/python3.10/site-packages (from requests[socks]->gdown) (1.26.15)\r\n",
      "Requirement already satisfied: certifi>=2017.4.17 in /opt/conda/lib/python3.10/site-packages (from requests[socks]->gdown) (2023.7.22)\r\n",
      "Requirement already satisfied: PySocks!=1.5.7,>=1.5.6 in /opt/conda/lib/python3.10/site-packages (from requests[socks]->gdown) (1.7.1)\r\n",
      "Installing collected packages: gdown\r\n",
      "Successfully installed gdown-4.7.1\r\n"
     ]
    }
   ],
   "source": [
    "!pip install gdown"
   ]
  },
  {
   "cell_type": "code",
   "execution_count": 2,
   "id": "f646341c",
   "metadata": {
    "execution": {
     "iopub.execute_input": "2024-01-01T14:11:46.235874Z",
     "iopub.status.busy": "2024-01-01T14:11:46.235428Z",
     "iopub.status.idle": "2024-01-01T14:11:57.443523Z",
     "shell.execute_reply": "2024-01-01T14:11:57.442444Z"
    },
    "id": "foL_di-mb_GF",
    "outputId": "19aff1fe-c8d8-4a57-86d5-9667cba892dc",
    "papermill": {
     "duration": 11.228738,
     "end_time": "2024-01-01T14:11:57.446285",
     "exception": false,
     "start_time": "2024-01-01T14:11:46.217547",
     "status": "completed"
    },
    "tags": []
   },
   "outputs": [
    {
     "data": {
      "text/html": [
       "<div>\n",
       "<style scoped>\n",
       "    .dataframe tbody tr th:only-of-type {\n",
       "        vertical-align: middle;\n",
       "    }\n",
       "\n",
       "    .dataframe tbody tr th {\n",
       "        vertical-align: top;\n",
       "    }\n",
       "\n",
       "    .dataframe thead th {\n",
       "        text-align: right;\n",
       "    }\n",
       "</style>\n",
       "<table border=\"1\" class=\"dataframe\">\n",
       "  <thead>\n",
       "    <tr style=\"text-align: right;\">\n",
       "      <th></th>\n",
       "      <th>UserName</th>\n",
       "      <th>ScreenName</th>\n",
       "      <th>Location</th>\n",
       "      <th>TweetAt</th>\n",
       "      <th>OriginalTweet</th>\n",
       "      <th>Sentiment</th>\n",
       "    </tr>\n",
       "  </thead>\n",
       "  <tbody>\n",
       "    <tr>\n",
       "      <th>0</th>\n",
       "      <td>3799</td>\n",
       "      <td>48751</td>\n",
       "      <td>London</td>\n",
       "      <td>16-03-2020</td>\n",
       "      <td>@MeNyrbie @Phil_Gahan @Chrisitv https://t.co/i...</td>\n",
       "      <td>Neutral</td>\n",
       "    </tr>\n",
       "    <tr>\n",
       "      <th>1</th>\n",
       "      <td>3800</td>\n",
       "      <td>48752</td>\n",
       "      <td>UK</td>\n",
       "      <td>16-03-2020</td>\n",
       "      <td>advice Talk to your neighbours family to excha...</td>\n",
       "      <td>Positive</td>\n",
       "    </tr>\n",
       "    <tr>\n",
       "      <th>2</th>\n",
       "      <td>3801</td>\n",
       "      <td>48753</td>\n",
       "      <td>Vagabonds</td>\n",
       "      <td>16-03-2020</td>\n",
       "      <td>Coronavirus Australia: Woolworths to give elde...</td>\n",
       "      <td>Positive</td>\n",
       "    </tr>\n",
       "    <tr>\n",
       "      <th>3</th>\n",
       "      <td>3802</td>\n",
       "      <td>48754</td>\n",
       "      <td>NaN</td>\n",
       "      <td>16-03-2020</td>\n",
       "      <td>My food stock is not the only one which is emp...</td>\n",
       "      <td>Positive</td>\n",
       "    </tr>\n",
       "    <tr>\n",
       "      <th>4</th>\n",
       "      <td>3803</td>\n",
       "      <td>48755</td>\n",
       "      <td>NaN</td>\n",
       "      <td>16-03-2020</td>\n",
       "      <td>Me, ready to go at supermarket during the #COV...</td>\n",
       "      <td>Extremely Negative</td>\n",
       "    </tr>\n",
       "  </tbody>\n",
       "</table>\n",
       "</div>"
      ],
      "text/plain": [
       "   UserName  ScreenName   Location     TweetAt  \\\n",
       "0      3799       48751     London  16-03-2020   \n",
       "1      3800       48752         UK  16-03-2020   \n",
       "2      3801       48753  Vagabonds  16-03-2020   \n",
       "3      3802       48754        NaN  16-03-2020   \n",
       "4      3803       48755        NaN  16-03-2020   \n",
       "\n",
       "                                       OriginalTweet           Sentiment  \n",
       "0  @MeNyrbie @Phil_Gahan @Chrisitv https://t.co/i...             Neutral  \n",
       "1  advice Talk to your neighbours family to excha...            Positive  \n",
       "2  Coronavirus Australia: Woolworths to give elde...            Positive  \n",
       "3  My food stock is not the only one which is emp...            Positive  \n",
       "4  Me, ready to go at supermarket during the #COV...  Extremely Negative  "
      ]
     },
     "execution_count": 2,
     "metadata": {},
     "output_type": "execute_result"
    }
   ],
   "source": [
    "import gdown\n",
    "import pandas as pd\n",
    "\n",
    "url = 'https://drive.google.com/uc?id=1XHeTYh-jGBHq1lpbOVq1HX-N4EsUIQgA'\n",
    "path = 'sentiment.csv'\n",
    "\n",
    "gdown.download(url, path, quiet=True)\n",
    "data = pd.read_csv(path, encoding = \"ISO-8859-1\")\n",
    "\n",
    "data.head()"
   ]
  },
  {
   "cell_type": "markdown",
   "id": "1f3a1bdb",
   "metadata": {
    "id": "p0Xy0Z9V2QXZ",
    "papermill": {
     "duration": 0.016328,
     "end_time": "2024-01-01T14:11:57.479560",
     "exception": false,
     "start_time": "2024-01-01T14:11:57.463232",
     "status": "completed"
    },
    "tags": []
   },
   "source": [
    "## The Distribution of Labels"
   ]
  },
  {
   "cell_type": "markdown",
   "id": "031d1772",
   "metadata": {
    "id": "3_Y4iXXW2Ws6",
    "papermill": {
     "duration": 0.016262,
     "end_time": "2024-01-01T14:11:57.512480",
     "exception": false,
     "start_time": "2024-01-01T14:11:57.496218",
     "status": "completed"
    },
    "tags": []
   },
   "source": [
    "Extract the labels of the Sentiment column and plot the distribution of samples according to it. **(P1-1: 2.5 points)**"
   ]
  },
  {
   "cell_type": "code",
   "execution_count": 3,
   "id": "abb06a14",
   "metadata": {
    "execution": {
     "iopub.execute_input": "2024-01-01T14:11:57.606705Z",
     "iopub.status.busy": "2024-01-01T14:11:57.606085Z",
     "iopub.status.idle": "2024-01-01T14:11:57.893686Z",
     "shell.execute_reply": "2024-01-01T14:11:57.892707Z"
    },
    "id": "qDKUQa162UnI",
    "outputId": "21cf64f6-e1b5-4c74-d315-c3326fe53d9f",
    "papermill": {
     "duration": 0.367213,
     "end_time": "2024-01-01T14:11:57.896439",
     "exception": false,
     "start_time": "2024-01-01T14:11:57.529226",
     "status": "completed"
    },
    "tags": []
   },
   "outputs": [
    {
     "data": {
      "image/png": "[encoded data removed]",
      "text/plain": [
       "<Figure size 640x480 with 1 Axes>"
      ]
     },
     "metadata": {},
     "output_type": "display_data"
    }
   ],
   "source": [
    "import matplotlib.pyplot as plt\n",
    "\n",
    "DF = data \n",
    "\n",
    "DF[\"Sentiment\"].value_counts().plot(kind = \"bar\")\n",
    "plt.show()"
   ]
  },
  {
   "cell_type": "markdown",
   "id": "f433e99b",
   "metadata": {
    "id": "rIwsdzMO2ZiJ",
    "papermill": {
     "duration": 0.01707,
     "end_time": "2024-01-01T14:11:57.930819",
     "exception": false,
     "start_time": "2024-01-01T14:11:57.913749",
     "status": "completed"
    },
    "tags": []
   },
   "source": [
    "## Texts Distribution"
   ]
  },
  {
   "cell_type": "markdown",
   "id": "36c484a7",
   "metadata": {
    "id": "FDRBXOQ22ea3",
    "papermill": {
     "duration": 0.016679,
     "end_time": "2024-01-01T14:11:57.964311",
     "exception": false,
     "start_time": "2024-01-01T14:11:57.947632",
     "status": "completed"
    },
    "tags": []
   },
   "source": [
    "Plot the distribution of tweets according to their lengths. **(P1-2: 2.5 points)**"
   ]
  },
  {
   "cell_type": "code",
   "execution_count": 4,
   "id": "0ee6ba9e",
   "metadata": {
    "execution": {
     "iopub.execute_input": "2024-01-01T14:11:58.001144Z",
     "iopub.status.busy": "2024-01-01T14:11:58.000707Z",
     "iopub.status.idle": "2024-01-01T14:11:58.338851Z",
     "shell.execute_reply": "2024-01-01T14:11:58.337785Z"
    },
    "id": "5wBLgSjFvpTJ",
    "outputId": "459612c2-7022-4536-823f-66365e7db230",
    "papermill": {
     "duration": 0.35999,
     "end_time": "2024-01-01T14:11:58.341351",
     "exception": false,
     "start_time": "2024-01-01T14:11:57.981361",
     "status": "completed"
    },
    "tags": []
   },
   "outputs": [
    {
     "data": {
      "image/png": "[encoded data removed]",
      "text/plain": [
       "<Figure size 640x480 with 1 Axes>"
      ]
     },
     "metadata": {},
     "output_type": "display_data"
    }
   ],
   "source": [
    "lengths = DF[\"OriginalTweet\"].apply(len)\n",
    "\n",
    "plt.hist(lengths ,bins = 30)\n",
    "plt.show()"
   ]
  },
  {
   "cell_type": "markdown",
   "id": "89cc7663",
   "metadata": {
    "id": "2NhIKw7k25yJ",
    "papermill": {
     "duration": 0.017291,
     "end_time": "2024-01-01T14:11:58.376302",
     "exception": false,
     "start_time": "2024-01-01T14:11:58.359011",
     "status": "completed"
    },
    "tags": []
   },
   "source": [
    "## Outliers"
   ]
  },
  {
   "cell_type": "markdown",
   "id": "da948497",
   "metadata": {
    "id": "MmLuYceX28_J",
    "papermill": {
     "duration": 0.017428,
     "end_time": "2024-01-01T14:11:58.411992",
     "exception": false,
     "start_time": "2024-01-01T14:11:58.394564",
     "status": "completed"
    },
    "tags": []
   },
   "source": [
    "According to the obtained distributions, reason whether it is necessary to remove outliers or not. If your answer is yes, determine the appropriate remove range and delete these outliers in the dataset cleaning section. **(P1-3: 5 points)**"
   ]
  },
  {
   "cell_type": "code",
   "execution_count": 5,
   "id": "290a136e",
   "metadata": {
    "execution": {
     "iopub.execute_input": "2024-01-01T14:11:58.449468Z",
     "iopub.status.busy": "2024-01-01T14:11:58.449086Z",
     "iopub.status.idle": "2024-01-01T14:11:58.522552Z",
     "shell.execute_reply": "2024-01-01T14:11:58.521112Z"
    },
    "id": "xWOCbW0w276g",
    "papermill": {
     "duration": 0.09575,
     "end_time": "2024-01-01T14:11:58.525149",
     "exception": false,
     "start_time": "2024-01-01T14:11:58.429399",
     "status": "completed"
    },
    "tags": []
   },
   "outputs": [
    {
     "name": "stdout",
     "output_type": "stream",
     "text": [
      "Lower Bound:  -11.0     Upper Bound:  421.0\n",
      "min value:  11     max value:  355\n",
      "percentage missing values after elimination :  0.0\n"
     ]
    }
   ],
   "source": [
    "\"\"\"\n",
    "it seems that we dont need to remove outliers since they are not that far from the rest of the data \n",
    "but we will try to remove the outliers with the statistical approach to make sure.\n",
    "\n",
    "\"\"\"\n",
    "Q1 = lengths.quantile(0.25)\n",
    "Q3 = lengths.quantile(0.75)\n",
    "\n",
    "IQR = Q3 - Q1\n",
    "\n",
    "lower_bound = Q1 - 1.5 * IQR\n",
    "upper_bound = Q3 + 1.5 * IQR\n",
    "\n",
    "print(\"Lower Bound: \",lower_bound,\"    Upper Bound: \" ,upper_bound)\n",
    "print(\"min value: \",min(lengths),\"    max value: \" ,max(lengths))\n",
    " \n",
    "# seems we dont need to remove them !print(\"percentage missing values : \" ,DF.isnull().sum(axis = 1).sum() / len(DF) * 100)\n",
    "\n",
    "DF = DF.dropna()\n",
    "\n",
    "print(\"percentage missing values after elimination : \" ,DF.isnull().sum(axis = 1).sum() / len(DF) * 100)"
   ]
  },
  {
   "cell_type": "markdown",
   "id": "5897161e",
   "metadata": {
    "id": "ZX8fGZJk3_TB",
    "papermill": {
     "duration": 0.017363,
     "end_time": "2024-01-01T14:11:58.559899",
     "exception": false,
     "start_time": "2024-01-01T14:11:58.542536",
     "status": "completed"
    },
    "tags": []
   },
   "source": [
    "## Missing Values"
   ]
  },
  {
   "cell_type": "markdown",
   "id": "14a0de11",
   "metadata": {
    "id": "Ln45z_Np4BsP",
    "papermill": {
     "duration": 0.01713,
     "end_time": "2024-01-01T14:11:58.594361",
     "exception": false,
     "start_time": "2024-01-01T14:11:58.577231",
     "status": "completed"
    },
    "tags": []
   },
   "source": [
    "What percentage of dataset rows should be deleted due to missing values? Delete these row in the dataset cleaning section. **(P1-4: 2.5 points)**"
   ]
  },
  {
   "cell_type": "code",
   "execution_count": 6,
   "id": "28ae1be8",
   "metadata": {
    "execution": {
     "iopub.execute_input": "2024-01-01T14:11:58.631014Z",
     "iopub.status.busy": "2024-01-01T14:11:58.630581Z",
     "iopub.status.idle": "2024-01-01T14:11:58.702020Z",
     "shell.execute_reply": "2024-01-01T14:11:58.700694Z"
    },
    "id": "HqB_k0j-hgyA",
    "outputId": "2d8962fa-1c14-47ed-d4d7-ba0e08f05b2d",
    "papermill": {
     "duration": 0.092673,
     "end_time": "2024-01-01T14:11:58.704501",
     "exception": false,
     "start_time": "2024-01-01T14:11:58.611828",
     "status": "completed"
    },
    "tags": []
   },
   "outputs": [
    {
     "name": "stdout",
     "output_type": "stream",
     "text": [
      "percentage missing values :  0.0\n",
      "percentage missing values after elimination :  0.0\n"
     ]
    }
   ],
   "source": [
    "print(\"percentage missing values : \" ,DF.isnull().sum(axis = 1).sum() / len(DF) * 100)\n",
    "\n",
    "DF = DF.dropna()\n",
    "\n",
    "print(\"percentage missing values after elimination : \" ,DF.isnull().sum(axis = 1).sum() / len(DF) * 100)"
   ]
  },
  {
   "cell_type": "markdown",
   "id": "9807dfd2",
   "metadata": {
    "id": "idrPs3PP7hHo",
    "papermill": {
     "duration": 0.01753,
     "end_time": "2024-01-01T14:11:58.740172",
     "exception": false,
     "start_time": "2024-01-01T14:11:58.722642",
     "status": "completed"
    },
    "tags": []
   },
   "source": [
    "## Most Frequent Words"
   ]
  },
  {
   "cell_type": "markdown",
   "id": "778a26a7",
   "metadata": {
    "id": "3FZnO_CO7jVi",
    "papermill": {
     "duration": 0.017242,
     "end_time": "2024-01-01T14:11:58.774945",
     "exception": false,
     "start_time": "2024-01-01T14:11:58.757703",
     "status": "completed"
    },
    "tags": []
   },
   "source": [
    "Use the `nltk` library and plot the 30 most frequent words in order of occurrence. Then do this for each set of positive, negative and neutral tweets separately. **(P1-5: 10 points)**"
   ]
  },
  {
   "cell_type": "code",
   "execution_count": 7,
   "id": "377efd50",
   "metadata": {
    "execution": {
     "iopub.execute_input": "2024-01-01T14:11:58.812158Z",
     "iopub.status.busy": "2024-01-01T14:11:58.811785Z",
     "iopub.status.idle": "2024-01-01T14:12:00.722550Z",
     "shell.execute_reply": "2024-01-01T14:12:00.721412Z"
    },
    "id": "rg0nGQ4q7jdS",
    "outputId": "85c50d14-8944-46e0-a06e-c7b2bf369341",
    "papermill": {
     "duration": 1.932862,
     "end_time": "2024-01-01T14:12:00.725397",
     "exception": false,
     "start_time": "2024-01-01T14:11:58.792535",
     "status": "completed"
    },
    "tags": []
   },
   "outputs": [
    {
     "name": "stdout",
     "output_type": "stream",
     "text": [
      "[nltk_data] Downloading package punkt to /usr/share/nltk_data...\n",
      "[nltk_data]   Package punkt is already up-to-date!\n"
     ]
    }
   ],
   "source": [
    "import nltk\n",
    "from nltk.tokenize import word_tokenize\n",
    "from nltk.probability import FreqDist\n",
    "\n",
    "nltk.download('punkt')\n",
    "\n",
    "def DistCal(inp):\n",
    "    sentences = inp['OriginalTweet'].str.cat(sep=' ')\n",
    "    words = word_tokenize(sentences)\n",
    "    return FreqDist([w.lower() for w in words if w.isalpha()])"
   ]
  },
  {
   "cell_type": "code",
   "execution_count": 8,
   "id": "5cfb635f",
   "metadata": {
    "execution": {
     "iopub.execute_input": "2024-01-01T14:12:00.763313Z",
     "iopub.status.busy": "2024-01-01T14:12:00.762900Z",
     "iopub.status.idle": "2024-01-01T14:12:18.607875Z",
     "shell.execute_reply": "2024-01-01T14:12:18.606759Z"
    },
    "papermill": {
     "duration": 17.867211,
     "end_time": "2024-01-01T14:12:18.610810",
     "exception": false,
     "start_time": "2024-01-01T14:12:00.743599",
     "status": "completed"
    },
    "tags": []
   },
   "outputs": [
    {
     "data": {
      "image/png": "[encoded data removed]",
      "text/plain": [
       "<Figure size 640x480 with 1 Axes>"
      ]
     },
     "metadata": {},
     "output_type": "display_data"
    }
   ],
   "source": [
    "DistCal(DF).plot(30 ,cumulative = False ,title = \"30 most frequent words in entire dataset\")\n",
    "plt.show()"
   ]
  },
  {
   "cell_type": "code",
   "execution_count": 9,
   "id": "009fe061",
   "metadata": {
    "execution": {
     "iopub.execute_input": "2024-01-01T14:12:18.650706Z",
     "iopub.status.busy": "2024-01-01T14:12:18.650295Z",
     "iopub.status.idle": "2024-01-01T14:12:23.914319Z",
     "shell.execute_reply": "2024-01-01T14:12:23.912906Z"
    },
    "papermill": {
     "duration": 5.287221,
     "end_time": "2024-01-01T14:12:23.916926",
     "exception": false,
     "start_time": "2024-01-01T14:12:18.629705",
     "status": "completed"
    },
    "tags": []
   },
   "outputs": [
    {
     "data": {
      "image/png": "[encoded data removed]",
      "text/plain": [
       "<Figure size 640x480 with 1 Axes>"
      ]
     },
     "metadata": {},
     "output_type": "display_data"
    }
   ],
   "source": [
    "DistCal(DF[ DF[\"Sentiment\"] == \"Positive\" ]).plot(30 ,cumulative = False ,title = \"30 most frequent words in positive tweets\")\n",
    "plt.show()"
   ]
  },
  {
   "cell_type": "code",
   "execution_count": 10,
   "id": "773cfd20",
   "metadata": {
    "execution": {
     "iopub.execute_input": "2024-01-01T14:12:23.958623Z",
     "iopub.status.busy": "2024-01-01T14:12:23.958249Z",
     "iopub.status.idle": "2024-01-01T14:12:28.418909Z",
     "shell.execute_reply": "2024-01-01T14:12:28.417785Z"
    },
    "papermill": {
     "duration": 4.484141,
     "end_time": "2024-01-01T14:12:28.421451",
     "exception": false,
     "start_time": "2024-01-01T14:12:23.937310",
     "status": "completed"
    },
    "tags": []
   },
   "outputs": [
    {
     "data": {
      "image/png": "[encoded data removed]",
      "text/plain": [
       "<Figure size 640x480 with 1 Axes>"
      ]
     },
     "metadata": {},
     "output_type": "display_data"
    }
   ],
   "source": [
    "DistCal(DF[ DF[\"Sentiment\"] == \"Negative\" ]).plot(30 ,cumulative = False ,title = \"30 most frequent words in negative tweets\")\n",
    "plt.show()"
   ]
  },
  {
   "cell_type": "code",
   "execution_count": 11,
   "id": "4ff9313f",
   "metadata": {
    "execution": {
     "iopub.execute_input": "2024-01-01T14:12:28.464635Z",
     "iopub.status.busy": "2024-01-01T14:12:28.464247Z",
     "iopub.status.idle": "2024-01-01T14:12:31.563909Z",
     "shell.execute_reply": "2024-01-01T14:12:31.562899Z"
    },
    "papermill": {
     "duration": 3.124591,
     "end_time": "2024-01-01T14:12:31.566899",
     "exception": false,
     "start_time": "2024-01-01T14:12:28.442308",
     "status": "completed"
    },
    "tags": []
   },
   "outputs": [
    {
     "data": {
      "image/png": "[encoded data removed]",
      "text/plain": [
       "<Figure size 640x480 with 1 Axes>"
      ]
     },
     "metadata": {},
     "output_type": "display_data"
    }
   ],
   "source": [
    "DistCal(DF[ DF[\"Sentiment\"] == \"Neutral\" ]).plot(30 ,cumulative=False ,title = \"30 most frequent words in neutral tweets\")\n",
    "plt.show()"
   ]
  },
  {
   "cell_type": "markdown",
   "id": "958e7242",
   "metadata": {
    "id": "DWG6Q1Fg3Ney",
    "papermill": {
     "duration": 0.021532,
     "end_time": "2024-01-01T14:12:31.610100",
     "exception": false,
     "start_time": "2024-01-01T14:12:31.588568",
     "status": "completed"
    },
    "tags": []
   },
   "source": [
    "# P2: Preprocessing"
   ]
  },
  {
   "cell_type": "markdown",
   "id": "2073d015",
   "metadata": {
    "id": "w-HtiXsX3Qmk",
    "papermill": {
     "duration": 0.021696,
     "end_time": "2024-01-01T14:12:31.654068",
     "exception": false,
     "start_time": "2024-01-01T14:12:31.632372",
     "status": "completed"
    },
    "tags": []
   },
   "source": [
    "## Dataset Cleaning"
   ]
  },
  {
   "cell_type": "markdown",
   "id": "e78fe8bf",
   "metadata": {
    "id": "WG35YCz95A1V",
    "papermill": {
     "duration": 0.02199,
     "end_time": "2024-01-01T14:12:31.698026",
     "exception": false,
     "start_time": "2024-01-01T14:12:31.676036",
     "status": "completed"
    },
    "tags": []
   },
   "source": [
    "Remove unrelevant columns and do other necessary cleanings. **(P2-1: 5 points)**"
   ]
  },
  {
   "cell_type": "code",
   "execution_count": 12,
   "id": "487516da",
   "metadata": {
    "execution": {
     "iopub.execute_input": "2024-01-01T14:12:31.743210Z",
     "iopub.status.busy": "2024-01-01T14:12:31.742822Z",
     "iopub.status.idle": "2024-01-01T14:12:31.753388Z",
     "shell.execute_reply": "2024-01-01T14:12:31.752113Z"
    },
    "id": "Ry6otR-73jWC",
    "outputId": "aa543f65-3a4a-4498-cf9b-321b7004813b",
    "papermill": {
     "duration": 0.036174,
     "end_time": "2024-01-01T14:12:31.755588",
     "exception": false,
     "start_time": "2024-01-01T14:12:31.719414",
     "status": "completed"
    },
    "tags": []
   },
   "outputs": [
    {
     "name": "stdout",
     "output_type": "stream",
     "text": [
      "Index(['UserName', 'ScreenName', 'Location', 'TweetAt', 'OriginalTweet',\n",
      "       'Sentiment'],\n",
      "      dtype='object')\n",
      "Index(['OriginalTweet', 'Sentiment'], dtype='object')\n"
     ]
    }
   ],
   "source": [
    "print(DF.columns)\n",
    "DF_ = DF.drop(['UserName', 'ScreenName', 'Location', 'TweetAt'], axis=1)\n",
    "print(DF_.columns)"
   ]
  },
  {
   "cell_type": "markdown",
   "id": "fbe660a7",
   "metadata": {
    "id": "J3BqsOWp5MBo",
    "papermill": {
     "duration": 0.021235,
     "end_time": "2024-01-01T14:12:31.798478",
     "exception": false,
     "start_time": "2024-01-01T14:12:31.777243",
     "status": "completed"
    },
    "tags": []
   },
   "source": [
    "## Labeling"
   ]
  },
  {
   "cell_type": "markdown",
   "id": "09cb3458",
   "metadata": {
    "id": "BGXZTFdT5Y3z",
    "papermill": {
     "duration": 0.02121,
     "end_time": "2024-01-01T14:12:31.841358",
     "exception": false,
     "start_time": "2024-01-01T14:12:31.820148",
     "status": "completed"
    },
    "tags": []
   },
   "source": [
    "Based on the `Sentiment` column, generate 3 labels by considering the extremely positive tweets as positive and the extremely negative ones as negatives. **(P2-2: 2.5 points)**"
   ]
  },
  {
   "cell_type": "code",
   "execution_count": 13,
   "id": "e866afc1",
   "metadata": {
    "execution": {
     "iopub.execute_input": "2024-01-01T14:12:31.886915Z",
     "iopub.status.busy": "2024-01-01T14:12:31.885858Z",
     "iopub.status.idle": "2024-01-01T14:12:31.906988Z",
     "shell.execute_reply": "2024-01-01T14:12:31.906082Z"
    },
    "id": "KdT11rzQ_uV1",
    "outputId": "ca055cd1-c0e1-476b-bb96-c9fea5e15014",
    "papermill": {
     "duration": 0.046305,
     "end_time": "2024-01-01T14:12:31.909325",
     "exception": false,
     "start_time": "2024-01-01T14:12:31.863020",
     "status": "completed"
    },
    "tags": []
   },
   "outputs": [],
   "source": [
    "def new_labels(sentiment):\n",
    "    if sentiment == 'Extremely Positive' or sentiment == 'Positive':\n",
    "        return 'Positive'\n",
    "    elif sentiment == 'Extremely Negative' or sentiment == 'Negative':\n",
    "        return 'Negative'\n",
    "    else:\n",
    "        return 'Neutral'\n",
    "\n",
    "DF_['Sentiment_'] = DF_['Sentiment'].apply(new_labels)\n",
    "# DF_.Label.unique()"
   ]
  },
  {
   "cell_type": "markdown",
   "id": "8caeb50f",
   "metadata": {
    "id": "KXI1zi1_62vs",
    "papermill": {
     "duration": 0.02126,
     "end_time": "2024-01-01T14:12:31.952483",
     "exception": false,
     "start_time": "2024-01-01T14:12:31.931223",
     "status": "completed"
    },
    "tags": []
   },
   "source": [
    "## Text Cleaning"
   ]
  },
  {
   "cell_type": "markdown",
   "id": "38b8e0ed",
   "metadata": {
    "id": "Alhv2Fwt9S6j",
    "papermill": {
     "duration": 0.021233,
     "end_time": "2024-01-01T14:12:31.995486",
     "exception": false,
     "start_time": "2024-01-01T14:12:31.974253",
     "status": "completed"
    },
    "tags": []
   },
   "source": [
    "Remove urls from tweets with regex. (Use pattern `r'https?://\\S+|www\\.\\S+'`) **(P2-3: 2.5 points)**"
   ]
  },
  {
   "cell_type": "code",
   "execution_count": 14,
   "id": "53d637bb",
   "metadata": {
    "execution": {
     "iopub.execute_input": "2024-01-01T14:12:32.041213Z",
     "iopub.status.busy": "2024-01-01T14:12:32.040419Z",
     "iopub.status.idle": "2024-01-01T14:12:32.295787Z",
     "shell.execute_reply": "2024-01-01T14:12:32.294860Z"
    },
    "id": "cquK2uDx9tjw",
    "papermill": {
     "duration": 0.281283,
     "end_time": "2024-01-01T14:12:32.298744",
     "exception": false,
     "start_time": "2024-01-01T14:12:32.017461",
     "status": "completed"
    },
    "tags": []
   },
   "outputs": [],
   "source": [
    "import re\n",
    "\n",
    "def rem_url(t):\n",
    "    return re.sub(r'https?://\\S+|www\\.\\S+', '', t)\n",
    "\n",
    "DF_['OriginalTweet'] = DF_['OriginalTweet'].apply(rem_url)"
   ]
  },
  {
   "cell_type": "markdown",
   "id": "97d9d5ff",
   "metadata": {
    "id": "7T7Ge-Sj9txO",
    "papermill": {
     "duration": 0.021462,
     "end_time": "2024-01-01T14:12:32.341948",
     "exception": false,
     "start_time": "2024-01-01T14:12:32.320486",
     "status": "completed"
    },
    "tags": []
   },
   "source": [
    "Remove everything except alphabetical and numerical characters. (Use pattern `[^a-zA-Z0-9]`) **(P2-4: 2.5 points)**"
   ]
  },
  {
   "cell_type": "code",
   "execution_count": 15,
   "id": "06bbbb71",
   "metadata": {
    "execution": {
     "iopub.execute_input": "2024-01-01T14:12:32.386999Z",
     "iopub.status.busy": "2024-01-01T14:12:32.386617Z",
     "iopub.status.idle": "2024-01-01T14:12:33.056558Z",
     "shell.execute_reply": "2024-01-01T14:12:33.055652Z"
    },
    "id": "JCVfqzuy-Ecb",
    "papermill": {
     "duration": 0.695613,
     "end_time": "2024-01-01T14:12:33.059258",
     "exception": false,
     "start_time": "2024-01-01T14:12:32.363645",
     "status": "completed"
    },
    "tags": []
   },
   "outputs": [],
   "source": [
    "def rem_non_alpha(t):\n",
    "    return re.sub(r'[^a-zA-Z0-9]', ' ', t)\n",
    "\n",
    "DF_['OriginalTweet'] = DF_['OriginalTweet'].apply(rem_non_alpha)"
   ]
  },
  {
   "cell_type": "markdown",
   "id": "0f4f2a01",
   "metadata": {
    "id": "ALGv_Gz9-FCT",
    "papermill": {
     "duration": 0.021401,
     "end_time": "2024-01-01T14:12:33.102256",
     "exception": false,
     "start_time": "2024-01-01T14:12:33.080855",
     "status": "completed"
    },
    "tags": []
   },
   "source": [
    "Lower all letters. Then use `nltk` and tokenize tweets. Then replace each word with its root and remove the stopwords. **(P2-5: 10 points)**"
   ]
  },
  {
   "cell_type": "code",
   "execution_count": 16,
   "id": "708c4ad9",
   "metadata": {
    "execution": {
     "iopub.execute_input": "2024-01-01T14:12:33.147255Z",
     "iopub.status.busy": "2024-01-01T14:12:33.146826Z",
     "iopub.status.idle": "2024-01-01T14:15:18.417536Z",
     "shell.execute_reply": "2024-01-01T14:15:18.416444Z"
    },
    "papermill": {
     "duration": 165.296689,
     "end_time": "2024-01-01T14:15:18.420509",
     "exception": false,
     "start_time": "2024-01-01T14:12:33.123820",
     "status": "completed"
    },
    "tags": []
   },
   "outputs": [
    {
     "name": "stdout",
     "output_type": "stream",
     "text": [
      "[nltk_data] Downloading package punkt to /usr/share/nltk_data...\n",
      "[nltk_data]   Package punkt is already up-to-date!\n",
      "[nltk_data] Downloading package stopwords to /usr/share/nltk_data...\n",
      "[nltk_data]   Package stopwords is already up-to-date!\n"
     ]
    }
   ],
   "source": [
    "import nltk\n",
    "from nltk.tokenize import word_tokenize\n",
    "from nltk.corpus import stopwords\n",
    "from nltk.stem import PorterStemmer,SnowballStemmer\n",
    "\n",
    "nltk.download('punkt')\n",
    "nltk.download('stopwords')\n",
    "\n",
    "porter = PorterStemmer()\n",
    "st = SnowballStemmer('english')\n",
    "\n",
    "def p_t(t):\n",
    "    return ' '.join([st.stem(w) for w in t if w not in stopwords.words('english')])\n",
    "\n",
    "DF_['OriginalTweet'] = DF_['OriginalTweet'].str.lower().apply(word_tokenize).apply(p_t)"
   ]
  },
  {
   "cell_type": "markdown",
   "id": "1ed4a416",
   "metadata": {
    "id": "L4Irp9qf-vYA",
    "papermill": {
     "duration": 0.021784,
     "end_time": "2024-01-01T14:15:18.465111",
     "exception": false,
     "start_time": "2024-01-01T14:15:18.443327",
     "status": "completed"
    },
    "tags": []
   },
   "source": [
    "## Feature Generation"
   ]
  },
  {
   "cell_type": "markdown",
   "id": "0f5b6bb3",
   "metadata": {
    "id": "oXH92GKh-zBt",
    "papermill": {
     "duration": 0.02191,
     "end_time": "2024-01-01T14:15:18.508933",
     "exception": false,
     "start_time": "2024-01-01T14:15:18.487023",
     "status": "completed"
    },
    "tags": []
   },
   "source": [
    "Use `CountVectorizer` class (belonging to `sklearn`) construct a feature vector from each tweet. **(P2-6: 5 points)**"
   ]
  },
  {
   "cell_type": "code",
   "execution_count": 17,
   "id": "cb0e0ce4",
   "metadata": {
    "execution": {
     "iopub.execute_input": "2024-01-01T14:15:18.555009Z",
     "iopub.status.busy": "2024-01-01T14:15:18.554588Z",
     "iopub.status.idle": "2024-01-01T14:15:19.736942Z",
     "shell.execute_reply": "2024-01-01T14:15:19.735785Z"
    },
    "id": "5o4jfmM2_Stz",
    "outputId": "f39cd87f-1a10-4384-82c6-eabc1968ba21",
    "papermill": {
     "duration": 1.209078,
     "end_time": "2024-01-01T14:15:19.739627",
     "exception": false,
     "start_time": "2024-01-01T14:15:18.530549",
     "status": "completed"
    },
    "tags": []
   },
   "outputs": [],
   "source": [
    "from sklearn.feature_extraction.text import CountVectorizer\n",
    "\n",
    "vectorizer = CountVectorizer(max_features = 1000)\n",
    "FVA = vectorizer.fit_transform(DF_['OriginalTweet'].tolist()).toarray()"
   ]
  },
  {
   "cell_type": "markdown",
   "id": "5cc13de4",
   "metadata": {
    "id": "zKjJrM_rADgy",
    "papermill": {
     "duration": 0.021536,
     "end_time": "2024-01-01T14:15:19.783088",
     "exception": false,
     "start_time": "2024-01-01T14:15:19.761552",
     "status": "completed"
    },
    "tags": []
   },
   "source": [
    "# P3: Modeling"
   ]
  },
  {
   "cell_type": "markdown",
   "id": "ffc475fe",
   "metadata": {
    "papermill": {
     "duration": 0.021168,
     "end_time": "2024-01-01T14:15:19.825879",
     "exception": false,
     "start_time": "2024-01-01T14:15:19.804711",
     "status": "completed"
    },
    "tags": []
   },
   "source": [
    "Convert the dataset to a dataframe (or some `numpy` arrays) and split it into train and test sets. **(P3-1: 5 points)**"
   ]
  },
  {
   "cell_type": "code",
   "execution_count": 18,
   "id": "54c036b5",
   "metadata": {
    "execution": {
     "iopub.execute_input": "2024-01-01T14:15:19.871313Z",
     "iopub.status.busy": "2024-01-01T14:15:19.870899Z",
     "iopub.status.idle": "2024-01-01T14:15:19.994821Z",
     "shell.execute_reply": "2024-01-01T14:15:19.993699Z"
    },
    "id": "eE99EEE1db-v",
    "papermill": {
     "duration": 0.14931,
     "end_time": "2024-01-01T14:15:19.997157",
     "exception": false,
     "start_time": "2024-01-01T14:15:19.847847",
     "status": "completed"
    },
    "tags": []
   },
   "outputs": [
    {
     "name": "stdout",
     "output_type": "stream",
     "text": [
      "X train :  (26053, 1000)  y train :  (26053,)\n",
      "self.alphasX test :  (6514, 1000)  y test :  (6514,)\n"
     ]
    }
   ],
   "source": [
    "from sklearn.model_selection import train_test_split\n",
    "from sklearn.preprocessing import LabelEncoder\n",
    "import numpy as np\n",
    "\n",
    "X = FVA\n",
    "y = DF_['Sentiment_']\n",
    "\n",
    "X_train, X_test, y_train, y_test = train_test_split(X, y, test_size=0.2, random_state=42)\n",
    "\n",
    "print(\"X train : \" ,X_train.shape ,\" y train : \" ,y_train.shape)\n",
    "print(\"self.alphasX test : \" ,X_test.shape ,\" y test : \" ,y_test.shape)"
   ]
  },
  {
   "cell_type": "markdown",
   "id": "b97d33a5",
   "metadata": {
    "papermill": {
     "duration": 0.021413,
     "end_time": "2024-01-01T14:15:20.040642",
     "exception": false,
     "start_time": "2024-01-01T14:15:20.019229",
     "status": "completed"
    },
    "tags": []
   },
   "source": [
    "Use the `SVC` class (belonging to `sklearn`) to train a SVM classifier. (**P3-2: 5 points**)"
   ]
  },
  {
   "cell_type": "code",
   "execution_count": 19,
   "id": "2891a5a9",
   "metadata": {
    "execution": {
     "iopub.execute_input": "2024-01-01T14:15:20.084894Z",
     "iopub.status.busy": "2024-01-01T14:15:20.084457Z",
     "iopub.status.idle": "2024-01-01T14:31:35.682850Z",
     "shell.execute_reply": "2024-01-01T14:31:35.681489Z"
    },
    "id": "BN6alLt8eDI8",
    "outputId": "3da5a95c-a2e8-445b-aafb-df0ee46ce444",
    "papermill": {
     "duration": 975.624027,
     "end_time": "2024-01-01T14:31:35.686112",
     "exception": false,
     "start_time": "2024-01-01T14:15:20.062085",
     "status": "completed"
    },
    "tags": []
   },
   "outputs": [],
   "source": [
    "from sklearn.svm import SVC\n",
    "\n",
    "sklearn_svm = SVC(kernel='linear', random_state=42)\n",
    "sklearn_svm.fit(X_train, y_train)\n",
    "\n",
    "y_pred_sklearn = sklearn_svm.predict(X_test)"
   ]
  },
  {
   "cell_type": "markdown",
   "id": "88aef638",
   "metadata": {
    "papermill": {
     "duration": 0.02258,
     "end_time": "2024-01-01T14:31:35.732621",
     "exception": false,
     "start_time": "2024-01-01T14:31:35.710041",
     "status": "completed"
    },
    "tags": []
   },
   "source": [
    "Complete the definition of the following class to implement a SVM classifier capable of separating only the positive and negative classes. **(P3-3: 15 points)**\n"
   ]
  },
  {
   "cell_type": "code",
   "execution_count": 20,
   "id": "1155c350",
   "metadata": {
    "execution": {
     "iopub.execute_input": "2024-01-01T14:31:35.779320Z",
     "iopub.status.busy": "2024-01-01T14:31:35.778902Z",
     "iopub.status.idle": "2024-01-01T14:31:50.443955Z",
     "shell.execute_reply": "2024-01-01T14:31:50.442469Z"
    },
    "papermill": {
     "duration": 14.69238,
     "end_time": "2024-01-01T14:31:50.447417",
     "exception": false,
     "start_time": "2024-01-01T14:31:35.755037",
     "status": "completed"
    },
    "tags": []
   },
   "outputs": [
    {
     "name": "stdout",
     "output_type": "stream",
     "text": [
      "Collecting cvxopt\r\n",
      "  Obtaining dependency information for cvxopt from https://files.pythonhosted.org/packages/41/6d/98814860dbb9cdc27dcb6651b35124d7adca3bfe281f3351abb02a8a3f72/cvxopt-1.3.2-cp310-cp310-manylinux_2_17_x86_64.manylinux2014_x86_64.whl.metadata\r\n",
      "  Downloading cvxopt-1.3.2-cp310-cp310-manylinux_2_17_x86_64.manylinux2014_x86_64.whl.metadata (1.3 kB)\r\n",
      "Downloading cvxopt-1.3.2-cp310-cp310-manylinux_2_17_x86_64.manylinux2014_x86_64.whl (13.6 MB)\r\n",
      "\u001b[2K   \u001b[90m━━━━━━━━━━━━━━━━━━━━━━━━━━━━━━━━━━━━━━━━\u001b[0m \u001b[32m13.6/13.6 MB\u001b[0m \u001b[31m61.7 MB/s\u001b[0m eta \u001b[36m0:00:00\u001b[0m\r\n",
      "\u001b[?25hInstalling collected packages: cvxopt\r\n",
      "Successfully installed cvxopt-1.3.2\r\n"
     ]
    }
   ],
   "source": [
    "!pip install cvxopt"
   ]
  },
  {
   "cell_type": "code",
   "execution_count": 21,
   "id": "bd93a170",
   "metadata": {
    "execution": {
     "iopub.execute_input": "2024-01-01T14:31:50.497383Z",
     "iopub.status.busy": "2024-01-01T14:31:50.496508Z",
     "iopub.status.idle": "2024-01-01T14:31:50.531497Z",
     "shell.execute_reply": "2024-01-01T14:31:50.529829Z"
    },
    "papermill": {
     "duration": 0.065265,
     "end_time": "2024-01-01T14:31:50.536315",
     "exception": false,
     "start_time": "2024-01-01T14:31:50.471050",
     "status": "completed"
    },
    "tags": []
   },
   "outputs": [],
   "source": [
    "import numpy as np\n",
    "from cvxopt import matrix, solvers\n",
    "\n",
    "class SVM:\n",
    "    def __init__(self):\n",
    "        self.W = None\n",
    "        self.B = None\n",
    "\n",
    "\n",
    "    def fit(self, X, y):\n",
    "        \"\"\"Fit the SVM model to dataset X in one-vs-one manner.\n",
    "\n",
    "        Parameters\n",
    "        ----------\n",
    "        X : array-like of shape (n_samples, n_features)\n",
    "            Training data, where `n_samples` is the number of samples\n",
    "            and `n_features` is the number of features.\n",
    "        \n",
    "        y : array-like of shape (n_samples,)\n",
    "            Training labels, where `n_samples` is the number of samples.\n",
    "\n",
    "        Returns\n",
    "        -------\n",
    "        self : object\n",
    "            Returns the instance itself.\n",
    "        \"\"\"\n",
    "        n_samples, n_features = X.shape\n",
    "        y = y.reshape(-1, 1)\n",
    "        \n",
    "        P = matrix((np.outer(y, y) * np.dot(X, X.T)).astype('float'))\n",
    "        q = matrix(-np.ones((n_samples, 1)).astype('float'))\n",
    "        G = matrix((np.vstack((np.eye(n_samples)*(-1),np.eye(n_samples)))).astype('float'))\n",
    "        h = matrix((np.hstack((np.zeros(n_samples), np.ones(n_samples) * 0.1))).astype('float'))\n",
    "        A = matrix((y.reshape(1, -1)).astype('float'))\n",
    "        b = matrix(np.array([0.0]))\n",
    "\n",
    "        sol = solvers.qp(P, q, G, h, A, b)\n",
    "        alphas = np.array(sol['x'])\n",
    "        sv = (alphas > 1e-4).flatten()\n",
    "        \n",
    "        self.A = alphas[sv]\n",
    "        self.SV = X[sv]\n",
    "        self.SVL = y[sv]\n",
    "\n",
    "        self.W = np.dot(self.A * self.SVL.T, self.SV)\n",
    "        self.B = np.mean(self.SVL - np.dot(self.SV, self.W.T))\n",
    "\n",
    "        return self\n",
    "    \n",
    "    def transform(self, X):\n",
    "        \"\"\"Fit the model with X and apply the dimensionality reduction on X.\n",
    "\n",
    "        Parameters\n",
    "        ----------\n",
    "        X : array-like of shape (n_samples, n_features)\n",
    "            Training data, where `n_samples` is the number of samples\n",
    "            and `n_features` is the number of features.\n",
    "\n",
    "        Returns\n",
    "        -------\n",
    "        y_pred : ndarray of shape (n_samples)\n",
    "            Your predictions for the class of each sample\n",
    "        \"\"\"\n",
    "        return np.sign(np.dot(X, self.W.T) + self.B)"
   ]
  },
  {
   "cell_type": "markdown",
   "id": "2ac023bf",
   "metadata": {
    "papermill": {
     "duration": 0.050335,
     "end_time": "2024-01-01T14:31:50.636903",
     "exception": false,
     "start_time": "2024-01-01T14:31:50.586568",
     "status": "completed"
    },
    "tags": []
   },
   "source": [
    "Train the binary SVM classifier using the class you have implemented. **(P3-4: 5 points)**"
   ]
  },
  {
   "cell_type": "code",
   "execution_count": 22,
   "id": "863cece6",
   "metadata": {
    "execution": {
     "iopub.execute_input": "2024-01-01T14:31:50.688553Z",
     "iopub.status.busy": "2024-01-01T14:31:50.688167Z",
     "iopub.status.idle": "2024-01-01T15:45:18.256043Z",
     "shell.execute_reply": "2024-01-01T15:45:18.254795Z"
    },
    "papermill": {
     "duration": 4407.595788,
     "end_time": "2024-01-01T15:45:18.258469",
     "exception": false,
     "start_time": "2024-01-01T14:31:50.662681",
     "status": "completed"
    },
    "tags": []
   },
   "outputs": [
    {
     "name": "stdout",
     "output_type": "stream",
     "text": [
      "     pcost       dcost       gap    pres   dres\n",
      " 0: -4.9581e+03 -4.7196e+03  2e+05  4e+01  1e-13\n",
      " 1: -9.4662e+02 -4.5319e+03  2e+04  3e+00  1e-13\n",
      " 2: -5.9730e+02 -3.4894e+03  5e+03  4e-01  3e-14\n",
      " 3: -5.5055e+02 -1.3269e+03  8e+02  2e-02  2e-14\n",
      " 4: -6.5064e+02 -8.7834e+02  2e+02  6e-03  2e-14\n",
      " 5: -6.8787e+02 -8.0982e+02  1e+02  3e-03  2e-14\n",
      " 6: -7.1037e+02 -7.6731e+02  6e+01  1e-03  2e-14\n",
      " 7: -7.2155e+02 -7.4758e+02  3e+01  3e-04  3e-14\n",
      " 8: -7.2747e+02 -7.3793e+02  1e+01  1e-04  3e-14\n",
      " 9: -7.3032e+02 -7.3362e+02  3e+00  2e-05  3e-14\n",
      "10: -7.3124e+02 -7.3232e+02  1e+00  6e-06  3e-14\n",
      "11: -7.3157e+02 -7.3187e+02  3e-01  5e-07  3e-14\n",
      "12: -7.3168e+02 -7.3173e+02  5e-02  8e-08  3e-14\n",
      "13: -7.3170e+02 -7.3171e+02  4e-03  5e-09  3e-14\n",
      "14: -7.3171e+02 -7.3171e+02  2e-04  2e-10  3e-14\n",
      "Optimal solution found.\n"
     ]
    },
    {
     "data": {
      "text/plain": [
       "'\\nbecause of some memory limitations\\n'"
      ]
     },
     "execution_count": 22,
     "metadata": {},
     "output_type": "execute_result"
    }
   ],
   "source": [
    "custom_svm = SVM()\n",
    "labeled = np.where(y_train == 'Positive', 1, -1)\n",
    "custom_svm.fit(X_train[0:16000], labeled[0:16000])\n",
    "\n",
    "\"\"\"\n",
    "because of some memory limitations\n",
    "\"\"\""
   ]
  },
  {
   "cell_type": "markdown",
   "id": "3d307095",
   "metadata": {
    "papermill": {
     "duration": 0.023974,
     "end_time": "2024-01-01T15:45:18.306491",
     "exception": false,
     "start_time": "2024-01-01T15:45:18.282517",
     "status": "completed"
    },
    "tags": []
   },
   "source": [
    "# P4: Evaluation"
   ]
  },
  {
   "cell_type": "markdown",
   "id": "a9f062ac",
   "metadata": {
    "papermill": {
     "duration": 0.02478,
     "end_time": "2024-01-01T15:45:18.355802",
     "exception": false,
     "start_time": "2024-01-01T15:45:18.331022",
     "status": "completed"
    },
    "tags": []
   },
   "source": [
    "Using the model you trained using `sklearn`, predict the labels of the test set. **(P4-1: 5 points)**"
   ]
  },
  {
   "cell_type": "code",
   "execution_count": 23,
   "id": "15f8dd95",
   "metadata": {
    "execution": {
     "iopub.execute_input": "2024-01-01T15:45:18.405315Z",
     "iopub.status.busy": "2024-01-01T15:45:18.404386Z",
     "iopub.status.idle": "2024-01-01T15:46:17.942680Z",
     "shell.execute_reply": "2024-01-01T15:46:17.941594Z"
    },
    "id": "luiwzknleWz4",
    "papermill": {
     "duration": 59.566728,
     "end_time": "2024-01-01T15:46:17.945755",
     "exception": false,
     "start_time": "2024-01-01T15:45:18.379027",
     "status": "completed"
    },
    "tags": []
   },
   "outputs": [],
   "source": [
    "y_pred_sklearn = sklearn_svm.predict(X_test)"
   ]
  },
  {
   "cell_type": "markdown",
   "id": "2ea66f89",
   "metadata": {
    "papermill": {
     "duration": 0.023779,
     "end_time": "2024-01-01T15:46:17.995272",
     "exception": false,
     "start_time": "2024-01-01T15:46:17.971493",
     "status": "completed"
    },
    "tags": []
   },
   "source": [
    "Using the model you trained from scratch, predict the labels of the test set. **(P4-2: 5 points)**"
   ]
  },
  {
   "cell_type": "code",
   "execution_count": 24,
   "id": "550464c8",
   "metadata": {
    "execution": {
     "iopub.execute_input": "2024-01-01T15:46:18.046490Z",
     "iopub.status.busy": "2024-01-01T15:46:18.046078Z",
     "iopub.status.idle": "2024-01-01T15:46:20.061918Z",
     "shell.execute_reply": "2024-01-01T15:46:20.060944Z"
    },
    "id": "H7bcsjtT8oYU",
    "papermill": {
     "duration": 2.044748,
     "end_time": "2024-01-01T15:46:20.064574",
     "exception": false,
     "start_time": "2024-01-01T15:46:18.019826",
     "status": "completed"
    },
    "tags": []
   },
   "outputs": [],
   "source": [
    "y_pred_custom = custom_svm.transform(X_test)[:,0]"
   ]
  },
  {
   "cell_type": "markdown",
   "id": "fb49bb32",
   "metadata": {
    "papermill": {
     "duration": 0.024286,
     "end_time": "2024-01-01T15:46:20.114354",
     "exception": false,
     "start_time": "2024-01-01T15:46:20.090068",
     "status": "completed"
    },
    "tags": []
   },
   "source": [
    "Plot the normalized confusion matrix of the predictions for each model. **(P4-3: 5 points)**"
   ]
  },
  {
   "cell_type": "code",
   "execution_count": 25,
   "id": "c40c8849",
   "metadata": {
    "execution": {
     "iopub.execute_input": "2024-01-01T15:46:20.165875Z",
     "iopub.status.busy": "2024-01-01T15:46:20.165090Z",
     "iopub.status.idle": "2024-01-01T15:46:21.000684Z",
     "shell.execute_reply": "2024-01-01T15:46:20.999588Z"
    },
    "id": "G0yjooWr_JZ0",
    "papermill": {
     "duration": 0.863879,
     "end_time": "2024-01-01T15:46:21.003131",
     "exception": false,
     "start_time": "2024-01-01T15:46:20.139252",
     "status": "completed"
    },
    "tags": []
   },
   "outputs": [
    {
     "data": {
      "image/png": "[encoded data removed]",
      "text/plain": [
       "<Figure size 640x480 with 2 Axes>"
      ]
     },
     "metadata": {},
     "output_type": "display_data"
    }
   ],
   "source": [
    "from sklearn.metrics import confusion_matrix\n",
    "import seaborn as sns\n",
    "import matplotlib.pyplot as plt\n",
    "\n",
    "sklearn_matrix = confusion_matrix(y_test, y_pred_sklearn, normalize='true')\n",
    "\n",
    "sns.heatmap(sklearn_matrix, annot=True)\n",
    "plt.xlabel('predicted')\n",
    "plt.ylabel('true')\n",
    "plt.title('sklearn model')\n",
    "plt.show()"
   ]
  },
  {
   "cell_type": "code",
   "execution_count": 26,
   "id": "507b57d3",
   "metadata": {
    "execution": {
     "iopub.execute_input": "2024-01-01T15:46:21.056990Z",
     "iopub.status.busy": "2024-01-01T15:46:21.056344Z",
     "iopub.status.idle": "2024-01-01T15:46:21.351407Z",
     "shell.execute_reply": "2024-01-01T15:46:21.350475Z"
    },
    "papermill": {
     "duration": 0.324661,
     "end_time": "2024-01-01T15:46:21.353756",
     "exception": false,
     "start_time": "2024-01-01T15:46:21.029095",
     "status": "completed"
    },
    "tags": []
   },
   "outputs": [
    {
     "data": {
      "image/png": "[encoded data removed]",
      "text/plain": [
       "<Figure size 640x480 with 2 Axes>"
      ]
     },
     "metadata": {},
     "output_type": "display_data"
    }
   ],
   "source": [
    "labeled_ = np.where(y_test == 'Positive', 1, -1)\n",
    "\n",
    "custom_matrix = confusion_matrix(labeled_, y_pred_custom, normalize='true')\n",
    "\n",
    "sns.heatmap(custom_matrix, annot=True)\n",
    "plt.xlabel('predicted')\n",
    "plt.ylabel('true')\n",
    "plt.title('custom model')\n",
    "plt.show()"
   ]
  },
  {
   "cell_type": "markdown",
   "id": "e84507ba",
   "metadata": {
    "papermill": {
     "duration": 0.025945,
     "end_time": "2024-01-01T15:46:21.405781",
     "exception": false,
     "start_time": "2024-01-01T15:46:21.379836",
     "status": "completed"
    },
    "tags": []
   },
   "source": [
    "# P5: Neural Net"
   ]
  },
  {
   "cell_type": "markdown",
   "id": "46b00069",
   "metadata": {
    "papermill": {
     "duration": 0.025027,
     "end_time": "2024-01-01T15:46:21.456261",
     "exception": false,
     "start_time": "2024-01-01T15:46:21.431234",
     "status": "completed"
    },
    "tags": []
   },
   "source": [
    "Using all you have learned about neural networks, train a neural net to classify tweets as `[positive, negative, or neutral]` (**P5: 5 points**)"
   ]
  },
  {
   "cell_type": "code",
   "execution_count": null,
   "id": "5d8c41c1",
   "metadata": {
    "papermill": {
     "duration": 0.025601,
     "end_time": "2024-01-01T15:46:21.507510",
     "exception": false,
     "start_time": "2024-01-01T15:46:21.481909",
     "status": "completed"
    },
    "tags": []
   },
   "outputs": [],
   "source": []
  }
 ],
 "metadata": {
  "kaggle": {
   "accelerator": "none",
   "dataSources": [
    {
     "datasetId": 3984989,
     "sourceId": 6939129,
     "sourceType": "datasetVersion"
    }
   ],
   "dockerImageVersionId": 30587,
   "isGpuEnabled": false,
   "isInternetEnabled": true,
   "language": "python",
   "sourceType": "notebook"
  },
  "kernelspec": {
   "display_name": "Python 3",
   "language": "python",
   "name": "python3"
  },
  "language_info": {
   "codemirror_mode": {
    "name": "ipython",
    "version": 3
   },
   "file_extension": ".py",
   "mimetype": "text/x-python",
   "name": "python",
   "nbconvert_exporter": "python",
   "pygments_lexer": "ipython3",
   "version": "3.10.12"
  },
  "papermill": {
   "default_parameters": {},
   "duration": 5694.71136,
   "end_time": "2024-01-01T15:46:22.267814",
   "environment_variables": {},
   "exception": null,
   "input_path": "__notebook__.ipynb",
   "output_path": "__notebook__.ipynb",
   "parameters": {},
   "start_time": "2024-01-01T14:11:27.556454",
   "version": "2.4.0"
  }
 },
 "nbformat": 4,
 "nbformat_minor": 5
}
